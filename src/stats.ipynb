{
 "cells": [
  {
   "cell_type": "code",
   "execution_count": 1,
   "id": "29ca6951",
   "metadata": {},
   "outputs": [
    {
     "name": "stderr",
     "output_type": "stream",
     "text": [
      "[nltk_data] Downloading package punkt to\n",
      "[nltk_data]     C:\\Users\\Dell\\AppData\\Roaming\\nltk_data...\n",
      "[nltk_data]   Package punkt is already up-to-date!\n",
      "[nltk_data] Downloading package wordnet to\n",
      "[nltk_data]     C:\\Users\\Dell\\AppData\\Roaming\\nltk_data...\n",
      "[nltk_data]   Package wordnet is already up-to-date!\n",
      "[nltk_data] Downloading package omw-1.4 to\n",
      "[nltk_data]     C:\\Users\\Dell\\AppData\\Roaming\\nltk_data...\n",
      "[nltk_data]   Package omw-1.4 is already up-to-date!\n",
      "[nltk_data] Downloading package punkt_tab to\n",
      "[nltk_data]     C:\\Users\\Dell\\AppData\\Roaming\\nltk_data...\n",
      "[nltk_data]   Package punkt_tab is already up-to-date!\n",
      "[nltk_data] Downloading package punkt to\n",
      "[nltk_data]     C:\\Users\\Dell\\AppData\\Roaming\\nltk_data...\n",
      "[nltk_data]   Package punkt is already up-to-date!\n",
      "[nltk_data] Downloading package stopwords to\n",
      "[nltk_data]     C:\\Users\\Dell\\AppData\\Roaming\\nltk_data...\n",
      "[nltk_data]   Package stopwords is already up-to-date!\n",
      "2025-05-11 20:13:28,671 - utils.loaders - INFO - 126475\n",
      "2025-05-11 20:13:28,754 - utils.loaders - INFO - Successfully loaded local transcripts for 126475\n",
      "2025-05-11 20:13:28,756 - utils.loaders - INFO - Successfully loaded 126475.csv\n",
      "2025-05-11 20:13:28,756 - utils.loaders - INFO - 26446\n",
      "2025-05-11 20:13:28,789 - utils.loaders - INFO - Successfully loaded local transcripts for 26446\n",
      "2025-05-11 20:13:28,790 - utils.loaders - INFO - Successfully loaded 26446.csv\n",
      "2025-05-11 20:13:28,791 - utils.loaders - INFO - 312932093\n",
      "2025-05-11 20:13:28,821 - utils.loaders - INFO - Successfully loaded local transcripts for 312932093\n",
      "2025-05-11 20:13:28,823 - utils.loaders - INFO - Successfully loaded 312932093.csv\n",
      "2025-05-11 20:13:28,824 - utils.loaders - INFO - 32307\n",
      "2025-05-11 20:13:28,988 - utils.loaders - INFO - Successfully loaded local transcripts for 32307\n",
      "2025-05-11 20:13:28,988 - utils.loaders - INFO - Successfully loaded 32307.csv\n",
      "2025-05-11 20:13:28,988 - utils.loaders - INFO - 388904\n",
      "2025-05-11 20:13:29,042 - utils.loaders - INFO - Successfully loaded local transcripts for 388904\n",
      "2025-05-11 20:13:29,042 - utils.loaders - INFO - Successfully loaded 388904.csv\n",
      "2025-05-11 20:13:29,042 - utils.loaders - INFO - Successfully combined all matching transcripts: (165, 9)\n"
     ]
    },
    {
     "data": {
      "text/plain": [
       "Index(['companyid', 'companyname', 'mostimportantdateutc',\n",
       "       'mostimportanttimeutc', 'headline', 'full_text', 'uuid', 'word_count',\n",
       "       'word_count_nltk'],\n",
       "      dtype='object')"
      ]
     },
     "execution_count": 1,
     "metadata": {},
     "output_type": "execute_result"
    }
   ],
   "source": [
    "from utils import load_all_available_transcripts\n",
    "\n",
    "transcripts_df = load_all_available_transcripts()\n",
    "\n",
    "transcripts_df.columns"
   ]
  },
  {
   "cell_type": "code",
   "execution_count": 3,
   "id": "6d234b29",
   "metadata": {},
   "outputs": [
    {
     "data": {
      "text/plain": [
       "count      165.000000\n",
       "mean     22225.393939\n",
       "std      13359.817098\n",
       "min       2110.000000\n",
       "25%      14373.000000\n",
       "50%      19214.000000\n",
       "75%      25651.000000\n",
       "max      88014.000000\n",
       "Name: word_count_nltk, dtype: float64"
      ]
     },
     "execution_count": 3,
     "metadata": {},
     "output_type": "execute_result"
    }
   ],
   "source": [
    "transcripts_df.word_count_nltk.describe()"
   ]
  },
  {
   "cell_type": "code",
   "execution_count": 8,
   "id": "410d69f1",
   "metadata": {},
   "outputs": [
    {
     "name": "stdout",
     "output_type": "stream",
     "text": [
      "facebook/bart-large-cnn                                      → vocab_size = 50265\n"
     ]
    },
    {
     "name": "stderr",
     "output_type": "stream",
     "text": [
      "Xet Storage is enabled for this repo, but the 'hf_xet' package is not installed. Falling back to regular HTTP download. For better performance, install the package with: `pip install huggingface_hub[hf_xet]` or `pip install hf_xet`\n"
     ]
    },
    {
     "data": {
      "application/vnd.jupyter.widget-view+json": {
       "model_id": "5aab85fba701409e9337ced9895fe4fd",
       "version_major": 2,
       "version_minor": 0
      },
      "text/plain": [
       "model.safetensors:   0%|          | 0.00/892M [00:00<?, ?B/s]"
      ]
     },
     "metadata": {},
     "output_type": "display_data"
    },
    {
     "name": "stdout",
     "output_type": "stream",
     "text": [
      "google-t5/t5-base                                            → vocab_size = 32100\n"
     ]
    },
    {
     "data": {
      "application/vnd.jupyter.widget-view+json": {
       "model_id": "2dd4463caddc4a5f80b88fb5ed7cd6c9",
       "version_major": 2,
       "version_minor": 0
      },
      "text/plain": [
       "config.json:   0%|          | 0.00/1.49k [00:00<?, ?B/s]"
      ]
     },
     "metadata": {},
     "output_type": "display_data"
    },
    {
     "data": {
      "application/vnd.jupyter.widget-view+json": {
       "model_id": "c9b1095cb4184c89b66d9863264a7a0a",
       "version_major": 2,
       "version_minor": 0
      },
      "text/plain": [
       "pytorch_model.bin:   0%|          | 0.00/2.27G [00:00<?, ?B/s]"
      ]
     },
     "metadata": {},
     "output_type": "display_data"
    },
    {
     "data": {
      "application/vnd.jupyter.widget-view+json": {
       "model_id": "498b6641f0904beeae0bd31579c9b227",
       "version_major": 2,
       "version_minor": 0
      },
      "text/plain": [
       "model.safetensors:   0%|          | 0.00/2.27G [00:00<?, ?B/s]"
      ]
     },
     "metadata": {},
     "output_type": "display_data"
    },
    {
     "name": "stdout",
     "output_type": "stream",
     "text": [
      "google/pegasus-x-large                                       → vocab_size = 96103\n"
     ]
    },
    {
     "name": "stderr",
     "output_type": "stream",
     "text": [
      "Some weights of PegasusModel were not initialized from the model checkpoint at human-centered-summarization/financial-summarization-pegasus and are newly initialized: ['decoder.embed_positions.weight', 'encoder.embed_positions.weight']\n",
      "You should probably TRAIN this model on a down-stream task to be able to use it for predictions and inference.\n"
     ]
    },
    {
     "name": "stdout",
     "output_type": "stream",
     "text": [
      "human-centered-summarization/financial-summarization-pegasus → vocab_size = 96103\n"
     ]
    }
   ],
   "source": [
    "from transformers import AutoTokenizer, AutoModel\n",
    "\n",
    "checkpoints = [\n",
    "    \"facebook/bart-large-cnn\",\n",
    "    \"google-t5/t5-base\",\n",
    "    \"google/pegasus-x-large\",\n",
    "    \"human-centered-summarization/financial-summarization-pegasus\",\n",
    "]\n",
    "tokenizers = []\n",
    "models = []\n",
    "for ckpt in checkpoints:\n",
    "    tokenizer = AutoTokenizer.from_pretrained(ckpt)\n",
    "    model = AutoModel.from_pretrained(ckpt)\n",
    "    models.append(model)\n",
    "    tokenizers.append(tokenizer)\n",
    "    print(f\"{ckpt:60s} → vocab_size = {tokenizer.vocab_size}\")\n"
   ]
  },
  {
   "cell_type": "code",
   "execution_count": 9,
   "id": "5980de92",
   "metadata": {},
   "outputs": [
    {
     "name": "stdout",
     "output_type": "stream",
     "text": [
      "facebook/bart-large-cnn                                      → model_max_length = 1000000000000000019884624838656\n",
      "google-t5/t5-base                                            → model_max_length = 1000000000000000019884624838656\n",
      "google/pegasus-x-large                                       → model_max_length = 1024\n",
      "human-centered-summarization/financial-summarization-pegasus → model_max_length = 512\n"
     ]
    }
   ],
   "source": [
    "for idx, ckpt in enumerate(checkpoints):\n",
    "    tokenizer = tokenizers[idx]\n",
    "    print(f\"{ckpt:60s} → model_max_length = {tokenizer.model_max_length}\")"
   ]
  },
  {
   "cell_type": "code",
   "execution_count": 12,
   "id": "1529d9d9",
   "metadata": {},
   "outputs": [
    {
     "name": "stdout",
     "output_type": "stream",
     "text": [
      "facebook/bart-large-cnn                                      → max_position_embedding = 1024\n",
      "'T5Config' object has no attribute 'max_position_embeddings'\n",
      "google/pegasus-x-large                                       → max_position_embedding = 16384\n",
      "human-centered-summarization/financial-summarization-pegasus → max_position_embedding = 512\n"
     ]
    }
   ],
   "source": [
    "for idx, ckpt in enumerate(checkpoints):\n",
    "    model = models[idx]\n",
    "    try:\n",
    "        print(f\"{ckpt:60s} → max_position_embedding = {model.config.max_position_embeddings}\")\n",
    "    except AttributeError as e:\n",
    "        print(e)"
   ]
  },
  {
   "cell_type": "code",
   "execution_count": null,
   "id": "81e41346",
   "metadata": {},
   "outputs": [],
   "source": []
  }
 ],
 "metadata": {
  "kernelspec": {
   "display_name": "venv",
   "language": "python",
   "name": "python3"
  },
  "language_info": {
   "codemirror_mode": {
    "name": "ipython",
    "version": 3
   },
   "file_extension": ".py",
   "mimetype": "text/x-python",
   "name": "python",
   "nbconvert_exporter": "python",
   "pygments_lexer": "ipython3",
   "version": "3.12.3"
  }
 },
 "nbformat": 4,
 "nbformat_minor": 5
}
