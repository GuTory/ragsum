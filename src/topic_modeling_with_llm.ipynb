{
 "cells": [
  {
   "cell_type": "code",
   "execution_count": null,
   "metadata": {},
   "outputs": [],
   "source": [
    "import os\n",
    "import gc\n",
    "from datetime import date\n",
    "\n",
    "import torch\n",
    "from tqdm.notebook import tqdm\n",
    "import pandas as pd\n",
    "\n",
    "from utils import (\n",
    "    compute_metrics,\n",
    "    load_all_available_transcripts,\n",
    "    SummarizationPipeline,\n",
    "    TextChunker,\n",
    "    LoggingConfig,\n",
    "    ModelConfig,\n",
    "    TextChunker,\n",
    "    TopicModeler,\n",
    "    Retriever\n",
    ")"
   ]
  },
  {
   "cell_type": "code",
   "execution_count": null,
   "metadata": {},
   "outputs": [],
   "source": [
    "transcripts = load_all_available_transcripts()"
   ]
  },
  {
   "cell_type": "code",
   "execution_count": null,
   "metadata": {},
   "outputs": [],
   "source": [
    "transcripts.head()"
   ]
  },
  {
   "cell_type": "code",
   "execution_count": null,
   "metadata": {},
   "outputs": [],
   "source": [
    "checkpoint = 'facebook/bart-large-cnn'\n",
    "\n",
    "\n",
    "model_config = ModelConfig(\n",
    "    model_name_or_path=checkpoint,\n",
    "    device='cuda' if torch.cuda.is_available() else 'cpu'\n",
    ")\n",
    "\n",
    "pipeline = SummarizationPipeline(\n",
    "    model_config=model_config,\n",
    "    logging_config=LoggingConfig()\n",
    ")\n",
    "\n",
    "tokenizer = pipeline.get_tokenizer()\n",
    "chunker = TextChunker(tokenizer)\n",
    "\n",
    "chunks = chunker.chunk_text(' '.join(transcripts.full_text.tolist()))\n",
    "\n",
    "print([len(c) for c in chunks])"
   ]
  },
  {
   "cell_type": "code",
   "execution_count": null,
   "metadata": {},
   "outputs": [],
   "source": [
    "from langchain.schema import Document\n",
    "chunks = [Document(page_content=chunk) for chunk in chunks]\n",
    "chunks[:10]"
   ]
  },
  {
   "cell_type": "code",
   "execution_count": null,
   "metadata": {},
   "outputs": [],
   "source": [
    "tm = TopicModeler(chunks=chunks, speed='learn', workers=8)\n"
   ]
  },
  {
   "cell_type": "code",
   "execution_count": null,
   "metadata": {},
   "outputs": [],
   "source": [
    "topic_words, _, topic_nums = tm.get_topics(1)\n",
    "\n",
    "for words, tid in zip(topic_words, topic_nums):\n",
    "    print(f'Topic #{tid}: ' + ', '.join(words))"
   ]
  }
 ],
 "metadata": {
  "kernelspec": {
   "display_name": "venv",
   "language": "python",
   "name": "python3"
  },
  "language_info": {
   "codemirror_mode": {
    "name": "ipython",
    "version": 3
   },
   "file_extension": ".py",
   "mimetype": "text/x-python",
   "name": "python",
   "nbconvert_exporter": "python",
   "pygments_lexer": "ipython3",
   "version": "3.10.12"
  },
  "orig_nbformat": 4
 },
 "nbformat": 4,
 "nbformat_minor": 2
}
