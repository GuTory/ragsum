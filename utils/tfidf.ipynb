{
 "cells": [
  {
   "cell_type": "markdown",
   "metadata": {},
   "source": [
    "# TF-IDF with Preprocessing in Python\n",
    "\n",
    "This Jupyter Notebook demonstrates how to apply TF-IDF on text data\n",
    "with preprocessing techniques like stemming and lemmatization."
   ]
  },
  {
   "cell_type": "code",
   "execution_count": 1,
   "metadata": {},
   "outputs": [],
   "source": [
    "import nltk\n",
    "from nltk.tokenize import word_tokenize\n",
    "from nltk.corpus import stopwords\n",
    "from nltk.stem import PorterStemmer, WordNetLemmatizer\n",
    "from sklearn.feature_extraction.text import TfidfVectorizer"
   ]
  },
  {
   "cell_type": "code",
   "execution_count": 7,
   "metadata": {},
   "outputs": [
    {
     "name": "stderr",
     "output_type": "stream",
     "text": [
      "[nltk_data] Downloading package punkt to\n",
      "[nltk_data]     C:\\Users\\Dell\\AppData\\Roaming\\nltk_data...\n",
      "[nltk_data]   Package punkt is already up-to-date!\n",
      "[nltk_data] Downloading package punkt_tab to\n",
      "[nltk_data]     C:\\Users\\Dell\\AppData\\Roaming\\nltk_data...\n",
      "[nltk_data]   Unzipping tokenizers\\punkt_tab.zip.\n",
      "[nltk_data] Downloading package stopwords to\n",
      "[nltk_data]     C:\\Users\\Dell\\AppData\\Roaming\\nltk_data...\n",
      "[nltk_data]   Package stopwords is already up-to-date!\n",
      "[nltk_data] Downloading package wordnet to\n",
      "[nltk_data]     C:\\Users\\Dell\\AppData\\Roaming\\nltk_data...\n",
      "[nltk_data]   Package wordnet is already up-to-date!\n",
      "[nltk_data] Downloading package omw-1.4 to\n",
      "[nltk_data]     C:\\Users\\Dell\\AppData\\Roaming\\nltk_data...\n",
      "[nltk_data]   Package omw-1.4 is already up-to-date!\n"
     ]
    },
    {
     "data": {
      "text/plain": [
       "True"
      ]
     },
     "execution_count": 7,
     "metadata": {},
     "output_type": "execute_result"
    }
   ],
   "source": [
    "nltk.download('punkt')\n",
    "nltk.download('punkt_tab')\n",
    "nltk.download('stopwords')\n",
    "nltk.download('wordnet')\n",
    "nltk.download('omw-1.4')  # Optional: Improves lemmatization"
   ]
  },
  {
   "cell_type": "code",
   "execution_count": 8,
   "metadata": {},
   "outputs": [],
   "source": [
    "stemmer = PorterStemmer()\n",
    "lemmatizer = WordNetLemmatizer()\n",
    "stop_words = set(stopwords.words(\"english\"))\n",
    "\n",
    "# Sample text data\n",
    "documents = [\n",
    "    \"Natural language processing is a subfield of AI.\",\n",
    "    \"AI and machine learning are transforming industries.\",\n",
    "    \"Text processing with TF-IDF helps in information retrieval.\",\n",
    "]"
   ]
  },
  {
   "cell_type": "code",
   "execution_count": 9,
   "metadata": {},
   "outputs": [],
   "source": [
    "def preprocess_with_stemming(text):\n",
    "    tokens = word_tokenize(text.lower())  # Convert to lowercase and tokenize\n",
    "    filtered_tokens = [stemmer.stem(word) for word in tokens if word.isalnum() and word not in stop_words]\n",
    "    return \" \".join(filtered_tokens)"
   ]
  },
  {
   "cell_type": "code",
   "execution_count": 10,
   "metadata": {},
   "outputs": [],
   "source": [
    "def preprocess_with_lemmatization(text):\n",
    "    tokens = word_tokenize(text.lower())  # Convert to lowercase and tokenize\n",
    "    filtered_tokens = [lemmatizer.lemmatize(word) for word in tokens if word.isalnum() and word not in stop_words]\n",
    "    return \" \".join(filtered_tokens)"
   ]
  },
  {
   "cell_type": "code",
   "execution_count": 11,
   "metadata": {},
   "outputs": [],
   "source": [
    "preprocessed_stem_docs = [preprocess_with_stemming(doc) for doc in documents]\n",
    "vectorizer_stem = TfidfVectorizer()\n",
    "tfidf_matrix_stem = vectorizer_stem.fit_transform(preprocessed_stem_docs)"
   ]
  },
  {
   "cell_type": "code",
   "execution_count": 12,
   "metadata": {},
   "outputs": [],
   "source": [
    "preprocessed_lem_docs = [preprocess_with_lemmatization(doc) for doc in documents]\n",
    "vectorizer_lem = TfidfVectorizer()\n",
    "tfidf_matrix_lem = vectorizer_lem.fit_transform(preprocessed_lem_docs)"
   ]
  },
  {
   "cell_type": "code",
   "execution_count": 13,
   "metadata": {},
   "outputs": [
    {
     "name": "stdout",
     "output_type": "stream",
     "text": [
      "\n",
      "TF-IDF scores for Document 1 (Stemming):\n",
      "languag: 0.4905\n",
      "natur: 0.4905\n",
      "subfield: 0.4905\n",
      "ai: 0.3730\n",
      "process: 0.3730\n",
      "\n",
      "TF-IDF scores for Document 2 (Stemming):\n",
      "industri: 0.4674\n",
      "learn: 0.4674\n",
      "machin: 0.4674\n",
      "transform: 0.4674\n",
      "ai: 0.3554\n",
      "\n",
      "TF-IDF scores for Document 3 (Stemming):\n",
      "help: 0.4674\n",
      "inform: 0.4674\n",
      "retriev: 0.4674\n",
      "text: 0.4674\n",
      "process: 0.3554\n",
      "\n",
      "TF-IDF scores for Document 1 (Lemmatization):\n",
      "language: 0.4905\n",
      "natural: 0.4905\n",
      "subfield: 0.4905\n",
      "ai: 0.3730\n",
      "processing: 0.3730\n",
      "\n",
      "TF-IDF scores for Document 2 (Lemmatization):\n",
      "industry: 0.4674\n",
      "learning: 0.4674\n",
      "machine: 0.4674\n",
      "transforming: 0.4674\n",
      "ai: 0.3554\n",
      "\n",
      "TF-IDF scores for Document 3 (Lemmatization):\n",
      "help: 0.4674\n",
      "information: 0.4674\n",
      "retrieval: 0.4674\n",
      "text: 0.4674\n",
      "processing: 0.3554\n"
     ]
    }
   ],
   "source": [
    "def print_tfidf_scores(tfidf_matrix, feature_names, method):\n",
    "    for i, doc in enumerate(documents):\n",
    "        print(f\"\\nTF-IDF scores for Document {i+1} ({method}):\")\n",
    "        scores = zip(feature_names, tfidf_matrix[i].toarray()[0])\n",
    "        sorted_scores = sorted(scores, key=lambda x: x[1], reverse=True)\n",
    "        for word, score in sorted_scores:\n",
    "            if score > 0:\n",
    "                print(f\"{word}: {score:.4f}\")\n",
    "\n",
    "# Print results for stemming\n",
    "print_tfidf_scores(tfidf_matrix_stem, vectorizer_stem.get_feature_names_out(), \"Stemming\")\n",
    "\n",
    "# Print results for lemmatization\n",
    "print_tfidf_scores(tfidf_matrix_lem, vectorizer_lem.get_feature_names_out(), \"Lemmatization\")\n"
   ]
  },
  {
   "cell_type": "code",
   "execution_count": null,
   "metadata": {},
   "outputs": [],
   "source": []
  }
 ],
 "metadata": {
  "kernelspec": {
   "display_name": "venv",
   "language": "python",
   "name": "python3"
  },
  "language_info": {
   "codemirror_mode": {
    "name": "ipython",
    "version": 3
   },
   "file_extension": ".py",
   "mimetype": "text/x-python",
   "name": "python",
   "nbconvert_exporter": "python",
   "pygments_lexer": "ipython3",
   "version": "3.12.3"
  }
 },
 "nbformat": 4,
 "nbformat_minor": 2
}
