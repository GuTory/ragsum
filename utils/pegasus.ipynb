{
 "cells": [
  {
   "cell_type": "code",
   "execution_count": 35,
   "metadata": {},
   "outputs": [],
   "source": [
    "import os\n",
    "import logging\n",
    "import torch\n",
    "import subprocess\n",
    "import pandas as pd\n",
    "import seaborn as sns\n",
    "import matplotlib.pyplot as plt\n",
    "from typing import Optional\n",
    "from pathlib import Path\n",
    "from rouge import Rouge\n",
    "from nltk.translate.bleu_score import sentence_bleu\n",
    "import bert_score\n",
    "import textstat\n",
    "\n",
    "from transformers import PegasusTokenizer, PegasusForConditionalGeneration, TFPegasusForConditionalGeneration\n",
    "from langchain.text_splitter import RecursiveCharacterTextSplitter\n",
    "from tqdm.notebook import tqdm"
   ]
  },
  {
   "cell_type": "code",
   "execution_count": 36,
   "metadata": {},
   "outputs": [],
   "source": [
    "logging.basicConfig(level=logging.INFO, force=True)"
   ]
  },
  {
   "cell_type": "code",
   "execution_count": 37,
   "metadata": {},
   "outputs": [
    {
     "name": "stderr",
     "output_type": "stream",
     "text": [
      "INFO:root:GPU Name: NVIDIA H100 PCIe\n",
      "INFO:root:CUDA Version: 12.4\n",
      "INFO:root:GPU Memory Allocated: 2.21 GB\n",
      "INFO:root:GPU Memory Reserved: 3.50 GB\n",
      "INFO:root:\n",
      "Detailed GPU Info:\n",
      "\n"
     ]
    },
    {
     "name": "stdout",
     "output_type": "stream",
     "text": [
      "Mon Mar 10 19:19:26 2025       \n",
      "+---------------------------------------------------------------------------------------+\n",
      "| NVIDIA-SMI 535.129.03             Driver Version: 535.129.03   CUDA Version: 12.2     |\n",
      "|-----------------------------------------+----------------------+----------------------+\n",
      "| GPU  Name                 Persistence-M | Bus-Id        Disp.A | Volatile Uncorr. ECC |\n",
      "| Fan  Temp   Perf          Pwr:Usage/Cap |         Memory-Usage | GPU-Util  Compute M. |\n",
      "|                                         |                      |               MIG M. |\n",
      "|=========================================+======================+======================|\n",
      "|   0  NVIDIA H100 PCIe               On  | 00000000:21:00.0 Off |                    0 |\n",
      "| N/A   40C    P0             223W / 310W |   4183MiB / 81559MiB |      0%      Default |\n",
      "|                                         |                      |             Disabled |\n",
      "+-----------------------------------------+----------------------+----------------------+\n",
      "                                                                                         \n",
      "+---------------------------------------------------------------------------------------+\n",
      "| Processes:                                                                            |\n",
      "|  GPU   GI   CI        PID   Type   Process name                            GPU Memory |\n",
      "|        ID   ID                                                             Usage      |\n",
      "|=======================================================================================|\n",
      "+---------------------------------------------------------------------------------------+\n"
     ]
    }
   ],
   "source": [
    "if torch.cuda.is_available():\n",
    "    logging.info(f'GPU Name: {torch.cuda.get_device_name(0)}')\n",
    "    logging.info(f'CUDA Version: {torch.version.cuda}')\n",
    "    logging.info(f'GPU Memory Allocated: {torch.cuda.memory_allocated(0) / 1024**3:.2f} GB')\n",
    "    logging.info(f'GPU Memory Reserved: {torch.cuda.memory_reserved(0) / 1024**3:.2f} GB')\n",
    "\n",
    "    try:\n",
    "        logging.info('\\nDetailed GPU Info:\\n')\n",
    "        subprocess.run(['nvidia-smi'], check=True)\n",
    "    except FileNotFoundError:\n",
    "        logging.info('nvidia-smi not found. Ensure NVIDIA drivers are installed.')\n",
    "else:\n",
    "    logging.info('No GPU detected. Running on CPU.')"
   ]
  },
  {
   "cell_type": "code",
   "execution_count": 38,
   "metadata": {},
   "outputs": [
    {
     "data": {
      "text/plain": [
       "device(type='cuda')"
      ]
     },
     "execution_count": 38,
     "metadata": {},
     "output_type": "execute_result"
    }
   ],
   "source": [
    "device = torch.device('cuda' if torch.cuda.is_available() else 'cpu')\n",
    "device"
   ]
  },
  {
   "cell_type": "code",
   "execution_count": 39,
   "metadata": {},
   "outputs": [],
   "source": [
    "def load_if_scraped(company_id: str) -> Optional[pd.DataFrame]:\n",
    "    file_path = Path('..') / 'data' / f'{company_id}.csv'\n",
    "    if file_path.exists():\n",
    "        df = pd.read_csv(\n",
    "            file_path,\n",
    "            sep='\\t',\n",
    "            quoting=1,\n",
    "            escapechar='\\\\',\n",
    "            doublequote=True,\n",
    "            quotechar='\"',\n",
    "        )\n",
    "        logging.info('successfully loaded local transcripts')\n",
    "        return df\n",
    "    else:\n",
    "        logging.debug('no local transcripts found')\n",
    "    return None"
   ]
  },
  {
   "cell_type": "code",
   "execution_count": 40,
   "metadata": {},
   "outputs": [
    {
     "name": "stderr",
     "output_type": "stream",
     "text": [
      "INFO:root:successfully loaded local transcripts\n"
     ]
    },
    {
     "name": "stdout",
     "output_type": "stream",
     "text": [
      "<class 'pandas.core.frame.DataFrame'>\n",
      "RangeIndex: 108 entries, 0 to 107\n",
      "Data columns (total 9 columns):\n",
      " #   Column                Non-Null Count  Dtype \n",
      "---  ------                --------------  ----- \n",
      " 0   companyid             108 non-null    int64 \n",
      " 1   companyname           108 non-null    object\n",
      " 2   mostimportantdateutc  108 non-null    object\n",
      " 3   mostimportanttimeutc  108 non-null    object\n",
      " 4   headline              108 non-null    object\n",
      " 5   full_text             108 non-null    object\n",
      " 6   uuid                  108 non-null    object\n",
      " 7   word_count            108 non-null    int64 \n",
      " 8   word_count_nltk       108 non-null    int64 \n",
      "dtypes: int64(3), object(6)\n",
      "memory usage: 7.7+ KB\n"
     ]
    }
   ],
   "source": [
    "company_id = '32307'\n",
    "df = load_if_scraped(company_id=company_id)\n",
    "\n",
    "df.info()"
   ]
  },
  {
   "cell_type": "code",
   "execution_count": 41,
   "metadata": {},
   "outputs": [
    {
     "data": {
      "text/html": [
       "<div>\n",
       "<style scoped>\n",
       "    .dataframe tbody tr th:only-of-type {\n",
       "        vertical-align: middle;\n",
       "    }\n",
       "\n",
       "    .dataframe tbody tr th {\n",
       "        vertical-align: top;\n",
       "    }\n",
       "\n",
       "    .dataframe thead th {\n",
       "        text-align: right;\n",
       "    }\n",
       "</style>\n",
       "<table border=\"1\" class=\"dataframe\">\n",
       "  <thead>\n",
       "    <tr style=\"text-align: right;\">\n",
       "      <th></th>\n",
       "      <th>companyid</th>\n",
       "      <th>companyname</th>\n",
       "      <th>mostimportantdateutc</th>\n",
       "      <th>mostimportanttimeutc</th>\n",
       "      <th>headline</th>\n",
       "      <th>full_text</th>\n",
       "      <th>uuid</th>\n",
       "      <th>word_count</th>\n",
       "      <th>word_count_nltk</th>\n",
       "    </tr>\n",
       "  </thead>\n",
       "  <tbody>\n",
       "    <tr>\n",
       "      <th>0</th>\n",
       "      <td>32307</td>\n",
       "      <td>NVIDIA Corporation</td>\n",
       "      <td>2023-01-05</td>\n",
       "      <td>15:50:00</td>\n",
       "      <td>NVIDIA Corporation Presents at J.P. MORGAN 21S...</td>\n",
       "      <td>Analysts: All right. Why don't we go ahead and...</td>\n",
       "      <td>ca419775-262e-4e3a-975a-e4ead13ef55b</td>\n",
       "      <td>9541</td>\n",
       "      <td>10911</td>\n",
       "    </tr>\n",
       "    <tr>\n",
       "      <th>1</th>\n",
       "      <td>32307</td>\n",
       "      <td>NVIDIA Corporation</td>\n",
       "      <td>2023-01-12</td>\n",
       "      <td>18:30:00</td>\n",
       "      <td>NVIDIA Corporation Presents at 41st Annual J.P...</td>\n",
       "      <td>Analysts: All right. Good morning, and welcome...</td>\n",
       "      <td>ca419775-262e-4e3a-975a-e4ead13ef55b</td>\n",
       "      <td>11782</td>\n",
       "      <td>13503</td>\n",
       "    </tr>\n",
       "    <tr>\n",
       "      <th>2</th>\n",
       "      <td>32307</td>\n",
       "      <td>NVIDIA Corporation</td>\n",
       "      <td>2023-01-18</td>\n",
       "      <td>17:00:00</td>\n",
       "      <td>NVIDIA Corporation - Special Call</td>\n",
       "      <td>Attendees: Hi, everyone. Thanks for joining us...</td>\n",
       "      <td>ca419775-262e-4e3a-975a-e4ead13ef55b</td>\n",
       "      <td>17327</td>\n",
       "      <td>19868</td>\n",
       "    </tr>\n",
       "    <tr>\n",
       "      <th>3</th>\n",
       "      <td>32307</td>\n",
       "      <td>NVIDIA Corporation</td>\n",
       "      <td>2023-01-18</td>\n",
       "      <td>18:00:00</td>\n",
       "      <td>NVIDIA Corporation - Special Call</td>\n",
       "      <td>Executives: Hello all. We're back. Welcome bac...</td>\n",
       "      <td>ca419775-262e-4e3a-975a-e4ead13ef55b</td>\n",
       "      <td>19504</td>\n",
       "      <td>22620</td>\n",
       "    </tr>\n",
       "    <tr>\n",
       "      <th>4</th>\n",
       "      <td>32307</td>\n",
       "      <td>NVIDIA Corporation</td>\n",
       "      <td>2023-01-19</td>\n",
       "      <td>17:00:00</td>\n",
       "      <td>NVIDIA Corporation - Special Call</td>\n",
       "      <td>Attendees: Hi, everyone. Thanks for joining us...</td>\n",
       "      <td>ca419775-262e-4e3a-975a-e4ead13ef55b</td>\n",
       "      <td>23984</td>\n",
       "      <td>27434</td>\n",
       "    </tr>\n",
       "  </tbody>\n",
       "</table>\n",
       "</div>"
      ],
      "text/plain": [
       "   companyid         companyname mostimportantdateutc mostimportanttimeutc  \\\n",
       "0      32307  NVIDIA Corporation           2023-01-05             15:50:00   \n",
       "1      32307  NVIDIA Corporation           2023-01-12             18:30:00   \n",
       "2      32307  NVIDIA Corporation           2023-01-18             17:00:00   \n",
       "3      32307  NVIDIA Corporation           2023-01-18             18:00:00   \n",
       "4      32307  NVIDIA Corporation           2023-01-19             17:00:00   \n",
       "\n",
       "                                            headline  \\\n",
       "0  NVIDIA Corporation Presents at J.P. MORGAN 21S...   \n",
       "1  NVIDIA Corporation Presents at 41st Annual J.P...   \n",
       "2                  NVIDIA Corporation - Special Call   \n",
       "3                  NVIDIA Corporation - Special Call   \n",
       "4                  NVIDIA Corporation - Special Call   \n",
       "\n",
       "                                           full_text  \\\n",
       "0  Analysts: All right. Why don't we go ahead and...   \n",
       "1  Analysts: All right. Good morning, and welcome...   \n",
       "2  Attendees: Hi, everyone. Thanks for joining us...   \n",
       "3  Executives: Hello all. We're back. Welcome bac...   \n",
       "4  Attendees: Hi, everyone. Thanks for joining us...   \n",
       "\n",
       "                                   uuid  word_count  word_count_nltk  \n",
       "0  ca419775-262e-4e3a-975a-e4ead13ef55b        9541            10911  \n",
       "1  ca419775-262e-4e3a-975a-e4ead13ef55b       11782            13503  \n",
       "2  ca419775-262e-4e3a-975a-e4ead13ef55b       17327            19868  \n",
       "3  ca419775-262e-4e3a-975a-e4ead13ef55b       19504            22620  \n",
       "4  ca419775-262e-4e3a-975a-e4ead13ef55b       23984            27434  "
      ]
     },
     "execution_count": 41,
     "metadata": {},
     "output_type": "execute_result"
    }
   ],
   "source": [
    "df.head()"
   ]
  },
  {
   "cell_type": "code",
   "execution_count": 42,
   "metadata": {},
   "outputs": [
    {
     "data": {
      "text/plain": [
       "(108, 9)"
      ]
     },
     "execution_count": 42,
     "metadata": {},
     "output_type": "execute_result"
    }
   ],
   "source": [
    "df.shape"
   ]
  },
  {
   "cell_type": "code",
   "execution_count": 43,
   "metadata": {},
   "outputs": [
    {
     "name": "stderr",
     "output_type": "stream",
     "text": [
      "Some weights of PegasusForConditionalGeneration were not initialized from the model checkpoint at human-centered-summarization/financial-summarization-pegasus and are newly initialized: ['model.decoder.embed_positions.weight', 'model.encoder.embed_positions.weight']\n",
      "You should probably TRAIN this model on a down-stream task to be able to use it for predictions and inference.\n"
     ]
    }
   ],
   "source": [
    "model_name = \"human-centered-summarization/financial-summarization-pegasus\"\n",
    "\n",
    "tokenizer = PegasusTokenizer.from_pretrained(model_name)\n",
    "model = PegasusForConditionalGeneration.from_pretrained(model_name).to(device)"
   ]
  },
  {
   "cell_type": "code",
   "execution_count": 44,
   "metadata": {},
   "outputs": [
    {
     "data": {
      "text/plain": [
       "512"
      ]
     },
     "execution_count": 44,
     "metadata": {},
     "output_type": "execute_result"
    }
   ],
   "source": [
    "max_length = tokenizer.model_max_length\n",
    "max_length"
   ]
  },
  {
   "cell_type": "code",
   "execution_count": 45,
   "metadata": {},
   "outputs": [
    {
     "data": {
      "text/plain": [
       "tensor([[38737,   151,   436,   268,   107,  1807,   272,   131,   144,   145,\n",
       "           275,  1573,   111,   179,   547,   152,  1952,  1039,   108,  4098,\n",
       "           351,  2024,   108,   111,  1576,   112, 54736,   131,   116,  1616,\n",
       "          1332,  4549,  2470,   111, 12765, 23265,  5441,   264,   134,   109,\n",
       "          8717, 11921,  2945,   107,   600,   442,   117, 60740, 13955,   107,\n",
       "           125,   131,   208,   109, 26756,   111, 26756,  1863,   882,  8962,\n",
       "           118,   109,  1419,   107,  3695,  3042,   112,  4094, 68433, 18031,\n",
       "           116,   116,   108,  3665,  5376,  1276,   111,  3670,  3650,  4697,\n",
       "           134, 26587,   107,   168,   131,   116,   174,   114,  3636,   950,\n",
       "           231,   112,   133,   109, 26587,   320,   108,  2304, 68433,   108,\n",
       "           129,   109,   211,   112,   799,   134,   150,  6594,  1792,   108,\n",
       "           262,   109,   320,   117,  1528,   223,   113,   109,  2994,   120,\n",
       "           119,   131,   216,   313,   112,  1232,   160,   380,   108,   268,\n",
       "           107, 16882,  3941,   108, 20644, 15171,   108,   352,   121, 11050,\n",
       "         20644,  3232,   115,  6090,   108,   115,  3982,   111, 10317,   107,\n",
       "           325,   115,   663,   112,   120,   108,   109, 26587,   320,   117,\n",
       "          1528,   142,  4610,   680,   111,   318,  2563,  3871,   107,   412,\n",
       "           125,   131,   261,  1049, 68433,   112,   388,   214,   299,   122,\n",
       "           142,  4859,   113,   180,   109,   320,  1487,   124,  1842,   134,\n",
       "           203, 23862,   548,   845,   108,   111,   237,   145,   131,   267,\n",
       "           275,  1573,   111,  3951,   299,   109,  2706,   759,   251,   107,\n",
       "           412, 68433,   108,  2041,   119,   118,   109,   950,   231,   113,\n",
       "           337,   108,   111,   125,   131,   267,   795,   126,   204,   112,\n",
       "           119,   107, 49061,   151,  1860,   119,   107,  7404,  3042,   112,\n",
       "           129,   264,   107,   184,  2177,   131,   144,  2202,   126,   107,\n",
       "          1513,   122,   109,   255,  1403,   120,   145,   131,   216,  4725,\n",
       "           108,   145,  2177,   131,   144,  2202,   126,   111,   331,   264,\n",
       "           107,   125,   272,   131,   144,   217,   112,   193,   142,  1671,\n",
       "          6743,  1736,   120,   109,  2583,   111,  5051,   120,   145,   138,\n",
       "           133,  1733,   782,   121,  6515,  3986,   108,   111,  2714,   127,\n",
       "          5361,   112,   516,   150,  1574,   120,   127,  3252,   122,   109,\n",
       "         11257,   118,   257, 11343,   112,   150,  3198,   111, 20752,  2931,\n",
       "           150,   260,   107, 15320,   107,  1032,   120,   125,   133,   165,\n",
       "           113,   109,   230,   108,   125,   245,   112,   211,   388,   122,\n",
       "           181,   113,   109,   662,   341,   120,   145,   133,   174,   375,\n",
       "           124,   864,   381,   145,   131,   261,   289,  3552,   244,   150,\n",
       "          2706,   726,  5264,   107, 22029,   108,   162,   117,   150,  3105,\n",
       "           118,   150,  3982,  3232,   117,   299,   112,   114,   255,   388,\n",
       "           107,   184,  1219,  1678,   108,  6957,   150,  1466,  7875,   108,\n",
       "          6957,   150,  1466,  8254,   108,   162,   117,   163,  1935,   305,\n",
       "           113,   109,   205,   785, 42296,   115,  2366,   107,   325,   145,\n",
       "           131,   216,   264,   380,   112,  4432,   150, 74723,  1466,  7306,\n",
       "         23092,   824,   130,   210,   107,   412,   145,   131,   216,   288,\n",
       "          3042,   115,  1130,   113,   180,   145,   131,   216,  1749,   107,\n",
       "           343,   113,   422,   108,   150, 22029,  3105,   117,   964,   108,\n",
       "           111,   145,   127,   309,   375,   115,  1130,   113,   150,  4165,\n",
       "         10195,   108,   162,   117,   313,   130,  1214,   268,   239,   107,\n",
       "         21381,   108,   145,   127,  1957,   124,  2415,   112,   407,   114,\n",
       "           423,  8178,   113,   177,   379,   108,  1533,   115,   150,   335,\n",
       "          1104,   107,   184,   133,   150, 34116,  3105,   108,   375,   124,\n",
       "           118,   223,   231,   111,   114,   288,   356,  2757,   118,   223,\n",
       "           113,     1]], device='cuda:0')"
      ]
     },
     "execution_count": 45,
     "metadata": {},
     "output_type": "execute_result"
    }
   ],
   "source": [
    "tokenizer(df.full_text[0], return_tensors='pt', truncation=True, max_length=max_length).to(device).input_ids"
   ]
  },
  {
   "cell_type": "code",
   "execution_count": null,
   "metadata": {},
   "outputs": [],
   "source": [
    "text_splitter = RecursiveCharacterTextSplitter(\n",
    "    chunk_size=max_length, chunk_overlap=max_length / 10\n",
    ")\n",
    "\n",
    "\n",
    "def summarize_text(text: str):\n",
    "\n",
    "    chunks = text_splitter.split_text(text)\n",
    "    logging.debug([len(c) for c in chunks])\n",
    "\n",
    "    summaries = []\n",
    "    for chunk in tqdm(chunks):\n",
    "        inputs = tokenizer(\n",
    "            chunk, return_tensors=\"pt\", truncation=True, max_length=max_length\n",
    "        ).to(device)\n",
    "        summary_ids = model.generate(\n",
    "            **inputs, max_length=max_length / 4, early_stopping=True\n",
    "        )\n",
    "        summary = tokenizer.decode(summary_ids[0], skip_special_tokens=True)\n",
    "        summaries.append(summary)\n",
    "\n",
    "    return summaries"
   ]
  },
  {
   "cell_type": "code",
   "execution_count": null,
   "metadata": {},
   "outputs": [],
   "source": [
    "def recursive_summary(text, target_length=max_length):\n",
    "    tokens = tokenizer.tokenize(text)\n",
    "    logging.debug(f\"token size: {len(tokens)}\")\n",
    "\n",
    "    combined_summary = text\n",
    "    while len(tokens) > target_length:\n",
    "        summaries = summarize_text(combined_summary)\n",
    "        combined_summary = \" \".join(summaries)\n",
    "        tokens = tokenizer.tokenize(combined_summary)\n",
    "\n",
    "    return combined_summary"
   ]
  },
  {
   "cell_type": "code",
   "execution_count": 49,
   "metadata": {},
   "outputs": [
    {
     "data": {
      "application/vnd.jupyter.widget-view+json": {
       "model_id": "139f54940ee84df483be43b533b32c68",
       "version_major": 2,
       "version_minor": 0
      },
      "text/plain": [
       "  0%|          | 0/108 [00:00<?, ?it/s]"
      ]
     },
     "metadata": {},
     "output_type": "display_data"
    },
    {
     "data": {
      "application/vnd.jupyter.widget-view+json": {
       "model_id": "dde32c379bdd4ceab6c0e2d185a6ac67",
       "version_major": 2,
       "version_minor": 0
      },
      "text/plain": [
       "  0%|          | 0/159 [00:00<?, ?it/s]"
      ]
     },
     "metadata": {},
     "output_type": "display_data"
    },
    {
     "data": {
      "application/vnd.jupyter.widget-view+json": {
       "model_id": "cdc6a7f386fe4785b481db012aac7cb8",
       "version_major": 2,
       "version_minor": 0
      },
      "text/plain": [
       "  0%|          | 0/22 [00:00<?, ?it/s]"
      ]
     },
     "metadata": {},
     "output_type": "display_data"
    },
    {
     "data": {
      "application/vnd.jupyter.widget-view+json": {
       "model_id": "7e1adce67f0740af93c285800ce2ac2d",
       "version_major": 2,
       "version_minor": 0
      },
      "text/plain": [
       "  0%|          | 0/196 [00:00<?, ?it/s]"
      ]
     },
     "metadata": {},
     "output_type": "display_data"
    },
    {
     "data": {
      "application/vnd.jupyter.widget-view+json": {
       "model_id": "7dedb54a619a4104afb79af78131687f",
       "version_major": 2,
       "version_minor": 0
      },
      "text/plain": [
       "  0%|          | 0/29 [00:00<?, ?it/s]"
      ]
     },
     "metadata": {},
     "output_type": "display_data"
    },
    {
     "data": {
      "application/vnd.jupyter.widget-view+json": {
       "model_id": "57dc512c2b30450fa3098e8abd001332",
       "version_major": 2,
       "version_minor": 0
      },
      "text/plain": [
       "  0%|          | 0/279 [00:00<?, ?it/s]"
      ]
     },
     "metadata": {},
     "output_type": "display_data"
    },
    {
     "data": {
      "application/vnd.jupyter.widget-view+json": {
       "model_id": "35ced229668744739d45de6c8868b5b9",
       "version_major": 2,
       "version_minor": 0
      },
      "text/plain": [
       "  0%|          | 0/39 [00:00<?, ?it/s]"
      ]
     },
     "metadata": {},
     "output_type": "display_data"
    },
    {
     "data": {
      "application/vnd.jupyter.widget-view+json": {
       "model_id": "adefa11994d64e7a96ede772f1133ae9",
       "version_major": 2,
       "version_minor": 0
      },
      "text/plain": [
       "  0%|          | 0/6 [00:00<?, ?it/s]"
      ]
     },
     "metadata": {},
     "output_type": "display_data"
    },
    {
     "data": {
      "application/vnd.jupyter.widget-view+json": {
       "model_id": "4d49b06582b242199298c463c0213bf1",
       "version_major": 2,
       "version_minor": 0
      },
      "text/plain": [
       "  0%|          | 0/307 [00:00<?, ?it/s]"
      ]
     },
     "metadata": {},
     "output_type": "display_data"
    },
    {
     "data": {
      "application/vnd.jupyter.widget-view+json": {
       "model_id": "0ac5687a371346d481a0d99fe6db1b6d",
       "version_major": 2,
       "version_minor": 0
      },
      "text/plain": [
       "  0%|          | 0/40 [00:00<?, ?it/s]"
      ]
     },
     "metadata": {},
     "output_type": "display_data"
    },
    {
     "data": {
      "application/vnd.jupyter.widget-view+json": {
       "model_id": "addca7f347dc4ed7baf8c60fe0724a50",
       "version_major": 2,
       "version_minor": 0
      },
      "text/plain": [
       "  0%|          | 0/7 [00:00<?, ?it/s]"
      ]
     },
     "metadata": {},
     "output_type": "display_data"
    },
    {
     "data": {
      "application/vnd.jupyter.widget-view+json": {
       "model_id": "1fe9e4455e2b4ee981acad92fa5f6259",
       "version_major": 2,
       "version_minor": 0
      },
      "text/plain": [
       "  0%|          | 0/408 [00:00<?, ?it/s]"
      ]
     },
     "metadata": {},
     "output_type": "display_data"
    },
    {
     "data": {
      "application/vnd.jupyter.widget-view+json": {
       "model_id": "ba29cfdca2c24aac8d42948f968cbace",
       "version_major": 2,
       "version_minor": 0
      },
      "text/plain": [
       "  0%|          | 0/59 [00:00<?, ?it/s]"
      ]
     },
     "metadata": {},
     "output_type": "display_data"
    },
    {
     "data": {
      "application/vnd.jupyter.widget-view+json": {
       "model_id": "32d345f2de224910810a8d8f65c2cee7",
       "version_major": 2,
       "version_minor": 0
      },
      "text/plain": [
       "  0%|          | 0/10 [00:00<?, ?it/s]"
      ]
     },
     "metadata": {},
     "output_type": "display_data"
    },
    {
     "data": {
      "application/vnd.jupyter.widget-view+json": {
       "model_id": "a695809edd664120a1a2a54689f5a406",
       "version_major": 2,
       "version_minor": 0
      },
      "text/plain": [
       "  0%|          | 0/243 [00:00<?, ?it/s]"
      ]
     },
     "metadata": {},
     "output_type": "display_data"
    },
    {
     "data": {
      "application/vnd.jupyter.widget-view+json": {
       "model_id": "c6f48ae08b9e4b9384d5a7da320efef4",
       "version_major": 2,
       "version_minor": 0
      },
      "text/plain": [
       "  0%|          | 0/35 [00:00<?, ?it/s]"
      ]
     },
     "metadata": {},
     "output_type": "display_data"
    },
    {
     "data": {
      "application/vnd.jupyter.widget-view+json": {
       "model_id": "4d0f3f0ab7bd461ab321750df55fea89",
       "version_major": 2,
       "version_minor": 0
      },
      "text/plain": [
       "  0%|          | 0/585 [00:00<?, ?it/s]"
      ]
     },
     "metadata": {},
     "output_type": "display_data"
    },
    {
     "data": {
      "application/vnd.jupyter.widget-view+json": {
       "model_id": "bf88caa6cab34f10b4b0fc31f739b346",
       "version_major": 2,
       "version_minor": 0
      },
      "text/plain": [
       "  0%|          | 0/82 [00:00<?, ?it/s]"
      ]
     },
     "metadata": {},
     "output_type": "display_data"
    },
    {
     "data": {
      "application/vnd.jupyter.widget-view+json": {
       "model_id": "17d97ffcff994ba1bd8298d766cad28a",
       "version_major": 2,
       "version_minor": 0
      },
      "text/plain": [
       "  0%|          | 0/12 [00:00<?, ?it/s]"
      ]
     },
     "metadata": {},
     "output_type": "display_data"
    },
    {
     "data": {
      "application/vnd.jupyter.widget-view+json": {
       "model_id": "2fcd0adaa1f84b65be5bc0080c228961",
       "version_major": 2,
       "version_minor": 0
      },
      "text/plain": [
       "  0%|          | 0/277 [00:00<?, ?it/s]"
      ]
     },
     "metadata": {},
     "output_type": "display_data"
    },
    {
     "data": {
      "application/vnd.jupyter.widget-view+json": {
       "model_id": "9d232239464c4ea1bcea1235ff42bd35",
       "version_major": 2,
       "version_minor": 0
      },
      "text/plain": [
       "  0%|          | 0/41 [00:00<?, ?it/s]"
      ]
     },
     "metadata": {},
     "output_type": "display_data"
    },
    {
     "data": {
      "application/vnd.jupyter.widget-view+json": {
       "model_id": "692cc33e7a4a4d7f93653b02ad65051f",
       "version_major": 2,
       "version_minor": 0
      },
      "text/plain": [
       "  0%|          | 0/7 [00:00<?, ?it/s]"
      ]
     },
     "metadata": {},
     "output_type": "display_data"
    },
    {
     "data": {
      "application/vnd.jupyter.widget-view+json": {
       "model_id": "b5dfd8688ab94a60a06401ccfac25dd5",
       "version_major": 2,
       "version_minor": 0
      },
      "text/plain": [
       "  0%|          | 0/262 [00:00<?, ?it/s]"
      ]
     },
     "metadata": {},
     "output_type": "display_data"
    },
    {
     "data": {
      "application/vnd.jupyter.widget-view+json": {
       "model_id": "140a41e4682d43aa82170c3df8eeccc4",
       "version_major": 2,
       "version_minor": 0
      },
      "text/plain": [
       "  0%|          | 0/37 [00:00<?, ?it/s]"
      ]
     },
     "metadata": {},
     "output_type": "display_data"
    },
    {
     "data": {
      "application/vnd.jupyter.widget-view+json": {
       "model_id": "c2c1fd44ba90416aa0f44f7dfaab5759",
       "version_major": 2,
       "version_minor": 0
      },
      "text/plain": [
       "  0%|          | 0/6 [00:00<?, ?it/s]"
      ]
     },
     "metadata": {},
     "output_type": "display_data"
    },
    {
     "data": {
      "application/vnd.jupyter.widget-view+json": {
       "model_id": "d40d34b4c2ba456dac29646de94bf4ca",
       "version_major": 2,
       "version_minor": 0
      },
      "text/plain": [
       "  0%|          | 0/262 [00:00<?, ?it/s]"
      ]
     },
     "metadata": {},
     "output_type": "display_data"
    },
    {
     "data": {
      "application/vnd.jupyter.widget-view+json": {
       "model_id": "152211b749b6472ba88c130619d761b8",
       "version_major": 2,
       "version_minor": 0
      },
      "text/plain": [
       "  0%|          | 0/37 [00:00<?, ?it/s]"
      ]
     },
     "metadata": {},
     "output_type": "display_data"
    },
    {
     "data": {
      "application/vnd.jupyter.widget-view+json": {
       "model_id": "e3c87ea983a24c04b17a87a4f50661c6",
       "version_major": 2,
       "version_minor": 0
      },
      "text/plain": [
       "  0%|          | 0/6 [00:00<?, ?it/s]"
      ]
     },
     "metadata": {},
     "output_type": "display_data"
    },
    {
     "data": {
      "application/vnd.jupyter.widget-view+json": {
       "model_id": "4dca012285c842aab84fd3fabde10612",
       "version_major": 2,
       "version_minor": 0
      },
      "text/plain": [
       "  0%|          | 0/265 [00:00<?, ?it/s]"
      ]
     },
     "metadata": {},
     "output_type": "display_data"
    },
    {
     "data": {
      "application/vnd.jupyter.widget-view+json": {
       "model_id": "547dec82159541a4b1ec4ae85082593d",
       "version_major": 2,
       "version_minor": 0
      },
      "text/plain": [
       "  0%|          | 0/36 [00:00<?, ?it/s]"
      ]
     },
     "metadata": {},
     "output_type": "display_data"
    },
    {
     "data": {
      "application/vnd.jupyter.widget-view+json": {
       "model_id": "f6c2dc4f6db14a75a9d160052a581786",
       "version_major": 2,
       "version_minor": 0
      },
      "text/plain": [
       "  0%|          | 0/240 [00:00<?, ?it/s]"
      ]
     },
     "metadata": {},
     "output_type": "display_data"
    },
    {
     "data": {
      "application/vnd.jupyter.widget-view+json": {
       "model_id": "0f8e82471d8346c2b89eae797ba12be4",
       "version_major": 2,
       "version_minor": 0
      },
      "text/plain": [
       "  0%|          | 0/34 [00:00<?, ?it/s]"
      ]
     },
     "metadata": {},
     "output_type": "display_data"
    },
    {
     "data": {
      "application/vnd.jupyter.widget-view+json": {
       "model_id": "da88daf4c9ec4f2f89c51b813d414f25",
       "version_major": 2,
       "version_minor": 0
      },
      "text/plain": [
       "  0%|          | 0/284 [00:00<?, ?it/s]"
      ]
     },
     "metadata": {},
     "output_type": "display_data"
    },
    {
     "data": {
      "application/vnd.jupyter.widget-view+json": {
       "model_id": "68632bb8f2bd4133a844a3dfab3ccc5e",
       "version_major": 2,
       "version_minor": 0
      },
      "text/plain": [
       "  0%|          | 0/42 [00:00<?, ?it/s]"
      ]
     },
     "metadata": {},
     "output_type": "display_data"
    },
    {
     "data": {
      "application/vnd.jupyter.widget-view+json": {
       "model_id": "b03474227bba41c79fb230e95db224f7",
       "version_major": 2,
       "version_minor": 0
      },
      "text/plain": [
       "  0%|          | 0/7 [00:00<?, ?it/s]"
      ]
     },
     "metadata": {},
     "output_type": "display_data"
    },
    {
     "data": {
      "application/vnd.jupyter.widget-view+json": {
       "model_id": "ffc9a1c801fd42f0aa7cb2d324ea84d9",
       "version_major": 2,
       "version_minor": 0
      },
      "text/plain": [
       "  0%|          | 0/265 [00:00<?, ?it/s]"
      ]
     },
     "metadata": {},
     "output_type": "display_data"
    },
    {
     "data": {
      "application/vnd.jupyter.widget-view+json": {
       "model_id": "db2467b5388a4055bd9235eda0a60d7a",
       "version_major": 2,
       "version_minor": 0
      },
      "text/plain": [
       "  0%|          | 0/37 [00:00<?, ?it/s]"
      ]
     },
     "metadata": {},
     "output_type": "display_data"
    },
    {
     "data": {
      "application/vnd.jupyter.widget-view+json": {
       "model_id": "137d0684d6bd42eabfa947d9c69ea165",
       "version_major": 2,
       "version_minor": 0
      },
      "text/plain": [
       "  0%|          | 0/6 [00:00<?, ?it/s]"
      ]
     },
     "metadata": {},
     "output_type": "display_data"
    },
    {
     "data": {
      "application/vnd.jupyter.widget-view+json": {
       "model_id": "7f2f635577ce478681de27c4b5a298d3",
       "version_major": 2,
       "version_minor": 0
      },
      "text/plain": [
       "  0%|          | 0/217 [00:00<?, ?it/s]"
      ]
     },
     "metadata": {},
     "output_type": "display_data"
    },
    {
     "data": {
      "application/vnd.jupyter.widget-view+json": {
       "model_id": "744e5d467142439899c17381dc4e678d",
       "version_major": 2,
       "version_minor": 0
      },
      "text/plain": [
       "  0%|          | 0/27 [00:00<?, ?it/s]"
      ]
     },
     "metadata": {},
     "output_type": "display_data"
    },
    {
     "data": {
      "application/vnd.jupyter.widget-view+json": {
       "model_id": "85073ac2594c4d96a7b584e6b1d61fef",
       "version_major": 2,
       "version_minor": 0
      },
      "text/plain": [
       "  0%|          | 0/412 [00:00<?, ?it/s]"
      ]
     },
     "metadata": {},
     "output_type": "display_data"
    },
    {
     "data": {
      "application/vnd.jupyter.widget-view+json": {
       "model_id": "353fb9aaacc34982ae5ef00cbbcf308a",
       "version_major": 2,
       "version_minor": 0
      },
      "text/plain": [
       "  0%|          | 0/56 [00:00<?, ?it/s]"
      ]
     },
     "metadata": {},
     "output_type": "display_data"
    },
    {
     "data": {
      "application/vnd.jupyter.widget-view+json": {
       "model_id": "ab19275dc76142be96f1e14755ab757f",
       "version_major": 2,
       "version_minor": 0
      },
      "text/plain": [
       "  0%|          | 0/9 [00:00<?, ?it/s]"
      ]
     },
     "metadata": {},
     "output_type": "display_data"
    },
    {
     "data": {
      "application/vnd.jupyter.widget-view+json": {
       "model_id": "6c3a270df1cf4b9bb2c7cc39b4bffabb",
       "version_major": 2,
       "version_minor": 0
      },
      "text/plain": [
       "  0%|          | 0/895 [00:00<?, ?it/s]"
      ]
     },
     "metadata": {},
     "output_type": "display_data"
    },
    {
     "data": {
      "application/vnd.jupyter.widget-view+json": {
       "model_id": "84db96938a3947b7825da9e7669e2778",
       "version_major": 2,
       "version_minor": 0
      },
      "text/plain": [
       "  0%|          | 0/129 [00:00<?, ?it/s]"
      ]
     },
     "metadata": {},
     "output_type": "display_data"
    },
    {
     "data": {
      "application/vnd.jupyter.widget-view+json": {
       "model_id": "b7f987dee869420c9d11bc223db8da1d",
       "version_major": 2,
       "version_minor": 0
      },
      "text/plain": [
       "  0%|          | 0/19 [00:00<?, ?it/s]"
      ]
     },
     "metadata": {},
     "output_type": "display_data"
    },
    {
     "data": {
      "application/vnd.jupyter.widget-view+json": {
       "model_id": "afd0b3df59014ebb918ed7a6bdfad3a1",
       "version_major": 2,
       "version_minor": 0
      },
      "text/plain": [
       "  0%|          | 0/418 [00:00<?, ?it/s]"
      ]
     },
     "metadata": {},
     "output_type": "display_data"
    },
    {
     "data": {
      "application/vnd.jupyter.widget-view+json": {
       "model_id": "f82228a139e74c17b5c64a66e0447cdd",
       "version_major": 2,
       "version_minor": 0
      },
      "text/plain": [
       "  0%|          | 0/62 [00:00<?, ?it/s]"
      ]
     },
     "metadata": {},
     "output_type": "display_data"
    },
    {
     "data": {
      "application/vnd.jupyter.widget-view+json": {
       "model_id": "c4e534ccbe9341c49c0f42493948cc3a",
       "version_major": 2,
       "version_minor": 0
      },
      "text/plain": [
       "  0%|          | 0/10 [00:00<?, ?it/s]"
      ]
     },
     "metadata": {},
     "output_type": "display_data"
    },
    {
     "data": {
      "application/vnd.jupyter.widget-view+json": {
       "model_id": "44b09f86d7f54e9db97b1fe265131b3f",
       "version_major": 2,
       "version_minor": 0
      },
      "text/plain": [
       "  0%|          | 0/242 [00:00<?, ?it/s]"
      ]
     },
     "metadata": {},
     "output_type": "display_data"
    },
    {
     "data": {
      "application/vnd.jupyter.widget-view+json": {
       "model_id": "827dbc73cc384521a2b54d74a2fb69ea",
       "version_major": 2,
       "version_minor": 0
      },
      "text/plain": [
       "  0%|          | 0/35 [00:00<?, ?it/s]"
      ]
     },
     "metadata": {},
     "output_type": "display_data"
    },
    {
     "data": {
      "application/vnd.jupyter.widget-view+json": {
       "model_id": "664c3abf607f40ca9b3d2cb4c50d646a",
       "version_major": 2,
       "version_minor": 0
      },
      "text/plain": [
       "  0%|          | 0/287 [00:00<?, ?it/s]"
      ]
     },
     "metadata": {},
     "output_type": "display_data"
    },
    {
     "data": {
      "application/vnd.jupyter.widget-view+json": {
       "model_id": "e797dca1da4f470193168ecb85e96e00",
       "version_major": 2,
       "version_minor": 0
      },
      "text/plain": [
       "  0%|          | 0/43 [00:00<?, ?it/s]"
      ]
     },
     "metadata": {},
     "output_type": "display_data"
    },
    {
     "data": {
      "application/vnd.jupyter.widget-view+json": {
       "model_id": "6fd23ac4c11e4881bf434b736a8e3ccd",
       "version_major": 2,
       "version_minor": 0
      },
      "text/plain": [
       "  0%|          | 0/7 [00:00<?, ?it/s]"
      ]
     },
     "metadata": {},
     "output_type": "display_data"
    },
    {
     "data": {
      "application/vnd.jupyter.widget-view+json": {
       "model_id": "5b9fb1e1eb9b4e83a9da6b48e609a1b9",
       "version_major": 2,
       "version_minor": 0
      },
      "text/plain": [
       "  0%|          | 0/160 [00:00<?, ?it/s]"
      ]
     },
     "metadata": {},
     "output_type": "display_data"
    },
    {
     "data": {
      "application/vnd.jupyter.widget-view+json": {
       "model_id": "5f07e899a62840ab97586e2077f6803d",
       "version_major": 2,
       "version_minor": 0
      },
      "text/plain": [
       "  0%|          | 0/22 [00:00<?, ?it/s]"
      ]
     },
     "metadata": {},
     "output_type": "display_data"
    },
    {
     "data": {
      "application/vnd.jupyter.widget-view+json": {
       "model_id": "0a8d407d905a4c4e8883aa8dda008d12",
       "version_major": 2,
       "version_minor": 0
      },
      "text/plain": [
       "  0%|          | 0/337 [00:00<?, ?it/s]"
      ]
     },
     "metadata": {},
     "output_type": "display_data"
    },
    {
     "data": {
      "application/vnd.jupyter.widget-view+json": {
       "model_id": "d000c8d5618f409789a515533a5d436c",
       "version_major": 2,
       "version_minor": 0
      },
      "text/plain": [
       "  0%|          | 0/49 [00:00<?, ?it/s]"
      ]
     },
     "metadata": {},
     "output_type": "display_data"
    },
    {
     "data": {
      "application/vnd.jupyter.widget-view+json": {
       "model_id": "fc85c115e0e342439fcc8aaecdb9c6b0",
       "version_major": 2,
       "version_minor": 0
      },
      "text/plain": [
       "  0%|          | 0/8 [00:00<?, ?it/s]"
      ]
     },
     "metadata": {},
     "output_type": "display_data"
    },
    {
     "data": {
      "application/vnd.jupyter.widget-view+json": {
       "model_id": "8dedc59c105a43aba064edc58ddbd11c",
       "version_major": 2,
       "version_minor": 0
      },
      "text/plain": [
       "  0%|          | 0/245 [00:00<?, ?it/s]"
      ]
     },
     "metadata": {},
     "output_type": "display_data"
    },
    {
     "data": {
      "application/vnd.jupyter.widget-view+json": {
       "model_id": "3a62cadd35e44701ab0f2b0665a73a52",
       "version_major": 2,
       "version_minor": 0
      },
      "text/plain": [
       "  0%|          | 0/38 [00:00<?, ?it/s]"
      ]
     },
     "metadata": {},
     "output_type": "display_data"
    },
    {
     "data": {
      "application/vnd.jupyter.widget-view+json": {
       "model_id": "0b6a24b407a24fe0ba1659ea4625ee13",
       "version_major": 2,
       "version_minor": 0
      },
      "text/plain": [
       "  0%|          | 0/8 [00:00<?, ?it/s]"
      ]
     },
     "metadata": {},
     "output_type": "display_data"
    },
    {
     "data": {
      "application/vnd.jupyter.widget-view+json": {
       "model_id": "391a4364331c41599f2852bed3e5f0bf",
       "version_major": 2,
       "version_minor": 0
      },
      "text/plain": [
       "  0%|          | 0/397 [00:00<?, ?it/s]"
      ]
     },
     "metadata": {},
     "output_type": "display_data"
    },
    {
     "data": {
      "application/vnd.jupyter.widget-view+json": {
       "model_id": "252c24ba00404d1bb653d4b655a4e5a8",
       "version_major": 2,
       "version_minor": 0
      },
      "text/plain": [
       "  0%|          | 0/55 [00:00<?, ?it/s]"
      ]
     },
     "metadata": {},
     "output_type": "display_data"
    },
    {
     "data": {
      "application/vnd.jupyter.widget-view+json": {
       "model_id": "e00763d946064a81a47a521ae160bdb3",
       "version_major": 2,
       "version_minor": 0
      },
      "text/plain": [
       "  0%|          | 0/9 [00:00<?, ?it/s]"
      ]
     },
     "metadata": {},
     "output_type": "display_data"
    },
    {
     "data": {
      "application/vnd.jupyter.widget-view+json": {
       "model_id": "791cd59c5f004f88bb833ea5f85f908d",
       "version_major": 2,
       "version_minor": 0
      },
      "text/plain": [
       "  0%|          | 0/306 [00:00<?, ?it/s]"
      ]
     },
     "metadata": {},
     "output_type": "display_data"
    },
    {
     "data": {
      "application/vnd.jupyter.widget-view+json": {
       "model_id": "83626ade46614e348ccf3617ea31e79d",
       "version_major": 2,
       "version_minor": 0
      },
      "text/plain": [
       "  0%|          | 0/44 [00:00<?, ?it/s]"
      ]
     },
     "metadata": {},
     "output_type": "display_data"
    },
    {
     "data": {
      "application/vnd.jupyter.widget-view+json": {
       "model_id": "07f4e36618d644a39296df4246eb0fc8",
       "version_major": 2,
       "version_minor": 0
      },
      "text/plain": [
       "  0%|          | 0/7 [00:00<?, ?it/s]"
      ]
     },
     "metadata": {},
     "output_type": "display_data"
    },
    {
     "data": {
      "application/vnd.jupyter.widget-view+json": {
       "model_id": "3dc34ea0cf0145ca902adf1635cc04e4",
       "version_major": 2,
       "version_minor": 0
      },
      "text/plain": [
       "  0%|          | 0/431 [00:00<?, ?it/s]"
      ]
     },
     "metadata": {},
     "output_type": "display_data"
    },
    {
     "data": {
      "application/vnd.jupyter.widget-view+json": {
       "model_id": "2ffee296ba544c62814ad3a2af968088",
       "version_major": 2,
       "version_minor": 0
      },
      "text/plain": [
       "  0%|          | 0/60 [00:00<?, ?it/s]"
      ]
     },
     "metadata": {},
     "output_type": "display_data"
    },
    {
     "data": {
      "application/vnd.jupyter.widget-view+json": {
       "model_id": "8ae054c1f722428daa93e2b92de2f282",
       "version_major": 2,
       "version_minor": 0
      },
      "text/plain": [
       "  0%|          | 0/9 [00:00<?, ?it/s]"
      ]
     },
     "metadata": {},
     "output_type": "display_data"
    },
    {
     "data": {
      "application/vnd.jupyter.widget-view+json": {
       "model_id": "b0ed3612b57b4684b2c9d0295a4e77aa",
       "version_major": 2,
       "version_minor": 0
      },
      "text/plain": [
       "  0%|          | 0/357 [00:00<?, ?it/s]"
      ]
     },
     "metadata": {},
     "output_type": "display_data"
    },
    {
     "data": {
      "application/vnd.jupyter.widget-view+json": {
       "model_id": "5ef1715c6e054642b2fb74b4ff179af3",
       "version_major": 2,
       "version_minor": 0
      },
      "text/plain": [
       "  0%|          | 0/48 [00:00<?, ?it/s]"
      ]
     },
     "metadata": {},
     "output_type": "display_data"
    },
    {
     "data": {
      "application/vnd.jupyter.widget-view+json": {
       "model_id": "63c966dd21e24cccaec3c4d01a764af3",
       "version_major": 2,
       "version_minor": 0
      },
      "text/plain": [
       "  0%|          | 0/7 [00:00<?, ?it/s]"
      ]
     },
     "metadata": {},
     "output_type": "display_data"
    },
    {
     "data": {
      "application/vnd.jupyter.widget-view+json": {
       "model_id": "ae3a2960e5da41269b9ce90e337ac2f8",
       "version_major": 2,
       "version_minor": 0
      },
      "text/plain": [
       "  0%|          | 0/424 [00:00<?, ?it/s]"
      ]
     },
     "metadata": {},
     "output_type": "display_data"
    },
    {
     "data": {
      "application/vnd.jupyter.widget-view+json": {
       "model_id": "1ce04a860d5b49daa84bed7385affb3b",
       "version_major": 2,
       "version_minor": 0
      },
      "text/plain": [
       "  0%|          | 0/57 [00:00<?, ?it/s]"
      ]
     },
     "metadata": {},
     "output_type": "display_data"
    },
    {
     "data": {
      "application/vnd.jupyter.widget-view+json": {
       "model_id": "b1c70646520144998e7ad68580087492",
       "version_major": 2,
       "version_minor": 0
      },
      "text/plain": [
       "  0%|          | 0/8 [00:00<?, ?it/s]"
      ]
     },
     "metadata": {},
     "output_type": "display_data"
    },
    {
     "data": {
      "application/vnd.jupyter.widget-view+json": {
       "model_id": "92b1637305f843bb809eee80c7a07d36",
       "version_major": 2,
       "version_minor": 0
      },
      "text/plain": [
       "  0%|          | 0/188 [00:00<?, ?it/s]"
      ]
     },
     "metadata": {},
     "output_type": "display_data"
    },
    {
     "data": {
      "application/vnd.jupyter.widget-view+json": {
       "model_id": "028c2fd1a9d8465e86b64dbc5aa82fea",
       "version_major": 2,
       "version_minor": 0
      },
      "text/plain": [
       "  0%|          | 0/26 [00:00<?, ?it/s]"
      ]
     },
     "metadata": {},
     "output_type": "display_data"
    },
    {
     "data": {
      "application/vnd.jupyter.widget-view+json": {
       "model_id": "1c1d2a6ef63b451c98af0cf4630c20c8",
       "version_major": 2,
       "version_minor": 0
      },
      "text/plain": [
       "  0%|          | 0/194 [00:00<?, ?it/s]"
      ]
     },
     "metadata": {},
     "output_type": "display_data"
    },
    {
     "data": {
      "application/vnd.jupyter.widget-view+json": {
       "model_id": "0b5f3c3c56724b918ab18b6c9fdc23f7",
       "version_major": 2,
       "version_minor": 0
      },
      "text/plain": [
       "  0%|          | 0/30 [00:00<?, ?it/s]"
      ]
     },
     "metadata": {},
     "output_type": "display_data"
    },
    {
     "data": {
      "application/vnd.jupyter.widget-view+json": {
       "model_id": "3d3788e69dc94d6c931dcebdcc9cdfb8",
       "version_major": 2,
       "version_minor": 0
      },
      "text/plain": [
       "  0%|          | 0/209 [00:00<?, ?it/s]"
      ]
     },
     "metadata": {},
     "output_type": "display_data"
    },
    {
     "data": {
      "application/vnd.jupyter.widget-view+json": {
       "model_id": "818648dc14a2424498053e8978649c9d",
       "version_major": 2,
       "version_minor": 0
      },
      "text/plain": [
       "  0%|          | 0/30 [00:00<?, ?it/s]"
      ]
     },
     "metadata": {},
     "output_type": "display_data"
    },
    {
     "data": {
      "application/vnd.jupyter.widget-view+json": {
       "model_id": "95fc81eab29a49a5aa98073f2dedc23e",
       "version_major": 2,
       "version_minor": 0
      },
      "text/plain": [
       "  0%|          | 0/640 [00:00<?, ?it/s]"
      ]
     },
     "metadata": {},
     "output_type": "display_data"
    },
    {
     "data": {
      "application/vnd.jupyter.widget-view+json": {
       "model_id": "8a014a2e600e450fb0a5d0ed04b0968c",
       "version_major": 2,
       "version_minor": 0
      },
      "text/plain": [
       "  0%|          | 0/91 [00:00<?, ?it/s]"
      ]
     },
     "metadata": {},
     "output_type": "display_data"
    },
    {
     "data": {
      "application/vnd.jupyter.widget-view+json": {
       "model_id": "21138efee6024fe29988b994e344e521",
       "version_major": 2,
       "version_minor": 0
      },
      "text/plain": [
       "  0%|          | 0/15 [00:00<?, ?it/s]"
      ]
     },
     "metadata": {},
     "output_type": "display_data"
    },
    {
     "data": {
      "application/vnd.jupyter.widget-view+json": {
       "model_id": "2ce1177468a8433fbfd07bf6e87698d8",
       "version_major": 2,
       "version_minor": 0
      },
      "text/plain": [
       "  0%|          | 0/443 [00:00<?, ?it/s]"
      ]
     },
     "metadata": {},
     "output_type": "display_data"
    },
    {
     "data": {
      "application/vnd.jupyter.widget-view+json": {
       "model_id": "7308293f196441b09e5196f455db4b71",
       "version_major": 2,
       "version_minor": 0
      },
      "text/plain": [
       "  0%|          | 0/58 [00:00<?, ?it/s]"
      ]
     },
     "metadata": {},
     "output_type": "display_data"
    },
    {
     "data": {
      "application/vnd.jupyter.widget-view+json": {
       "model_id": "5989e19330cf4d078728d7882caa5279",
       "version_major": 2,
       "version_minor": 0
      },
      "text/plain": [
       "  0%|          | 0/9 [00:00<?, ?it/s]"
      ]
     },
     "metadata": {},
     "output_type": "display_data"
    },
    {
     "data": {
      "application/vnd.jupyter.widget-view+json": {
       "model_id": "4a81fec021e441ce819d8f6bf87fec48",
       "version_major": 2,
       "version_minor": 0
      },
      "text/plain": [
       "  0%|          | 0/239 [00:00<?, ?it/s]"
      ]
     },
     "metadata": {},
     "output_type": "display_data"
    },
    {
     "data": {
      "application/vnd.jupyter.widget-view+json": {
       "model_id": "c85d5013f3bb4c52a232488d6bf7901f",
       "version_major": 2,
       "version_minor": 0
      },
      "text/plain": [
       "  0%|          | 0/35 [00:00<?, ?it/s]"
      ]
     },
     "metadata": {},
     "output_type": "display_data"
    },
    {
     "data": {
      "application/vnd.jupyter.widget-view+json": {
       "model_id": "6d404c309dbe4330a01996e1597a3303",
       "version_major": 2,
       "version_minor": 0
      },
      "text/plain": [
       "  0%|          | 0/102 [00:00<?, ?it/s]"
      ]
     },
     "metadata": {},
     "output_type": "display_data"
    },
    {
     "data": {
      "application/vnd.jupyter.widget-view+json": {
       "model_id": "17cfbd09c9174a0f933c5a5855c81d1c",
       "version_major": 2,
       "version_minor": 0
      },
      "text/plain": [
       "  0%|          | 0/14 [00:00<?, ?it/s]"
      ]
     },
     "metadata": {},
     "output_type": "display_data"
    },
    {
     "data": {
      "application/vnd.jupyter.widget-view+json": {
       "model_id": "eb5cfff74081476285c980316c6251da",
       "version_major": 2,
       "version_minor": 0
      },
      "text/plain": [
       "  0%|          | 0/182 [00:00<?, ?it/s]"
      ]
     },
     "metadata": {},
     "output_type": "display_data"
    },
    {
     "data": {
      "application/vnd.jupyter.widget-view+json": {
       "model_id": "d53f76f297d44ce893a895de51080f21",
       "version_major": 2,
       "version_minor": 0
      },
      "text/plain": [
       "  0%|          | 0/26 [00:00<?, ?it/s]"
      ]
     },
     "metadata": {},
     "output_type": "display_data"
    },
    {
     "data": {
      "application/vnd.jupyter.widget-view+json": {
       "model_id": "2dff8e5a01f64c939d47192e815864ba",
       "version_major": 2,
       "version_minor": 0
      },
      "text/plain": [
       "  0%|          | 0/136 [00:00<?, ?it/s]"
      ]
     },
     "metadata": {},
     "output_type": "display_data"
    },
    {
     "data": {
      "application/vnd.jupyter.widget-view+json": {
       "model_id": "1bca1c17967545d7afbb70a20bf6b644",
       "version_major": 2,
       "version_minor": 0
      },
      "text/plain": [
       "  0%|          | 0/19 [00:00<?, ?it/s]"
      ]
     },
     "metadata": {},
     "output_type": "display_data"
    },
    {
     "data": {
      "application/vnd.jupyter.widget-view+json": {
       "model_id": "122f3b07b57c40b7931a23431ba31b1f",
       "version_major": 2,
       "version_minor": 0
      },
      "text/plain": [
       "  0%|          | 0/209 [00:00<?, ?it/s]"
      ]
     },
     "metadata": {},
     "output_type": "display_data"
    },
    {
     "data": {
      "application/vnd.jupyter.widget-view+json": {
       "model_id": "85855a7451214e438c243e8aece598be",
       "version_major": 2,
       "version_minor": 0
      },
      "text/plain": [
       "  0%|          | 0/31 [00:00<?, ?it/s]"
      ]
     },
     "metadata": {},
     "output_type": "display_data"
    },
    {
     "data": {
      "application/vnd.jupyter.widget-view+json": {
       "model_id": "b006061af37f4dbc84b67558838302a7",
       "version_major": 2,
       "version_minor": 0
      },
      "text/plain": [
       "  0%|          | 0/256 [00:00<?, ?it/s]"
      ]
     },
     "metadata": {},
     "output_type": "display_data"
    },
    {
     "data": {
      "application/vnd.jupyter.widget-view+json": {
       "model_id": "d0271ca1316e43fd8963b3c568951dc0",
       "version_major": 2,
       "version_minor": 0
      },
      "text/plain": [
       "  0%|          | 0/36 [00:00<?, ?it/s]"
      ]
     },
     "metadata": {},
     "output_type": "display_data"
    },
    {
     "data": {
      "application/vnd.jupyter.widget-view+json": {
       "model_id": "87ad320084d5498aa889df14b143d852",
       "version_major": 2,
       "version_minor": 0
      },
      "text/plain": [
       "  0%|          | 0/6 [00:00<?, ?it/s]"
      ]
     },
     "metadata": {},
     "output_type": "display_data"
    },
    {
     "data": {
      "application/vnd.jupyter.widget-view+json": {
       "model_id": "49904b746f434c088db012be856491ef",
       "version_major": 2,
       "version_minor": 0
      },
      "text/plain": [
       "  0%|          | 0/212 [00:00<?, ?it/s]"
      ]
     },
     "metadata": {},
     "output_type": "display_data"
    },
    {
     "data": {
      "application/vnd.jupyter.widget-view+json": {
       "model_id": "4c8aadb3af3e436fbe9dade7cc386b95",
       "version_major": 2,
       "version_minor": 0
      },
      "text/plain": [
       "  0%|          | 0/29 [00:00<?, ?it/s]"
      ]
     },
     "metadata": {},
     "output_type": "display_data"
    },
    {
     "data": {
      "application/vnd.jupyter.widget-view+json": {
       "model_id": "164977f05f66401b9fc2d3aef21858e3",
       "version_major": 2,
       "version_minor": 0
      },
      "text/plain": [
       "  0%|          | 0/245 [00:00<?, ?it/s]"
      ]
     },
     "metadata": {},
     "output_type": "display_data"
    },
    {
     "data": {
      "application/vnd.jupyter.widget-view+json": {
       "model_id": "dedee1f9d2854154bef4673f7525927c",
       "version_major": 2,
       "version_minor": 0
      },
      "text/plain": [
       "  0%|          | 0/33 [00:00<?, ?it/s]"
      ]
     },
     "metadata": {},
     "output_type": "display_data"
    },
    {
     "data": {
      "application/vnd.jupyter.widget-view+json": {
       "model_id": "acd32e38882e4b4da3b80586b4f6ef18",
       "version_major": 2,
       "version_minor": 0
      },
      "text/plain": [
       "  0%|          | 0/132 [00:00<?, ?it/s]"
      ]
     },
     "metadata": {},
     "output_type": "display_data"
    },
    {
     "data": {
      "application/vnd.jupyter.widget-view+json": {
       "model_id": "8cedc1bb217e474ba6209d695c1a0aab",
       "version_major": 2,
       "version_minor": 0
      },
      "text/plain": [
       "  0%|          | 0/18 [00:00<?, ?it/s]"
      ]
     },
     "metadata": {},
     "output_type": "display_data"
    },
    {
     "data": {
      "application/vnd.jupyter.widget-view+json": {
       "model_id": "a2649c498488474ebe3661972c53a1e2",
       "version_major": 2,
       "version_minor": 0
      },
      "text/plain": [
       "  0%|          | 0/234 [00:00<?, ?it/s]"
      ]
     },
     "metadata": {},
     "output_type": "display_data"
    },
    {
     "data": {
      "application/vnd.jupyter.widget-view+json": {
       "model_id": "86cf419d327742d9b416867f8b24a910",
       "version_major": 2,
       "version_minor": 0
      },
      "text/plain": [
       "  0%|          | 0/32 [00:00<?, ?it/s]"
      ]
     },
     "metadata": {},
     "output_type": "display_data"
    },
    {
     "data": {
      "application/vnd.jupyter.widget-view+json": {
       "model_id": "03820df238224d4392152a805fe974c2",
       "version_major": 2,
       "version_minor": 0
      },
      "text/plain": [
       "  0%|          | 0/214 [00:00<?, ?it/s]"
      ]
     },
     "metadata": {},
     "output_type": "display_data"
    },
    {
     "data": {
      "application/vnd.jupyter.widget-view+json": {
       "model_id": "2a282701c5e14e1f9febf367f2f47084",
       "version_major": 2,
       "version_minor": 0
      },
      "text/plain": [
       "  0%|          | 0/29 [00:00<?, ?it/s]"
      ]
     },
     "metadata": {},
     "output_type": "display_data"
    },
    {
     "data": {
      "application/vnd.jupyter.widget-view+json": {
       "model_id": "4a1e41d8170944cc839e73bb3132c53f",
       "version_major": 2,
       "version_minor": 0
      },
      "text/plain": [
       "  0%|          | 0/215 [00:00<?, ?it/s]"
      ]
     },
     "metadata": {},
     "output_type": "display_data"
    },
    {
     "data": {
      "application/vnd.jupyter.widget-view+json": {
       "model_id": "7286fb389ec0492781d213a375a637a1",
       "version_major": 2,
       "version_minor": 0
      },
      "text/plain": [
       "  0%|          | 0/31 [00:00<?, ?it/s]"
      ]
     },
     "metadata": {},
     "output_type": "display_data"
    },
    {
     "data": {
      "application/vnd.jupyter.widget-view+json": {
       "model_id": "e5ecb1fb74f9484f8cc525687925c203",
       "version_major": 2,
       "version_minor": 0
      },
      "text/plain": [
       "  0%|          | 0/606 [00:00<?, ?it/s]"
      ]
     },
     "metadata": {},
     "output_type": "display_data"
    },
    {
     "data": {
      "application/vnd.jupyter.widget-view+json": {
       "model_id": "0215dfda5fb944d589b07be86e7cf345",
       "version_major": 2,
       "version_minor": 0
      },
      "text/plain": [
       "  0%|          | 0/87 [00:00<?, ?it/s]"
      ]
     },
     "metadata": {},
     "output_type": "display_data"
    },
    {
     "data": {
      "application/vnd.jupyter.widget-view+json": {
       "model_id": "67ec6dafacb74502a10bcbe00068be6e",
       "version_major": 2,
       "version_minor": 0
      },
      "text/plain": [
       "  0%|          | 0/14 [00:00<?, ?it/s]"
      ]
     },
     "metadata": {},
     "output_type": "display_data"
    },
    {
     "data": {
      "application/vnd.jupyter.widget-view+json": {
       "model_id": "fedf2c811ae94e5982fc8fb8067479c5",
       "version_major": 2,
       "version_minor": 0
      },
      "text/plain": [
       "  0%|          | 0/268 [00:00<?, ?it/s]"
      ]
     },
     "metadata": {},
     "output_type": "display_data"
    },
    {
     "data": {
      "application/vnd.jupyter.widget-view+json": {
       "model_id": "111b07f6bbda437d85072442bab4e945",
       "version_major": 2,
       "version_minor": 0
      },
      "text/plain": [
       "  0%|          | 0/39 [00:00<?, ?it/s]"
      ]
     },
     "metadata": {},
     "output_type": "display_data"
    },
    {
     "data": {
      "application/vnd.jupyter.widget-view+json": {
       "model_id": "6213852247d94ac6b3a2de7ae809b877",
       "version_major": 2,
       "version_minor": 0
      },
      "text/plain": [
       "  0%|          | 0/6 [00:00<?, ?it/s]"
      ]
     },
     "metadata": {},
     "output_type": "display_data"
    },
    {
     "data": {
      "application/vnd.jupyter.widget-view+json": {
       "model_id": "c8826965bcc04816837da22f2508ce14",
       "version_major": 2,
       "version_minor": 0
      },
      "text/plain": [
       "  0%|          | 0/312 [00:00<?, ?it/s]"
      ]
     },
     "metadata": {},
     "output_type": "display_data"
    },
    {
     "data": {
      "application/vnd.jupyter.widget-view+json": {
       "model_id": "899e3d17967b4d6ba714d7b968bbb711",
       "version_major": 2,
       "version_minor": 0
      },
      "text/plain": [
       "  0%|          | 0/47 [00:00<?, ?it/s]"
      ]
     },
     "metadata": {},
     "output_type": "display_data"
    },
    {
     "data": {
      "application/vnd.jupyter.widget-view+json": {
       "model_id": "f748fb88fc76407d8cfeb5d6419632f8",
       "version_major": 2,
       "version_minor": 0
      },
      "text/plain": [
       "  0%|          | 0/8 [00:00<?, ?it/s]"
      ]
     },
     "metadata": {},
     "output_type": "display_data"
    },
    {
     "data": {
      "application/vnd.jupyter.widget-view+json": {
       "model_id": "e170a78f03b140d9a29f1d7a47cf94db",
       "version_major": 2,
       "version_minor": 0
      },
      "text/plain": [
       "  0%|          | 0/175 [00:00<?, ?it/s]"
      ]
     },
     "metadata": {},
     "output_type": "display_data"
    },
    {
     "data": {
      "application/vnd.jupyter.widget-view+json": {
       "model_id": "271ddecc278e4146bf3e81d4cdaaee39",
       "version_major": 2,
       "version_minor": 0
      },
      "text/plain": [
       "  0%|          | 0/24 [00:00<?, ?it/s]"
      ]
     },
     "metadata": {},
     "output_type": "display_data"
    },
    {
     "data": {
      "application/vnd.jupyter.widget-view+json": {
       "model_id": "44089dcb485b47cfaac562571e18076f",
       "version_major": 2,
       "version_minor": 0
      },
      "text/plain": [
       "  0%|          | 0/848 [00:00<?, ?it/s]"
      ]
     },
     "metadata": {},
     "output_type": "display_data"
    },
    {
     "data": {
      "application/vnd.jupyter.widget-view+json": {
       "model_id": "fd57a44d86854ea58be3d0f7b391642b",
       "version_major": 2,
       "version_minor": 0
      },
      "text/plain": [
       "  0%|          | 0/127 [00:00<?, ?it/s]"
      ]
     },
     "metadata": {},
     "output_type": "display_data"
    },
    {
     "data": {
      "application/vnd.jupyter.widget-view+json": {
       "model_id": "f99c6e6a09444450a3ff2531eae52bbe",
       "version_major": 2,
       "version_minor": 0
      },
      "text/plain": [
       "  0%|          | 0/22 [00:00<?, ?it/s]"
      ]
     },
     "metadata": {},
     "output_type": "display_data"
    },
    {
     "data": {
      "application/vnd.jupyter.widget-view+json": {
       "model_id": "9f0f93369bbe4b269db7aa1a4ddbbf2f",
       "version_major": 2,
       "version_minor": 0
      },
      "text/plain": [
       "  0%|          | 0/202 [00:00<?, ?it/s]"
      ]
     },
     "metadata": {},
     "output_type": "display_data"
    },
    {
     "data": {
      "application/vnd.jupyter.widget-view+json": {
       "model_id": "254cc0aea91a4dddab1f10a02bad0106",
       "version_major": 2,
       "version_minor": 0
      },
      "text/plain": [
       "  0%|          | 0/28 [00:00<?, ?it/s]"
      ]
     },
     "metadata": {},
     "output_type": "display_data"
    },
    {
     "data": {
      "application/vnd.jupyter.widget-view+json": {
       "model_id": "da6a6aef9f9d43c0bee35a330f5f7e7b",
       "version_major": 2,
       "version_minor": 0
      },
      "text/plain": [
       "  0%|          | 0/245 [00:00<?, ?it/s]"
      ]
     },
     "metadata": {},
     "output_type": "display_data"
    },
    {
     "data": {
      "application/vnd.jupyter.widget-view+json": {
       "model_id": "685dec2e7d544338953718ce742eb2a1",
       "version_major": 2,
       "version_minor": 0
      },
      "text/plain": [
       "  0%|          | 0/33 [00:00<?, ?it/s]"
      ]
     },
     "metadata": {},
     "output_type": "display_data"
    },
    {
     "data": {
      "application/vnd.jupyter.widget-view+json": {
       "model_id": "13e6c8f9b6fc4102ab828d7e26c1aafc",
       "version_major": 2,
       "version_minor": 0
      },
      "text/plain": [
       "  0%|          | 0/6 [00:00<?, ?it/s]"
      ]
     },
     "metadata": {},
     "output_type": "display_data"
    },
    {
     "data": {
      "application/vnd.jupyter.widget-view+json": {
       "model_id": "52a61cc4b5544aefb00864e2f63aa454",
       "version_major": 2,
       "version_minor": 0
      },
      "text/plain": [
       "  0%|          | 0/180 [00:00<?, ?it/s]"
      ]
     },
     "metadata": {},
     "output_type": "display_data"
    },
    {
     "data": {
      "application/vnd.jupyter.widget-view+json": {
       "model_id": "4f92d48984404889a06a4a171dbb2f50",
       "version_major": 2,
       "version_minor": 0
      },
      "text/plain": [
       "  0%|          | 0/26 [00:00<?, ?it/s]"
      ]
     },
     "metadata": {},
     "output_type": "display_data"
    },
    {
     "data": {
      "application/vnd.jupyter.widget-view+json": {
       "model_id": "173d427e280a4b51b38f18a0c81c013c",
       "version_major": 2,
       "version_minor": 0
      },
      "text/plain": [
       "  0%|          | 0/240 [00:00<?, ?it/s]"
      ]
     },
     "metadata": {},
     "output_type": "display_data"
    },
    {
     "data": {
      "application/vnd.jupyter.widget-view+json": {
       "model_id": "f21c8863cf23432c85c636226bb923f2",
       "version_major": 2,
       "version_minor": 0
      },
      "text/plain": [
       "  0%|          | 0/35 [00:00<?, ?it/s]"
      ]
     },
     "metadata": {},
     "output_type": "display_data"
    },
    {
     "data": {
      "application/vnd.jupyter.widget-view+json": {
       "model_id": "669bd90f037241d39e2384486476c0f5",
       "version_major": 2,
       "version_minor": 0
      },
      "text/plain": [
       "  0%|          | 0/180 [00:00<?, ?it/s]"
      ]
     },
     "metadata": {},
     "output_type": "display_data"
    },
    {
     "data": {
      "application/vnd.jupyter.widget-view+json": {
       "model_id": "64582be05c23454296b1e18848582250",
       "version_major": 2,
       "version_minor": 0
      },
      "text/plain": [
       "  0%|          | 0/27 [00:00<?, ?it/s]"
      ]
     },
     "metadata": {},
     "output_type": "display_data"
    },
    {
     "data": {
      "application/vnd.jupyter.widget-view+json": {
       "model_id": "9b7e32737ac54cce97d27e78a7459237",
       "version_major": 2,
       "version_minor": 0
      },
      "text/plain": [
       "  0%|          | 0/322 [00:00<?, ?it/s]"
      ]
     },
     "metadata": {},
     "output_type": "display_data"
    },
    {
     "data": {
      "application/vnd.jupyter.widget-view+json": {
       "model_id": "b17a6517f90d4629b5abf97a12c1b1c3",
       "version_major": 2,
       "version_minor": 0
      },
      "text/plain": [
       "  0%|          | 0/45 [00:00<?, ?it/s]"
      ]
     },
     "metadata": {},
     "output_type": "display_data"
    },
    {
     "data": {
      "application/vnd.jupyter.widget-view+json": {
       "model_id": "8ab0a4af1a1e4126ae6a5efae42b0a5c",
       "version_major": 2,
       "version_minor": 0
      },
      "text/plain": [
       "  0%|          | 0/7 [00:00<?, ?it/s]"
      ]
     },
     "metadata": {},
     "output_type": "display_data"
    },
    {
     "data": {
      "application/vnd.jupyter.widget-view+json": {
       "model_id": "7b581627bc0a4c62bbdd74eb2ac7a3a6",
       "version_major": 2,
       "version_minor": 0
      },
      "text/plain": [
       "  0%|          | 0/297 [00:00<?, ?it/s]"
      ]
     },
     "metadata": {},
     "output_type": "display_data"
    },
    {
     "data": {
      "application/vnd.jupyter.widget-view+json": {
       "model_id": "a9aa4e577f2a4a7296075299c0aa4811",
       "version_major": 2,
       "version_minor": 0
      },
      "text/plain": [
       "  0%|          | 0/39 [00:00<?, ?it/s]"
      ]
     },
     "metadata": {},
     "output_type": "display_data"
    },
    {
     "data": {
      "application/vnd.jupyter.widget-view+json": {
       "model_id": "7e464973aff3469e9b0415d6c7359a22",
       "version_major": 2,
       "version_minor": 0
      },
      "text/plain": [
       "  0%|          | 0/5 [00:00<?, ?it/s]"
      ]
     },
     "metadata": {},
     "output_type": "display_data"
    },
    {
     "data": {
      "application/vnd.jupyter.widget-view+json": {
       "model_id": "cab6b0723e3d4cf1833937bfedfbe5e4",
       "version_major": 2,
       "version_minor": 0
      },
      "text/plain": [
       "  0%|          | 0/324 [00:00<?, ?it/s]"
      ]
     },
     "metadata": {},
     "output_type": "display_data"
    },
    {
     "data": {
      "application/vnd.jupyter.widget-view+json": {
       "model_id": "d006d59f062440788d1c8f67edd6e39c",
       "version_major": 2,
       "version_minor": 0
      },
      "text/plain": [
       "  0%|          | 0/44 [00:00<?, ?it/s]"
      ]
     },
     "metadata": {},
     "output_type": "display_data"
    },
    {
     "data": {
      "application/vnd.jupyter.widget-view+json": {
       "model_id": "7ccec7571f094535a7f681b34d5e5859",
       "version_major": 2,
       "version_minor": 0
      },
      "text/plain": [
       "  0%|          | 0/7 [00:00<?, ?it/s]"
      ]
     },
     "metadata": {},
     "output_type": "display_data"
    },
    {
     "data": {
      "application/vnd.jupyter.widget-view+json": {
       "model_id": "f88a19e4614a4168bd52971967c91622",
       "version_major": 2,
       "version_minor": 0
      },
      "text/plain": [
       "  0%|          | 0/597 [00:00<?, ?it/s]"
      ]
     },
     "metadata": {},
     "output_type": "display_data"
    },
    {
     "data": {
      "application/vnd.jupyter.widget-view+json": {
       "model_id": "94fbb22ecfdc45e19fbad5aadc2e359e",
       "version_major": 2,
       "version_minor": 0
      },
      "text/plain": [
       "  0%|          | 0/76 [00:00<?, ?it/s]"
      ]
     },
     "metadata": {},
     "output_type": "display_data"
    },
    {
     "data": {
      "application/vnd.jupyter.widget-view+json": {
       "model_id": "7b73843e48b64d4289346b0f514f5f7a",
       "version_major": 2,
       "version_minor": 0
      },
      "text/plain": [
       "  0%|          | 0/11 [00:00<?, ?it/s]"
      ]
     },
     "metadata": {},
     "output_type": "display_data"
    },
    {
     "data": {
      "application/vnd.jupyter.widget-view+json": {
       "model_id": "ce4f101881e147d4a841ac374e22c9ed",
       "version_major": 2,
       "version_minor": 0
      },
      "text/plain": [
       "  0%|          | 0/261 [00:00<?, ?it/s]"
      ]
     },
     "metadata": {},
     "output_type": "display_data"
    },
    {
     "data": {
      "application/vnd.jupyter.widget-view+json": {
       "model_id": "c4e7c11fd6b44f3c97d7c0d38c87971e",
       "version_major": 2,
       "version_minor": 0
      },
      "text/plain": [
       "  0%|          | 0/39 [00:00<?, ?it/s]"
      ]
     },
     "metadata": {},
     "output_type": "display_data"
    },
    {
     "data": {
      "application/vnd.jupyter.widget-view+json": {
       "model_id": "c3f8a49e91204f88af8653a995f95b84",
       "version_major": 2,
       "version_minor": 0
      },
      "text/plain": [
       "  0%|          | 0/7 [00:00<?, ?it/s]"
      ]
     },
     "metadata": {},
     "output_type": "display_data"
    },
    {
     "data": {
      "application/vnd.jupyter.widget-view+json": {
       "model_id": "de565bc4e8784c33ab4bb87da5b05c34",
       "version_major": 2,
       "version_minor": 0
      },
      "text/plain": [
       "  0%|          | 0/174 [00:00<?, ?it/s]"
      ]
     },
     "metadata": {},
     "output_type": "display_data"
    },
    {
     "data": {
      "application/vnd.jupyter.widget-view+json": {
       "model_id": "7fd9916bb1fb488fad14b3e39c7dbe2d",
       "version_major": 2,
       "version_minor": 0
      },
      "text/plain": [
       "  0%|          | 0/27 [00:00<?, ?it/s]"
      ]
     },
     "metadata": {},
     "output_type": "display_data"
    },
    {
     "data": {
      "application/vnd.jupyter.widget-view+json": {
       "model_id": "61629083dcf44265b69adb85ef2c4bc8",
       "version_major": 2,
       "version_minor": 0
      },
      "text/plain": [
       "  0%|          | 0/187 [00:00<?, ?it/s]"
      ]
     },
     "metadata": {},
     "output_type": "display_data"
    },
    {
     "data": {
      "application/vnd.jupyter.widget-view+json": {
       "model_id": "fca1f0e77b7445fcbe4f9edf1de67f87",
       "version_major": 2,
       "version_minor": 0
      },
      "text/plain": [
       "  0%|          | 0/26 [00:00<?, ?it/s]"
      ]
     },
     "metadata": {},
     "output_type": "display_data"
    },
    {
     "data": {
      "application/vnd.jupyter.widget-view+json": {
       "model_id": "bc412bf483f44282bc7d0d4b08ca011d",
       "version_major": 2,
       "version_minor": 0
      },
      "text/plain": [
       "  0%|          | 0/342 [00:00<?, ?it/s]"
      ]
     },
     "metadata": {},
     "output_type": "display_data"
    },
    {
     "data": {
      "application/vnd.jupyter.widget-view+json": {
       "model_id": "1e42f9c0039d48aabae5eca7f89e33b2",
       "version_major": 2,
       "version_minor": 0
      },
      "text/plain": [
       "  0%|          | 0/46 [00:00<?, ?it/s]"
      ]
     },
     "metadata": {},
     "output_type": "display_data"
    },
    {
     "data": {
      "application/vnd.jupyter.widget-view+json": {
       "model_id": "dbc281fedcb14522a744e744e435dc9c",
       "version_major": 2,
       "version_minor": 0
      },
      "text/plain": [
       "  0%|          | 0/6 [00:00<?, ?it/s]"
      ]
     },
     "metadata": {},
     "output_type": "display_data"
    },
    {
     "data": {
      "application/vnd.jupyter.widget-view+json": {
       "model_id": "6e16892687924e4495c0947633d4898f",
       "version_major": 2,
       "version_minor": 0
      },
      "text/plain": [
       "  0%|          | 0/461 [00:00<?, ?it/s]"
      ]
     },
     "metadata": {},
     "output_type": "display_data"
    },
    {
     "data": {
      "application/vnd.jupyter.widget-view+json": {
       "model_id": "8fe156bf85054e67bac00df95d7ae7ae",
       "version_major": 2,
       "version_minor": 0
      },
      "text/plain": [
       "  0%|          | 0/68 [00:00<?, ?it/s]"
      ]
     },
     "metadata": {},
     "output_type": "display_data"
    },
    {
     "data": {
      "application/vnd.jupyter.widget-view+json": {
       "model_id": "5ced81ec394e4658941ce7db568b6e91",
       "version_major": 2,
       "version_minor": 0
      },
      "text/plain": [
       "  0%|          | 0/11 [00:00<?, ?it/s]"
      ]
     },
     "metadata": {},
     "output_type": "display_data"
    },
    {
     "data": {
      "application/vnd.jupyter.widget-view+json": {
       "model_id": "1e218001f88944d2b7e0677cfee9a791",
       "version_major": 2,
       "version_minor": 0
      },
      "text/plain": [
       "  0%|          | 0/168 [00:00<?, ?it/s]"
      ]
     },
     "metadata": {},
     "output_type": "display_data"
    },
    {
     "data": {
      "application/vnd.jupyter.widget-view+json": {
       "model_id": "237c97aa576e4180a15bdff814bb30f1",
       "version_major": 2,
       "version_minor": 0
      },
      "text/plain": [
       "  0%|          | 0/23 [00:00<?, ?it/s]"
      ]
     },
     "metadata": {},
     "output_type": "display_data"
    },
    {
     "data": {
      "application/vnd.jupyter.widget-view+json": {
       "model_id": "38cbdbe5fb5f443cbe630204a2406f0e",
       "version_major": 2,
       "version_minor": 0
      },
      "text/plain": [
       "  0%|          | 0/366 [00:00<?, ?it/s]"
      ]
     },
     "metadata": {},
     "output_type": "display_data"
    },
    {
     "data": {
      "application/vnd.jupyter.widget-view+json": {
       "model_id": "369d0ef43e134beeb49ea995c683f4fe",
       "version_major": 2,
       "version_minor": 0
      },
      "text/plain": [
       "  0%|          | 0/51 [00:00<?, ?it/s]"
      ]
     },
     "metadata": {},
     "output_type": "display_data"
    },
    {
     "data": {
      "application/vnd.jupyter.widget-view+json": {
       "model_id": "b7e217c1c5d0493f960cbf81caa7aaa7",
       "version_major": 2,
       "version_minor": 0
      },
      "text/plain": [
       "  0%|          | 0/8 [00:00<?, ?it/s]"
      ]
     },
     "metadata": {},
     "output_type": "display_data"
    },
    {
     "data": {
      "application/vnd.jupyter.widget-view+json": {
       "model_id": "9a23419ac6ee4956b9640878e4ac0f75",
       "version_major": 2,
       "version_minor": 0
      },
      "text/plain": [
       "  0%|          | 0/276 [00:00<?, ?it/s]"
      ]
     },
     "metadata": {},
     "output_type": "display_data"
    },
    {
     "data": {
      "application/vnd.jupyter.widget-view+json": {
       "model_id": "c2a28fa6b4f948499eb645282219e3e7",
       "version_major": 2,
       "version_minor": 0
      },
      "text/plain": [
       "  0%|          | 0/42 [00:00<?, ?it/s]"
      ]
     },
     "metadata": {},
     "output_type": "display_data"
    },
    {
     "data": {
      "application/vnd.jupyter.widget-view+json": {
       "model_id": "cff0f801d23a4b7cbcba25a069b7f959",
       "version_major": 2,
       "version_minor": 0
      },
      "text/plain": [
       "  0%|          | 0/7 [00:00<?, ?it/s]"
      ]
     },
     "metadata": {},
     "output_type": "display_data"
    },
    {
     "data": {
      "application/vnd.jupyter.widget-view+json": {
       "model_id": "a694fdad4e9d4f0b9a5f16a2f02da87a",
       "version_major": 2,
       "version_minor": 0
      },
      "text/plain": [
       "  0%|          | 0/266 [00:00<?, ?it/s]"
      ]
     },
     "metadata": {},
     "output_type": "display_data"
    },
    {
     "data": {
      "application/vnd.jupyter.widget-view+json": {
       "model_id": "602e63768def4fe6aff140bd55cbe4dd",
       "version_major": 2,
       "version_minor": 0
      },
      "text/plain": [
       "  0%|          | 0/39 [00:00<?, ?it/s]"
      ]
     },
     "metadata": {},
     "output_type": "display_data"
    },
    {
     "data": {
      "application/vnd.jupyter.widget-view+json": {
       "model_id": "a7045e72a1e34412940c7998b98138df",
       "version_major": 2,
       "version_minor": 0
      },
      "text/plain": [
       "  0%|          | 0/6 [00:00<?, ?it/s]"
      ]
     },
     "metadata": {},
     "output_type": "display_data"
    },
    {
     "data": {
      "application/vnd.jupyter.widget-view+json": {
       "model_id": "e48ceb9a27984219b011df4696c200f5",
       "version_major": 2,
       "version_minor": 0
      },
      "text/plain": [
       "  0%|          | 0/264 [00:00<?, ?it/s]"
      ]
     },
     "metadata": {},
     "output_type": "display_data"
    },
    {
     "data": {
      "application/vnd.jupyter.widget-view+json": {
       "model_id": "1e6ae414e14b4f889ea6e12472093749",
       "version_major": 2,
       "version_minor": 0
      },
      "text/plain": [
       "  0%|          | 0/35 [00:00<?, ?it/s]"
      ]
     },
     "metadata": {},
     "output_type": "display_data"
    },
    {
     "data": {
      "application/vnd.jupyter.widget-view+json": {
       "model_id": "c23953b38d4647f59ce967258ab343df",
       "version_major": 2,
       "version_minor": 0
      },
      "text/plain": [
       "  0%|          | 0/6 [00:00<?, ?it/s]"
      ]
     },
     "metadata": {},
     "output_type": "display_data"
    },
    {
     "data": {
      "application/vnd.jupyter.widget-view+json": {
       "model_id": "e66e71febe2842a79d599ed10397f09c",
       "version_major": 2,
       "version_minor": 0
      },
      "text/plain": [
       "  0%|          | 0/215 [00:00<?, ?it/s]"
      ]
     },
     "metadata": {},
     "output_type": "display_data"
    },
    {
     "data": {
      "application/vnd.jupyter.widget-view+json": {
       "model_id": "f8939549e2574dfaaea72d31cea8dc25",
       "version_major": 2,
       "version_minor": 0
      },
      "text/plain": [
       "  0%|          | 0/30 [00:00<?, ?it/s]"
      ]
     },
     "metadata": {},
     "output_type": "display_data"
    },
    {
     "data": {
      "application/vnd.jupyter.widget-view+json": {
       "model_id": "382df25195a54973b0cf7b0a569d0b67",
       "version_major": 2,
       "version_minor": 0
      },
      "text/plain": [
       "  0%|          | 0/449 [00:00<?, ?it/s]"
      ]
     },
     "metadata": {},
     "output_type": "display_data"
    },
    {
     "data": {
      "application/vnd.jupyter.widget-view+json": {
       "model_id": "fcf2cd31f97e498d99e5f0326b802c9e",
       "version_major": 2,
       "version_minor": 0
      },
      "text/plain": [
       "  0%|          | 0/67 [00:00<?, ?it/s]"
      ]
     },
     "metadata": {},
     "output_type": "display_data"
    },
    {
     "data": {
      "application/vnd.jupyter.widget-view+json": {
       "model_id": "447efe7316604fc58f8f3d29342d5af2",
       "version_major": 2,
       "version_minor": 0
      },
      "text/plain": [
       "  0%|          | 0/11 [00:00<?, ?it/s]"
      ]
     },
     "metadata": {},
     "output_type": "display_data"
    },
    {
     "data": {
      "application/vnd.jupyter.widget-view+json": {
       "model_id": "7526354460f54bb7b70700af87873970",
       "version_major": 2,
       "version_minor": 0
      },
      "text/plain": [
       "  0%|          | 0/192 [00:00<?, ?it/s]"
      ]
     },
     "metadata": {},
     "output_type": "display_data"
    },
    {
     "data": {
      "application/vnd.jupyter.widget-view+json": {
       "model_id": "c34a1d553d4045758c35ea90a4185294",
       "version_major": 2,
       "version_minor": 0
      },
      "text/plain": [
       "  0%|          | 0/27 [00:00<?, ?it/s]"
      ]
     },
     "metadata": {},
     "output_type": "display_data"
    },
    {
     "data": {
      "application/vnd.jupyter.widget-view+json": {
       "model_id": "8e16bc2978a04968b6e78d6859eab6b2",
       "version_major": 2,
       "version_minor": 0
      },
      "text/plain": [
       "  0%|          | 0/240 [00:00<?, ?it/s]"
      ]
     },
     "metadata": {},
     "output_type": "display_data"
    },
    {
     "data": {
      "application/vnd.jupyter.widget-view+json": {
       "model_id": "ec7341ec552b47a6bbc77d6c3a0bab9f",
       "version_major": 2,
       "version_minor": 0
      },
      "text/plain": [
       "  0%|          | 0/36 [00:00<?, ?it/s]"
      ]
     },
     "metadata": {},
     "output_type": "display_data"
    },
    {
     "data": {
      "application/vnd.jupyter.widget-view+json": {
       "model_id": "3ccec7bf85e74d3fbabb8042bd27112f",
       "version_major": 2,
       "version_minor": 0
      },
      "text/plain": [
       "  0%|          | 0/7 [00:00<?, ?it/s]"
      ]
     },
     "metadata": {},
     "output_type": "display_data"
    },
    {
     "data": {
      "application/vnd.jupyter.widget-view+json": {
       "model_id": "cb916ab24ad946cf997d364bfef10866",
       "version_major": 2,
       "version_minor": 0
      },
      "text/plain": [
       "  0%|          | 0/315 [00:00<?, ?it/s]"
      ]
     },
     "metadata": {},
     "output_type": "display_data"
    },
    {
     "data": {
      "application/vnd.jupyter.widget-view+json": {
       "model_id": "472b6e24820c4d7abe078d46141bf9b6",
       "version_major": 2,
       "version_minor": 0
      },
      "text/plain": [
       "  0%|          | 0/44 [00:00<?, ?it/s]"
      ]
     },
     "metadata": {},
     "output_type": "display_data"
    },
    {
     "data": {
      "application/vnd.jupyter.widget-view+json": {
       "model_id": "927d19c56360483ca36db817c795b157",
       "version_major": 2,
       "version_minor": 0
      },
      "text/plain": [
       "  0%|          | 0/6 [00:00<?, ?it/s]"
      ]
     },
     "metadata": {},
     "output_type": "display_data"
    },
    {
     "data": {
      "application/vnd.jupyter.widget-view+json": {
       "model_id": "3c99635809264e72adf31fafdc48e771",
       "version_major": 2,
       "version_minor": 0
      },
      "text/plain": [
       "  0%|          | 0/451 [00:00<?, ?it/s]"
      ]
     },
     "metadata": {},
     "output_type": "display_data"
    },
    {
     "data": {
      "application/vnd.jupyter.widget-view+json": {
       "model_id": "f6eff9c4a3eb4a5790b6519490ef8496",
       "version_major": 2,
       "version_minor": 0
      },
      "text/plain": [
       "  0%|          | 0/62 [00:00<?, ?it/s]"
      ]
     },
     "metadata": {},
     "output_type": "display_data"
    },
    {
     "data": {
      "application/vnd.jupyter.widget-view+json": {
       "model_id": "99b37e8bf7e0468aae45ad33942ebe12",
       "version_major": 2,
       "version_minor": 0
      },
      "text/plain": [
       "  0%|          | 0/10 [00:00<?, ?it/s]"
      ]
     },
     "metadata": {},
     "output_type": "display_data"
    },
    {
     "data": {
      "application/vnd.jupyter.widget-view+json": {
       "model_id": "eb54706975984dd6b84db0d25f93c85c",
       "version_major": 2,
       "version_minor": 0
      },
      "text/plain": [
       "  0%|          | 0/241 [00:00<?, ?it/s]"
      ]
     },
     "metadata": {},
     "output_type": "display_data"
    },
    {
     "data": {
      "application/vnd.jupyter.widget-view+json": {
       "model_id": "17a12383d27b4a3388ae7fc3b9dd2b30",
       "version_major": 2,
       "version_minor": 0
      },
      "text/plain": [
       "  0%|          | 0/31 [00:00<?, ?it/s]"
      ]
     },
     "metadata": {},
     "output_type": "display_data"
    },
    {
     "data": {
      "application/vnd.jupyter.widget-view+json": {
       "model_id": "f4517e3df16f458da2d5a96eedad3e4b",
       "version_major": 2,
       "version_minor": 0
      },
      "text/plain": [
       "  0%|          | 0/274 [00:00<?, ?it/s]"
      ]
     },
     "metadata": {},
     "output_type": "display_data"
    },
    {
     "data": {
      "application/vnd.jupyter.widget-view+json": {
       "model_id": "602356b8a2fe4a05bbb6d3ced7c17903",
       "version_major": 2,
       "version_minor": 0
      },
      "text/plain": [
       "  0%|          | 0/40 [00:00<?, ?it/s]"
      ]
     },
     "metadata": {},
     "output_type": "display_data"
    },
    {
     "data": {
      "application/vnd.jupyter.widget-view+json": {
       "model_id": "fb90dd6451a3497496894c80ec080fe2",
       "version_major": 2,
       "version_minor": 0
      },
      "text/plain": [
       "  0%|          | 0/7 [00:00<?, ?it/s]"
      ]
     },
     "metadata": {},
     "output_type": "display_data"
    },
    {
     "data": {
      "application/vnd.jupyter.widget-view+json": {
       "model_id": "6b9528a756634fdbba8d018f4260b38d",
       "version_major": 2,
       "version_minor": 0
      },
      "text/plain": [
       "  0%|          | 0/479 [00:00<?, ?it/s]"
      ]
     },
     "metadata": {},
     "output_type": "display_data"
    },
    {
     "data": {
      "application/vnd.jupyter.widget-view+json": {
       "model_id": "0ad0d00b4f4048f780e7e3a45d2c9ac9",
       "version_major": 2,
       "version_minor": 0
      },
      "text/plain": [
       "  0%|          | 0/68 [00:00<?, ?it/s]"
      ]
     },
     "metadata": {},
     "output_type": "display_data"
    },
    {
     "data": {
      "application/vnd.jupyter.widget-view+json": {
       "model_id": "5ff8f80c158044f7a6055462c1980da3",
       "version_major": 2,
       "version_minor": 0
      },
      "text/plain": [
       "  0%|          | 0/10 [00:00<?, ?it/s]"
      ]
     },
     "metadata": {},
     "output_type": "display_data"
    },
    {
     "data": {
      "application/vnd.jupyter.widget-view+json": {
       "model_id": "be20b1eb3abf4b378bc6ffe3332de7f5",
       "version_major": 2,
       "version_minor": 0
      },
      "text/plain": [
       "  0%|          | 0/241 [00:00<?, ?it/s]"
      ]
     },
     "metadata": {},
     "output_type": "display_data"
    },
    {
     "data": {
      "application/vnd.jupyter.widget-view+json": {
       "model_id": "a6c539ad892d45bdab670ef53e37982a",
       "version_major": 2,
       "version_minor": 0
      },
      "text/plain": [
       "  0%|          | 0/34 [00:00<?, ?it/s]"
      ]
     },
     "metadata": {},
     "output_type": "display_data"
    },
    {
     "data": {
      "application/vnd.jupyter.widget-view+json": {
       "model_id": "dbd3bbcebb014069b80130f394bfa89e",
       "version_major": 2,
       "version_minor": 0
      },
      "text/plain": [
       "  0%|          | 0/5 [00:00<?, ?it/s]"
      ]
     },
     "metadata": {},
     "output_type": "display_data"
    },
    {
     "data": {
      "application/vnd.jupyter.widget-view+json": {
       "model_id": "52120b46a46f47c5821c70048437031d",
       "version_major": 2,
       "version_minor": 0
      },
      "text/plain": [
       "  0%|          | 0/143 [00:00<?, ?it/s]"
      ]
     },
     "metadata": {},
     "output_type": "display_data"
    },
    {
     "data": {
      "application/vnd.jupyter.widget-view+json": {
       "model_id": "9cfd65b31d94488d94b772b1641eb708",
       "version_major": 2,
       "version_minor": 0
      },
      "text/plain": [
       "  0%|          | 0/20 [00:00<?, ?it/s]"
      ]
     },
     "metadata": {},
     "output_type": "display_data"
    },
    {
     "data": {
      "application/vnd.jupyter.widget-view+json": {
       "model_id": "619ac6d68195476e959d120e6d0751fa",
       "version_major": 2,
       "version_minor": 0
      },
      "text/plain": [
       "  0%|          | 0/272 [00:00<?, ?it/s]"
      ]
     },
     "metadata": {},
     "output_type": "display_data"
    },
    {
     "data": {
      "application/vnd.jupyter.widget-view+json": {
       "model_id": "4b35f00e283b44ccaed598b6eae71e6d",
       "version_major": 2,
       "version_minor": 0
      },
      "text/plain": [
       "  0%|          | 0/40 [00:00<?, ?it/s]"
      ]
     },
     "metadata": {},
     "output_type": "display_data"
    },
    {
     "data": {
      "application/vnd.jupyter.widget-view+json": {
       "model_id": "8a1933b202ce4729a574bfdad0821b3f",
       "version_major": 2,
       "version_minor": 0
      },
      "text/plain": [
       "  0%|          | 0/7 [00:00<?, ?it/s]"
      ]
     },
     "metadata": {},
     "output_type": "display_data"
    },
    {
     "data": {
      "application/vnd.jupyter.widget-view+json": {
       "model_id": "1c83ff5b67774df09bc1a1d6ad96d8f8",
       "version_major": 2,
       "version_minor": 0
      },
      "text/plain": [
       "  0%|          | 0/134 [00:00<?, ?it/s]"
      ]
     },
     "metadata": {},
     "output_type": "display_data"
    },
    {
     "data": {
      "application/vnd.jupyter.widget-view+json": {
       "model_id": "40ece805ba314fd2987215b029a822dc",
       "version_major": 2,
       "version_minor": 0
      },
      "text/plain": [
       "  0%|          | 0/20 [00:00<?, ?it/s]"
      ]
     },
     "metadata": {},
     "output_type": "display_data"
    },
    {
     "data": {
      "application/vnd.jupyter.widget-view+json": {
       "model_id": "5f5823cec16f49dc9b8dc1cd75e3bf54",
       "version_major": 2,
       "version_minor": 0
      },
      "text/plain": [
       "  0%|          | 0/155 [00:00<?, ?it/s]"
      ]
     },
     "metadata": {},
     "output_type": "display_data"
    },
    {
     "data": {
      "application/vnd.jupyter.widget-view+json": {
       "model_id": "5cef0d667a7f424b8f4ac79b1f0b6a72",
       "version_major": 2,
       "version_minor": 0
      },
      "text/plain": [
       "  0%|          | 0/25 [00:00<?, ?it/s]"
      ]
     },
     "metadata": {},
     "output_type": "display_data"
    },
    {
     "data": {
      "application/vnd.jupyter.widget-view+json": {
       "model_id": "81119a07d5a246b692da9be57d02ab36",
       "version_major": 2,
       "version_minor": 0
      },
      "text/plain": [
       "  0%|          | 0/230 [00:00<?, ?it/s]"
      ]
     },
     "metadata": {},
     "output_type": "display_data"
    },
    {
     "data": {
      "application/vnd.jupyter.widget-view+json": {
       "model_id": "7ee75ecc4e754cc8af520ad88a040772",
       "version_major": 2,
       "version_minor": 0
      },
      "text/plain": [
       "  0%|          | 0/35 [00:00<?, ?it/s]"
      ]
     },
     "metadata": {},
     "output_type": "display_data"
    },
    {
     "data": {
      "application/vnd.jupyter.widget-view+json": {
       "model_id": "2fec18f170984131894683628278d11a",
       "version_major": 2,
       "version_minor": 0
      },
      "text/plain": [
       "  0%|          | 0/6 [00:00<?, ?it/s]"
      ]
     },
     "metadata": {},
     "output_type": "display_data"
    },
    {
     "data": {
      "application/vnd.jupyter.widget-view+json": {
       "model_id": "75fd546386fe4b8ab1e945e4c3137972",
       "version_major": 2,
       "version_minor": 0
      },
      "text/plain": [
       "  0%|          | 0/336 [00:00<?, ?it/s]"
      ]
     },
     "metadata": {},
     "output_type": "display_data"
    },
    {
     "data": {
      "application/vnd.jupyter.widget-view+json": {
       "model_id": "834d056bb7bc40f99ed140bfb1880a99",
       "version_major": 2,
       "version_minor": 0
      },
      "text/plain": [
       "  0%|          | 0/47 [00:00<?, ?it/s]"
      ]
     },
     "metadata": {},
     "output_type": "display_data"
    },
    {
     "data": {
      "application/vnd.jupyter.widget-view+json": {
       "model_id": "61d52b70887842d98f8712dc0a170be5",
       "version_major": 2,
       "version_minor": 0
      },
      "text/plain": [
       "  0%|          | 0/7 [00:00<?, ?it/s]"
      ]
     },
     "metadata": {},
     "output_type": "display_data"
    },
    {
     "data": {
      "application/vnd.jupyter.widget-view+json": {
       "model_id": "db73bccb9ac6487b97cd3914c9dd4bf9",
       "version_major": 2,
       "version_minor": 0
      },
      "text/plain": [
       "  0%|          | 0/271 [00:00<?, ?it/s]"
      ]
     },
     "metadata": {},
     "output_type": "display_data"
    },
    {
     "data": {
      "application/vnd.jupyter.widget-view+json": {
       "model_id": "33a8d57b07ae4bc19c3ce4cf77d9b4fa",
       "version_major": 2,
       "version_minor": 0
      },
      "text/plain": [
       "  0%|          | 0/38 [00:00<?, ?it/s]"
      ]
     },
     "metadata": {},
     "output_type": "display_data"
    },
    {
     "data": {
      "application/vnd.jupyter.widget-view+json": {
       "model_id": "956dde8ab1744f9aadd716f5596f71aa",
       "version_major": 2,
       "version_minor": 0
      },
      "text/plain": [
       "  0%|          | 0/6 [00:00<?, ?it/s]"
      ]
     },
     "metadata": {},
     "output_type": "display_data"
    },
    {
     "data": {
      "application/vnd.jupyter.widget-view+json": {
       "model_id": "159c32ef29fb4e1f97888b9e03ecb7c6",
       "version_major": 2,
       "version_minor": 0
      },
      "text/plain": [
       "  0%|          | 0/353 [00:00<?, ?it/s]"
      ]
     },
     "metadata": {},
     "output_type": "display_data"
    },
    {
     "data": {
      "application/vnd.jupyter.widget-view+json": {
       "model_id": "cdf38d32d63d48dc895ccb35d3a0f185",
       "version_major": 2,
       "version_minor": 0
      },
      "text/plain": [
       "  0%|          | 0/47 [00:00<?, ?it/s]"
      ]
     },
     "metadata": {},
     "output_type": "display_data"
    },
    {
     "data": {
      "application/vnd.jupyter.widget-view+json": {
       "model_id": "8e35513c205c4830adec54759be0ac6c",
       "version_major": 2,
       "version_minor": 0
      },
      "text/plain": [
       "  0%|          | 0/7 [00:00<?, ?it/s]"
      ]
     },
     "metadata": {},
     "output_type": "display_data"
    },
    {
     "data": {
      "application/vnd.jupyter.widget-view+json": {
       "model_id": "64c16fcca6454bbeaa3c2a41e5084c6b",
       "version_major": 2,
       "version_minor": 0
      },
      "text/plain": [
       "  0%|          | 0/433 [00:00<?, ?it/s]"
      ]
     },
     "metadata": {},
     "output_type": "display_data"
    },
    {
     "data": {
      "application/vnd.jupyter.widget-view+json": {
       "model_id": "579a6ef6cd6d46ac996710e1bfa8bf2a",
       "version_major": 2,
       "version_minor": 0
      },
      "text/plain": [
       "  0%|          | 0/63 [00:00<?, ?it/s]"
      ]
     },
     "metadata": {},
     "output_type": "display_data"
    },
    {
     "data": {
      "application/vnd.jupyter.widget-view+json": {
       "model_id": "767973ee088b40d6a061fa10c73a4634",
       "version_major": 2,
       "version_minor": 0
      },
      "text/plain": [
       "  0%|          | 0/11 [00:00<?, ?it/s]"
      ]
     },
     "metadata": {},
     "output_type": "display_data"
    },
    {
     "data": {
      "application/vnd.jupyter.widget-view+json": {
       "model_id": "e75e34fb94a54a4c9af496e8128dc3fd",
       "version_major": 2,
       "version_minor": 0
      },
      "text/plain": [
       "  0%|          | 0/210 [00:00<?, ?it/s]"
      ]
     },
     "metadata": {},
     "output_type": "display_data"
    },
    {
     "data": {
      "application/vnd.jupyter.widget-view+json": {
       "model_id": "c781420ebcc34d9fbee16298c8ac2112",
       "version_major": 2,
       "version_minor": 0
      },
      "text/plain": [
       "  0%|          | 0/31 [00:00<?, ?it/s]"
      ]
     },
     "metadata": {},
     "output_type": "display_data"
    },
    {
     "data": {
      "application/vnd.jupyter.widget-view+json": {
       "model_id": "981d46afdfd54902aea27d0d56d9cf86",
       "version_major": 2,
       "version_minor": 0
      },
      "text/plain": [
       "  0%|          | 0/219 [00:00<?, ?it/s]"
      ]
     },
     "metadata": {},
     "output_type": "display_data"
    },
    {
     "data": {
      "application/vnd.jupyter.widget-view+json": {
       "model_id": "dcae90120dba4287a7ab66b183be2873",
       "version_major": 2,
       "version_minor": 0
      },
      "text/plain": [
       "  0%|          | 0/32 [00:00<?, ?it/s]"
      ]
     },
     "metadata": {},
     "output_type": "display_data"
    },
    {
     "data": {
      "application/vnd.jupyter.widget-view+json": {
       "model_id": "f3c7c2861b5245bdbffee6e5bc4c07ae",
       "version_major": 2,
       "version_minor": 0
      },
      "text/plain": [
       "  0%|          | 0/215 [00:00<?, ?it/s]"
      ]
     },
     "metadata": {},
     "output_type": "display_data"
    },
    {
     "data": {
      "application/vnd.jupyter.widget-view+json": {
       "model_id": "e0eb1cff4a4a4a008c3c63117bf257fd",
       "version_major": 2,
       "version_minor": 0
      },
      "text/plain": [
       "  0%|          | 0/29 [00:00<?, ?it/s]"
      ]
     },
     "metadata": {},
     "output_type": "display_data"
    },
    {
     "data": {
      "application/vnd.jupyter.widget-view+json": {
       "model_id": "c52d4c77c6044fa8876d65c83d776d99",
       "version_major": 2,
       "version_minor": 0
      },
      "text/plain": [
       "  0%|          | 0/179 [00:00<?, ?it/s]"
      ]
     },
     "metadata": {},
     "output_type": "display_data"
    },
    {
     "data": {
      "application/vnd.jupyter.widget-view+json": {
       "model_id": "4d3261597799447084afdc11035e51ed",
       "version_major": 2,
       "version_minor": 0
      },
      "text/plain": [
       "  0%|          | 0/25 [00:00<?, ?it/s]"
      ]
     },
     "metadata": {},
     "output_type": "display_data"
    },
    {
     "data": {
      "application/vnd.jupyter.widget-view+json": {
       "model_id": "eeb3cad18ecb4b8e8db345bee693040c",
       "version_major": 2,
       "version_minor": 0
      },
      "text/plain": [
       "  0%|          | 0/433 [00:00<?, ?it/s]"
      ]
     },
     "metadata": {},
     "output_type": "display_data"
    },
    {
     "data": {
      "application/vnd.jupyter.widget-view+json": {
       "model_id": "4b93963f565c4869a1e64b9c73b5438c",
       "version_major": 2,
       "version_minor": 0
      },
      "text/plain": [
       "  0%|          | 0/60 [00:00<?, ?it/s]"
      ]
     },
     "metadata": {},
     "output_type": "display_data"
    },
    {
     "data": {
      "application/vnd.jupyter.widget-view+json": {
       "model_id": "176806ab9f004fe98a15153a8deedd74",
       "version_major": 2,
       "version_minor": 0
      },
      "text/plain": [
       "  0%|          | 0/10 [00:00<?, ?it/s]"
      ]
     },
     "metadata": {},
     "output_type": "display_data"
    },
    {
     "data": {
      "application/vnd.jupyter.widget-view+json": {
       "model_id": "a19bd3e7792c40209bf55777f08c9e97",
       "version_major": 2,
       "version_minor": 0
      },
      "text/plain": [
       "  0%|          | 0/445 [00:00<?, ?it/s]"
      ]
     },
     "metadata": {},
     "output_type": "display_data"
    },
    {
     "data": {
      "application/vnd.jupyter.widget-view+json": {
       "model_id": "47d95ea1fe964a61a7ad22c25299867f",
       "version_major": 2,
       "version_minor": 0
      },
      "text/plain": [
       "  0%|          | 0/59 [00:00<?, ?it/s]"
      ]
     },
     "metadata": {},
     "output_type": "display_data"
    },
    {
     "data": {
      "application/vnd.jupyter.widget-view+json": {
       "model_id": "b2bbb95aee8145f399bf5e64d748283c",
       "version_major": 2,
       "version_minor": 0
      },
      "text/plain": [
       "  0%|          | 0/9 [00:00<?, ?it/s]"
      ]
     },
     "metadata": {},
     "output_type": "display_data"
    },
    {
     "data": {
      "application/vnd.jupyter.widget-view+json": {
       "model_id": "da8a1fdaebbe4695ad472589444eafbd",
       "version_major": 2,
       "version_minor": 0
      },
      "text/plain": [
       "  0%|          | 0/219 [00:00<?, ?it/s]"
      ]
     },
     "metadata": {},
     "output_type": "display_data"
    },
    {
     "data": {
      "application/vnd.jupyter.widget-view+json": {
       "model_id": "c6e4983417c448f7be8c356b5bb71297",
       "version_major": 2,
       "version_minor": 0
      },
      "text/plain": [
       "  0%|          | 0/31 [00:00<?, ?it/s]"
      ]
     },
     "metadata": {},
     "output_type": "display_data"
    },
    {
     "data": {
      "application/vnd.jupyter.widget-view+json": {
       "model_id": "58a880cd083f4d018a33fefc8b64651b",
       "version_major": 2,
       "version_minor": 0
      },
      "text/plain": [
       "  0%|          | 0/550 [00:00<?, ?it/s]"
      ]
     },
     "metadata": {},
     "output_type": "display_data"
    },
    {
     "data": {
      "application/vnd.jupyter.widget-view+json": {
       "model_id": "02224614b01244daaa7bdfb2cdcb2c0a",
       "version_major": 2,
       "version_minor": 0
      },
      "text/plain": [
       "  0%|          | 0/79 [00:00<?, ?it/s]"
      ]
     },
     "metadata": {},
     "output_type": "display_data"
    },
    {
     "data": {
      "application/vnd.jupyter.widget-view+json": {
       "model_id": "5e231c9b3e344fee93112d8e8d45f6f5",
       "version_major": 2,
       "version_minor": 0
      },
      "text/plain": [
       "  0%|          | 0/13 [00:00<?, ?it/s]"
      ]
     },
     "metadata": {},
     "output_type": "display_data"
    },
    {
     "data": {
      "application/vnd.jupyter.widget-view+json": {
       "model_id": "186c1f0c87d24b7c9978594ec9323b10",
       "version_major": 2,
       "version_minor": 0
      },
      "text/plain": [
       "  0%|          | 0/464 [00:00<?, ?it/s]"
      ]
     },
     "metadata": {},
     "output_type": "display_data"
    },
    {
     "data": {
      "application/vnd.jupyter.widget-view+json": {
       "model_id": "aa1c49fc2181442ab8a17d1fe4b731d0",
       "version_major": 2,
       "version_minor": 0
      },
      "text/plain": [
       "  0%|          | 0/63 [00:00<?, ?it/s]"
      ]
     },
     "metadata": {},
     "output_type": "display_data"
    },
    {
     "data": {
      "application/vnd.jupyter.widget-view+json": {
       "model_id": "39177269962e4d5d96d7cfcf9619b051",
       "version_major": 2,
       "version_minor": 0
      },
      "text/plain": [
       "  0%|          | 0/10 [00:00<?, ?it/s]"
      ]
     },
     "metadata": {},
     "output_type": "display_data"
    },
    {
     "data": {
      "application/vnd.jupyter.widget-view+json": {
       "model_id": "1fd549ffffe34403b40399b29ae02a8f",
       "version_major": 2,
       "version_minor": 0
      },
      "text/plain": [
       "  0%|          | 0/232 [00:00<?, ?it/s]"
      ]
     },
     "metadata": {},
     "output_type": "display_data"
    },
    {
     "data": {
      "application/vnd.jupyter.widget-view+json": {
       "model_id": "c132dfbc9ce5425daf32254963fd02f1",
       "version_major": 2,
       "version_minor": 0
      },
      "text/plain": [
       "  0%|          | 0/31 [00:00<?, ?it/s]"
      ]
     },
     "metadata": {},
     "output_type": "display_data"
    },
    {
     "data": {
      "application/vnd.jupyter.widget-view+json": {
       "model_id": "502f0cc2a2864e91b0235aee62f6cfc7",
       "version_major": 2,
       "version_minor": 0
      },
      "text/plain": [
       "  0%|          | 0/366 [00:00<?, ?it/s]"
      ]
     },
     "metadata": {},
     "output_type": "display_data"
    },
    {
     "data": {
      "application/vnd.jupyter.widget-view+json": {
       "model_id": "3c919ea105ab44c3ad883b79bb3b57c8",
       "version_major": 2,
       "version_minor": 0
      },
      "text/plain": [
       "  0%|          | 0/54 [00:00<?, ?it/s]"
      ]
     },
     "metadata": {},
     "output_type": "display_data"
    },
    {
     "data": {
      "application/vnd.jupyter.widget-view+json": {
       "model_id": "ffe0daa16c1b4fca974c04fd9b618483",
       "version_major": 2,
       "version_minor": 0
      },
      "text/plain": [
       "  0%|          | 0/8 [00:00<?, ?it/s]"
      ]
     },
     "metadata": {},
     "output_type": "display_data"
    },
    {
     "data": {
      "application/vnd.jupyter.widget-view+json": {
       "model_id": "7f165ce1c3be416fa37eed27978816e3",
       "version_major": 2,
       "version_minor": 0
      },
      "text/plain": [
       "  0%|          | 0/316 [00:00<?, ?it/s]"
      ]
     },
     "metadata": {},
     "output_type": "display_data"
    },
    {
     "data": {
      "application/vnd.jupyter.widget-view+json": {
       "model_id": "b135be5d244a4bbb946caa2248dd371c",
       "version_major": 2,
       "version_minor": 0
      },
      "text/plain": [
       "  0%|          | 0/47 [00:00<?, ?it/s]"
      ]
     },
     "metadata": {},
     "output_type": "display_data"
    },
    {
     "data": {
      "application/vnd.jupyter.widget-view+json": {
       "model_id": "98f021d10f8d4717a206514e4cb72a4b",
       "version_major": 2,
       "version_minor": 0
      },
      "text/plain": [
       "  0%|          | 0/8 [00:00<?, ?it/s]"
      ]
     },
     "metadata": {},
     "output_type": "display_data"
    },
    {
     "data": {
      "application/vnd.jupyter.widget-view+json": {
       "model_id": "2184a945ac7547fd9490597ff4d522b5",
       "version_major": 2,
       "version_minor": 0
      },
      "text/plain": [
       "  0%|          | 0/304 [00:00<?, ?it/s]"
      ]
     },
     "metadata": {},
     "output_type": "display_data"
    },
    {
     "data": {
      "application/vnd.jupyter.widget-view+json": {
       "model_id": "a3bd957acded4af6bb2460f9dd171227",
       "version_major": 2,
       "version_minor": 0
      },
      "text/plain": [
       "  0%|          | 0/42 [00:00<?, ?it/s]"
      ]
     },
     "metadata": {},
     "output_type": "display_data"
    },
    {
     "data": {
      "application/vnd.jupyter.widget-view+json": {
       "model_id": "b1454aa19ee0403f890f25a28b94365e",
       "version_major": 2,
       "version_minor": 0
      },
      "text/plain": [
       "  0%|          | 0/7 [00:00<?, ?it/s]"
      ]
     },
     "metadata": {},
     "output_type": "display_data"
    },
    {
     "data": {
      "application/vnd.jupyter.widget-view+json": {
       "model_id": "b545b6aada7946ff8740bbecba42c708",
       "version_major": 2,
       "version_minor": 0
      },
      "text/plain": [
       "  0%|          | 0/467 [00:00<?, ?it/s]"
      ]
     },
     "metadata": {},
     "output_type": "display_data"
    },
    {
     "data": {
      "application/vnd.jupyter.widget-view+json": {
       "model_id": "ed971d9c791045858b6395e055521c42",
       "version_major": 2,
       "version_minor": 0
      },
      "text/plain": [
       "  0%|          | 0/66 [00:00<?, ?it/s]"
      ]
     },
     "metadata": {},
     "output_type": "display_data"
    },
    {
     "data": {
      "application/vnd.jupyter.widget-view+json": {
       "model_id": "0c5eb670ec694b2ba0c1a998a07a4a40",
       "version_major": 2,
       "version_minor": 0
      },
      "text/plain": [
       "  0%|          | 0/12 [00:00<?, ?it/s]"
      ]
     },
     "metadata": {},
     "output_type": "display_data"
    },
    {
     "data": {
      "application/vnd.jupyter.widget-view+json": {
       "model_id": "09a1f3c373fc49e0a26b5865a417fc73",
       "version_major": 2,
       "version_minor": 0
      },
      "text/plain": [
       "  0%|          | 0/260 [00:00<?, ?it/s]"
      ]
     },
     "metadata": {},
     "output_type": "display_data"
    },
    {
     "data": {
      "application/vnd.jupyter.widget-view+json": {
       "model_id": "8421ec9dd78b4fd89a5a1468362e091f",
       "version_major": 2,
       "version_minor": 0
      },
      "text/plain": [
       "  0%|          | 0/35 [00:00<?, ?it/s]"
      ]
     },
     "metadata": {},
     "output_type": "display_data"
    },
    {
     "data": {
      "application/vnd.jupyter.widget-view+json": {
       "model_id": "b0023e50d9d740b7b5c65ac2cbeeb1e4",
       "version_major": 2,
       "version_minor": 0
      },
      "text/plain": [
       "  0%|          | 0/413 [00:00<?, ?it/s]"
      ]
     },
     "metadata": {},
     "output_type": "display_data"
    },
    {
     "data": {
      "application/vnd.jupyter.widget-view+json": {
       "model_id": "812843731a9d4b74a258f68400dfe52d",
       "version_major": 2,
       "version_minor": 0
      },
      "text/plain": [
       "  0%|          | 0/60 [00:00<?, ?it/s]"
      ]
     },
     "metadata": {},
     "output_type": "display_data"
    },
    {
     "data": {
      "application/vnd.jupyter.widget-view+json": {
       "model_id": "b920baf683424fdda37fc362fb3ea54d",
       "version_major": 2,
       "version_minor": 0
      },
      "text/plain": [
       "  0%|          | 0/10 [00:00<?, ?it/s]"
      ]
     },
     "metadata": {},
     "output_type": "display_data"
    },
    {
     "data": {
      "application/vnd.jupyter.widget-view+json": {
       "model_id": "0304fc304c7d47dab0b56e9b5a942f0e",
       "version_major": 2,
       "version_minor": 0
      },
      "text/plain": [
       "  0%|          | 0/162 [00:00<?, ?it/s]"
      ]
     },
     "metadata": {},
     "output_type": "display_data"
    },
    {
     "data": {
      "application/vnd.jupyter.widget-view+json": {
       "model_id": "5d4cf36cb41c414f94aa82b09a884e5d",
       "version_major": 2,
       "version_minor": 0
      },
      "text/plain": [
       "  0%|          | 0/23 [00:00<?, ?it/s]"
      ]
     },
     "metadata": {},
     "output_type": "display_data"
    },
    {
     "data": {
      "application/vnd.jupyter.widget-view+json": {
       "model_id": "f53c6d4b6f0e4d398613ecb42ceafd88",
       "version_major": 2,
       "version_minor": 0
      },
      "text/plain": [
       "  0%|          | 0/218 [00:00<?, ?it/s]"
      ]
     },
     "metadata": {},
     "output_type": "display_data"
    },
    {
     "data": {
      "application/vnd.jupyter.widget-view+json": {
       "model_id": "0b49869305f442e284a9a29ac3e15e2d",
       "version_major": 2,
       "version_minor": 0
      },
      "text/plain": [
       "  0%|          | 0/30 [00:00<?, ?it/s]"
      ]
     },
     "metadata": {},
     "output_type": "display_data"
    },
    {
     "data": {
      "application/vnd.jupyter.widget-view+json": {
       "model_id": "78214061cfc74fe3a90ce7d5f93de89d",
       "version_major": 2,
       "version_minor": 0
      },
      "text/plain": [
       "  0%|          | 0/341 [00:00<?, ?it/s]"
      ]
     },
     "metadata": {},
     "output_type": "display_data"
    },
    {
     "data": {
      "application/vnd.jupyter.widget-view+json": {
       "model_id": "f890de472dee45d7bb39029409c61020",
       "version_major": 2,
       "version_minor": 0
      },
      "text/plain": [
       "  0%|          | 0/45 [00:00<?, ?it/s]"
      ]
     },
     "metadata": {},
     "output_type": "display_data"
    },
    {
     "data": {
      "application/vnd.jupyter.widget-view+json": {
       "model_id": "7f1557e30fab4e95abcae83c3d78721e",
       "version_major": 2,
       "version_minor": 0
      },
      "text/plain": [
       "  0%|          | 0/7 [00:00<?, ?it/s]"
      ]
     },
     "metadata": {},
     "output_type": "display_data"
    },
    {
     "data": {
      "application/vnd.jupyter.widget-view+json": {
       "model_id": "06f9806a7f2d45579eb75490b855ce45",
       "version_major": 2,
       "version_minor": 0
      },
      "text/plain": [
       "  0%|          | 0/183 [00:00<?, ?it/s]"
      ]
     },
     "metadata": {},
     "output_type": "display_data"
    },
    {
     "data": {
      "application/vnd.jupyter.widget-view+json": {
       "model_id": "d158e492caa4459b80dded8d39fb7832",
       "version_major": 2,
       "version_minor": 0
      },
      "text/plain": [
       "  0%|          | 0/27 [00:00<?, ?it/s]"
      ]
     },
     "metadata": {},
     "output_type": "display_data"
    }
   ],
   "source": [
    "summaries = []\n",
    "for text in tqdm(df.full_text):\n",
    "    summary = recursive_summary(text=text)\n",
    "    summaries.append(summary)"
   ]
  },
  {
   "cell_type": "code",
   "execution_count": 50,
   "metadata": {},
   "outputs": [
    {
     "data": {
      "text/plain": [
       "\"Colette Kress, Executive Vice President and Chief Financial Officer, will present. DLSS is in its third generation, similar to ray tracing architecture Analysts ask about product cycles, diversification Nvidia sees inflection in gaming, ProViz businesses Q4 or Q4 will be near normal channel levels: CEO Analysts ask if Grace will be available in first half of 2019. Q&A with Nvidia executives on Grace and other projects Intel releases third generation of Ivy Bridge architecture. Nadella: Software is important, but services and ratable are low CEO: We are seeing more of a disruption in the short term. Q&A with executives at Apple follows: I want to start with some of the key things that we have been working on. CEO says Morgan Stanley is not here for auto folks. Gaming is powered by Unity engine Analysts ask about product cycles, diversification. ‘Growth is still here to go forward’: Fiat Chrysler CEO Q: Is there a focus on getting more products to market? Recommender systems still very important Analysts, can you talk about production and initial shipments? Is this the first time you guys have pre-integrated cache coherency? Intel releases third generation of Ivy Bridge architecture. CEO: I think we're at a inflection point. I don't see this as a short-term crisis: Orin CEO Software is now driving most of Nvidia revenue. Nvidia to accelerate R&D spending, accelerate revenue growth\""
      ]
     },
     "execution_count": 50,
     "metadata": {},
     "output_type": "execute_result"
    }
   ],
   "source": [
    "summaries[0]"
   ]
  },
  {
   "cell_type": "code",
   "execution_count": 51,
   "metadata": {},
   "outputs": [],
   "source": [
    "summary_column = f'{model_name}-summaries'\n",
    "df[summary_column] = summaries"
   ]
  },
  {
   "cell_type": "code",
   "execution_count": null,
   "metadata": {},
   "outputs": [],
   "source": [
    "def evaluate_summary(row, model_name, type=\"baseline\"):\n",
    "    text_to_summarize = row.full_text\n",
    "    summary = row[summary_column]\n",
    "    uuid = row.uuid\n",
    "    company_id = row.companyid\n",
    "    company_name = row.companyname\n",
    "\n",
    "    # 1. Compute ROUGE scores\n",
    "    rouge_evaluator = Rouge()\n",
    "    rouge_scores = rouge_evaluator.get_scores(summary, text_to_summarize)\n",
    "\n",
    "    # If the evaluator returns a list (one element per summary), take the first element\n",
    "    if isinstance(rouge_scores, list):\n",
    "        rouge_scores = rouge_scores[0]\n",
    "\n",
    "    # 2. Compute BLEU score (using simple tokenization)\n",
    "    reference_tokens = text_to_summarize.split()\n",
    "    candidate_tokens = summary.split()\n",
    "    bleu_score = sentence_bleu([reference_tokens], candidate_tokens)\n",
    "\n",
    "    # 3. Compute BERTScore (returns precision, recall, and F1)\n",
    "    P, R, F1 = bert_score.score(\n",
    "        [summary],\n",
    "        [text_to_summarize],\n",
    "        rescale_with_baseline=True,\n",
    "        lang=\"en\",\n",
    "    )\n",
    "\n",
    "    # 4. Calculate compression ratio (summary length divided by original length)\n",
    "    original_len = len(text_to_summarize.split())\n",
    "    summary_len = len(summary.split())\n",
    "    compression_ratio = summary_len / original_len if original_len > 0 else 0\n",
    "\n",
    "    readability = textstat.flesch_reading_ease(summary)\n",
    "\n",
    "    results = {}\n",
    "    results[\"model_name\"] = model_name\n",
    "    results[\"uuid\"] = uuid\n",
    "    results[\"companyid\"] = company_id\n",
    "    results[\"companyname\"] = company_name\n",
    "\n",
    "    for metric, scores in rouge_scores.items():\n",
    "        results[f\"{metric}_r\"] = scores[\"r\"]\n",
    "        results[f\"{metric}_p\"] = scores[\"p\"]\n",
    "        results[f\"{metric}_f\"] = scores[\"f\"]\n",
    "\n",
    "    results[\"bleu\"] = bleu_score\n",
    "    results[\"bert_precision\"] = P.item()\n",
    "    results[\"bert_recall\"] = R.item()\n",
    "    results[\"bert_f1\"] = F1.item()\n",
    "    results[\"compression_ratio\"] = compression_ratio\n",
    "    results[\"readability\"] = readability\n",
    "\n",
    "    return pd.DataFrame([results])"
   ]
  },
  {
   "cell_type": "code",
   "execution_count": 53,
   "metadata": {},
   "outputs": [
    {
     "data": {
      "application/vnd.jupyter.widget-view+json": {
       "model_id": "de49225449ae432aa437ba4ec7e687e1",
       "version_major": 2,
       "version_minor": 0
      },
      "text/plain": [
       "0it [00:00, ?it/s]"
      ]
     },
     "metadata": {},
     "output_type": "display_data"
    },
    {
     "name": "stderr",
     "output_type": "stream",
     "text": [
      "Some weights of RobertaModel were not initialized from the model checkpoint at roberta-large and are newly initialized: ['roberta.pooler.dense.bias', 'roberta.pooler.dense.weight']\n",
      "You should probably TRAIN this model on a down-stream task to be able to use it for predictions and inference.\n",
      "Some weights of RobertaModel were not initialized from the model checkpoint at roberta-large and are newly initialized: ['roberta.pooler.dense.bias', 'roberta.pooler.dense.weight']\n",
      "You should probably TRAIN this model on a down-stream task to be able to use it for predictions and inference.\n",
      "Some weights of RobertaModel were not initialized from the model checkpoint at roberta-large and are newly initialized: ['roberta.pooler.dense.bias', 'roberta.pooler.dense.weight']\n",
      "You should probably TRAIN this model on a down-stream task to be able to use it for predictions and inference.\n",
      "/workspace/persistent/ragsum/venv/lib/python3.10/site-packages/nltk/translate/bleu_score.py:577: UserWarning: \n",
      "The hypothesis contains 0 counts of 4-gram overlaps.\n",
      "Therefore the BLEU score evaluates to 0, independently of\n",
      "how many N-gram overlaps of lower order it contains.\n",
      "Consider using lower n-gram order or use SmoothingFunction()\n",
      "  warnings.warn(_msg)\n",
      "Some weights of RobertaModel were not initialized from the model checkpoint at roberta-large and are newly initialized: ['roberta.pooler.dense.bias', 'roberta.pooler.dense.weight']\n",
      "You should probably TRAIN this model on a down-stream task to be able to use it for predictions and inference.\n",
      "Some weights of RobertaModel were not initialized from the model checkpoint at roberta-large and are newly initialized: ['roberta.pooler.dense.bias', 'roberta.pooler.dense.weight']\n",
      "You should probably TRAIN this model on a down-stream task to be able to use it for predictions and inference.\n",
      "Some weights of RobertaModel were not initialized from the model checkpoint at roberta-large and are newly initialized: ['roberta.pooler.dense.bias', 'roberta.pooler.dense.weight']\n",
      "You should probably TRAIN this model on a down-stream task to be able to use it for predictions and inference.\n",
      "Some weights of RobertaModel were not initialized from the model checkpoint at roberta-large and are newly initialized: ['roberta.pooler.dense.bias', 'roberta.pooler.dense.weight']\n",
      "You should probably TRAIN this model on a down-stream task to be able to use it for predictions and inference.\n",
      "Some weights of RobertaModel were not initialized from the model checkpoint at roberta-large and are newly initialized: ['roberta.pooler.dense.bias', 'roberta.pooler.dense.weight']\n",
      "You should probably TRAIN this model on a down-stream task to be able to use it for predictions and inference.\n",
      "Some weights of RobertaModel were not initialized from the model checkpoint at roberta-large and are newly initialized: ['roberta.pooler.dense.bias', 'roberta.pooler.dense.weight']\n",
      "You should probably TRAIN this model on a down-stream task to be able to use it for predictions and inference.\n",
      "Some weights of RobertaModel were not initialized from the model checkpoint at roberta-large and are newly initialized: ['roberta.pooler.dense.bias', 'roberta.pooler.dense.weight']\n",
      "You should probably TRAIN this model on a down-stream task to be able to use it for predictions and inference.\n",
      "Some weights of RobertaModel were not initialized from the model checkpoint at roberta-large and are newly initialized: ['roberta.pooler.dense.bias', 'roberta.pooler.dense.weight']\n",
      "You should probably TRAIN this model on a down-stream task to be able to use it for predictions and inference.\n",
      "Some weights of RobertaModel were not initialized from the model checkpoint at roberta-large and are newly initialized: ['roberta.pooler.dense.bias', 'roberta.pooler.dense.weight']\n",
      "You should probably TRAIN this model on a down-stream task to be able to use it for predictions and inference.\n",
      "Some weights of RobertaModel were not initialized from the model checkpoint at roberta-large and are newly initialized: ['roberta.pooler.dense.bias', 'roberta.pooler.dense.weight']\n",
      "You should probably TRAIN this model on a down-stream task to be able to use it for predictions and inference.\n",
      "Some weights of RobertaModel were not initialized from the model checkpoint at roberta-large and are newly initialized: ['roberta.pooler.dense.bias', 'roberta.pooler.dense.weight']\n",
      "You should probably TRAIN this model on a down-stream task to be able to use it for predictions and inference.\n",
      "Some weights of RobertaModel were not initialized from the model checkpoint at roberta-large and are newly initialized: ['roberta.pooler.dense.bias', 'roberta.pooler.dense.weight']\n",
      "You should probably TRAIN this model on a down-stream task to be able to use it for predictions and inference.\n",
      "Some weights of RobertaModel were not initialized from the model checkpoint at roberta-large and are newly initialized: ['roberta.pooler.dense.bias', 'roberta.pooler.dense.weight']\n",
      "You should probably TRAIN this model on a down-stream task to be able to use it for predictions and inference.\n",
      "Some weights of RobertaModel were not initialized from the model checkpoint at roberta-large and are newly initialized: ['roberta.pooler.dense.bias', 'roberta.pooler.dense.weight']\n",
      "You should probably TRAIN this model on a down-stream task to be able to use it for predictions and inference.\n",
      "Some weights of RobertaModel were not initialized from the model checkpoint at roberta-large and are newly initialized: ['roberta.pooler.dense.bias', 'roberta.pooler.dense.weight']\n",
      "You should probably TRAIN this model on a down-stream task to be able to use it for predictions and inference.\n",
      "Some weights of RobertaModel were not initialized from the model checkpoint at roberta-large and are newly initialized: ['roberta.pooler.dense.bias', 'roberta.pooler.dense.weight']\n",
      "You should probably TRAIN this model on a down-stream task to be able to use it for predictions and inference.\n",
      "Some weights of RobertaModel were not initialized from the model checkpoint at roberta-large and are newly initialized: ['roberta.pooler.dense.bias', 'roberta.pooler.dense.weight']\n",
      "You should probably TRAIN this model on a down-stream task to be able to use it for predictions and inference.\n",
      "Some weights of RobertaModel were not initialized from the model checkpoint at roberta-large and are newly initialized: ['roberta.pooler.dense.bias', 'roberta.pooler.dense.weight']\n",
      "You should probably TRAIN this model on a down-stream task to be able to use it for predictions and inference.\n",
      "Some weights of RobertaModel were not initialized from the model checkpoint at roberta-large and are newly initialized: ['roberta.pooler.dense.bias', 'roberta.pooler.dense.weight']\n",
      "You should probably TRAIN this model on a down-stream task to be able to use it for predictions and inference.\n",
      "Some weights of RobertaModel were not initialized from the model checkpoint at roberta-large and are newly initialized: ['roberta.pooler.dense.bias', 'roberta.pooler.dense.weight']\n",
      "You should probably TRAIN this model on a down-stream task to be able to use it for predictions and inference.\n",
      "Some weights of RobertaModel were not initialized from the model checkpoint at roberta-large and are newly initialized: ['roberta.pooler.dense.bias', 'roberta.pooler.dense.weight']\n",
      "You should probably TRAIN this model on a down-stream task to be able to use it for predictions and inference.\n",
      "Some weights of RobertaModel were not initialized from the model checkpoint at roberta-large and are newly initialized: ['roberta.pooler.dense.bias', 'roberta.pooler.dense.weight']\n",
      "You should probably TRAIN this model on a down-stream task to be able to use it for predictions and inference.\n",
      "Some weights of RobertaModel were not initialized from the model checkpoint at roberta-large and are newly initialized: ['roberta.pooler.dense.bias', 'roberta.pooler.dense.weight']\n",
      "You should probably TRAIN this model on a down-stream task to be able to use it for predictions and inference.\n",
      "Some weights of RobertaModel were not initialized from the model checkpoint at roberta-large and are newly initialized: ['roberta.pooler.dense.bias', 'roberta.pooler.dense.weight']\n",
      "You should probably TRAIN this model on a down-stream task to be able to use it for predictions and inference.\n",
      "Some weights of RobertaModel were not initialized from the model checkpoint at roberta-large and are newly initialized: ['roberta.pooler.dense.bias', 'roberta.pooler.dense.weight']\n",
      "You should probably TRAIN this model on a down-stream task to be able to use it for predictions and inference.\n",
      "Some weights of RobertaModel were not initialized from the model checkpoint at roberta-large and are newly initialized: ['roberta.pooler.dense.bias', 'roberta.pooler.dense.weight']\n",
      "You should probably TRAIN this model on a down-stream task to be able to use it for predictions and inference.\n",
      "Some weights of RobertaModel were not initialized from the model checkpoint at roberta-large and are newly initialized: ['roberta.pooler.dense.bias', 'roberta.pooler.dense.weight']\n",
      "You should probably TRAIN this model on a down-stream task to be able to use it for predictions and inference.\n",
      "Some weights of RobertaModel were not initialized from the model checkpoint at roberta-large and are newly initialized: ['roberta.pooler.dense.bias', 'roberta.pooler.dense.weight']\n",
      "You should probably TRAIN this model on a down-stream task to be able to use it for predictions and inference.\n",
      "Some weights of RobertaModel were not initialized from the model checkpoint at roberta-large and are newly initialized: ['roberta.pooler.dense.bias', 'roberta.pooler.dense.weight']\n",
      "You should probably TRAIN this model on a down-stream task to be able to use it for predictions and inference.\n",
      "Some weights of RobertaModel were not initialized from the model checkpoint at roberta-large and are newly initialized: ['roberta.pooler.dense.bias', 'roberta.pooler.dense.weight']\n",
      "You should probably TRAIN this model on a down-stream task to be able to use it for predictions and inference.\n",
      "Some weights of RobertaModel were not initialized from the model checkpoint at roberta-large and are newly initialized: ['roberta.pooler.dense.bias', 'roberta.pooler.dense.weight']\n",
      "You should probably TRAIN this model on a down-stream task to be able to use it for predictions and inference.\n",
      "Some weights of RobertaModel were not initialized from the model checkpoint at roberta-large and are newly initialized: ['roberta.pooler.dense.bias', 'roberta.pooler.dense.weight']\n",
      "You should probably TRAIN this model on a down-stream task to be able to use it for predictions and inference.\n",
      "Some weights of RobertaModel were not initialized from the model checkpoint at roberta-large and are newly initialized: ['roberta.pooler.dense.bias', 'roberta.pooler.dense.weight']\n",
      "You should probably TRAIN this model on a down-stream task to be able to use it for predictions and inference.\n",
      "Some weights of RobertaModel were not initialized from the model checkpoint at roberta-large and are newly initialized: ['roberta.pooler.dense.bias', 'roberta.pooler.dense.weight']\n",
      "You should probably TRAIN this model on a down-stream task to be able to use it for predictions and inference.\n",
      "Some weights of RobertaModel were not initialized from the model checkpoint at roberta-large and are newly initialized: ['roberta.pooler.dense.bias', 'roberta.pooler.dense.weight']\n",
      "You should probably TRAIN this model on a down-stream task to be able to use it for predictions and inference.\n",
      "Some weights of RobertaModel were not initialized from the model checkpoint at roberta-large and are newly initialized: ['roberta.pooler.dense.bias', 'roberta.pooler.dense.weight']\n",
      "You should probably TRAIN this model on a down-stream task to be able to use it for predictions and inference.\n",
      "Some weights of RobertaModel were not initialized from the model checkpoint at roberta-large and are newly initialized: ['roberta.pooler.dense.bias', 'roberta.pooler.dense.weight']\n",
      "You should probably TRAIN this model on a down-stream task to be able to use it for predictions and inference.\n",
      "Some weights of RobertaModel were not initialized from the model checkpoint at roberta-large and are newly initialized: ['roberta.pooler.dense.bias', 'roberta.pooler.dense.weight']\n",
      "You should probably TRAIN this model on a down-stream task to be able to use it for predictions and inference.\n",
      "Some weights of RobertaModel were not initialized from the model checkpoint at roberta-large and are newly initialized: ['roberta.pooler.dense.bias', 'roberta.pooler.dense.weight']\n",
      "You should probably TRAIN this model on a down-stream task to be able to use it for predictions and inference.\n",
      "Some weights of RobertaModel were not initialized from the model checkpoint at roberta-large and are newly initialized: ['roberta.pooler.dense.bias', 'roberta.pooler.dense.weight']\n",
      "You should probably TRAIN this model on a down-stream task to be able to use it for predictions and inference.\n",
      "Some weights of RobertaModel were not initialized from the model checkpoint at roberta-large and are newly initialized: ['roberta.pooler.dense.bias', 'roberta.pooler.dense.weight']\n",
      "You should probably TRAIN this model on a down-stream task to be able to use it for predictions and inference.\n",
      "Some weights of RobertaModel were not initialized from the model checkpoint at roberta-large and are newly initialized: ['roberta.pooler.dense.bias', 'roberta.pooler.dense.weight']\n",
      "You should probably TRAIN this model on a down-stream task to be able to use it for predictions and inference.\n",
      "Some weights of RobertaModel were not initialized from the model checkpoint at roberta-large and are newly initialized: ['roberta.pooler.dense.bias', 'roberta.pooler.dense.weight']\n",
      "You should probably TRAIN this model on a down-stream task to be able to use it for predictions and inference.\n",
      "Some weights of RobertaModel were not initialized from the model checkpoint at roberta-large and are newly initialized: ['roberta.pooler.dense.bias', 'roberta.pooler.dense.weight']\n",
      "You should probably TRAIN this model on a down-stream task to be able to use it for predictions and inference.\n",
      "Some weights of RobertaModel were not initialized from the model checkpoint at roberta-large and are newly initialized: ['roberta.pooler.dense.bias', 'roberta.pooler.dense.weight']\n",
      "You should probably TRAIN this model on a down-stream task to be able to use it for predictions and inference.\n",
      "Some weights of RobertaModel were not initialized from the model checkpoint at roberta-large and are newly initialized: ['roberta.pooler.dense.bias', 'roberta.pooler.dense.weight']\n",
      "You should probably TRAIN this model on a down-stream task to be able to use it for predictions and inference.\n",
      "Some weights of RobertaModel were not initialized from the model checkpoint at roberta-large and are newly initialized: ['roberta.pooler.dense.bias', 'roberta.pooler.dense.weight']\n",
      "You should probably TRAIN this model on a down-stream task to be able to use it for predictions and inference.\n",
      "Some weights of RobertaModel were not initialized from the model checkpoint at roberta-large and are newly initialized: ['roberta.pooler.dense.bias', 'roberta.pooler.dense.weight']\n",
      "You should probably TRAIN this model on a down-stream task to be able to use it for predictions and inference.\n",
      "Some weights of RobertaModel were not initialized from the model checkpoint at roberta-large and are newly initialized: ['roberta.pooler.dense.bias', 'roberta.pooler.dense.weight']\n",
      "You should probably TRAIN this model on a down-stream task to be able to use it for predictions and inference.\n",
      "Some weights of RobertaModel were not initialized from the model checkpoint at roberta-large and are newly initialized: ['roberta.pooler.dense.bias', 'roberta.pooler.dense.weight']\n",
      "You should probably TRAIN this model on a down-stream task to be able to use it for predictions and inference.\n",
      "Some weights of RobertaModel were not initialized from the model checkpoint at roberta-large and are newly initialized: ['roberta.pooler.dense.bias', 'roberta.pooler.dense.weight']\n",
      "You should probably TRAIN this model on a down-stream task to be able to use it for predictions and inference.\n",
      "Some weights of RobertaModel were not initialized from the model checkpoint at roberta-large and are newly initialized: ['roberta.pooler.dense.bias', 'roberta.pooler.dense.weight']\n",
      "You should probably TRAIN this model on a down-stream task to be able to use it for predictions and inference.\n",
      "Some weights of RobertaModel were not initialized from the model checkpoint at roberta-large and are newly initialized: ['roberta.pooler.dense.bias', 'roberta.pooler.dense.weight']\n",
      "You should probably TRAIN this model on a down-stream task to be able to use it for predictions and inference.\n",
      "Some weights of RobertaModel were not initialized from the model checkpoint at roberta-large and are newly initialized: ['roberta.pooler.dense.bias', 'roberta.pooler.dense.weight']\n",
      "You should probably TRAIN this model on a down-stream task to be able to use it for predictions and inference.\n",
      "Some weights of RobertaModel were not initialized from the model checkpoint at roberta-large and are newly initialized: ['roberta.pooler.dense.bias', 'roberta.pooler.dense.weight']\n",
      "You should probably TRAIN this model on a down-stream task to be able to use it for predictions and inference.\n",
      "Some weights of RobertaModel were not initialized from the model checkpoint at roberta-large and are newly initialized: ['roberta.pooler.dense.bias', 'roberta.pooler.dense.weight']\n",
      "You should probably TRAIN this model on a down-stream task to be able to use it for predictions and inference.\n",
      "Some weights of RobertaModel were not initialized from the model checkpoint at roberta-large and are newly initialized: ['roberta.pooler.dense.bias', 'roberta.pooler.dense.weight']\n",
      "You should probably TRAIN this model on a down-stream task to be able to use it for predictions and inference.\n",
      "Some weights of RobertaModel were not initialized from the model checkpoint at roberta-large and are newly initialized: ['roberta.pooler.dense.bias', 'roberta.pooler.dense.weight']\n",
      "You should probably TRAIN this model on a down-stream task to be able to use it for predictions and inference.\n",
      "Some weights of RobertaModel were not initialized from the model checkpoint at roberta-large and are newly initialized: ['roberta.pooler.dense.bias', 'roberta.pooler.dense.weight']\n",
      "You should probably TRAIN this model on a down-stream task to be able to use it for predictions and inference.\n",
      "Some weights of RobertaModel were not initialized from the model checkpoint at roberta-large and are newly initialized: ['roberta.pooler.dense.bias', 'roberta.pooler.dense.weight']\n",
      "You should probably TRAIN this model on a down-stream task to be able to use it for predictions and inference.\n",
      "Some weights of RobertaModel were not initialized from the model checkpoint at roberta-large and are newly initialized: ['roberta.pooler.dense.bias', 'roberta.pooler.dense.weight']\n",
      "You should probably TRAIN this model on a down-stream task to be able to use it for predictions and inference.\n",
      "Some weights of RobertaModel were not initialized from the model checkpoint at roberta-large and are newly initialized: ['roberta.pooler.dense.bias', 'roberta.pooler.dense.weight']\n",
      "You should probably TRAIN this model on a down-stream task to be able to use it for predictions and inference.\n",
      "Some weights of RobertaModel were not initialized from the model checkpoint at roberta-large and are newly initialized: ['roberta.pooler.dense.bias', 'roberta.pooler.dense.weight']\n",
      "You should probably TRAIN this model on a down-stream task to be able to use it for predictions and inference.\n",
      "Some weights of RobertaModel were not initialized from the model checkpoint at roberta-large and are newly initialized: ['roberta.pooler.dense.bias', 'roberta.pooler.dense.weight']\n",
      "You should probably TRAIN this model on a down-stream task to be able to use it for predictions and inference.\n",
      "Some weights of RobertaModel were not initialized from the model checkpoint at roberta-large and are newly initialized: ['roberta.pooler.dense.bias', 'roberta.pooler.dense.weight']\n",
      "You should probably TRAIN this model on a down-stream task to be able to use it for predictions and inference.\n",
      "Some weights of RobertaModel were not initialized from the model checkpoint at roberta-large and are newly initialized: ['roberta.pooler.dense.bias', 'roberta.pooler.dense.weight']\n",
      "You should probably TRAIN this model on a down-stream task to be able to use it for predictions and inference.\n",
      "Some weights of RobertaModel were not initialized from the model checkpoint at roberta-large and are newly initialized: ['roberta.pooler.dense.bias', 'roberta.pooler.dense.weight']\n",
      "You should probably TRAIN this model on a down-stream task to be able to use it for predictions and inference.\n",
      "Some weights of RobertaModel were not initialized from the model checkpoint at roberta-large and are newly initialized: ['roberta.pooler.dense.bias', 'roberta.pooler.dense.weight']\n",
      "You should probably TRAIN this model on a down-stream task to be able to use it for predictions and inference.\n",
      "Some weights of RobertaModel were not initialized from the model checkpoint at roberta-large and are newly initialized: ['roberta.pooler.dense.bias', 'roberta.pooler.dense.weight']\n",
      "You should probably TRAIN this model on a down-stream task to be able to use it for predictions and inference.\n",
      "Some weights of RobertaModel were not initialized from the model checkpoint at roberta-large and are newly initialized: ['roberta.pooler.dense.bias', 'roberta.pooler.dense.weight']\n",
      "You should probably TRAIN this model on a down-stream task to be able to use it for predictions and inference.\n",
      "Some weights of RobertaModel were not initialized from the model checkpoint at roberta-large and are newly initialized: ['roberta.pooler.dense.bias', 'roberta.pooler.dense.weight']\n",
      "You should probably TRAIN this model on a down-stream task to be able to use it for predictions and inference.\n",
      "Some weights of RobertaModel were not initialized from the model checkpoint at roberta-large and are newly initialized: ['roberta.pooler.dense.bias', 'roberta.pooler.dense.weight']\n",
      "You should probably TRAIN this model on a down-stream task to be able to use it for predictions and inference.\n",
      "Some weights of RobertaModel were not initialized from the model checkpoint at roberta-large and are newly initialized: ['roberta.pooler.dense.bias', 'roberta.pooler.dense.weight']\n",
      "You should probably TRAIN this model on a down-stream task to be able to use it for predictions and inference.\n",
      "Some weights of RobertaModel were not initialized from the model checkpoint at roberta-large and are newly initialized: ['roberta.pooler.dense.bias', 'roberta.pooler.dense.weight']\n",
      "You should probably TRAIN this model on a down-stream task to be able to use it for predictions and inference.\n",
      "Some weights of RobertaModel were not initialized from the model checkpoint at roberta-large and are newly initialized: ['roberta.pooler.dense.bias', 'roberta.pooler.dense.weight']\n",
      "You should probably TRAIN this model on a down-stream task to be able to use it for predictions and inference.\n",
      "Some weights of RobertaModel were not initialized from the model checkpoint at roberta-large and are newly initialized: ['roberta.pooler.dense.bias', 'roberta.pooler.dense.weight']\n",
      "You should probably TRAIN this model on a down-stream task to be able to use it for predictions and inference.\n",
      "Some weights of RobertaModel were not initialized from the model checkpoint at roberta-large and are newly initialized: ['roberta.pooler.dense.bias', 'roberta.pooler.dense.weight']\n",
      "You should probably TRAIN this model on a down-stream task to be able to use it for predictions and inference.\n",
      "Some weights of RobertaModel were not initialized from the model checkpoint at roberta-large and are newly initialized: ['roberta.pooler.dense.bias', 'roberta.pooler.dense.weight']\n",
      "You should probably TRAIN this model on a down-stream task to be able to use it for predictions and inference.\n",
      "Some weights of RobertaModel were not initialized from the model checkpoint at roberta-large and are newly initialized: ['roberta.pooler.dense.bias', 'roberta.pooler.dense.weight']\n",
      "You should probably TRAIN this model on a down-stream task to be able to use it for predictions and inference.\n",
      "Some weights of RobertaModel were not initialized from the model checkpoint at roberta-large and are newly initialized: ['roberta.pooler.dense.bias', 'roberta.pooler.dense.weight']\n",
      "You should probably TRAIN this model on a down-stream task to be able to use it for predictions and inference.\n",
      "Some weights of RobertaModel were not initialized from the model checkpoint at roberta-large and are newly initialized: ['roberta.pooler.dense.bias', 'roberta.pooler.dense.weight']\n",
      "You should probably TRAIN this model on a down-stream task to be able to use it for predictions and inference.\n",
      "Some weights of RobertaModel were not initialized from the model checkpoint at roberta-large and are newly initialized: ['roberta.pooler.dense.bias', 'roberta.pooler.dense.weight']\n",
      "You should probably TRAIN this model on a down-stream task to be able to use it for predictions and inference.\n",
      "Some weights of RobertaModel were not initialized from the model checkpoint at roberta-large and are newly initialized: ['roberta.pooler.dense.bias', 'roberta.pooler.dense.weight']\n",
      "You should probably TRAIN this model on a down-stream task to be able to use it for predictions and inference.\n",
      "Some weights of RobertaModel were not initialized from the model checkpoint at roberta-large and are newly initialized: ['roberta.pooler.dense.bias', 'roberta.pooler.dense.weight']\n",
      "You should probably TRAIN this model on a down-stream task to be able to use it for predictions and inference.\n",
      "Some weights of RobertaModel were not initialized from the model checkpoint at roberta-large and are newly initialized: ['roberta.pooler.dense.bias', 'roberta.pooler.dense.weight']\n",
      "You should probably TRAIN this model on a down-stream task to be able to use it for predictions and inference.\n",
      "Some weights of RobertaModel were not initialized from the model checkpoint at roberta-large and are newly initialized: ['roberta.pooler.dense.bias', 'roberta.pooler.dense.weight']\n",
      "You should probably TRAIN this model on a down-stream task to be able to use it for predictions and inference.\n",
      "Some weights of RobertaModel were not initialized from the model checkpoint at roberta-large and are newly initialized: ['roberta.pooler.dense.bias', 'roberta.pooler.dense.weight']\n",
      "You should probably TRAIN this model on a down-stream task to be able to use it for predictions and inference.\n",
      "Some weights of RobertaModel were not initialized from the model checkpoint at roberta-large and are newly initialized: ['roberta.pooler.dense.bias', 'roberta.pooler.dense.weight']\n",
      "You should probably TRAIN this model on a down-stream task to be able to use it for predictions and inference.\n",
      "Some weights of RobertaModel were not initialized from the model checkpoint at roberta-large and are newly initialized: ['roberta.pooler.dense.bias', 'roberta.pooler.dense.weight']\n",
      "You should probably TRAIN this model on a down-stream task to be able to use it for predictions and inference.\n",
      "Some weights of RobertaModel were not initialized from the model checkpoint at roberta-large and are newly initialized: ['roberta.pooler.dense.bias', 'roberta.pooler.dense.weight']\n",
      "You should probably TRAIN this model on a down-stream task to be able to use it for predictions and inference.\n",
      "Some weights of RobertaModel were not initialized from the model checkpoint at roberta-large and are newly initialized: ['roberta.pooler.dense.bias', 'roberta.pooler.dense.weight']\n",
      "You should probably TRAIN this model on a down-stream task to be able to use it for predictions and inference.\n",
      "Some weights of RobertaModel were not initialized from the model checkpoint at roberta-large and are newly initialized: ['roberta.pooler.dense.bias', 'roberta.pooler.dense.weight']\n",
      "You should probably TRAIN this model on a down-stream task to be able to use it for predictions and inference.\n",
      "Some weights of RobertaModel were not initialized from the model checkpoint at roberta-large and are newly initialized: ['roberta.pooler.dense.bias', 'roberta.pooler.dense.weight']\n",
      "You should probably TRAIN this model on a down-stream task to be able to use it for predictions and inference.\n",
      "Some weights of RobertaModel were not initialized from the model checkpoint at roberta-large and are newly initialized: ['roberta.pooler.dense.bias', 'roberta.pooler.dense.weight']\n",
      "You should probably TRAIN this model on a down-stream task to be able to use it for predictions and inference.\n",
      "Some weights of RobertaModel were not initialized from the model checkpoint at roberta-large and are newly initialized: ['roberta.pooler.dense.bias', 'roberta.pooler.dense.weight']\n",
      "You should probably TRAIN this model on a down-stream task to be able to use it for predictions and inference.\n",
      "Some weights of RobertaModel were not initialized from the model checkpoint at roberta-large and are newly initialized: ['roberta.pooler.dense.bias', 'roberta.pooler.dense.weight']\n",
      "You should probably TRAIN this model on a down-stream task to be able to use it for predictions and inference.\n",
      "Some weights of RobertaModel were not initialized from the model checkpoint at roberta-large and are newly initialized: ['roberta.pooler.dense.bias', 'roberta.pooler.dense.weight']\n",
      "You should probably TRAIN this model on a down-stream task to be able to use it for predictions and inference.\n",
      "Some weights of RobertaModel were not initialized from the model checkpoint at roberta-large and are newly initialized: ['roberta.pooler.dense.bias', 'roberta.pooler.dense.weight']\n",
      "You should probably TRAIN this model on a down-stream task to be able to use it for predictions and inference.\n",
      "Some weights of RobertaModel were not initialized from the model checkpoint at roberta-large and are newly initialized: ['roberta.pooler.dense.bias', 'roberta.pooler.dense.weight']\n",
      "You should probably TRAIN this model on a down-stream task to be able to use it for predictions and inference.\n",
      "Some weights of RobertaModel were not initialized from the model checkpoint at roberta-large and are newly initialized: ['roberta.pooler.dense.bias', 'roberta.pooler.dense.weight']\n",
      "You should probably TRAIN this model on a down-stream task to be able to use it for predictions and inference.\n",
      "Some weights of RobertaModel were not initialized from the model checkpoint at roberta-large and are newly initialized: ['roberta.pooler.dense.bias', 'roberta.pooler.dense.weight']\n",
      "You should probably TRAIN this model on a down-stream task to be able to use it for predictions and inference.\n",
      "Some weights of RobertaModel were not initialized from the model checkpoint at roberta-large and are newly initialized: ['roberta.pooler.dense.bias', 'roberta.pooler.dense.weight']\n",
      "You should probably TRAIN this model on a down-stream task to be able to use it for predictions and inference.\n",
      "Some weights of RobertaModel were not initialized from the model checkpoint at roberta-large and are newly initialized: ['roberta.pooler.dense.bias', 'roberta.pooler.dense.weight']\n",
      "You should probably TRAIN this model on a down-stream task to be able to use it for predictions and inference.\n",
      "Some weights of RobertaModel were not initialized from the model checkpoint at roberta-large and are newly initialized: ['roberta.pooler.dense.bias', 'roberta.pooler.dense.weight']\n",
      "You should probably TRAIN this model on a down-stream task to be able to use it for predictions and inference.\n",
      "Some weights of RobertaModel were not initialized from the model checkpoint at roberta-large and are newly initialized: ['roberta.pooler.dense.bias', 'roberta.pooler.dense.weight']\n",
      "You should probably TRAIN this model on a down-stream task to be able to use it for predictions and inference.\n"
     ]
    },
    {
     "data": {
      "text/html": [
       "<div>\n",
       "<style scoped>\n",
       "    .dataframe tbody tr th:only-of-type {\n",
       "        vertical-align: middle;\n",
       "    }\n",
       "\n",
       "    .dataframe tbody tr th {\n",
       "        vertical-align: top;\n",
       "    }\n",
       "\n",
       "    .dataframe thead th {\n",
       "        text-align: right;\n",
       "    }\n",
       "</style>\n",
       "<table border=\"1\" class=\"dataframe\">\n",
       "  <thead>\n",
       "    <tr style=\"text-align: right;\">\n",
       "      <th></th>\n",
       "      <th>model_name</th>\n",
       "      <th>uuid</th>\n",
       "      <th>companyid</th>\n",
       "      <th>companyname</th>\n",
       "      <th>rouge-1_r</th>\n",
       "      <th>rouge-1_p</th>\n",
       "      <th>rouge-1_f</th>\n",
       "      <th>rouge-2_r</th>\n",
       "      <th>rouge-2_p</th>\n",
       "      <th>rouge-2_f</th>\n",
       "      <th>rouge-l_r</th>\n",
       "      <th>rouge-l_p</th>\n",
       "      <th>rouge-l_f</th>\n",
       "      <th>bleu</th>\n",
       "      <th>bert_precision</th>\n",
       "      <th>bert_recall</th>\n",
       "      <th>bert_f1</th>\n",
       "      <th>compression_ratio</th>\n",
       "      <th>readability</th>\n",
       "    </tr>\n",
       "  </thead>\n",
       "  <tbody>\n",
       "    <tr>\n",
       "      <th>0</th>\n",
       "      <td>human-centered-summarization/financial-summari...</td>\n",
       "      <td>ca419775-262e-4e3a-975a-e4ead13ef55b</td>\n",
       "      <td>32307</td>\n",
       "      <td>NVIDIA Corporation</td>\n",
       "      <td>0.094228</td>\n",
       "      <td>0.735099</td>\n",
       "      <td>0.167043</td>\n",
       "      <td>0.021143</td>\n",
       "      <td>0.383886</td>\n",
       "      <td>0.040079</td>\n",
       "      <td>0.091681</td>\n",
       "      <td>0.715232</td>\n",
       "      <td>0.162528</td>\n",
       "      <td>4.510778e-19</td>\n",
       "      <td>0.813042</td>\n",
       "      <td>0.802562</td>\n",
       "      <td>0.807768</td>\n",
       "      <td>0.023897</td>\n",
       "      <td>46.47</td>\n",
       "    </tr>\n",
       "    <tr>\n",
       "      <th>1</th>\n",
       "      <td>human-centered-summarization/financial-summari...</td>\n",
       "      <td>ca419775-262e-4e3a-975a-e4ead13ef55b</td>\n",
       "      <td>32307</td>\n",
       "      <td>NVIDIA Corporation</td>\n",
       "      <td>0.084270</td>\n",
       "      <td>0.725806</td>\n",
       "      <td>0.151007</td>\n",
       "      <td>0.019661</td>\n",
       "      <td>0.350746</td>\n",
       "      <td>0.037235</td>\n",
       "      <td>0.081773</td>\n",
       "      <td>0.704301</td>\n",
       "      <td>0.146532</td>\n",
       "      <td>3.418908e-17</td>\n",
       "      <td>0.801486</td>\n",
       "      <td>0.797804</td>\n",
       "      <td>0.799641</td>\n",
       "      <td>0.026651</td>\n",
       "      <td>59.70</td>\n",
       "    </tr>\n",
       "    <tr>\n",
       "      <th>2</th>\n",
       "      <td>human-centered-summarization/financial-summari...</td>\n",
       "      <td>ca419775-262e-4e3a-975a-e4ead13ef55b</td>\n",
       "      <td>32307</td>\n",
       "      <td>NVIDIA Corporation</td>\n",
       "      <td>0.026387</td>\n",
       "      <td>0.720588</td>\n",
       "      <td>0.050909</td>\n",
       "      <td>0.003312</td>\n",
       "      <td>0.285714</td>\n",
       "      <td>0.006548</td>\n",
       "      <td>0.025848</td>\n",
       "      <td>0.705882</td>\n",
       "      <td>0.049870</td>\n",
       "      <td>6.045188e-93</td>\n",
       "      <td>0.817130</td>\n",
       "      <td>0.774703</td>\n",
       "      <td>0.795351</td>\n",
       "      <td>0.004732</td>\n",
       "      <td>57.57</td>\n",
       "    </tr>\n",
       "    <tr>\n",
       "      <th>3</th>\n",
       "      <td>human-centered-summarization/financial-summari...</td>\n",
       "      <td>ca419775-262e-4e3a-975a-e4ead13ef55b</td>\n",
       "      <td>32307</td>\n",
       "      <td>NVIDIA Corporation</td>\n",
       "      <td>0.017231</td>\n",
       "      <td>0.571429</td>\n",
       "      <td>0.033453</td>\n",
       "      <td>0.001643</td>\n",
       "      <td>0.186441</td>\n",
       "      <td>0.003257</td>\n",
       "      <td>0.017231</td>\n",
       "      <td>0.571429</td>\n",
       "      <td>0.033453</td>\n",
       "      <td>8.536230e-184</td>\n",
       "      <td>0.778192</td>\n",
       "      <td>0.778295</td>\n",
       "      <td>0.778243</td>\n",
       "      <td>0.004102</td>\n",
       "      <td>51.44</td>\n",
       "    </tr>\n",
       "    <tr>\n",
       "      <th>4</th>\n",
       "      <td>human-centered-summarization/financial-summari...</td>\n",
       "      <td>ca419775-262e-4e3a-975a-e4ead13ef55b</td>\n",
       "      <td>32307</td>\n",
       "      <td>NVIDIA Corporation</td>\n",
       "      <td>0.035427</td>\n",
       "      <td>0.694737</td>\n",
       "      <td>0.067416</td>\n",
       "      <td>0.005472</td>\n",
       "      <td>0.286885</td>\n",
       "      <td>0.010739</td>\n",
       "      <td>0.034353</td>\n",
       "      <td>0.673684</td>\n",
       "      <td>0.065373</td>\n",
       "      <td>4.581709e-75</td>\n",
       "      <td>0.804702</td>\n",
       "      <td>0.783013</td>\n",
       "      <td>0.793709</td>\n",
       "      <td>0.005879</td>\n",
       "      <td>47.08</td>\n",
       "    </tr>\n",
       "  </tbody>\n",
       "</table>\n",
       "</div>"
      ],
      "text/plain": [
       "                                          model_name  \\\n",
       "0  human-centered-summarization/financial-summari...   \n",
       "1  human-centered-summarization/financial-summari...   \n",
       "2  human-centered-summarization/financial-summari...   \n",
       "3  human-centered-summarization/financial-summari...   \n",
       "4  human-centered-summarization/financial-summari...   \n",
       "\n",
       "                                   uuid  companyid         companyname  \\\n",
       "0  ca419775-262e-4e3a-975a-e4ead13ef55b      32307  NVIDIA Corporation   \n",
       "1  ca419775-262e-4e3a-975a-e4ead13ef55b      32307  NVIDIA Corporation   \n",
       "2  ca419775-262e-4e3a-975a-e4ead13ef55b      32307  NVIDIA Corporation   \n",
       "3  ca419775-262e-4e3a-975a-e4ead13ef55b      32307  NVIDIA Corporation   \n",
       "4  ca419775-262e-4e3a-975a-e4ead13ef55b      32307  NVIDIA Corporation   \n",
       "\n",
       "   rouge-1_r  rouge-1_p  rouge-1_f  rouge-2_r  rouge-2_p  rouge-2_f  \\\n",
       "0   0.094228   0.735099   0.167043   0.021143   0.383886   0.040079   \n",
       "1   0.084270   0.725806   0.151007   0.019661   0.350746   0.037235   \n",
       "2   0.026387   0.720588   0.050909   0.003312   0.285714   0.006548   \n",
       "3   0.017231   0.571429   0.033453   0.001643   0.186441   0.003257   \n",
       "4   0.035427   0.694737   0.067416   0.005472   0.286885   0.010739   \n",
       "\n",
       "   rouge-l_r  rouge-l_p  rouge-l_f           bleu  bert_precision  \\\n",
       "0   0.091681   0.715232   0.162528   4.510778e-19        0.813042   \n",
       "1   0.081773   0.704301   0.146532   3.418908e-17        0.801486   \n",
       "2   0.025848   0.705882   0.049870   6.045188e-93        0.817130   \n",
       "3   0.017231   0.571429   0.033453  8.536230e-184        0.778192   \n",
       "4   0.034353   0.673684   0.065373   4.581709e-75        0.804702   \n",
       "\n",
       "   bert_recall   bert_f1  compression_ratio  readability  \n",
       "0     0.802562  0.807768           0.023897        46.47  \n",
       "1     0.797804  0.799641           0.026651        59.70  \n",
       "2     0.774703  0.795351           0.004732        57.57  \n",
       "3     0.778295  0.778243           0.004102        51.44  \n",
       "4     0.783013  0.793709           0.005879        47.08  "
      ]
     },
     "execution_count": 53,
     "metadata": {},
     "output_type": "execute_result"
    }
   ],
   "source": [
    "evaluation_results = pd.DataFrame()\n",
    "\n",
    "for index, row in tqdm(df.iterrows()):\n",
    "    evaluation_result = evaluate_summary(row, model_name)\n",
    "    evaluation_results = pd.concat([evaluation_results, evaluation_result], ignore_index=True)\n",
    "\n",
    "evaluation_results.head()"
   ]
  },
  {
   "cell_type": "code",
   "execution_count": 54,
   "metadata": {},
   "outputs": [
    {
     "name": "stderr",
     "output_type": "stream",
     "text": [
      "INFO:root:model 'human-centered-summarization/financial-summarization-pegasus' not found. appending new row to ../data/evaluation_results.csv.\n",
      "INFO:root:results saved to ../data/evaluation_results.csv\n"
     ]
    }
   ],
   "source": [
    "csv_filename = Path('..') / 'data' / 'evaluation_results.csv'\n",
    "\n",
    "if os.path.exists(csv_filename):\n",
    "    existing_df = pd.read_csv(csv_filename)\n",
    "    if ((existing_df.model_name == model_name) & (existing_df.companyid == company_id)).any():\n",
    "        logging.info(f\"model '{model_name}' and {company_id} combination already exists in {csv_filename}. no new row added.\")\n",
    "        updated_df = existing_df\n",
    "    else:\n",
    "        updated_df = pd.concat([existing_df, evaluation_results], ignore_index=True)\n",
    "        logging.info(f\"model '{model_name}' not found. appending new row to {csv_filename}.\")\n",
    "else:\n",
    "    updated_df = evaluation_results\n",
    "    logging.info(f\"{csv_filename} not found. creating new file.\")\n",
    "\n",
    "updated_df.to_csv(csv_filename, index=False)\n",
    "logging.info(f'results saved to {csv_filename}')"
   ]
  },
  {
   "cell_type": "code",
   "execution_count": 55,
   "metadata": {},
   "outputs": [
    {
     "data": {
      "image/png": "[encoded data removed]",
      "text/plain": [
       "<Figure size 1500x1000 with 16 Axes>"
      ]
     },
     "metadata": {},
     "output_type": "display_data"
    },
    {
     "data": {
      "image/png": "[encoded data removed]",
      "text/plain": [
       "<Figure size 1200x1000 with 2 Axes>"
      ]
     },
     "metadata": {},
     "output_type": "display_data"
    }
   ],
   "source": [
    "def visualize_results(df):\n",
    "    \"\"\"\n",
    "    Visualizes evaluation metrics stored in a DataFrame.\n",
    "    \n",
    "    Parameters:\n",
    "    df (pandas.DataFrame): DataFrame containing evaluation results with numeric metric columns.\n",
    "    \n",
    "    This function produces:\n",
    "    - Histograms for each numeric metric.\n",
    "    - A correlation heatmap of the numeric metrics.\n",
    "    \"\"\"\n",
    "    # Select numeric columns (ignoring non-numeric columns such as model_name, uuid, etc.)\n",
    "    numeric_cols = df.select_dtypes(include='number').columns.tolist()\n",
    "    \n",
    "    # Plot histograms for each numeric metric\n",
    "    df[numeric_cols].hist(bins=20, figsize=(15, 10))\n",
    "    plt.suptitle(\"Histograms of Evaluation Metrics\", fontsize=16)\n",
    "    plt.tight_layout(rect=[0, 0, 1, 0.96])\n",
    "    plt.show()\n",
    "    \n",
    "    # Plot a correlation heatmap of the numeric metrics\n",
    "    plt.figure(figsize=(12, 10))\n",
    "    correlation_matrix = df[numeric_cols].corr()\n",
    "    sns.heatmap(correlation_matrix, annot=True, cmap='coolwarm', fmt=\".2f\")\n",
    "    plt.title(\"Correlation Heatmap of Evaluation Metrics\", fontsize=16)\n",
    "    plt.show()\n",
    "\n",
    "visualize_results(evaluation_results)"
   ]
  },
  {
   "cell_type": "code",
   "execution_count": 56,
   "metadata": {},
   "outputs": [],
   "source": [
    "df.to_csv(\n",
    "        Path(\"..\") / \"data\" / f\"{company_id}_summarized.csv\",\n",
    "        sep='\\t',\n",
    "        index=False,\n",
    "        quoting=1,\n",
    "        escapechar='\\\\',\n",
    "        doublequote=True,\n",
    "        quotechar='\"',\n",
    "        lineterminator='\\n'\n",
    "    )"
   ]
  },
  {
   "cell_type": "code",
   "execution_count": null,
   "metadata": {},
   "outputs": [
    {
     "data": {
      "text/plain": [
       "\"Analysts: All right. Why don't we go ahead and get started? Good morning, Happy New Year, and welcome to JPMorgan's 21st Annual Technology and Automotive Investor Forum here at the Consumer Electronics Show. My name is Harlan Sur. I'm the semiconductor and semiconductor capital equipment analyst for the firm. \\nVery pleased to introduce Colette Kress, Executive Vice President and Chief Financial Officer at NVIDIA. It's been a tradition 9 years to have the NVIDIA team, specifically Colette, be the first to present at our investor conference, because the team is driving many of the trends that you're going to hear about today, right. Artificial intelligence, compute acceleration, next-generation compute platforms in automotive, in gaming and IoT. And in addition to that, the NVIDIA team is driving an emerging software and services revenue stream.\\nSo I've asked Colette to start us off with an overview of what the team announced on Tuesday at its CES special address, and then we'll go ahead and kick off the Q&A. So Colette, thank you for the 9 years of support, and I'll turn it over to you.\\nExecutives: Thank you. Really pleased to be here. We wouldn't miss it. Even with the great weather that we're experiencing, we wouldn't miss it and come here. I don't need to make an opening reminder statement that the presentation and discussions that we will have contains forward-looking statements, and investors are advised to read our reports that are filed with the SEC for information relates to our risks and uncertainties facing our business.\\nOkay. Now that I have out of the way, I want to first start with some of the key things that we have been working on probably since we've last discussed after our Q3 earnings. ADA, which is our architecture for our gaming platforms is off to a great start. We began earlier, launching our 4090, launching our 4080, which is also becoming 1 of the most popular GPUs in retail. And we're here today to announce our RTX 4070 TI version as well. So we're really pleased in terms of what we're seeing. But of course, our ADA architecture is leading, and we are still working in terms of our inventory correction, which is going as expected right now.\\nSecondly, we are focused on bringing to market a large lineup of new products, particularly in our data center. We have our Hopper architecture, working on for many years and a really important improvement for many of the new types of workloads that are hitting the market. And I think we'll talk a little bit more about that today. \\nWe are continuing to watch China and it's opening. China has certainly been through quite a bit in terms of their 0 COVID policy. It's still early for us, but we are watching them carefully. As you know, in the last year, in calendar '22, really challenges in terms of both our gaming and our data center based on the economy in China and the COVID lockdowns. \\nBut we are here at CES. We're here for the consumer folks, both here for gaming as well as for auto. So let me kind of discuss some of the things that we discussed. Talked about the 40-70 TI coming to market, and we are also bringing our 40 series to notebooks. We have more than 170 different notebooks, probably able to see throughout the floor at the convention center, but it is also fueled with our DLSS, which really helps bring AI and reaching to so many of the gamers. So our DLSS is in its third generation, very similar to our ray tracing architecture being in its third generation. We also have more than 50 new games using DLSS 3, both here and available, but also coming in the next couple of quarters. \\nSo we're really excited to see what we can do with our 40 Series. But it's not just focused on, on-premise gaming. Our GFN will now be available with our 4080. So GFN is our cloud opportunity for gaming and bringing a high end 4080 is a really great experience for those cloud gamers. I love the fun fact also what we're bringing is GFN to the automotive. We decided to bring those 2 things together. So we have several of our automotive makers that are looking to provide GFN inside of the car. So gaming everywhere and always. So we're really pleased.\\nMoving to our automotive, probably 1 of the key highlights our automotive announcements out here is FoxConn has decided to join and has adopted our Oren architecture for compute in the many NEVs, not just the NEVs that we are already a part of, but any type of NEV, new energy types of cars across the world. So we're very excited about that partnership and their endorsement of the architecture. \\nThere's more that we are seeing in terms of Omniverse. Omniverse has, of course, now been adopted by Mercedes in their next-generation factories similar to some of the other automotive companies that are really seeing the need of the digital twin of the factories to find the perfect combination of how to run those factories very efficiently and using the AI. So those are some of the key highlights I wanted to start with. There's a couple other ones, but a really great show and we're really pleased to be here in person.\\nAnalysts: I appreciate that, Colette. Thank you for that. So I'll start off with the first few and I'll certainly turn it over to the audience to see if you guys have any questions. If you hit your guidance this quarter, revenue for calendar '22 is expected to remain flattish. It's actually much better than prior down cycles and inventory correction cycle for the company. And I think it's a strong reflection of the product cycles, the diversification. As we look into this year, fiscal '24, consensus has your revenue's growing. What's the team's confidence on driving growth in an environment where global demand trends will be soft? Help us understand the trends and product cycles that will drive the business this year? And then maybe longer term, how do we think about the overall growth profile for the different businesses, right, gaming, data center, ProViz and automotive?\\nExecutives: Yes. A great way to start out in talking about it's a new year, what do we want to see and focus on in the new year. One of the things that, of course, we can't control is the macro environment around the world. And the macro environment around the world is just not the same in every single country, each 1 of them facing quite uniqueness. But we can spend our time focusing on our opportunities in front of us. As you are correct, we have a large portfolio of new products coming to market. And those even start with our data center business. \\nOne of our more important architectures, our Hopper architectures sporting the massive growth that we've seen in AI over the last several, several years. So not only is it about the Hopper architecture, but remember, we're also bringing our Grace CPU to market. We are bringing in our networking business, our latest DPU to market with BlueField, and we will also be looking at a large part of our portfolio in networking at the higher speeds that are necessary to support the environment of data center computing architecture as a whole. \\nWe're not just focused on a singular GPU type of platform. We're really focused on the data center computing as a whole. And the environment couldn't be more set up right now as folks have really understood that the ending of Moore's Law is now really here. And when you're in a situation of having to make choices, the movement to accelerated computing and use of AI couldn't be more important for them. But that's only 1 part of it. \\nAs you know, in gaming, with our 40 Series with the kickoff of the 4090. We really believe this is a great acute excitement of gaming and what a third generation of ray tracing that DLSS can provide, not only to just gamers, but the creators out there, there are so many different use case opportunities that ray tracing that really takes us into the workstations on ProViz when we talk about what they could also do with it. The creators thinking about the use of ray tracing and all of the work that they are doing. \\nBut then lastly, we are continuing a growth trajectory on our automotive business. Oren has been a home run, both working in terms of that compute platform of many of the NEVs, but we also have an $11 billion pipeline moving forward. And we're just at that turning point that we could be getting to grow to a $1 billion business in our automotive, realizing that potential of that $11 billion pipeline. \\nBut keep in mind, there is still work to do. When you'll see the work coming with our key agreements that we have with JLR, what we have with Mercedes-Benz and Daimler. All of those are still in the future. So the growth is still here to go forward. So those are the things that we're focused on, as we go forward even in the current macro environment.\\nAnalysts: Near term, I think as you mentioned, the team has been working through excess channel inventories in gaming as well as your ProViz business. On gaming, in particular, Q2 and Q3 combined, you're shipping about 30% below end demand consumption of around $5 billion. And we went back and looked historically after 2 quarters of undershipping demand, typically, the team typically does see an inflection in the business. You had anticipated channel inventories back to more normalized levels exiting this quarter. Is the team still tracking to this milestone and is end consumption still at roughly that sort of $2.5 billion-ish run rate per quarter, plus or minus, even in this sort of tough macro environment?\\nExecutives: Yes. So the macro environment and what we're seeing in terms of demand for gaming, in North America and in Europe, as we've discussed, we're seeing solid demand. China gone through a lot in calendar '22, the end of 0 COVID may improve, but it's still too early for us to say. So it has been a little bit choppy in terms of China. And we had discussed that in our Q3. \\nHowever, still gaming as a whole is a very important area for us to focus on, and the demand is definitely there and solid. \\nNow moving to our series of the 40 Series bringing that to market. That's 1 piece of it in terms of the demand, but also again, getting the correction of the channel. Yes, we are on track. As we leave this Q4 or Q4 at the end of January to be near normal channel levels in the market. We believe that this is just through a combination of the holiday season. A really, really direct focus on making sure working with our AIC partners and our OEMs to move that inventory. And you're correct, that sometimes a couple of quarters to do that. And we moved quickly, and we think it's working quite well.\\nAnalysts: Perfect. Before I move on to some of the product segments, let me see if anybody has any questions before I move forward. So let's start off with your data center business. It's more than 60% of your overall revenues. The business is tracking towards 40% year-over-year growth in fiscal '23, which is more than 1.5x the cloud CapEx growth last year. And the team has driven roughly about a 70% CAGR over the past 3 years, which is about 2x the annualized growth rate relative to cloud CapEx spending growth. Our hardware team is forecasting cloud CapEx spending still up high single digits this year. But more of the spending is focused on strategic compute initiatives like accelerated compute. \\nAnd so you combine this with the next-generation Hopper ramp, your H-100 Ram, continued strong enterprise adoption, strong networking demand pool, history would suggest that the team should grow the data center segment by double-digit percentage growth rate this year. Help us understand the puts and takes around data center business in this challenging macro environment this year and confidence on driving growth for fiscal '24.\\nExecutives: Yes. There's a focus within the company to really get these great products to market that we have. The Hopper architecture that we're bringing to market in feeds so many great things. The AI market has expanded exceptionally since our last architecture. And not only just the advancement of the market as a whole, just the complexity, the size of the models have continued to grow. We're seeing 3 very important areas in AI that are probably in their infancy or did not exist in the last 3 years or more. And those areas are these large language models, fields by the natural language processing. The recommendator systems are yet another 1 that are still very, very important to monetization, monetization and marketing a very key area. \\nAnd this that I think you've probably all seen during the holidays is the focus on generative AI. Really a great opportunity of both now creating these models, creating these trained models and seeing is now possible to be produced out of generative AI. We're very excited for this. \\nBut you also focused on key areas of the end of Moore's Law and what accelerated computing needs to do. We're in the right position with our architecture to both improve performance of nearly 5x or more from the last generation, but also the energy efficiency because the concept of the end of Moore's Law really goes into the sustainability. What are we going to do with our data centers going forward if we're not on the efficiency in there. We're all set up for all of these right things as the market continues to grow. \\nIt's not just Hopper, it is a full lineup across the board. We expect our Grace CPU to help influence the connectivity of working with our GPU, really working in terms of the speeds of all the work in terms of the data center. And so again, not being able to control the macro environment, we have a great lineup of products to help fuel growth if it's that.\\nAnalysts: And the team started shipping Hopper production and initial shipments fiscal Q3. Server OEM availability was this quarter, right, Q4, cloud instances available next quarter. The team noted, I think, in the last earnings call that Hopper is expected to ship in large volumes in the April quarter. Is that still the case? And can you just talk about the overall sort of cloud hyperscale customer traction, design win pipeline so far with the H-100 and how that compares to the A100 cycle?\\nExecutives: Each generation now of bringing our data center architecture to market has had more advancements and more connectivity with our customers. When we think about the work we've done to bring this to market, it's not alone. It's with our partners, it is with our customers. And so much of the work and the anticipation of Hopper may have not been an excitement of here it is, because we've been working on it and working with our customers for quite some time. \\nSo those relationships are very important. They have helping us both qualify it, working with it and being ready to bring this to market. We will bring production level H-100 market this quarter. We started some initial ones in Q3, but that is starting here in Q4. And yes, we expect a ramp into fiscal year '24, the first quarter as well as we continue to ramp H-100. So this is a big undertaking. It is a fabulous product, but the relationships in our work will really come through.\\nAnalysts: As we talk with a lot of the users, the power users of accelerated compute, right, 1 of the things that the waiting as a CPU GPU architecture, which it's called cache coherency. But basically, the thought process is memory sharing like efficient memory sharing between the CPU and GPU. That's not currently available. I think Intel, AMD, I think, are 2 years away with the CXL initiative. But your Grace CPU, which is expected to sample, I believe, in first half of the year that you guys have already pre-integrated cache coherency in your Grace CPU. Give us a sense of, like I said, you have team expected to sample in the first half of the year, ramp into the market in the second half of the year. First, is the team tracking to its time lines on Grace? And how do we think about the revenue profile and the opportunity for Grace?\\nExecutives: Sure. So let's about Grace and what our overall goal was there. When you think about the work that is being done for AI or the work that's been in the data center, you can't ever accomplish that with just one GPU. We have been spending years focusing on linking together multiple GPUs, essentially coming up with supercomputers. Supercomputers to help both the size of the models as well as the efficiencies and speeds of the work that they are accomplishing. We've done that both with our own interconnects and then came together with Mellanox as well working on that. \\nBut now here's another important piece of we brought Grace here. Grace gives us the opportunity to focus on the speeds between that CPU and the GPUs, but also focusing, as you mentioned, in terms of the memory and how can we make sure that is the most efficient processes that we can do. Our Grace CPU is focused on very large models, large models focusing on AI, focusing on the supercomputing, focusing on high-performance computing workloads and many of our new things that we see in the future, such as digital twins and the amount of work that we'll take into count. \\nSo Grace and Hopper go together. Yes, we're on track for sampling in the first half, and we'll bring this to market in the second half of the year. This is an area where the design wins of working with many of our customers as they see this connectivity of putting the 2 products together to be great for their opportunities, and we'll continue to work on that.\\nAnalysts: Let's shift the focus over to gaming. Despite consumer market, demand for the new ADA 40 series gaming products, the initial ones, the 4090, 4080 seems quite good, right? We checked some of the online retail sites. 4090 is tight availability in most places. 4080 GPU card pricing is marked up about 10%, 15% relative to MSRP. So this all suggests really good demand pull through. You mentioned the special address or Jeff mentioned that special as 40% of your installed base has adopted RTX GPUs. And we're now in our third generation of the RTX architecture. \\nSo with the new product launch, how should we think about the additional penetration rate into your installed base? And typically, like how long are these GPU replacement cycles?\\nExecutives: Yes. So a great set of questions and agree wholeheartedly in terms of our 4090, 4080 and what we're seeing out in the market. 4090 sold out quite quickly. We've already started the restocking about working with our AICs to do so. And the 4080 is doing very well in terms of in retail as well in terms of selling. We have RTX now in our installed base of nearly 40%. \\nSo interesting because we were probably on stage here several years ago, talking about what is ray tracing. And are there going to be games with that. And now we have in our installed base, more than 40% focused on ray tracing. Ampere architecture probably was about 1/3 of that. And so now here we come with a third generation. And there's, again, great opportunity because it's not just about that platform, it has been about our work with the ecosystem in creating the games that can now use ray-tracing and use DLSS. \\nSo we're on a great trajectory there to see that take off more. As we go forward in the new year, I think you're going to see more our 40 series come to market. Now, how do we think about how much of that will be sold to those that are refreshing versus those that are coming in as new gamers. Always tough to look at but what we have seen is we bring a new generation of the product to market 2-plus years. Every 2-plus years will bring in a new generation. \\nBut what we see is probably refreshes some of the most important gamers out there to be a little bit over 3 years. So this is a great opportunity for not only upgrading to Ampere, but thinking about those that are in prior generations that have not upgraded yet. That is a material performance increase and a no-brainer for them in terms of purchasing. So I think we'll see both new gamers and that refresh.\\nAnalysts: Let's switch over and talk about software. On your software solutions, you're enabling customers to come to market rapidly by developing full stack. We've always talked about the NVIDIA strategy as focused on ecosystem, right? And a part of that is full stack development, turnkey solutions, managed services, you're monetizing your software platforms and you've got monetization opportunities across all of your end markets, right? The business is running. \\nI believe the software, services and ratable type of revenue streams, I think, is running sort of low sort of $100 million sort of annualized run rate today, and you're now selling software separately, right? You've got NVIDIA AI enterprise, Omniverse, AV. Like how do we think about the size of these opportunities? And what's the monetization time line of these software and services-based opportunities?\\nExecutives: Yes. Software is a very important piece in terms of our success almost in each 1 of our businesses. For many years, we have put software in both the ecosystem as well as in our products that enables customers to take out of a box and begin their work that they need, because we've enabled a lot about software. But there now is that opportunity to sell it separately. Why? It creates more of that relationship and the help that is needed for many enterprises. \\nOur enterprises need not support as they are beginning their work on AI projects or otherwise. So we took this opportunity to break out software and sell it separately with our enterprises. You're going to see it in 3 major areas and probably more going forward. But the first is NVIDIA AI enterprise. This is a core you should think about as the operating system of AI available for our enterprises and not only being sold with us and our partners, but also being sold with several of our CSPs, putting it in their marketplace. \\nThey really believe that it's not just about setting up cloud instances. They need to support that software that they are all using with NVIDIA to do that as well. So we're really pleased with that piece of work that's coming together. So NVIDIA AI is an important piece. \\nThe second one we've talked about is Omniverse. Omniverse really fuels, what we will see as the future of 3D Internet and folks really working not only on those 3 dimensions, but what you may see in terms of digital twins and work in that piece. So we'll sell that, whether that be with groups inside the enterprise or even to an individual that may be a creative worker as well. \\nThe third 1 is our focus on software for automotive. Our focus is not just on NEVs and creating a computing platform in the hardware infrastructure, we have a significant amount of work and effort and design wins as we focus on AV. And so we are now able to do both of selling them that hardware, but also being a part of the software revenue stream that will enable within the OEM. We'll be able to share that with them, with Daimler and both with JLR. So that is the more of the medium and long term with what we're seeing in terms of NVIDIA AI and Omniverse here right now.\\nAnalysts: In automotive, as you mentioned, team has an $11 billion design win pipeline that is expected to unfold over the next few years, but that business started to inflect pretty meaningfully in Q2 of last. In fact, it's driving like 100% year-over-year growth. I think, this quarter driven by your Oren based platforms, which are starting to ramp. You also still have in front of you the revenue-sharing opportunities with Daimler, Jaguar Land Rover in front of you. How should we model -- think about the ramp into this $11 billion automotive pipeline over the next 3 to 4 years?\\nExecutives: Yes, you're going to see different stages, but we've already probably passed an inflection point that we're seeing the growth of Oren with our NEVs. Why are the NEVs focused on Oren? One, both the performance level and when you're thinking about building an electric car, you're really starting from and redesigning and having that central computing platform has been very important to them. Both our work now with Foxconn as well as many of the top NEVs the world focused on this. It is a great opportunity to continue to ramp. \\nAdditionally, the next phase will be coming with our design wins, both on robotaxis and bringing some of the early AV to market. In this case, this can be both in infrastructure and may have some of our software incorporated in them well. But further more in the long term, probably get to calendar '25 is when you are going to see production vehicles for AV start to ramp and be a more meaningful position in our automotive. At this point, we're going to be now seeing that software really take off. Right now, we're still in the hardware infrastructure that's driving our revenue. But again, growing into that pipeline that we have going forward.\\nAnalysts: On the financials, how do we think about the OpEx profile relative to the revenue growth, given you talked about a very aggressive cadence, right? So across your GPU, CPU and your networking product, the team is driving a 2-year cadence. That's an extremely aggressive cadence. And then on top of that, you've got ecosystem enablement, you've got software development and so on. And so how should we think about the R&D or the OpEx intensity and that relative to revenue growth going forward?\\nExecutives: When the first challenges of the economy had, it was a focus of ours to really slow down the hiring and so that we can focus on our teams that we have, that we could focus on our employees that we had. And that was the very first thing that we did is slowing down that hiring. And we are continuing to work to try and keep on a sequential basis about as flat as we can in this environment. You're right. We've got a very large portfolio of bringing new products to market, and they're quite complex in that work. \\nBut our business model and our structure as a company allows quite a bit of efficiency. What I mean that is, remember, we're essentially 1 architecture across everything that we do. All of our software is both forward compatibility and back compatibility. So having that consistent unified architecture has really allowed the efficiencies and how we structure the organization as a whole. And in this environment, is helping us fuel bring this stuff together. \\nSo we'll continue to focus on making the appropriate investments to bring these products to market, but we're always looking for new areas find efficiencies.\\nAnalysts: Well, thank you. We look forward to monitoring the progress and the execution of the team this year. And Colette, thank you very much for your support.\\nExecutives: Great. Thank you.\\nAnalysts: Thank you.\\nAnalysts: All right. Why don't we go ahead and get started? Good morning, happy new year, and welcome to JPMorgan's 21st Annual Technology and Automotive Investor Forum here at the Consumer Electronics Show. My name is Harlan Sur. I'm the semiconductor and semiconductor capital equipment analyst for the firm.\\nVery pleased to introduce Colette Kress, Executive Vice President and Chief Financial Officer at NVIDIA. It's been a tradition, 9 years, to have the NVIDIA team, specifically Colette, be the first to present at our investor conference because the team is driving many of the trends that you're going to hear about today, right, artificial intelligence, compute acceleration, next-generation compute platforms in automotive, in gaming and IoT. And in addition to that, the NVIDIA team is driving an emerging software and services revenue stream.\\nSo I've asked Colette to start us off with an overview of what the team announced on Tuesday at its CES special address, and then we'll go ahead and kick off the Q&A. So Colette, thank you for the 9 years of support, and I'll turn it over to you.\\nExecutives: Thank you. Really pleased to be here. We wouldn't miss it. Even with the great weather that we're experiencing, we wouldn't miss it and come here. I do need to make an opening reminder statement that the presentation and discussions that we will have contains forward-looking statements, and investors are advised to read our reports that are filed with the SEC for information related to our risks and uncertainties facing our business.\\nOkay. Now that I have that out of the way, I want to first start with some of the key things that we have been working on probably since we've last discussed after our Q3 earnings. Ada, which is our architecture for our gaming platforms, is off to a great start. We began earlier, launching our 4090, launching our 4080, which is also becoming one of the most popular GPUs in retail. And we're here today to announce our RTX 4070 Ti version as well. So we're really pleased in terms of what we're seeing. But of course, our Ada architecture is leading, and we are still working in terms of our inventory correction, which is going as expected right now.\\nSecondly, we are focused on bringing to market a large lineup of new products, particularly in our Data Center. We have our Hopper architecture working on for many years and a really important improvement for many of the new types of workloads that are hitting the market. And I think we'll talk a little bit more about that today.\\nWe are continuing to watch China and its opening. China has certainly been through quite a bit in terms of their zero-COVID policy. It's still early for us, but we are watching them carefully. As you know, in the last year, in calendar '22, really, challenges in terms of both our gaming and our data center based on the economy in China and the COVID lockdowns.\\nBut we are here at CES. We're here for the consumer folks, both here for gaming as well as for auto. So let me kind of discuss some of the things that we discussed. Talked about the 4070 Ti coming to market, and we are also bringing our 40 Series to notebooks. We have more than 170 different notebooks, probably able to see throughout the floor at the convention center.\\nBut it is also fueled with our DLSS, which really helps bring AI and ray tracing to so many of the gamers. So our DLSS is in its third generation, very similar to our ray tracing architecture being in its third generation. We also have more than 50 new games using DLSS 3, both here and available, but also coming in the next couple of quarters.\\nSo we're really excited to see what we can do with our 40 Series. But it's not just focused on on-premise gaming. Our GFN will now be available with our 4080. So GFN is our cloud opportunity for gaming, and bringing a high-end 4080 is a really great experience for those cloud gamers.\\nI love the fun fact also of what we're bringing is GFN to the automotive. We decided to bring those 2 things together. So we have several of our automotive makers that are looking to provide GFN inside of the car. So gaming everywhere and always. So we're really pleased.\\nMoving to our automotive. Probably one of the key highlights of our automotive announcements out here is Foxconn has decided to join and has adopted our Orin architecture for compute in the many NEVs, not just the NEVs that we are already a part of, but any type of NEV, new energy types of cars across the world. So we're very excited about that partnership and their endorsement of the Orin architecture.\\nThere's more that we are seeing in terms of Omniverse. Omniverse has, of course, now been adopted by Mercedes in their next-generation factories, similar to some of the other automotive companies that are really seeing the need of the digital twin of the factories to find the perfect combination of how to run those factories very efficiently and using the AI. So those are some of the key highlights I wanted to start with. There's a couple other ones, but a really great show and we're really pleased to be here in person.\\nAnalysts: I appreciate that, Colette. Thank you for that. So I'll start off with the first few questions, and I'll certainly turn it over to the audience to see if you guys have any questions. If you hit your guidance this quarter -- revenue for calendar '22 is expected to remain flattish. It's actually much better than prior down cycles and inventory correction cycles for the company. And I think it's a strong reflection of the product cycles, the diversification.\\nAs we look into this year, fiscal '24, consensus has your revenues growing. What's the team's confidence on driving growth this year in an environment where global demand trends will be soft? Help us understand the trends and product cycles that will drive the business this year. And then maybe longer term, how do we think about the overall growth profile for the different businesses, right, Gaming, Data Center, ProViz and Automotive?\\nExecutives: Yes. A great way to start out in talking about -- it's a new year. What do we want to see and focus on in the new year? One of the things that, of course, we can't control is the macro environment around the world. And the macro environment around the world is just not the same in every single country, each one of them facing quite uniqueness. But we can spend our time focusing on our opportunities in front of us as you are correct, we have a large portfolio of new products coming to market.\\nAnd those even start with our Data Center business. One of our more important architectures, our Hopper architecture supporting the massive growth that we've seen in AI over the last several, several years. So not only is it about the Hopper architecture, but remember, we're also bringing our Grace CPU to market. We are bringing in our networking business, our latest DPU to market with BlueField, and we will also be looking at a large part of our portfolio in networking at the higher speeds that are necessary to support the environment of data center computing architecture as a whole.\\nWe're not just focused on a singular GPU type of platform. We're really focused on the data center computing as a whole. And the environment couldn't be more set up right now as folks have really understood that the ending of Moore's Law is now really here. And when you're in a situation of having to make choices, the movement to accelerated computing and the use of AI couldn't be more important for them.\\nBut that's only one part of it. As you know, in gaming, with our 40 Series, with the kickoff of the 4090, we really believe this is a great architecture, the excitement of gaming and what a third generation of ray tracing that DLSS can provide, not only to just gamers, but the creators out there. There are so many different use case opportunities of that ray tracing that really takes us into the workstations on ProViz when we talk about what they could also do with it, the creatives thinking about the use of ray tracing in all of the work that they are doing.\\nBut then lastly, we are continuing a growth trajectory on our Automotive business. Orin has been a home run, both working in terms of that compute platform of many of the NEVs, but we also have an $11 billion pipeline moving forward. And we're just at that turning point that we could be getting to grow to $1 billion business in our Automotive, realizing that potential of that $11 billion pipeline.\\nBut keep in mind, there is still work to do. When you'll see the work coming with our key agreements that we have with JLR, what we have with Mercedes-Benz and Daimler, all of those are still in the future. So the growth is still here to go forward. So those are the things that we're focused on, as we go forward even in the current macro environment.\\nAnalysts: Near term, I think as you mentioned, the team has been working through excess channel inventories in Gaming as well as your ProViz business. On Gaming, in particular, Q2 and Q3 combined, you're shipping about 30% below end demand consumption of around $5 billion. And we went back and looked historically after 2 quarters of undershipping demand, typically -- the team typically does see an inflection in the business. You had anticipated channel inventories back to more normalized levels exiting this quarter. Is the team still tracking to this milestone? And is end consumption still trending at roughly that sort of $2.5 billion-ish run rate per quarter, plus or minus, even in this sort of tough macro environment?\\nExecutives: Yes. So the macro environment and what we're seeing in terms of demand for gaming, in North America and in Europe, as we've discussed, we're seeing solid demand. China has gone through a lot in calendar '22. The end of zero COVID may improve, but it's still too early for us to say. So it has been a little bit choppy in terms of China. And we had discussed that in our Q3. However, still, Gaming as a whole is a very important area for us to focus on, and the demand is definitely there and solid.\\nNow moving to our series -- the 40 Series, bringing that to market. That's one piece of it in terms of the demand, but also again, getting the correction of the channel. Yes, we are on track as we leave this Q4, our Q4 at the end of January, to be near normal channel levels in the market. We believe that this is just through a combination of the holiday season, a really, really direct focus on making sure -- working with our AIC partners and our OEMs to move that channel inventory. And you're correct that, that sometimes takes a couple of quarters to do that. And we moved quickly, and we think it's working quite well.\\nAnalysts: Perfect. Before I move on to some of the product segments, let me see if anybody has any questions before I move forward. So let's start off with your Data Center business. It's more than 60% of your overall revenues. The business is tracking towards 40% year-over-year growth in fiscal '23, which is more than 1.5x the cloud CapEx growth last year. And the team has driven roughly about a 70% CAGR over the past 3 years, which is about 2x the annualized growth rate relative to cloud CapEx spending growth.\\nOur hardware team is forecasting cloud CapEx spending still up high single digits this year. But more of the spending is focused on strategic compute initiatives like accelerated compute, right? And so you combine this with the next-generation Hopper ramp, your H100 ramp, continued strong enterprise adoption, strong networking demand pool, history would suggest that the team should grow the Data Center segment by double-digit percentage growth rate this year. Help us understand the puts and takes around Data Center business in this challenging macro environment this year and confidence on driving growth for fiscal '24.\\nExecutives: Yes. There's a focus within the company to really get these great products to market that we have. The Hopper architecture that we're bringing to market in feeds so many great things. The AI market has expanded exceptionally since our last architecture. And not only just the advancement of the market as a whole, just the complexity, the size of the models have continued to grow. We're seeing 3 very important areas in AI that were probably in their infancy or did not exist in the last 3 years or more. And those areas are these large language models fueled by the natural language processing. The recommender systems are yet another one that are still very, very important to monetization and marketing, a very key area.\\nAnd this last one that I think you've probably all seen during the holidays is the focus on generative AI. Really a great opportunity of both now creating these models, creating these trained models and seeing what is now possible to be produced out of generative AI. We're very excited for this.\\nBut you also focused on key areas of the end of Moore's Law and what accelerated computing needs to do. We're in the right position with our architecture to both improve performance of nearly 5x or more from the last generation, but also the energy efficiency because the concept of the end of Moore's Law really goes into the sustainability. What are we going to do with our data centers going forward if we're not focusing on the efficiency in there? We're all set up for all of these right things as the market continues to grow.\\nIt's not just Hopper, it is a full lineup across the board. We expect our Grace CPU to help influence the connectivity of working with our GPU, really working in terms of the speeds of all the work in terms of the data center. And so again, not being able to control the macro environment, we have a great lineup of products to help fuel growth if it's there.\\nAnalysts: And the team started shipping Hopper production and initial shipments in your fiscal Q3. Server OEM availability was this quarter, right, Q4. Cloud instances available next quarter. The team noted, I think, in the last earnings call that Hopper is expected to ship in large volumes in the April quarter. Is that still the case? And can you just talk about the overall sort of cloud hyperscale customer traction, design win pipeline so far with the H100 and how that compares to the A100 cycle?\\nExecutives: Yes. Each generation now of bringing our data center architecture to market has had more advancements and more connectivity with our customers. When we think about the work that we've done to bring this to market, it's not alone. It's with our partners. It is with our customers. And so much of the work and the anticipation of Hopper may have not been an excitement of, here it is, because we've been working on it and working with our customers for quite some time.\\nSo those relationships are very important. They have been helping us both qualify it, working with it and being ready to bring this to market. We will bring production level H100 to market this quarter. We started some initial ones in Q3, but that is starting here in Q4. And yes, we expect a ramp into fiscal year '24, the first quarter as well as we continue to ramp H100. So this is a big undertaking. It is a fabulous product, but the relationships in our work will really come through.\\nAnalysts: As we talk with a lot of the users, the power users of accelerated compute, right, one of the things that they're anxiously awaiting is a CPU/GPU architecture, which -- it's called cache coherency. But basically, the thought process is memory sharing -- like efficient memory sharing between the CPU and GPU. That's not currently available. I think Intel, AMD, I think, are 2 years away with the CXL initiative. But your Grace CPU, which is expected to sample, I believe, in the first half of the year, you guys have already pre-integrated cache coherency in your Grace CPU.\\nGive us a sense of -- like I said, your team expected to sample in the first half of the year, ramp into the market in the second half of the year. First, is the team tracking to its time lines on Grace? And how do we think about the revenue profile and the opportunity for Grace?\\nExecutives: Sure. So let's talk about why Grace and what our overall goal was there. When you think about the work that is being done for AI or the work that's been in the data center, you can't ever accomplish that with just one GPU. We have been spending years focusing on linking together multiple GPUs, essentially coming up with supercomputers, supercomputers to help both the size of the models as well as the efficiencies and speeds of the work that they are accomplishing. We've done that both with our own interconnects and then came together with Mellanox as well working on that.\\nBut now here's another important piece of why we brought Grace here. Grace gives us the opportunity to focus on the speeds between that CPU and the GPUs, but also focusing, as you mentioned, in terms of the memory and how can we make sure that is the most efficient processes that we can do. Our Grace CPU is focused on very large models, large models focusing on AI, focusing on the supercomputing, focusing on high-performance computing workloads and many of our new things that we see in the future, such as digital twins and the amount of work that will take into count.\\nSo Grace and Hopper go together. Yes, we're on track for sampling in the first half, and we'll bring this to market in the second half of the year. This is an area where the design wins of working with many of our customers as they see this connectivity of putting the 2 products together to be great for their opportunities, and we'll continue to work on that.\\nAnalysts: Let's shift the focus over to Gaming. Despite a challenging consumer market, demand for the new Ada 40 Series gaming products -- the initial ones, the 4090, 4080 seems quite good, right? We checked some of the online retail sites. 4090 is tight availability in most places. 4080 GPU card pricing is marked up about 10%, 15% relative to MSRP. So this all suggests really good demand pull-through. You mentioned at the special address -- or Jeff mentioned at the special address, 40% of your installed base has adopted RTX GPUs. And we're now in your third generation of the RTX architecture.\\nSo with the new product launch, how should we think about the additional penetration rate into your installed base? And typically, like how long are these GPU replacement cycles?\\nExecutives: Yes. So great set of questions and agree wholeheartedly in terms of our 4090, 4080 and what we're seeing out in the market. 4090 sold out quite quickly. We've already started the restocking of that, working with our AICs to do so. And the 4080 is doing very well in terms of -- in retail as well in terms of selling.\\nWe have RTX now in our installed base of nearly 40%. So interesting because we were probably on stage here several years ago, talking about what is ray tracing and are there going to be games with that. And now we have in our installed base more than 40% focused on ray tracing. Ampere architecture probably was about 1/3 of that. And so now here we come with a third generation. And there's, again, great opportunity because it's not just about that platform, it has been about our work with the ecosystem in creating the games that can now use ray tracing and use DLSS. So we're on a great trajectory there to see that take off more.\\nAs we go forward in the new year, I think you're going to see more our 40 Series come to market. Now how do we think about how much of that will be sold to those that are refreshing versus those that are coming in as new gamers? Always tough to look at but what we have seen is we bring a new generation of the product to market 2-plus years -- every 2-plus years, will bring in a new generation.\\nBut what we see is probably refreshes of the most important gamers out there to be a little bit over 3 years. So this is a great opportunity for not only upgrading to Ampere, but thinking about those that are in prior generations that have not upgraded yet. That is a material performance increase and a no-brainer for them in terms of purchasing. So I think we'll see both new gamers and that refresh.\\nAnalysts: Let's switch over and talk about software. On your software solutions, you're enabling customers to come to market rapidly by developing full stack. We've always talked about the NVIDIA strategy as focused on ecosystem enablement, right? And a part of that is full stack development, turnkey solutions, managed services. You're monetizing your software platforms, and you've got monetization opportunities across all of your end markets, right?\\nThe business is running -- I believe the software, services and ratable type of revenue streams, I think, is running sort of low sort of $100 million sort of annualized run rate today, and you're now selling software separately, right? You've got NVIDIA AI Enterprise, Omniverse, AV. Like how do we think about the size of these opportunities? And what's the monetization time line of these software and services-based opportunities?\\nExecutives: Yes. Software is a very important piece in terms of our success almost in each one of our businesses. For many years, we have put software in both the ecosystem as well as in our products that enables customers to take out of a box and begin their work that they need because we've enabled a lot of that software. But there now is that opportunity to sell it separately. Why? It creates more of that relationship and the help that is needed for many of our enterprises.\\nOur enterprises need that support as they are beginning their work on AI projects or otherwise. So we took this opportunity to break out software and sell it separately with our enterprises. You're going to see it in 3 major areas and probably more going forward. But the first is NVIDIA AI Enterprise. This is a core, you should think about as the operating system of AI available for our enterprises and not only being sold with us and our partners, but also being sold with several of our CSPs, putting it in their marketplace.\\nThey really believe that it's not just about setting up cloud instances. They need to support that software that they are all using with NVIDIA to do that as well. So we're really pleased with that piece of work that's coming together. So NVIDIA AI is an important piece.\\nThe second one we've talked about is Omniverse. Omniverse really fuels what we will see as the future of 3D Internet and folks really working not only on those 3 dimensionals but what you may see in terms of digital twins and work in that piece. So we'll sell that, whether that be with groups inside the enterprise or even to an individual that may be a creative working on that as well.\\nThe third one is our focus on software for automotive. Our focus is not just on NEVs and creating a computing platform in the hardware infrastructure. We have a significant amount of work and effort and design wins as we focus on AV. And so we are now able to do both of selling them that hardware, but also being a part of the software revenue stream that will enable within the OEMs. We'll be able to share that with them, with Daimler and both with JLR. So that is more of the medium and long term with what we're seeing in terms of NVIDIA AIE and Omniverse here right now.\\nAnalysts: In automotive, as you mentioned, team has an $11 billion design win pipeline that is expected to unfold over the next few years, but that business started to inflect pretty meaningfully in Q2 of last year. In fact, it's driving like 100% year-over-year growth, I think, this quarter driven by your Orin-based platforms, which are starting to ramp. You also still have in front of you the revenue-sharing opportunities with Daimler, Jaguar Land Rover in front of you. How should we model -- think about the ramp into this $11 billion automotive pipeline over the next 3 to 4 years?\\nExecutives: Yes. You're going to see different stages, but we've already probably passed an inflection point that we're seeing the growth of Orin with our NEVs. Why are the NEVs focused on Orin? One, both the performance level and when you're thinking about building an electric car, you're really starting from the ground up and redesigning and having that central computing platform has been very important to them. Both our work now with Foxconn as well as many of the top NEVs around the world focused on this. It is a great opportunity to continue to ramp.\\nAdditionally, the next phase, we'll be coming with our design wins both on robotaxis and bringing some of the early AV to market. In this case, this can be both in infrastructure and may have some of our software incorporated in them as well. But furthermore in the long term, probably when we get to calendar '25 is when you are going to see production vehicles for AV start to ramp and be a more meaningful position in our automotive. At this point, we're going to be now seeing that software really take off. Right now, we're still in the hardware infrastructure that's driving our revenue. But again, growing into that pipeline that we have going forward.\\nAnalysts: On the financials, how do we think about the OpEx profile relative to the revenue growth, given you talked about a very aggressive cadence, right? So across your GPU, CPU and your networking products, the team is driving a 2-year cadence. That's an extremely aggressive cadence. And then on top of that, you've got ecosystem enablement, you've got software development and so on. And so how should we think about the R&D or the OpEx intensity and that relative to revenue growth going forward?\\nExecutives: When the first challenges of the economy hit, it was a focus of ours to really slow down the hiring and -- so that we can focus on our teams that we have, that we could focus on our employees that we had. And that was the very first thing that we did, is slowing down that hiring. And we are continuing to work to try and keep on a sequential basis about as flat as we can in this environment. You're right. We've got a very large portfolio of bringing new products to market, and they're quite complex in that work.\\nBut our business model and our structure as a company allows quite a bit of efficiency. What I mean that is, remember, we're essentially one architecture across everything that we do. All of our software is both forward compatibility and backwards compatibility. So having that consistent unified architecture has really allowed the efficiencies and how we structure the organization as a whole. And in this environment, that is helping us fuel -- bring this stuff together. So we'll continue to focus on making the appropriate investments to bring these products to market, but we're always looking for new areas to find efficiencies.\\nAnalysts: Well, thank you. We look forward to monitoring the progress and the execution of the team this year. And Colette, thank you very much for your support.\\nExecutives: Great. Thank you.\\nAnalysts: Thank you.\""
      ]
     },
     "execution_count": 59,
     "metadata": {},
     "output_type": "execute_result"
    }
   ],
   "source": [
    "df.full_text[0]"
   ]
  },
  {
   "cell_type": "code",
   "execution_count": 58,
   "metadata": {},
   "outputs": [
    {
     "data": {
      "text/plain": [
       "\"Colette Kress, Executive Vice President and Chief Financial Officer, will present. DLSS is in its third generation, similar to ray tracing architecture Analysts ask about product cycles, diversification Nvidia sees inflection in gaming, ProViz businesses Q4 or Q4 will be near normal channel levels: CEO Analysts ask if Grace will be available in first half of 2019. Q&A with Nvidia executives on Grace and other projects Intel releases third generation of Ivy Bridge architecture. Nadella: Software is important, but services and ratable are low CEO: We are seeing more of a disruption in the short term. Q&A with executives at Apple follows: I want to start with some of the key things that we have been working on. CEO says Morgan Stanley is not here for auto folks. Gaming is powered by Unity engine Analysts ask about product cycles, diversification. ‘Growth is still here to go forward’: Fiat Chrysler CEO Q: Is there a focus on getting more products to market? Recommender systems still very important Analysts, can you talk about production and initial shipments? Is this the first time you guys have pre-integrated cache coherency? Intel releases third generation of Ivy Bridge architecture. CEO: I think we're at a inflection point. I don't see this as a short-term crisis: Orin CEO Software is now driving most of Nvidia revenue. Nvidia to accelerate R&D spending, accelerate revenue growth\""
      ]
     },
     "execution_count": 58,
     "metadata": {},
     "output_type": "execute_result"
    }
   ],
   "source": [
    "df[summary_column][0]"
   ]
  },
  {
   "cell_type": "code",
   "execution_count": null,
   "metadata": {},
   "outputs": [],
   "source": []
  }
 ],
 "metadata": {
  "kernelspec": {
   "display_name": "venv",
   "language": "python",
   "name": "python3"
  },
  "language_info": {
   "codemirror_mode": {
    "name": "ipython",
    "version": 3
   },
   "file_extension": ".py",
   "mimetype": "text/x-python",
   "name": "python",
   "nbconvert_exporter": "python",
   "pygments_lexer": "ipython3",
   "version": "3.12.3"
  }
 },
 "nbformat": 4,
 "nbformat_minor": 2
}
