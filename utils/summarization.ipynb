{
 "cells": [
  {
   "cell_type": "code",
   "execution_count": 4,
   "metadata": {},
   "outputs": [
    {
     "name": "stderr",
     "output_type": "stream",
     "text": [
      "c:\\BISS\\ragsum\\venv\\Lib\\site-packages\\tqdm\\auto.py:21: TqdmWarning: IProgress not found. Please update jupyter and ipywidgets. See https://ipywidgets.readthedocs.io/en/stable/user_install.html\n",
      "  from .autonotebook import tqdm as notebook_tqdm\n"
     ]
    }
   ],
   "source": [
    "import torch\n",
    "import transformers\n",
    "import sentencepiece\n",
    "from transformers import pipeline, BartForConditionalGeneration, BartTokenizer, SummarizationPipeline"
   ]
  },
  {
   "cell_type": "code",
   "execution_count": null,
   "metadata": {},
   "outputs": [
    {
     "name": "stderr",
     "output_type": "stream",
     "text": [
      "Device set to use cpu\n"
     ]
    }
   ],
   "source": [
    "model_name = \"sshleifer/distilbart-xsum-6-6\"\n",
    "\n",
    "model = BartForConditionalGeneration.from_pretrained(model_name)\n",
    "tokenizer: BartTokenizer = BartTokenizer.from_pretrained(model_name)\n",
    "\n",
    "summarizer: SummarizationPipeline = pipeline(\n",
    "    \"summarization\", \n",
    "    model=model, \n",
    "    tokenizer=tokenizer\n",
    ")\n",
    "\n",
    "ARTICLE = \"\"\" New York (CNN)When Liana Barrientos was 23 years old, she got married in Westchester County, New York.\n",
    "A year later, she got married again in Westchester County, but to a different man and without divorcing her first husband.\n",
    "Only 18 days after that marriage, she got hitched yet again. Then, Barrientos declared \"I do\" five more times, sometimes only within two weeks of each other.\n",
    "In 2010, she married once more, this time in the Bronx. In an application for a marriage license, she stated it was her \"first and only\" marriage.\n",
    "Barrientos, now 39, is facing two criminal counts of \"offering a false instrument for filing in the first degree,\" referring to her false statements on the\n",
    "2010 marriage license application, according to court documents.\n",
    "Prosecutors said the marriages were part of an immigration scam.\n",
    "On Friday, she pleaded not guilty at State Supreme Court in the Bronx, according to her attorney, Christopher Wright, who declined to comment further.\n",
    "After leaving court, Barrientos was arrested and charged with theft of service and criminal trespass for allegedly sneaking into the New York subway through an emergency exit, said Detective\n",
    "Annette Markowski, a police spokeswoman. In total, Barrientos has been married 10 times, with nine of her marriages occurring between 1999 and 2002.\n",
    "All occurred either in Westchester County, Long Island, New Jersey or the Bronx. She is believed to still be married to four men, and at one time, she was married to eight men at once, prosecutors say.\n",
    "Prosecutors said the immigration scam involved some of her husbands, who filed for permanent residence status shortly after the marriages.\n",
    "Any divorces happened only after such filings were approved. It was unclear whether any of the men will be prosecuted.\n",
    "The case was referred to the Bronx District Attorney\\'s Office by Immigration and Customs Enforcement and the Department of Homeland Security\\'s\n",
    "Investigation Division. Seven of the men are from so-called \"red-flagged\" countries, including Egypt, Turkey, Georgia, Pakistan and Mali.\n",
    "Her eighth husband, Rashid Rajput, was deported in 2006 to his native Pakistan after an investigation by the Joint Terrorism Task Force.\n",
    "If convicted, Barrientos faces up to four years in prison.  Her next court appearance is scheduled for May 18.\n",
    "\"\"\""
   ]
  },
  {
   "cell_type": "code",
   "execution_count": 21,
   "metadata": {},
   "outputs": [
    {
     "data": {
      "text/plain": [
       "{'input_ids': tensor([[    0,   188,   469,    36, 16256,    43,  1779,   226,  8878,  1731,\n",
       "         39374,   366,    21,   883,   107,   793,     6,    79,   300,  2997,\n",
       "            11,   580, 17419,   413,     6,   188,   469,     4, 50118,   250,\n",
       "            76,   423,     6,    79,   300,  2997,   456,    11,   580, 17419,\n",
       "           413,     6,    53,     7,    10,   430,   313,     8,   396, 35447,\n",
       "         11162,    69,    78,  1623,     4, 50118, 19933,   504,   360,    71,\n",
       "            14,  3397,     6,    79,   300,   478,  3804,   648,   456,     4,\n",
       "          1892,     6,  1731, 39374,   366,  2998,    22,   100,   109,   113,\n",
       "           292,    55,   498,     6,  2128,   129,   624,    80,   688,     9,\n",
       "           349,    97,     4, 50118,  1121,  1824,     6,    79,  2997,   683,\n",
       "            55,     6,    42,    86,    11,     5, 18170,     4,    96,    41,\n",
       "          2502,    13,    10,  3397,  4385,     6,    79,  2305,    24,    21,\n",
       "            69,    22,  9502,     8,   129,   113,  3397,     4, 50118, 14507,\n",
       "         39374,   366,     6,   122,  3191,     6,    16,  2114,    80,  1837,\n",
       "          3948,     9,    22,  1529,  2961,    10,  3950, 10320,    13,  3386,\n",
       "            11,     5,    78,  3093,    60,  5056,     7,    69,  3950,  1997,\n",
       "            15,     5, 50118, 24789,  3397,  4385,  2502,     6,   309,     7,\n",
       "           461,  2339,     4, 50118, 44693,    26,     5, 21304,    58,   233,\n",
       "             9,    41,  2447, 10656,     4, 50118,  4148,   273,     6,    79,\n",
       "          4407,    45,  2181,    23,   331,  2124,   837,    11,     5, 18170,\n",
       "             6,   309,     7,    69,  1921,     6,  5469,  5825,     6,    54,\n",
       "          1981,     7,  1129,   617,     4, 50118,  4993,  1618,   461,     6,\n",
       "          1731, 39374,   366,    21,  1128,     8,  1340,    19,  5751,     9,\n",
       "           544,     8,  1837, 35619,    13,  2346, 36596,    88,     5,   188,\n",
       "           469, 15604,   149,    41,  1923,  4205,     6,    26, 13924, 50118,\n",
       "          4688, 25582,  1190,  7897,     6,    10,   249,  3582,     4,    96,\n",
       "           746,     6,  1731, 39374,   366,    34,    57,  2997,   158,   498,\n",
       "             6,    19,  1117,     9,    69, 21304, 14196,   227,  6193,     8,\n",
       "          5241,     4, 50118,  3684,  2756,  1169,    11,   580, 17419,   413,\n",
       "             6,  2597,  2376,     6,   188,  3123,    50,     5, 18170,     4,\n",
       "           264,    16,  2047,     7,   202,    28,  2997,     7,   237,   604,\n",
       "             6,     8,    23,    65,    86,     6,    79,    21,  2997,     7,\n",
       "           799,   604,    23,   683,     6,  3659,   224,     4, 50118, 44693,\n",
       "            26,     5,  2447, 10656,   963,   103,     9,    69, 27718,     6,\n",
       "            54,  1658,    13,  4398,  5238,  2194,  3691,    71,     5, 21304,\n",
       "             4, 50118, 11913, 35447,  4643,  1102,   129,    71,   215,  9045,\n",
       "            58,  2033,     4,    85,    21,  4381,   549,   143,     9,     5,\n",
       "           604,    40,    28, 15984,     4, 50118,   133,   403,    21,  4997,\n",
       "             7,     5, 18170,  1384,  2745,    18,  1387,    30, 10294,     8,\n",
       "         10465, 10406,     8,     5,   641,     9,  9777,  2010,    18, 50118,\n",
       "         19923, 18541,  2925,     4,  7732,     9,     5,   604,    32,    31,\n",
       "            98,    12,  4155,    22,  2050,    12,  4825, 11290,   113,   749,\n",
       "             6,   217,  5028,     6,  2769,     6,  3090,     6,  1752,     8,\n",
       "         16193,     4, 50118, 13584,  4413,  1623,     6,  9516,   808,  3288,\n",
       "          9179,     6,    21, 14894,    11,  3503,     7,    39,  3763,  1752,\n",
       "            71,    41,   803,    30,     5,  9490, 28294, 12927,  3177,     4,\n",
       "         50118,  1106,  3828,     6,  1731, 39374,   366,  2419,    62,     7,\n",
       "           237,   107,    11,  1789,     4,  1437,  1405,   220,   461,  2772,\n",
       "            16,  1768,    13,   392,   504,     4, 50118,     2]]), 'attention_mask': tensor([[1, 1, 1, 1, 1, 1, 1, 1, 1, 1, 1, 1, 1, 1, 1, 1, 1, 1, 1, 1, 1, 1, 1, 1,\n",
       "         1, 1, 1, 1, 1, 1, 1, 1, 1, 1, 1, 1, 1, 1, 1, 1, 1, 1, 1, 1, 1, 1, 1, 1,\n",
       "         1, 1, 1, 1, 1, 1, 1, 1, 1, 1, 1, 1, 1, 1, 1, 1, 1, 1, 1, 1, 1, 1, 1, 1,\n",
       "         1, 1, 1, 1, 1, 1, 1, 1, 1, 1, 1, 1, 1, 1, 1, 1, 1, 1, 1, 1, 1, 1, 1, 1,\n",
       "         1, 1, 1, 1, 1, 1, 1, 1, 1, 1, 1, 1, 1, 1, 1, 1, 1, 1, 1, 1, 1, 1, 1, 1,\n",
       "         1, 1, 1, 1, 1, 1, 1, 1, 1, 1, 1, 1, 1, 1, 1, 1, 1, 1, 1, 1, 1, 1, 1, 1,\n",
       "         1, 1, 1, 1, 1, 1, 1, 1, 1, 1, 1, 1, 1, 1, 1, 1, 1, 1, 1, 1, 1, 1, 1, 1,\n",
       "         1, 1, 1, 1, 1, 1, 1, 1, 1, 1, 1, 1, 1, 1, 1, 1, 1, 1, 1, 1, 1, 1, 1, 1,\n",
       "         1, 1, 1, 1, 1, 1, 1, 1, 1, 1, 1, 1, 1, 1, 1, 1, 1, 1, 1, 1, 1, 1, 1, 1,\n",
       "         1, 1, 1, 1, 1, 1, 1, 1, 1, 1, 1, 1, 1, 1, 1, 1, 1, 1, 1, 1, 1, 1, 1, 1,\n",
       "         1, 1, 1, 1, 1, 1, 1, 1, 1, 1, 1, 1, 1, 1, 1, 1, 1, 1, 1, 1, 1, 1, 1, 1,\n",
       "         1, 1, 1, 1, 1, 1, 1, 1, 1, 1, 1, 1, 1, 1, 1, 1, 1, 1, 1, 1, 1, 1, 1, 1,\n",
       "         1, 1, 1, 1, 1, 1, 1, 1, 1, 1, 1, 1, 1, 1, 1, 1, 1, 1, 1, 1, 1, 1, 1, 1,\n",
       "         1, 1, 1, 1, 1, 1, 1, 1, 1, 1, 1, 1, 1, 1, 1, 1, 1, 1, 1, 1, 1, 1, 1, 1,\n",
       "         1, 1, 1, 1, 1, 1, 1, 1, 1, 1, 1, 1, 1, 1, 1, 1, 1, 1, 1, 1, 1, 1, 1, 1,\n",
       "         1, 1, 1, 1, 1, 1, 1, 1, 1, 1, 1, 1, 1, 1, 1, 1, 1, 1, 1, 1, 1, 1, 1, 1,\n",
       "         1, 1, 1, 1, 1, 1, 1, 1, 1, 1, 1, 1, 1, 1, 1, 1, 1, 1, 1, 1, 1, 1, 1, 1,\n",
       "         1, 1, 1, 1, 1, 1, 1, 1, 1, 1, 1, 1, 1, 1, 1, 1, 1, 1, 1, 1, 1, 1, 1, 1,\n",
       "         1, 1, 1, 1, 1, 1, 1, 1, 1, 1, 1, 1, 1, 1, 1, 1, 1, 1, 1, 1, 1, 1, 1, 1,\n",
       "         1, 1, 1, 1, 1, 1, 1, 1, 1, 1, 1, 1, 1, 1, 1, 1, 1, 1, 1, 1, 1, 1, 1, 1,\n",
       "         1, 1, 1, 1, 1, 1, 1, 1]])}"
      ]
     },
     "execution_count": 21,
     "metadata": {},
     "output_type": "execute_result"
    }
   ],
   "source": [
    "tokens = tokenizer(ARTICLE, return_tensors='pt')\n",
    "\n",
    "tokens"
   ]
  },
  {
   "cell_type": "code",
   "execution_count": 22,
   "metadata": {},
   "outputs": [
    {
     "data": {
      "text/plain": [
       "'<s> New York (CNN)When Liana Barrientos was 23 years old, she got married in Westchester County, New York.\\nA year later, she got married again in Westchester County, but to a different man and without divorcing her first husband.\\nOnly 18 days after that marriage, she got hitched yet again. Then, Barrientos declared \"I do\" five more times, sometimes only within two weeks of each other.\\nIn 2010, she married once more, this time in the Bronx. In an application for a marriage license, she stated it was her \"first and only\" marriage.\\nBarrientos, now 39, is facing two criminal counts of \"offering a false instrument for filing in the first degree,\" referring to her false statements on the\\n2010 marriage license application, according to court documents.\\nProsecutors said the marriages were part of an immigration scam.\\nOn Friday, she pleaded not guilty at State Supreme Court in the Bronx, according to her attorney, Christopher Wright, who declined to comment further.\\nAfter leaving court, Barrientos was arrested and charged with theft of service and criminal trespass for allegedly sneaking into the New York subway through an emergency exit, said Detective\\nAnnette Markowski, a police spokeswoman. In total, Barrientos has been married 10 times, with nine of her marriages occurring between 1999 and 2002.\\nAll occurred either in Westchester County, Long Island, New Jersey or the Bronx. She is believed to still be married to four men, and at one time, she was married to eight men at once, prosecutors say.\\nProsecutors said the immigration scam involved some of her husbands, who filed for permanent residence status shortly after the marriages.\\nAny divorces happened only after such filings were approved. It was unclear whether any of the men will be prosecuted.\\nThe case was referred to the Bronx District Attorney\\'s Office by Immigration and Customs Enforcement and the Department of Homeland Security\\'s\\nInvestigation Division. Seven of the men are from so-called \"red-flagged\" countries, including Egypt, Turkey, Georgia, Pakistan and Mali.\\nHer eighth husband, Rashid Rajput, was deported in 2006 to his native Pakistan after an investigation by the Joint Terrorism Task Force.\\nIf convicted, Barrientos faces up to four years in prison.  Her next court appearance is scheduled for May 18.\\n</s>'"
      ]
     },
     "execution_count": 22,
     "metadata": {},
     "output_type": "execute_result"
    }
   ],
   "source": [
    "decoded_text = tokenizer.decode(tokens[\"input_ids\"][0])\n",
    "\n",
    "decoded_text"
   ]
  },
  {
   "cell_type": "code",
   "execution_count": 23,
   "metadata": {},
   "outputs": [],
   "source": [
    "summary = summarizer(ARTICLE, max_length=130, min_length=30, do_sample=False)"
   ]
  },
  {
   "cell_type": "code",
   "execution_count": 24,
   "metadata": {},
   "outputs": [
    {
     "data": {
      "text/plain": [
       "[{'summary_text': ' A woman in New York has pleaded not guilty to charges that she married eight men at once, in what prosecutors say was a multi-million dollar immigration scam.'}]"
      ]
     },
     "execution_count": 24,
     "metadata": {},
     "output_type": "execute_result"
    }
   ],
   "source": [
    "summary"
   ]
  },
  {
   "cell_type": "code",
   "execution_count": 26,
   "metadata": {},
   "outputs": [],
   "source": [
    "NLP = \"\"\"\n",
    "In recent years, the rapid advancement of artificial intelligence (AI) has revolutionized numerous industries, including healthcare, finance, and transportation. AI-powered applications, such as machine learning models and natural language processing (NLP) systems, have enabled businesses to automate complex tasks, improve efficiency, and enhance decision-making processes. In healthcare, AI-driven diagnostic tools assist doctors in detecting diseases with high accuracy, while predictive models help in early intervention and treatment planning. In the financial sector, AI algorithms analyze vast amounts of data to detect fraudulent transactions, optimize trading strategies, and offer personalized banking experiences to customers.\n",
    "\n",
    "Despite these advantages, AI adoption presents several challenges. Ethical concerns related to bias in AI models, data privacy, and job displacement have sparked global debates. Bias in AI algorithms can lead to unfair treatment in areas such as hiring, loan approvals, and law enforcement. Additionally, as AI systems rely on massive datasets, ensuring data privacy and security remains a critical challenge. Furthermore, automation driven by AI threatens traditional jobs, necessitating workforce reskilling and policy interventions to mitigate economic disruptions.\n",
    "\n",
    "Looking ahead, the future of AI hinges on responsible development and regulation. Governments and industry leaders must collaborate to create ethical AI guidelines, invest in transparency, and promote human-AI collaboration. By addressing biases, ensuring data security, and prioritizing fairness, AI can continue to be a transformative force that benefits society while minimizing risks.\n",
    "\"\"\""
   ]
  },
  {
   "cell_type": "code",
   "execution_count": 29,
   "metadata": {},
   "outputs": [],
   "source": [
    "abstractive_summary = \"\"\"\n",
    "Artificial intelligence (AI) is transforming industries like healthcare and finance by automating tasks, improving accuracy, and optimizing decision-making. While AI enhances efficiency in diagnostics and fraud detection, challenges such as bias, data privacy, and job displacement remain concerns. Addressing these issues through ethical regulations, transparency, and workforce adaptation is crucial to ensuring AI's positive impact on society.\n",
    "\"\"\""
   ]
  },
  {
   "cell_type": "code",
   "execution_count": 30,
   "metadata": {},
   "outputs": [
    {
     "data": {
      "text/plain": [
       "[{'summary_text': ' In our series of letters from African journalists, film-maker and columnist Fergal Keane looks at the future of artificial intelligence (AI) and how it can be used to improve the way we work, and how the world is being shaped.'}]"
      ]
     },
     "execution_count": 30,
     "metadata": {},
     "output_type": "execute_result"
    }
   ],
   "source": [
    "summary = summarizer(NLP, max_length=250, min_length=50, do_sample=False)\n",
    "\n",
    "summary"
   ]
  },
  {
   "cell_type": "code",
   "execution_count": 31,
   "metadata": {},
   "outputs": [],
   "source": [
    "from rouge_score import rouge_scorer\n",
    "from bert_score import score as bert_score"
   ]
  },
  {
   "cell_type": "code",
   "execution_count": 34,
   "metadata": {},
   "outputs": [
    {
     "name": "stdout",
     "output_type": "stream",
     "text": [
      "ROUGE Scores:\n",
      "rouge1: F=0.2000, P=0.1695, R=0.2439\n",
      "rouge2: F=0.0408, P=0.0345, R=0.0500\n",
      "rougeL: F=0.1400, P=0.1186, R=0.1707\n"
     ]
    }
   ],
   "source": [
    "summary_text = summary[0][\"summary_text\"]\n",
    "\n",
    "scorer = rouge_scorer.RougeScorer(['rouge1', 'rouge2', 'rougeL'], use_stemmer=True)\n",
    "rouge_scores = scorer.score(summary_text, abstractive_summary)\n",
    "print(\"ROUGE Scores:\")\n",
    "for key, score in rouge_scores.items():\n",
    "    print(f\"{key}: F={score.fmeasure:.4f}, P={score.precision:.4f}, R={score.recall:.4f}\")"
   ]
  },
  {
   "cell_type": "code",
   "execution_count": 35,
   "metadata": {},
   "outputs": [
    {
     "name": "stderr",
     "output_type": "stream",
     "text": [
      "Some weights of RobertaModel were not initialized from the model checkpoint at roberta-large and are newly initialized: ['roberta.pooler.dense.bias', 'roberta.pooler.dense.weight']\n",
      "You should probably TRAIN this model on a down-stream task to be able to use it for predictions and inference.\n"
     ]
    },
    {
     "name": "stdout",
     "output_type": "stream",
     "text": [
      "calculating scores...\n",
      "computing bert embedding.\n"
     ]
    },
    {
     "name": "stderr",
     "output_type": "stream",
     "text": [
      "100%|██████████| 1/1 [00:01<00:00,  1.28s/it]\n"
     ]
    },
    {
     "name": "stdout",
     "output_type": "stream",
     "text": [
      "computing greedy matching.\n"
     ]
    },
    {
     "name": "stderr",
     "output_type": "stream",
     "text": [
      "100%|██████████| 1/1 [00:00<00:00, 44.37it/s]\n"
     ]
    },
    {
     "name": "stdout",
     "output_type": "stream",
     "text": [
      "done in 1.30 seconds, 0.77 sentences/sec\n",
      "\n",
      "BERTScore:\n",
      "Precision: 0.8451\n",
      "Recall:    0.8510\n",
      "F1:        0.8480\n"
     ]
    }
   ],
   "source": [
    "P, R, F1 = bert_score([summary_text], [abstractive_summary], lang=\"en\", verbose=True)\n",
    "print(\"\\nBERTScore:\")\n",
    "print(f\"Precision: {P.mean().item():.4f}\")\n",
    "print(f\"Recall:    {R.mean().item():.4f}\")\n",
    "print(f\"F1:        {F1.mean().item():.4f}\")"
   ]
  }
 ],
 "metadata": {
  "kernelspec": {
   "display_name": "venv",
   "language": "python",
   "name": "python3"
  },
  "language_info": {
   "codemirror_mode": {
    "name": "ipython",
    "version": 3
   },
   "file_extension": ".py",
   "mimetype": "text/x-python",
   "name": "python",
   "nbconvert_exporter": "python",
   "pygments_lexer": "ipython3",
   "version": "3.12.3"
  }
 },
 "nbformat": 4,
 "nbformat_minor": 2
}
