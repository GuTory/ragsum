{
 "cells": [
  {
   "cell_type": "markdown",
   "id": "5708e932-164e-4846-bc33-d97c65f724a7",
   "metadata": {},
   "source": [
    "# Pull transcripts of S&P500 Companies (Python)\n",
    "Author: WRDS\n",
    "\n",
    "Description: How to retrieve transcripts of S&P 500 companies using CRSP, CCM, and CIQ Transcripts"
   ]
  },
  {
   "cell_type": "markdown",
   "id": "fbaeb255-33ae-46e1-9934-4681627cb876",
   "metadata": {},
   "source": [
    "## Pull Transcripts of S&P 500 constituents in 2015\n",
    "Import packages and connect to WRDS server"
   ]
  },
  {
   "cell_type": "code",
   "execution_count": 9,
   "id": "94e67148-6c28-494d-8c27-02598a67abe8",
   "metadata": {
    "tags": []
   },
   "outputs": [
    {
     "name": "stdout",
     "output_type": "stream",
     "text": [
      "WRDS recommends setting up a .pgpass file.\n",
      "Created .pgpass file successfully.\n",
      "You can create this file yourself at any time with the create_pgpass_file() function.\n",
      "Loading library list...\n",
      "Done\n"
     ]
    }
   ],
   "source": [
    "import pandas as pd\n",
    "import wrds\n",
    "\n",
    "db = wrds.Connection()"
   ]
  },
  {
   "cell_type": "markdown",
   "id": "0dd78d6c-1def-40e7-a90e-c2330b4826a4",
   "metadata": {},
   "source": [
    "Get S&P 500 Companies in 2015 from CRSP"
   ]
  },
  {
   "cell_type": "code",
   "execution_count": 10,
   "id": "5595e434-f4eb-418b-975c-ec9c77994437",
   "metadata": {
    "tags": []
   },
   "outputs": [],
   "source": [
    "# S&P 500 Constituents in the year 2015 from CRSP\n",
    "# Merge with GVKEY using CCM Linktable\n",
    "sql_query = '''\n",
    "            SELECT a.*, b.gvkey, b.liid, b.linkdt, b.linkenddt\n",
    "            FROM (\n",
    "                SELECT * \n",
    "                FROM crsp.dsp500list\n",
    "                WHERE start <= make_date(2015, 1, 1)\n",
    "                  AND ending >= make_date(2015, 12, 31)\n",
    "            ) AS a\n",
    "            LEFT JOIN (\n",
    "                SELECT * \n",
    "                FROM crsp.ccmxpf_lnkhist\n",
    "                WHERE linkdt <= make_date(2015, 1, 1)\n",
    "                  AND (linkenddt >= make_date(2015, 12, 31) OR linkenddt IS NULL)\n",
    "            ) AS b\n",
    "            ON a.permno = b.lpermno\n",
    "            AND b.linktype IN ('LU', 'LC')\n",
    "            AND b.linkprim IN ('P', 'C');\n",
    "            '''\n",
    "\n",
    "snp500_crsp_gvkey = db.raw_sql(sql_query)"
   ]
  },
  {
   "cell_type": "markdown",
   "id": "5b84301b-05d0-4813-a6e0-d5ac9bd434e6",
   "metadata": {},
   "source": [
    "Pull Transcripts data with full-text from 2015\n",
    "\n",
    "Sample selection:\n",
    "\n",
    "- Transcripts of earnings conference calls\n",
    "    - Key Development Event Type ID `keydeveventtypeid` = 48\n",
    "- The final copy of each transcript that is edited, proofed, or audited\n",
    "    - Final copy: `transcriptpresentationtypeid` = 5.0\n",
    "\n",
    "Merge GVKEY with Transcripts data"
   ]
  },
  {
   "cell_type": "code",
   "execution_count": 4,
   "id": "f685bac1-ebdb-4f8b-862b-2fbe7e85ec3c",
   "metadata": {
    "tags": []
   },
   "outputs": [],
   "source": [
    "sql_query = '''\n",
    "            SELECT a.*,\n",
    "                   b.symbolvalue AS gvkey,\n",
    "                   c.*, \n",
    "                   d.componenttext\n",
    "            FROM (\n",
    "                SELECT *\n",
    "                FROM ciq.wrds_transcript_detail \n",
    "                WHERE keydeveventtypeid = 48 \n",
    "                  AND transcriptpresentationtypeid = 5 \n",
    "                  AND date_part('year', mostimportantdateutc) = 2015\n",
    "            ) AS a\n",
    "            LEFT JOIN (\n",
    "                SELECT *\n",
    "                FROM ciq.wrds_ciqsymbol \n",
    "                WHERE symboltypecat = 'gvkey'\n",
    "            ) AS b\n",
    "              ON a.companyid = b.companyid\n",
    "            LEFT JOIN ciq.wrds_transcript_person AS c \n",
    "              ON a.transcriptid = c.transcriptid\n",
    "            LEFT JOIN ciq.ciqtranscriptcomponent AS d \n",
    "              ON c.transcriptid = d.transcriptid \n",
    "             AND c.transcriptcomponentid = d.transcriptcomponentid\n",
    "            ORDER BY a.transcriptid, c.transcriptcomponentid, a.companyid;\n",
    "            '''\n",
    "\n",
    "tr_detail_gvkey = db.raw_sql(sql_query)"
   ]
  },
  {
   "cell_type": "markdown",
   "id": "0d79505e-56e7-4b11-b1ac-10e4df568948",
   "metadata": {},
   "source": [
    "Merge transcripts and `permno` via `gvkey`"
   ]
  },
  {
   "cell_type": "code",
   "execution_count": 5,
   "id": "e55bb2f4-08af-47e4-b1c1-64467128b25d",
   "metadata": {
    "tags": []
   },
   "outputs": [],
   "source": [
    "# Obtain transcripts data for GVKEYs in the S&P500 Contituent list\n",
    "snp500_transcripts = tr_detail_gvkey[tr_detail_gvkey.gvkey.isin(snp500_crsp_gvkey.gvkey.tolist())]\n",
    "\n",
    "# Remove observations with missing GVKEY\n",
    "snp500_transcripts = snp500_transcripts[pd.notna(snp500_transcripts.gvkey)]"
   ]
  },
  {
   "cell_type": "markdown",
   "id": "7ba3bb95-27c1-4816-a3b9-6295ecae487a",
   "metadata": {
    "tags": []
   },
   "source": [
    "## To avoid excessive memory usage: Use SQL Query as much as possible\n",
    "Using sql commands as much as possible can be a basic solution for excessive memory usage issues. The code below is an example of querying S&P 500 transcripts using only SQL syntax instead of loading all tables into memory and working with python `pandas`.\n",
    "\n",
    "The code does:\n",
    "\n",
    "1. Retrieving analysts' questions in S&P 500 companies' earnings conference calls in December 2015\n",
    "    1. Analyst: `speakertypeid` = 3\n",
    "    2. Questions: `transcriptcomponenttypeid` = 3\n",
    "    3. Earnings conference call: `keydeveventtypeid` = 48\n",
    "2. Only using original CIQ tables (**Transcripts, Key Developments, Common**)\n",
    "3. Keeping all copies of the transcripts"
   ]
  },
  {
   "cell_type": "code",
   "execution_count": 6,
   "id": "3a7fea9a-9d3a-4acc-afce-24a7e63bbad7",
   "metadata": {
    "tags": []
   },
   "outputs": [],
   "source": [
    "sql_query = '''\n",
    "             WITH snp500_query AS(\n",
    "                SELECT a.*, \n",
    "                       b.gvkey, \n",
    "                       b.liid, \n",
    "                       b.linkdt, \n",
    "                       b.linkenddt\n",
    "                FROM (\n",
    "                    SELECT * \n",
    "                    FROM crsp.dsp500list\n",
    "                    WHERE start <= make_date(2015, 1, 1)\n",
    "                      AND ending >= make_date(2015, 12, 31)\n",
    "                ) AS a\n",
    "                LEFT JOIN (\n",
    "                    SELECT * \n",
    "                    FROM crsp.ccmxpf_lnkhist\n",
    "                    WHERE linkdt <= make_date(2015, 1, 1)\n",
    "                      AND (linkenddt >= make_date(2015, 12, 31) OR linkenddt IS NULL)\n",
    "                ) AS b \n",
    "                  ON a.permno = b.lpermno\n",
    "                AND b.linktype IN ('LU', 'LC')\n",
    "                AND b.linkprim IN ('P', 'C')\n",
    "             )\n",
    "\n",
    "             SELECT b.transcriptcreationdateutc,\n",
    "                    f.companyid,\n",
    "                    f.companyname,\n",
    "                    b.keydevid,\n",
    "                    i.headline,\n",
    "                    i.mostimportantdateutc,\n",
    "                    a.transcriptid,\n",
    "                    b.transcriptcollectiontypeid,\n",
    "                    b.transcriptpresentationtypeid,\n",
    "                    a.transcriptcomponentid,\n",
    "                    a.componentorder,\n",
    "                    a.transcriptcomponenttypeid,\n",
    "                    h.transcriptcomponenttypename,\n",
    "                    e.transcriptpersonname,\n",
    "                    e.companyname AS speaker_companyname,\n",
    "                    e.speakertypeid,\n",
    "                    g.speakertypename,\n",
    "                    a.componenttext\n",
    "             FROM ciq_transcripts.ciqtranscriptcomponent AS a\n",
    "             JOIN ciq_transcripts.ciqtranscript AS b\n",
    "               ON a.transcriptid = b.transcriptid\n",
    "             JOIN ciq_keydev.ciqkeydevtoobjecttoeventtype AS d\n",
    "               ON b.keydevid = d.keydevid\n",
    "             JOIN ciq_transcripts.ciqtranscriptperson AS e\n",
    "               ON a.transcriptpersonid = e.transcriptpersonid\n",
    "             JOIN ciq_transcripts.ciqtranscriptspeakertype AS g\n",
    "               ON e.speakertypeid = g.speakertypeid\n",
    "             JOIN ciq_common.ciqcompany AS f\n",
    "               ON d.objectid = f.companyid\n",
    "             JOIN ciq_transcripts.ciqtranscriptcomponenttype AS h\n",
    "               ON a.transcriptcomponenttypeid = h.transcriptcomponenttypeid\n",
    "             JOIN ciq_keydev.ciqkeydev AS i\n",
    "               ON b.keydevid = i.keydevid\n",
    "             JOIN ciq_common.wrds_gvkey AS k\n",
    "               ON f.companyid = k.companyid\n",
    "             JOIN snp500_query AS j\n",
    "               ON k.gvkey = j.gvkey\n",
    "             WHERE date_part('year', i.mostimportantdateutc) = 2015\n",
    "               AND date_part('month', i.mostimportantdateutc) = 12\n",
    "               AND a.transcriptcomponenttypeid = 3\n",
    "               AND d.keydeveventtypeid = 48\n",
    "               AND e.speakertypeid = 3\n",
    "             ORDER BY b.keydevid,\n",
    "                      b.transcriptcollectiontypeid,\n",
    "                      a.transcriptid,\n",
    "                      a.componentorder\n",
    "           '''"
   ]
  },
  {
   "cell_type": "code",
   "execution_count": 8,
   "id": "6eb5007d-f01d-4187-9e3c-33cbe4a9c7d1",
   "metadata": {
    "tags": []
   },
   "outputs": [
    {
     "ename": "OperationalError",
     "evalue": "(psycopg2.OperationalError) server closed the connection unexpectedly\n\tThis probably means the server terminated abnormally\n\tbefore or while processing the request.\nserver closed the connection unexpectedly\n\tThis probably means the server terminated abnormally\n\tbefore or while processing the request.\n\n[SQL: \n             WITH snp500_query AS(\n                SELECT a.*, \n                       b.gvkey, \n                       b.liid, \n                       b.linkdt, \n                       b.linkenddt\n                FROM (\n                    SELECT * \n                    FROM crsp.dsp500list\n                    WHERE start <= make_date(2015, 1, 1)\n                      AND ending >= make_date(2015, 12, 31)\n                ) AS a\n                LEFT JOIN (\n                    SELECT * \n                    FROM crsp.ccmxpf_lnkhist\n                    WHERE linkdt <= make_date(2015, 1, 1)\n                      AND (linkenddt >= make_date(2015, 12, 31) OR linkenddt IS NULL)\n                ) AS b \n                  ON a.permno = b.lpermno\n                AND b.linktype IN ('LU', 'LC')\n                AND b.linkprim IN ('P', 'C')\n             )\n\n             SELECT b.transcriptcreationdateutc,\n                    f.companyid,\n                    f.companyname,\n                    b.keydevid,\n                    i.headline,\n                    i.mostimportantdateutc,\n                    a.transcriptid,\n                    b.transcriptcollectiontypeid,\n                    b.transcriptpresentationtypeid,\n                    a.transcriptcomponentid,\n                    a.componentorder,\n                    a.transcriptcomponenttypeid,\n                    h.transcriptcomponenttypename,\n                    e.transcriptpersonname,\n                    e.companyname AS speaker_companyname,\n                    e.speakertypeid,\n                    g.speakertypename,\n                    a.componenttext\n             FROM ciq_transcripts.ciqtranscriptcomponent AS a\n             JOIN ciq_transcripts.ciqtranscript AS b\n               ON a.transcriptid = b.transcriptid\n             JOIN ciq_keydev.ciqkeydevtoobjecttoeventtype AS d\n               ON b.keydevid = d.keydevid\n             JOIN ciq_transcripts.ciqtranscriptperson AS e\n               ON a.transcriptpersonid = e.transcriptpersonid\n             JOIN ciq_transcripts.ciqtranscriptspeakertype AS g\n               ON e.speakertypeid = g.speakertypeid\n             JOIN ciq_common.ciqcompany AS f\n               ON d.objectid = f.companyid\n             JOIN ciq_transcripts.ciqtranscriptcomponenttype AS h\n               ON a.transcriptcomponenttypeid = h.transcriptcomponenttypeid\n             JOIN ciq_keydev.ciqkeydev AS i\n               ON b.keydevid = i.keydevid\n             JOIN ciq_common.wrds_gvkey AS k\n               ON f.companyid = k.companyid\n             JOIN snp500_query AS j\n               ON k.gvkey = j.gvkey\n             WHERE date_part('year', i.mostimportantdateutc) = 2015\n               AND date_part('month', i.mostimportantdateutc) = 12\n               AND a.transcriptcomponenttypeid = 3\n               AND d.keydeveventtypeid = 48\n               AND e.speakertypeid = 3\n             ORDER BY b.keydevid,\n                      b.transcriptcollectiontypeid,\n                      a.transcriptid,\n                      a.componentorder\n           ]\n(Background on this error at: https://sqlalche.me/e/20/e3q8)",
     "output_type": "error",
     "traceback": [
      "\u001b[1;31m---------------------------------------------------------------------------\u001b[0m",
      "\u001b[1;31mOperationalError\u001b[0m                          Traceback (most recent call last)",
      "File \u001b[1;32mc:\\Users\\Dell\\AppData\\Local\\Programs\\Python\\Python312\\Lib\\site-packages\\sqlalchemy\\engine\\base.py:1967\u001b[0m, in \u001b[0;36mConnection._exec_single_context\u001b[1;34m(self, dialect, context, statement, parameters)\u001b[0m\n\u001b[0;32m   1966\u001b[0m     \u001b[38;5;28;01mif\u001b[39;00m \u001b[38;5;129;01mnot\u001b[39;00m evt_handled:\n\u001b[1;32m-> 1967\u001b[0m         \u001b[38;5;28;43mself\u001b[39;49m\u001b[38;5;241;43m.\u001b[39;49m\u001b[43mdialect\u001b[49m\u001b[38;5;241;43m.\u001b[39;49m\u001b[43mdo_execute\u001b[49m\u001b[43m(\u001b[49m\n\u001b[0;32m   1968\u001b[0m \u001b[43m            \u001b[49m\u001b[43mcursor\u001b[49m\u001b[43m,\u001b[49m\u001b[43m \u001b[49m\u001b[43mstr_statement\u001b[49m\u001b[43m,\u001b[49m\u001b[43m \u001b[49m\u001b[43meffective_parameters\u001b[49m\u001b[43m,\u001b[49m\u001b[43m \u001b[49m\u001b[43mcontext\u001b[49m\n\u001b[0;32m   1969\u001b[0m \u001b[43m        \u001b[49m\u001b[43m)\u001b[49m\n\u001b[0;32m   1971\u001b[0m \u001b[38;5;28;01mif\u001b[39;00m \u001b[38;5;28mself\u001b[39m\u001b[38;5;241m.\u001b[39m_has_events \u001b[38;5;129;01mor\u001b[39;00m \u001b[38;5;28mself\u001b[39m\u001b[38;5;241m.\u001b[39mengine\u001b[38;5;241m.\u001b[39m_has_events:\n",
      "File \u001b[1;32mc:\\Users\\Dell\\AppData\\Local\\Programs\\Python\\Python312\\Lib\\site-packages\\sqlalchemy\\engine\\default.py:941\u001b[0m, in \u001b[0;36mDefaultDialect.do_execute\u001b[1;34m(self, cursor, statement, parameters, context)\u001b[0m\n\u001b[0;32m    940\u001b[0m \u001b[38;5;28;01mdef\u001b[39;00m \u001b[38;5;21mdo_execute\u001b[39m(\u001b[38;5;28mself\u001b[39m, cursor, statement, parameters, context\u001b[38;5;241m=\u001b[39m\u001b[38;5;28;01mNone\u001b[39;00m):\n\u001b[1;32m--> 941\u001b[0m     \u001b[43mcursor\u001b[49m\u001b[38;5;241;43m.\u001b[39;49m\u001b[43mexecute\u001b[49m\u001b[43m(\u001b[49m\u001b[43mstatement\u001b[49m\u001b[43m,\u001b[49m\u001b[43m \u001b[49m\u001b[43mparameters\u001b[49m\u001b[43m)\u001b[49m\n",
      "\u001b[1;31mOperationalError\u001b[0m: server closed the connection unexpectedly\n\tThis probably means the server terminated abnormally\n\tbefore or while processing the request.\nserver closed the connection unexpectedly\n\tThis probably means the server terminated abnormally\n\tbefore or while processing the request.\n",
      "\nThe above exception was the direct cause of the following exception:\n",
      "\u001b[1;31mOperationalError\u001b[0m                          Traceback (most recent call last)",
      "Cell \u001b[1;32mIn[8], line 1\u001b[0m\n\u001b[1;32m----> 1\u001b[0m snp500_transcripts \u001b[38;5;241m=\u001b[39m \u001b[43mdb\u001b[49m\u001b[38;5;241;43m.\u001b[39;49m\u001b[43mraw_sql\u001b[49m\u001b[43m(\u001b[49m\u001b[43msql_query\u001b[49m\u001b[43m)\u001b[49m\n",
      "File \u001b[1;32mc:\\Users\\Dell\\AppData\\Local\\Programs\\Python\\Python312\\Lib\\site-packages\\wrds\\sql.py:566\u001b[0m, in \u001b[0;36mConnection.raw_sql\u001b[1;34m(self, sql, coerce_float, date_cols, index_col, params, chunksize, return_iter)\u001b[0m\n\u001b[0;32m    509\u001b[0m \u001b[38;5;250m\u001b[39m\u001b[38;5;124;03m\"\"\"\u001b[39;00m\n\u001b[0;32m    510\u001b[0m \u001b[38;5;124;03mQueries the database using a raw SQL string.\u001b[39;00m\n\u001b[0;32m    511\u001b[0m \n\u001b[1;32m   (...)\u001b[0m\n\u001b[0;32m    562\u001b[0m \u001b[38;5;124;03m    2003-09-10  09:35:20.709000  N       AA       None     None  108100.0  28.200          N      00  1.929947e+15         C  None\u001b[39;00m\n\u001b[0;32m    563\u001b[0m \u001b[38;5;124;03m\"\"\"\u001b[39;00m  \u001b[38;5;66;03m# noqa\u001b[39;00m\n\u001b[0;32m    565\u001b[0m \u001b[38;5;28;01mtry\u001b[39;00m:\n\u001b[1;32m--> 566\u001b[0m     df \u001b[38;5;241m=\u001b[39m \u001b[43mpd\u001b[49m\u001b[38;5;241;43m.\u001b[39;49m\u001b[43mread_sql_query\u001b[49m\u001b[43m(\u001b[49m\n\u001b[0;32m    567\u001b[0m \u001b[43m        \u001b[49m\u001b[43msql\u001b[49m\u001b[43m,\u001b[49m\n\u001b[0;32m    568\u001b[0m \u001b[43m        \u001b[49m\u001b[38;5;28;43mself\u001b[39;49m\u001b[38;5;241;43m.\u001b[39;49m\u001b[43mconnection\u001b[49m\u001b[43m,\u001b[49m\n\u001b[0;32m    569\u001b[0m \u001b[43m        \u001b[49m\u001b[43mcoerce_float\u001b[49m\u001b[38;5;241;43m=\u001b[39;49m\u001b[43mcoerce_float\u001b[49m\u001b[43m,\u001b[49m\n\u001b[0;32m    570\u001b[0m \u001b[43m        \u001b[49m\u001b[43mparse_dates\u001b[49m\u001b[38;5;241;43m=\u001b[39;49m\u001b[43mdate_cols\u001b[49m\u001b[43m,\u001b[49m\n\u001b[0;32m    571\u001b[0m \u001b[43m        \u001b[49m\u001b[43mindex_col\u001b[49m\u001b[38;5;241;43m=\u001b[39;49m\u001b[43mindex_col\u001b[49m\u001b[43m,\u001b[49m\n\u001b[0;32m    572\u001b[0m \u001b[43m        \u001b[49m\u001b[43mchunksize\u001b[49m\u001b[38;5;241;43m=\u001b[39;49m\u001b[43mchunksize\u001b[49m\u001b[43m,\u001b[49m\n\u001b[0;32m    573\u001b[0m \u001b[43m        \u001b[49m\u001b[43mparams\u001b[49m\u001b[38;5;241;43m=\u001b[39;49m\u001b[43mparams\u001b[49m\u001b[43m,\u001b[49m\n\u001b[0;32m    574\u001b[0m \u001b[43m    \u001b[49m\u001b[43m)\u001b[49m\n\u001b[0;32m    575\u001b[0m     \u001b[38;5;28;01mif\u001b[39;00m return_iter \u001b[38;5;129;01mor\u001b[39;00m chunksize \u001b[38;5;129;01mis\u001b[39;00m \u001b[38;5;28;01mNone\u001b[39;00m:\n\u001b[0;32m    576\u001b[0m         \u001b[38;5;28;01mreturn\u001b[39;00m df\n",
      "File \u001b[1;32mc:\\Users\\Dell\\AppData\\Local\\Programs\\Python\\Python312\\Lib\\site-packages\\pandas\\io\\sql.py:526\u001b[0m, in \u001b[0;36mread_sql_query\u001b[1;34m(sql, con, index_col, coerce_float, params, parse_dates, chunksize, dtype, dtype_backend)\u001b[0m\n\u001b[0;32m    523\u001b[0m \u001b[38;5;28;01massert\u001b[39;00m dtype_backend \u001b[38;5;129;01mis\u001b[39;00m \u001b[38;5;129;01mnot\u001b[39;00m lib\u001b[38;5;241m.\u001b[39mno_default\n\u001b[0;32m    525\u001b[0m \u001b[38;5;28;01mwith\u001b[39;00m pandasSQL_builder(con) \u001b[38;5;28;01mas\u001b[39;00m pandas_sql:\n\u001b[1;32m--> 526\u001b[0m     \u001b[38;5;28;01mreturn\u001b[39;00m \u001b[43mpandas_sql\u001b[49m\u001b[38;5;241;43m.\u001b[39;49m\u001b[43mread_query\u001b[49m\u001b[43m(\u001b[49m\n\u001b[0;32m    527\u001b[0m \u001b[43m        \u001b[49m\u001b[43msql\u001b[49m\u001b[43m,\u001b[49m\n\u001b[0;32m    528\u001b[0m \u001b[43m        \u001b[49m\u001b[43mindex_col\u001b[49m\u001b[38;5;241;43m=\u001b[39;49m\u001b[43mindex_col\u001b[49m\u001b[43m,\u001b[49m\n\u001b[0;32m    529\u001b[0m \u001b[43m        \u001b[49m\u001b[43mparams\u001b[49m\u001b[38;5;241;43m=\u001b[39;49m\u001b[43mparams\u001b[49m\u001b[43m,\u001b[49m\n\u001b[0;32m    530\u001b[0m \u001b[43m        \u001b[49m\u001b[43mcoerce_float\u001b[49m\u001b[38;5;241;43m=\u001b[39;49m\u001b[43mcoerce_float\u001b[49m\u001b[43m,\u001b[49m\n\u001b[0;32m    531\u001b[0m \u001b[43m        \u001b[49m\u001b[43mparse_dates\u001b[49m\u001b[38;5;241;43m=\u001b[39;49m\u001b[43mparse_dates\u001b[49m\u001b[43m,\u001b[49m\n\u001b[0;32m    532\u001b[0m \u001b[43m        \u001b[49m\u001b[43mchunksize\u001b[49m\u001b[38;5;241;43m=\u001b[39;49m\u001b[43mchunksize\u001b[49m\u001b[43m,\u001b[49m\n\u001b[0;32m    533\u001b[0m \u001b[43m        \u001b[49m\u001b[43mdtype\u001b[49m\u001b[38;5;241;43m=\u001b[39;49m\u001b[43mdtype\u001b[49m\u001b[43m,\u001b[49m\n\u001b[0;32m    534\u001b[0m \u001b[43m        \u001b[49m\u001b[43mdtype_backend\u001b[49m\u001b[38;5;241;43m=\u001b[39;49m\u001b[43mdtype_backend\u001b[49m\u001b[43m,\u001b[49m\n\u001b[0;32m    535\u001b[0m \u001b[43m    \u001b[49m\u001b[43m)\u001b[49m\n",
      "File \u001b[1;32mc:\\Users\\Dell\\AppData\\Local\\Programs\\Python\\Python312\\Lib\\site-packages\\pandas\\io\\sql.py:1836\u001b[0m, in \u001b[0;36mSQLDatabase.read_query\u001b[1;34m(self, sql, index_col, coerce_float, parse_dates, params, chunksize, dtype, dtype_backend)\u001b[0m\n\u001b[0;32m   1779\u001b[0m \u001b[38;5;28;01mdef\u001b[39;00m \u001b[38;5;21mread_query\u001b[39m(\n\u001b[0;32m   1780\u001b[0m     \u001b[38;5;28mself\u001b[39m,\n\u001b[0;32m   1781\u001b[0m     sql: \u001b[38;5;28mstr\u001b[39m,\n\u001b[1;32m   (...)\u001b[0m\n\u001b[0;32m   1788\u001b[0m     dtype_backend: DtypeBackend \u001b[38;5;241m|\u001b[39m Literal[\u001b[38;5;124m\"\u001b[39m\u001b[38;5;124mnumpy\u001b[39m\u001b[38;5;124m\"\u001b[39m] \u001b[38;5;241m=\u001b[39m \u001b[38;5;124m\"\u001b[39m\u001b[38;5;124mnumpy\u001b[39m\u001b[38;5;124m\"\u001b[39m,\n\u001b[0;32m   1789\u001b[0m ) \u001b[38;5;241m-\u001b[39m\u001b[38;5;241m>\u001b[39m DataFrame \u001b[38;5;241m|\u001b[39m Iterator[DataFrame]:\n\u001b[0;32m   1790\u001b[0m \u001b[38;5;250m    \u001b[39m\u001b[38;5;124;03m\"\"\"\u001b[39;00m\n\u001b[0;32m   1791\u001b[0m \u001b[38;5;124;03m    Read SQL query into a DataFrame.\u001b[39;00m\n\u001b[0;32m   1792\u001b[0m \n\u001b[1;32m   (...)\u001b[0m\n\u001b[0;32m   1834\u001b[0m \n\u001b[0;32m   1835\u001b[0m \u001b[38;5;124;03m    \"\"\"\u001b[39;00m\n\u001b[1;32m-> 1836\u001b[0m     result \u001b[38;5;241m=\u001b[39m \u001b[38;5;28;43mself\u001b[39;49m\u001b[38;5;241;43m.\u001b[39;49m\u001b[43mexecute\u001b[49m\u001b[43m(\u001b[49m\u001b[43msql\u001b[49m\u001b[43m,\u001b[49m\u001b[43m \u001b[49m\u001b[43mparams\u001b[49m\u001b[43m)\u001b[49m\n\u001b[0;32m   1837\u001b[0m     columns \u001b[38;5;241m=\u001b[39m result\u001b[38;5;241m.\u001b[39mkeys()\n\u001b[0;32m   1839\u001b[0m     \u001b[38;5;28;01mif\u001b[39;00m chunksize \u001b[38;5;129;01mis\u001b[39;00m \u001b[38;5;129;01mnot\u001b[39;00m \u001b[38;5;28;01mNone\u001b[39;00m:\n",
      "File \u001b[1;32mc:\\Users\\Dell\\AppData\\Local\\Programs\\Python\\Python312\\Lib\\site-packages\\pandas\\io\\sql.py:1659\u001b[0m, in \u001b[0;36mSQLDatabase.execute\u001b[1;34m(self, sql, params)\u001b[0m\n\u001b[0;32m   1657\u001b[0m args \u001b[38;5;241m=\u001b[39m [] \u001b[38;5;28;01mif\u001b[39;00m params \u001b[38;5;129;01mis\u001b[39;00m \u001b[38;5;28;01mNone\u001b[39;00m \u001b[38;5;28;01melse\u001b[39;00m [params]\n\u001b[0;32m   1658\u001b[0m \u001b[38;5;28;01mif\u001b[39;00m \u001b[38;5;28misinstance\u001b[39m(sql, \u001b[38;5;28mstr\u001b[39m):\n\u001b[1;32m-> 1659\u001b[0m     \u001b[38;5;28;01mreturn\u001b[39;00m \u001b[38;5;28;43mself\u001b[39;49m\u001b[38;5;241;43m.\u001b[39;49m\u001b[43mcon\u001b[49m\u001b[38;5;241;43m.\u001b[39;49m\u001b[43mexec_driver_sql\u001b[49m\u001b[43m(\u001b[49m\u001b[43msql\u001b[49m\u001b[43m,\u001b[49m\u001b[43m \u001b[49m\u001b[38;5;241;43m*\u001b[39;49m\u001b[43margs\u001b[49m\u001b[43m)\u001b[49m\n\u001b[0;32m   1660\u001b[0m \u001b[38;5;28;01mreturn\u001b[39;00m \u001b[38;5;28mself\u001b[39m\u001b[38;5;241m.\u001b[39mcon\u001b[38;5;241m.\u001b[39mexecute(sql, \u001b[38;5;241m*\u001b[39margs)\n",
      "File \u001b[1;32mc:\\Users\\Dell\\AppData\\Local\\Programs\\Python\\Python312\\Lib\\site-packages\\sqlalchemy\\engine\\base.py:1779\u001b[0m, in \u001b[0;36mConnection.exec_driver_sql\u001b[1;34m(self, statement, parameters, execution_options)\u001b[0m\n\u001b[0;32m   1774\u001b[0m execution_options \u001b[38;5;241m=\u001b[39m \u001b[38;5;28mself\u001b[39m\u001b[38;5;241m.\u001b[39m_execution_options\u001b[38;5;241m.\u001b[39mmerge_with(\n\u001b[0;32m   1775\u001b[0m     execution_options\n\u001b[0;32m   1776\u001b[0m )\n\u001b[0;32m   1778\u001b[0m dialect \u001b[38;5;241m=\u001b[39m \u001b[38;5;28mself\u001b[39m\u001b[38;5;241m.\u001b[39mdialect\n\u001b[1;32m-> 1779\u001b[0m ret \u001b[38;5;241m=\u001b[39m \u001b[38;5;28;43mself\u001b[39;49m\u001b[38;5;241;43m.\u001b[39;49m\u001b[43m_execute_context\u001b[49m\u001b[43m(\u001b[49m\n\u001b[0;32m   1780\u001b[0m \u001b[43m    \u001b[49m\u001b[43mdialect\u001b[49m\u001b[43m,\u001b[49m\n\u001b[0;32m   1781\u001b[0m \u001b[43m    \u001b[49m\u001b[43mdialect\u001b[49m\u001b[38;5;241;43m.\u001b[39;49m\u001b[43mexecution_ctx_cls\u001b[49m\u001b[38;5;241;43m.\u001b[39;49m\u001b[43m_init_statement\u001b[49m\u001b[43m,\u001b[49m\n\u001b[0;32m   1782\u001b[0m \u001b[43m    \u001b[49m\u001b[43mstatement\u001b[49m\u001b[43m,\u001b[49m\n\u001b[0;32m   1783\u001b[0m \u001b[43m    \u001b[49m\u001b[38;5;28;43;01mNone\u001b[39;49;00m\u001b[43m,\u001b[49m\n\u001b[0;32m   1784\u001b[0m \u001b[43m    \u001b[49m\u001b[43mexecution_options\u001b[49m\u001b[43m,\u001b[49m\n\u001b[0;32m   1785\u001b[0m \u001b[43m    \u001b[49m\u001b[43mstatement\u001b[49m\u001b[43m,\u001b[49m\n\u001b[0;32m   1786\u001b[0m \u001b[43m    \u001b[49m\u001b[43mdistilled_parameters\u001b[49m\u001b[43m,\u001b[49m\n\u001b[0;32m   1787\u001b[0m \u001b[43m\u001b[49m\u001b[43m)\u001b[49m\n\u001b[0;32m   1789\u001b[0m \u001b[38;5;28;01mreturn\u001b[39;00m ret\n",
      "File \u001b[1;32mc:\\Users\\Dell\\AppData\\Local\\Programs\\Python\\Python312\\Lib\\site-packages\\sqlalchemy\\engine\\base.py:1846\u001b[0m, in \u001b[0;36mConnection._execute_context\u001b[1;34m(self, dialect, constructor, statement, parameters, execution_options, *args, **kw)\u001b[0m\n\u001b[0;32m   1844\u001b[0m     \u001b[38;5;28;01mreturn\u001b[39;00m \u001b[38;5;28mself\u001b[39m\u001b[38;5;241m.\u001b[39m_exec_insertmany_context(dialect, context)\n\u001b[0;32m   1845\u001b[0m \u001b[38;5;28;01melse\u001b[39;00m:\n\u001b[1;32m-> 1846\u001b[0m     \u001b[38;5;28;01mreturn\u001b[39;00m \u001b[38;5;28;43mself\u001b[39;49m\u001b[38;5;241;43m.\u001b[39;49m\u001b[43m_exec_single_context\u001b[49m\u001b[43m(\u001b[49m\n\u001b[0;32m   1847\u001b[0m \u001b[43m        \u001b[49m\u001b[43mdialect\u001b[49m\u001b[43m,\u001b[49m\u001b[43m \u001b[49m\u001b[43mcontext\u001b[49m\u001b[43m,\u001b[49m\u001b[43m \u001b[49m\u001b[43mstatement\u001b[49m\u001b[43m,\u001b[49m\u001b[43m \u001b[49m\u001b[43mparameters\u001b[49m\n\u001b[0;32m   1848\u001b[0m \u001b[43m    \u001b[49m\u001b[43m)\u001b[49m\n",
      "File \u001b[1;32mc:\\Users\\Dell\\AppData\\Local\\Programs\\Python\\Python312\\Lib\\site-packages\\sqlalchemy\\engine\\base.py:1986\u001b[0m, in \u001b[0;36mConnection._exec_single_context\u001b[1;34m(self, dialect, context, statement, parameters)\u001b[0m\n\u001b[0;32m   1983\u001b[0m     result \u001b[38;5;241m=\u001b[39m context\u001b[38;5;241m.\u001b[39m_setup_result_proxy()\n\u001b[0;32m   1985\u001b[0m \u001b[38;5;28;01mexcept\u001b[39;00m \u001b[38;5;167;01mBaseException\u001b[39;00m \u001b[38;5;28;01mas\u001b[39;00m e:\n\u001b[1;32m-> 1986\u001b[0m     \u001b[38;5;28;43mself\u001b[39;49m\u001b[38;5;241;43m.\u001b[39;49m\u001b[43m_handle_dbapi_exception\u001b[49m\u001b[43m(\u001b[49m\n\u001b[0;32m   1987\u001b[0m \u001b[43m        \u001b[49m\u001b[43me\u001b[49m\u001b[43m,\u001b[49m\u001b[43m \u001b[49m\u001b[43mstr_statement\u001b[49m\u001b[43m,\u001b[49m\u001b[43m \u001b[49m\u001b[43meffective_parameters\u001b[49m\u001b[43m,\u001b[49m\u001b[43m \u001b[49m\u001b[43mcursor\u001b[49m\u001b[43m,\u001b[49m\u001b[43m \u001b[49m\u001b[43mcontext\u001b[49m\n\u001b[0;32m   1988\u001b[0m \u001b[43m    \u001b[49m\u001b[43m)\u001b[49m\n\u001b[0;32m   1990\u001b[0m \u001b[38;5;28;01mreturn\u001b[39;00m result\n",
      "File \u001b[1;32mc:\\Users\\Dell\\AppData\\Local\\Programs\\Python\\Python312\\Lib\\site-packages\\sqlalchemy\\engine\\base.py:2355\u001b[0m, in \u001b[0;36mConnection._handle_dbapi_exception\u001b[1;34m(self, e, statement, parameters, cursor, context, is_sub_exec)\u001b[0m\n\u001b[0;32m   2353\u001b[0m \u001b[38;5;28;01melif\u001b[39;00m should_wrap:\n\u001b[0;32m   2354\u001b[0m     \u001b[38;5;28;01massert\u001b[39;00m sqlalchemy_exception \u001b[38;5;129;01mis\u001b[39;00m \u001b[38;5;129;01mnot\u001b[39;00m \u001b[38;5;28;01mNone\u001b[39;00m\n\u001b[1;32m-> 2355\u001b[0m     \u001b[38;5;28;01mraise\u001b[39;00m sqlalchemy_exception\u001b[38;5;241m.\u001b[39mwith_traceback(exc_info[\u001b[38;5;241m2\u001b[39m]) \u001b[38;5;28;01mfrom\u001b[39;00m \u001b[38;5;21;01me\u001b[39;00m\n\u001b[0;32m   2356\u001b[0m \u001b[38;5;28;01melse\u001b[39;00m:\n\u001b[0;32m   2357\u001b[0m     \u001b[38;5;28;01massert\u001b[39;00m exc_info[\u001b[38;5;241m1\u001b[39m] \u001b[38;5;129;01mis\u001b[39;00m \u001b[38;5;129;01mnot\u001b[39;00m \u001b[38;5;28;01mNone\u001b[39;00m\n",
      "File \u001b[1;32mc:\\Users\\Dell\\AppData\\Local\\Programs\\Python\\Python312\\Lib\\site-packages\\sqlalchemy\\engine\\base.py:1967\u001b[0m, in \u001b[0;36mConnection._exec_single_context\u001b[1;34m(self, dialect, context, statement, parameters)\u001b[0m\n\u001b[0;32m   1965\u001b[0m                 \u001b[38;5;28;01mbreak\u001b[39;00m\n\u001b[0;32m   1966\u001b[0m     \u001b[38;5;28;01mif\u001b[39;00m \u001b[38;5;129;01mnot\u001b[39;00m evt_handled:\n\u001b[1;32m-> 1967\u001b[0m         \u001b[38;5;28;43mself\u001b[39;49m\u001b[38;5;241;43m.\u001b[39;49m\u001b[43mdialect\u001b[49m\u001b[38;5;241;43m.\u001b[39;49m\u001b[43mdo_execute\u001b[49m\u001b[43m(\u001b[49m\n\u001b[0;32m   1968\u001b[0m \u001b[43m            \u001b[49m\u001b[43mcursor\u001b[49m\u001b[43m,\u001b[49m\u001b[43m \u001b[49m\u001b[43mstr_statement\u001b[49m\u001b[43m,\u001b[49m\u001b[43m \u001b[49m\u001b[43meffective_parameters\u001b[49m\u001b[43m,\u001b[49m\u001b[43m \u001b[49m\u001b[43mcontext\u001b[49m\n\u001b[0;32m   1969\u001b[0m \u001b[43m        \u001b[49m\u001b[43m)\u001b[49m\n\u001b[0;32m   1971\u001b[0m \u001b[38;5;28;01mif\u001b[39;00m \u001b[38;5;28mself\u001b[39m\u001b[38;5;241m.\u001b[39m_has_events \u001b[38;5;129;01mor\u001b[39;00m \u001b[38;5;28mself\u001b[39m\u001b[38;5;241m.\u001b[39mengine\u001b[38;5;241m.\u001b[39m_has_events:\n\u001b[0;32m   1972\u001b[0m     \u001b[38;5;28mself\u001b[39m\u001b[38;5;241m.\u001b[39mdispatch\u001b[38;5;241m.\u001b[39mafter_cursor_execute(\n\u001b[0;32m   1973\u001b[0m         \u001b[38;5;28mself\u001b[39m,\n\u001b[0;32m   1974\u001b[0m         cursor,\n\u001b[1;32m   (...)\u001b[0m\n\u001b[0;32m   1978\u001b[0m         context\u001b[38;5;241m.\u001b[39mexecutemany,\n\u001b[0;32m   1979\u001b[0m     )\n",
      "File \u001b[1;32mc:\\Users\\Dell\\AppData\\Local\\Programs\\Python\\Python312\\Lib\\site-packages\\sqlalchemy\\engine\\default.py:941\u001b[0m, in \u001b[0;36mDefaultDialect.do_execute\u001b[1;34m(self, cursor, statement, parameters, context)\u001b[0m\n\u001b[0;32m    940\u001b[0m \u001b[38;5;28;01mdef\u001b[39;00m \u001b[38;5;21mdo_execute\u001b[39m(\u001b[38;5;28mself\u001b[39m, cursor, statement, parameters, context\u001b[38;5;241m=\u001b[39m\u001b[38;5;28;01mNone\u001b[39;00m):\n\u001b[1;32m--> 941\u001b[0m     \u001b[43mcursor\u001b[49m\u001b[38;5;241;43m.\u001b[39;49m\u001b[43mexecute\u001b[49m\u001b[43m(\u001b[49m\u001b[43mstatement\u001b[49m\u001b[43m,\u001b[49m\u001b[43m \u001b[49m\u001b[43mparameters\u001b[49m\u001b[43m)\u001b[49m\n",
      "\u001b[1;31mOperationalError\u001b[0m: (psycopg2.OperationalError) server closed the connection unexpectedly\n\tThis probably means the server terminated abnormally\n\tbefore or while processing the request.\nserver closed the connection unexpectedly\n\tThis probably means the server terminated abnormally\n\tbefore or while processing the request.\n\n[SQL: \n             WITH snp500_query AS(\n                SELECT a.*, \n                       b.gvkey, \n                       b.liid, \n                       b.linkdt, \n                       b.linkenddt\n                FROM (\n                    SELECT * \n                    FROM crsp.dsp500list\n                    WHERE start <= make_date(2015, 1, 1)\n                      AND ending >= make_date(2015, 12, 31)\n                ) AS a\n                LEFT JOIN (\n                    SELECT * \n                    FROM crsp.ccmxpf_lnkhist\n                    WHERE linkdt <= make_date(2015, 1, 1)\n                      AND (linkenddt >= make_date(2015, 12, 31) OR linkenddt IS NULL)\n                ) AS b \n                  ON a.permno = b.lpermno\n                AND b.linktype IN ('LU', 'LC')\n                AND b.linkprim IN ('P', 'C')\n             )\n\n             SELECT b.transcriptcreationdateutc,\n                    f.companyid,\n                    f.companyname,\n                    b.keydevid,\n                    i.headline,\n                    i.mostimportantdateutc,\n                    a.transcriptid,\n                    b.transcriptcollectiontypeid,\n                    b.transcriptpresentationtypeid,\n                    a.transcriptcomponentid,\n                    a.componentorder,\n                    a.transcriptcomponenttypeid,\n                    h.transcriptcomponenttypename,\n                    e.transcriptpersonname,\n                    e.companyname AS speaker_companyname,\n                    e.speakertypeid,\n                    g.speakertypename,\n                    a.componenttext\n             FROM ciq_transcripts.ciqtranscriptcomponent AS a\n             JOIN ciq_transcripts.ciqtranscript AS b\n               ON a.transcriptid = b.transcriptid\n             JOIN ciq_keydev.ciqkeydevtoobjecttoeventtype AS d\n               ON b.keydevid = d.keydevid\n             JOIN ciq_transcripts.ciqtranscriptperson AS e\n               ON a.transcriptpersonid = e.transcriptpersonid\n             JOIN ciq_transcripts.ciqtranscriptspeakertype AS g\n               ON e.speakertypeid = g.speakertypeid\n             JOIN ciq_common.ciqcompany AS f\n               ON d.objectid = f.companyid\n             JOIN ciq_transcripts.ciqtranscriptcomponenttype AS h\n               ON a.transcriptcomponenttypeid = h.transcriptcomponenttypeid\n             JOIN ciq_keydev.ciqkeydev AS i\n               ON b.keydevid = i.keydevid\n             JOIN ciq_common.wrds_gvkey AS k\n               ON f.companyid = k.companyid\n             JOIN snp500_query AS j\n               ON k.gvkey = j.gvkey\n             WHERE date_part('year', i.mostimportantdateutc) = 2015\n               AND date_part('month', i.mostimportantdateutc) = 12\n               AND a.transcriptcomponenttypeid = 3\n               AND d.keydeveventtypeid = 48\n               AND e.speakertypeid = 3\n             ORDER BY b.keydevid,\n                      b.transcriptcollectiontypeid,\n                      a.transcriptid,\n                      a.componentorder\n           ]\n(Background on this error at: https://sqlalche.me/e/20/e3q8)"
     ]
    }
   ],
   "source": [
    "snp500_transcripts = db.raw_sql(sql_query)"
   ]
  },
  {
   "cell_type": "code",
   "execution_count": null,
   "id": "362a65ed",
   "metadata": {},
   "outputs": [],
   "source": []
  }
 ],
 "metadata": {
  "kernelspec": {
   "display_name": "Python 3",
   "language": "python",
   "name": "python3"
  },
  "language_info": {
   "codemirror_mode": {
    "name": "ipython",
    "version": 3
   },
   "file_extension": ".py",
   "mimetype": "text/x-python",
   "name": "python",
   "nbconvert_exporter": "python",
   "pygments_lexer": "ipython3",
   "version": "3.12.3"
  }
 },
 "nbformat": 4,
 "nbformat_minor": 5
}
