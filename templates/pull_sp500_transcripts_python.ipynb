{
 "cells": [
  {
   "cell_type": "markdown",
   "id": "5708e932-164e-4846-bc33-d97c65f724a7",
   "metadata": {},
   "source": [
    "# Pull transcripts of S&P500 Companies (Python)\n",
    "Author: WRDS\n",
    "\n",
    "Description: How to retrieve transcripts of S&P 500 companies using CRSP, CCM, and CIQ Transcripts"
   ]
  },
  {
   "cell_type": "markdown",
   "id": "fbaeb255-33ae-46e1-9934-4681627cb876",
   "metadata": {},
   "source": [
    "## Pull Transcripts of S&P 500 constituents in 2015\n",
    "Import packages and connect to WRDS server"
   ]
  },
  {
   "cell_type": "code",
   "execution_count": null,
   "id": "94e67148-6c28-494d-8c27-02598a67abe8",
   "metadata": {
    "tags": []
   },
   "outputs": [],
   "source": [
    "import pandas as pd\n",
    "import wrds\n",
    "\n",
    "db = wrds.Connection()"
   ]
  },
  {
   "cell_type": "markdown",
   "id": "0dd78d6c-1def-40e7-a90e-c2330b4826a4",
   "metadata": {},
   "source": [
    "Get S&P 500 Companies in 2015 from CRSP"
   ]
  },
  {
   "cell_type": "code",
   "execution_count": null,
   "id": "5595e434-f4eb-418b-975c-ec9c77994437",
   "metadata": {
    "tags": []
   },
   "outputs": [],
   "source": [
    "# S&P 500 Constituents in the year 2015 from CRSP\n",
    "# Merge with GVKEY using CCM Linktable\n",
    "sql_query = '''\n",
    "            SELECT a.*, b.gvkey, b.liid, b.linkdt, b.linkenddt\n",
    "            FROM (\n",
    "                SELECT * \n",
    "                FROM crsp.dsp500list\n",
    "                WHERE start <= make_date(2015, 1, 1)\n",
    "                  AND ending >= make_date(2015, 12, 31)\n",
    "            ) AS a\n",
    "            LEFT JOIN (\n",
    "                SELECT * \n",
    "                FROM crsp.ccmxpf_lnkhist\n",
    "                WHERE linkdt <= make_date(2015, 1, 1)\n",
    "                  AND (linkenddt >= make_date(2015, 12, 31) OR linkenddt IS NULL)\n",
    "            ) AS b\n",
    "            ON a.permno = b.lpermno\n",
    "            AND b.linktype IN ('LU', 'LC')\n",
    "            AND b.linkprim IN ('P', 'C');\n",
    "            '''\n",
    "\n",
    "snp500_crsp_gvkey = db.raw_sql(sql_query)"
   ]
  },
  {
   "cell_type": "markdown",
   "id": "5b84301b-05d0-4813-a6e0-d5ac9bd434e6",
   "metadata": {},
   "source": [
    "Pull Transcripts data with full-text from 2015\n",
    "\n",
    "Sample selection:\n",
    "\n",
    "- Transcripts of earnings conference calls\n",
    "    - Key Development Event Type ID `keydeveventtypeid` = 48\n",
    "- The final copy of each transcript that is edited, proofed, or audited\n",
    "    - Final copy: `transcriptpresentationtypeid` = 5.0\n",
    "\n",
    "Merge GVKEY with Transcripts data"
   ]
  },
  {
   "cell_type": "code",
   "execution_count": null,
   "id": "f685bac1-ebdb-4f8b-862b-2fbe7e85ec3c",
   "metadata": {
    "tags": []
   },
   "outputs": [],
   "source": [
    "sql_query = '''\n",
    "            SELECT a.*,\n",
    "                   b.symbolvalue AS gvkey,\n",
    "                   c.*, \n",
    "                   d.componenttext\n",
    "            FROM (\n",
    "                SELECT *\n",
    "                FROM ciq.wrds_transcript_detail \n",
    "                WHERE keydeveventtypeid = 48 \n",
    "                  AND transcriptpresentationtypeid = 5 \n",
    "                  AND date_part('year', mostimportantdateutc) = 2015\n",
    "            ) AS a\n",
    "            LEFT JOIN (\n",
    "                SELECT *\n",
    "                FROM ciq.wrds_ciqsymbol \n",
    "                WHERE symboltypecat = 'gvkey'\n",
    "            ) AS b\n",
    "              ON a.companyid = b.companyid\n",
    "            LEFT JOIN ciq.wrds_transcript_person AS c \n",
    "              ON a.transcriptid = c.transcriptid\n",
    "            LEFT JOIN ciq.ciqtranscriptcomponent AS d \n",
    "              ON c.transcriptid = d.transcriptid \n",
    "             AND c.transcriptcomponentid = d.transcriptcomponentid\n",
    "            ORDER BY a.transcriptid, c.transcriptcomponentid, a.companyid;\n",
    "            '''\n",
    "\n",
    "tr_detail_gvkey = db.raw_sql(sql_query)"
   ]
  },
  {
   "cell_type": "markdown",
   "id": "0d79505e-56e7-4b11-b1ac-10e4df568948",
   "metadata": {},
   "source": [
    "Merge transcripts and `permno` via `gvkey`"
   ]
  },
  {
   "cell_type": "code",
   "execution_count": null,
   "id": "e55bb2f4-08af-47e4-b1c1-64467128b25d",
   "metadata": {
    "tags": []
   },
   "outputs": [],
   "source": [
    "# Obtain transcripts data for GVKEYs in the S&P500 Contituent list\n",
    "snp500_transcripts = tr_detail_gvkey[tr_detail_gvkey.gvkey.isin(snp500_crsp_gvkey.gvkey.tolist())]\n",
    "\n",
    "# Remove observations with missing GVKEY\n",
    "snp500_transcripts = snp500_transcripts[pd.notna(snp500_transcripts.gvkey)]"
   ]
  },
  {
   "cell_type": "markdown",
   "id": "7ba3bb95-27c1-4816-a3b9-6295ecae487a",
   "metadata": {
    "tags": []
   },
   "source": [
    "## To avoid excessive memory usage: Use SQL Query as much as possible\n",
    "Using sql commands as much as possible can be a basic solution for excessive memory usage issues. The code below is an example of querying S&P 500 transcripts using only SQL syntax instead of loading all tables into memory and working with python `pandas`.\n",
    "\n",
    "The code does:\n",
    "\n",
    "1. Retrieving analysts' questions in S&P 500 companies' earnings conference calls in December 2015\n",
    "    1. Analyst: `speakertypeid` = 3\n",
    "    2. Questions: `transcriptcomponenttypeid` = 3\n",
    "    3. Earnings conference call: `keydeveventtypeid` = 48\n",
    "2. Only using original CIQ tables (**Transcripts, Key Developments, Common**)\n",
    "3. Keeping all copies of the transcripts"
   ]
  },
  {
   "cell_type": "code",
   "execution_count": null,
   "id": "3a7fea9a-9d3a-4acc-afce-24a7e63bbad7",
   "metadata": {
    "tags": []
   },
   "outputs": [],
   "source": [
    "sql_query = '''\n",
    "             WITH snp500_query AS(\n",
    "                SELECT a.*, \n",
    "                       b.gvkey, \n",
    "                       b.liid, \n",
    "                       b.linkdt, \n",
    "                       b.linkenddt\n",
    "                FROM (\n",
    "                    SELECT * \n",
    "                    FROM crsp.dsp500list\n",
    "                    WHERE start <= make_date(2015, 1, 1)\n",
    "                      AND ending >= make_date(2015, 12, 31)\n",
    "                ) AS a\n",
    "                LEFT JOIN (\n",
    "                    SELECT * \n",
    "                    FROM crsp.ccmxpf_lnkhist\n",
    "                    WHERE linkdt <= make_date(2015, 1, 1)\n",
    "                      AND (linkenddt >= make_date(2015, 12, 31) OR linkenddt IS NULL)\n",
    "                ) AS b \n",
    "                  ON a.permno = b.lpermno\n",
    "                AND b.linktype IN ('LU', 'LC')\n",
    "                AND b.linkprim IN ('P', 'C')\n",
    "             )\n",
    "\n",
    "             SELECT b.transcriptcreationdateutc,\n",
    "                    f.companyid,\n",
    "                    f.companyname,\n",
    "                    b.keydevid,\n",
    "                    i.headline,\n",
    "                    i.mostimportantdateutc,\n",
    "                    a.transcriptid,\n",
    "                    b.transcriptcollectiontypeid,\n",
    "                    b.transcriptpresentationtypeid,\n",
    "                    a.transcriptcomponentid,\n",
    "                    a.componentorder,\n",
    "                    a.transcriptcomponenttypeid,\n",
    "                    h.transcriptcomponenttypename,\n",
    "                    e.transcriptpersonname,\n",
    "                    e.companyname AS speaker_companyname,\n",
    "                    e.speakertypeid,\n",
    "                    g.speakertypename,\n",
    "                    a.componenttext\n",
    "             FROM ciq_transcripts.ciqtranscriptcomponent AS a\n",
    "             JOIN ciq_transcripts.ciqtranscript AS b\n",
    "               ON a.transcriptid = b.transcriptid\n",
    "             JOIN ciq_keydev.ciqkeydevtoobjecttoeventtype AS d\n",
    "               ON b.keydevid = d.keydevid\n",
    "             JOIN ciq_transcripts.ciqtranscriptperson AS e\n",
    "               ON a.transcriptpersonid = e.transcriptpersonid\n",
    "             JOIN ciq_transcripts.ciqtranscriptspeakertype AS g\n",
    "               ON e.speakertypeid = g.speakertypeid\n",
    "             JOIN ciq_common.ciqcompany AS f\n",
    "               ON d.objectid = f.companyid\n",
    "             JOIN ciq_transcripts.ciqtranscriptcomponenttype AS h\n",
    "               ON a.transcriptcomponenttypeid = h.transcriptcomponenttypeid\n",
    "             JOIN ciq_keydev.ciqkeydev AS i\n",
    "               ON b.keydevid = i.keydevid\n",
    "             JOIN ciq_common.wrds_gvkey AS k\n",
    "               ON f.companyid = k.companyid\n",
    "             JOIN snp500_query AS j\n",
    "               ON k.gvkey = j.gvkey\n",
    "             WHERE date_part('year', i.mostimportantdateutc) = 2015\n",
    "               AND date_part('month', i.mostimportantdateutc) = 12\n",
    "               AND a.transcriptcomponenttypeid = 3\n",
    "               AND d.keydeveventtypeid = 48\n",
    "               AND e.speakertypeid = 3\n",
    "             ORDER BY b.keydevid,\n",
    "                      b.transcriptcollectiontypeid,\n",
    "                      a.transcriptid,\n",
    "                      a.componentorder\n",
    "           '''"
   ]
  },
  {
   "cell_type": "code",
   "execution_count": null,
   "id": "6eb5007d-f01d-4187-9e3c-33cbe4a9c7d1",
   "metadata": {
    "tags": []
   },
   "outputs": [],
   "source": [
    "snp500_transcripts = db.raw_sql(sql_query)"
   ]
  }
 ],
 "metadata": {
  "kernelspec": {
   "display_name": "Python 3",
   "language": "python",
   "name": "python3"
  },
  "language_info": {
   "codemirror_mode": {
    "name": "ipython",
    "version": 3
   },
   "file_extension": ".py",
   "mimetype": "text/x-python",
   "name": "python",
   "nbconvert_exporter": "python",
   "pygments_lexer": "ipython3",
   "version": "3.12.3"
  }
 },
 "nbformat": 4,
 "nbformat_minor": 5
}
