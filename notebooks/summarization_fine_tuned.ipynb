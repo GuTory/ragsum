{
 "cells": [
  {
   "cell_type": "markdown",
   "metadata": {},
   "source": [
    "# Summarization with fine-tuned summarization models"
   ]
  },
  {
   "cell_type": "code",
   "execution_count": null,
   "metadata": {},
   "outputs": [],
   "source": [
    "import os\n",
    "import gc\n",
    "from datetime import date\n",
    "\n",
    "import torch\n",
    "from tqdm.notebook import tqdm\n",
    "import pandas as pd\n",
    "\n",
    "from utils import (\n",
    "    compute_metrics,\n",
    "    load_all_available_transcripts,\n",
    "    SummarizationPipeline,\n",
    "    TextChunker,\n",
    "    LoggingConfig,\n",
    "    ModelConfig,\n",
    ")"
   ]
  },
  {
   "cell_type": "code",
   "execution_count": null,
   "metadata": {},
   "outputs": [],
   "source": [
    "transcripts_df = load_all_available_transcripts()\n",
    "transcripts_df.shape"
   ]
  },
  {
   "cell_type": "code",
   "execution_count": null,
   "metadata": {},
   "outputs": [],
   "source": [
    "original_texts = transcripts_df['full_text'].tolist()\n",
    "metadata = transcripts_df[['uuid', 'companyid', 'companyname', 'word_count_nltk']]"
   ]
  },
  {
   "cell_type": "code",
   "execution_count": null,
   "metadata": {},
   "outputs": [],
   "source": [
    "checkpoints = [\n",
    "    'facebook/bart-large-cnn',\n",
    "    'google-t5/t5-base',\n",
    "    'google/pegasus-x-large',\n",
    "    'human-centered-summarization/financial-summarization-pegasus',\n",
    "]\n",
    "local_paths = [f'../models/ragsum-{ckpt}-billsum' for ckpt in checkpoints]"
   ]
  },
  {
   "cell_type": "code",
   "execution_count": null,
   "metadata": {},
   "outputs": [],
   "source": [
    "logging_config = LoggingConfig()\n",
    "\n",
    "all_metrics = []"
   ]
  },
  {
   "cell_type": "code",
   "execution_count": null,
   "metadata": {},
   "outputs": [],
   "source": [
    "for checkpoint, path in zip(checkpoints, local_paths):\n",
    "    model_config = ModelConfig(\n",
    "        model_name_or_path=checkpoint,\n",
    "        device='cuda' if torch.cuda.is_available() else 'cpu'\n",
    "    )\n",
    "    pipeline = SummarizationPipeline(\n",
    "        model_config=model_config,\n",
    "        logging_config=logging_config,\n",
    "        remote=False\n",
    "    )\n",
    "    pipeline.load_from_local(path)\n",
    "\n",
    "    tokenizer = pipeline.get_tokenizer()\n",
    "    chunker = TextChunker(tokenizer)\n",
    "\n",
    "    summaries = []\n",
    "    for text in tqdm(original_texts, desc=f\"Fine-tuned summarizing with {checkpoint}\"):\n",
    "        chunks = chunker.chunk_text(text)\n",
    "        chunk_summaries = [pipeline.summarize(c) for c in chunks]\n",
    "        combined = \" \".join(chunk_summaries)\n",
    "\n",
    "        # Iterative reduction if over length\n",
    "        max_rounds = 5\n",
    "        for _ in range(max_rounds):\n",
    "            tokens = tokenizer(combined, return_tensors='pt', truncation=False)['input_ids']\n",
    "            if tokens.shape[1] <= min(1024, pipeline.model_max_length):\n",
    "                break\n",
    "            re_chunks = chunker.chunk_text(combined)\n",
    "            combined = \" \".join(pipeline.summarize(rc) for rc in re_chunks)\n",
    "\n",
    "        summaries.append(combined)\n",
    "\n",
    "    del pipeline, model_config\n",
    "    torch.cuda.empty_cache()\n",
    "    gc.collect()\n",
    "\n",
    "    metrics_df = compute_metrics(\n",
    "        originals=original_texts,\n",
    "        summaries=summaries,\n",
    "        model_name=checkpoint,\n",
    "        summarization_type='fine-tuned'\n",
    "    )\n",
    "\n",
    "    metrics_df['uuid'] = metadata['uuid'].values\n",
    "    metrics_df['companyid'] = metadata['companyid'].values\n",
    "    metrics_df['companyname'] = metadata['companyname'].values\n",
    "    metrics_df['wor_count_nltk'] = metadata['word_count_nltk'].values\n",
    "    metrics_df['summary'] = summaries\n",
    "    metrics_df['evaluation_date'] = date.today().isoformat()\n",
    "\n",
    "    all_metrics.append(metrics_df)\n",
    "\n",
    "final_df = pd.concat(all_metrics, ignore_index=True)"
   ]
  },
  {
   "cell_type": "code",
   "execution_count": null,
   "metadata": {},
   "outputs": [],
   "source": [
    "output_path = 'summarization_evaluation_metrics.csv'\n",
    "if os.path.exists(output_path):\n",
    "    existing_df = pd.read_csv(\n",
    "        output_path,\n",
    "        sep='\\t',             \n",
    "        quoting=1,\n",
    "        quotechar='\"',        \n",
    "        escapechar='\\\\',      \n",
    "        doublequote=True,     \n",
    "        engine='python',\n",
    "    )\n",
    "    final_df = pd.concat([existing_df, final_df], ignore_index=True)\n",
    "final_df.to_csv(output_path, \n",
    "    index=False, \n",
    "    sep='\\t', \n",
    "    quoting=1,\n",
    "    escapechar='\\\\',\n",
    "    doublequote=True,\n",
    "    quotechar='\"',\n",
    "    )\n",
    "print(f\"State-of-the-art evaluation complete. Metrics saved to {output_path}.\")"
   ]
  }
 ],
 "metadata": {
  "kernelspec": {
   "display_name": "venv",
   "language": "python",
   "name": "python3"
  },
  "language_info": {
   "codemirror_mode": {
    "name": "ipython",
    "version": 3
   },
   "file_extension": ".py",
   "mimetype": "text/x-python",
   "name": "python",
   "nbconvert_exporter": "python",
   "pygments_lexer": "ipython3",
   "version": "3.10.12"
  },
  "orig_nbformat": 4
 },
 "nbformat": 4,
 "nbformat_minor": 2
}
