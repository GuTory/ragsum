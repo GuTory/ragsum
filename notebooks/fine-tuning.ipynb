{
 "cells": [
  {
   "cell_type": "code",
   "execution_count": 1,
   "metadata": {},
   "outputs": [
    {
     "name": "stderr",
     "output_type": "stream",
     "text": [
      "/workspace/persistent/ragsum/venv/lib/python3.10/site-packages/_distutils_hack/__init__.py:53: UserWarning: Reliance on distutils from stdlib is deprecated. Users must rely on setuptools to provide the distutils module. Avoid importing distutils or import setuptools first, and avoid setting SETUPTOOLS_USE_DISTUTILS=stdlib. Register concerns at https://github.com/pypa/setuptools/issues/new?template=distutils-deprecation.yml\n",
      "  warnings.warn(\n"
     ]
    }
   ],
   "source": [
    "import os\n",
    "import torch\n",
    "import torch.nn as nn\n",
    "import bitsandbytes as bnb\n",
    "import pandas as pd\n",
    "\n",
    "\n",
    "from transformers import AutoTokenizer, AutoModelForSeq2SeqLM, AutoConfig"
   ]
  },
  {
   "cell_type": "code",
   "execution_count": 2,
   "metadata": {},
   "outputs": [],
   "source": [
    "os.environ['CUDA_VISIBLE_DEVICES'] = '0'"
   ]
  },
  {
   "cell_type": "code",
   "execution_count": 3,
   "metadata": {},
   "outputs": [
    {
     "name": "stderr",
     "output_type": "stream",
     "text": [
      "2025-04-18 16:02:47,401 - __main__ - INFO - Logging Successfully set up\n"
     ]
    }
   ],
   "source": [
    "from utils import setup_logger\n",
    "\n",
    "logger = setup_logger(__name__)\n",
    "logger.info('Logging Successfully set up')"
   ]
  },
  {
   "cell_type": "code",
   "execution_count": 17,
   "metadata": {},
   "outputs": [],
   "source": [
    "checkpoint = 'facebook/bart-large-cnn'\n",
    "tokenizer = AutoTokenizer.from_pretrained(\n",
    "    checkpoint,\n",
    "    load_in_8bit=True,\n",
    "    device_map='auto',\n",
    ")\n",
    "model = AutoModelForSeq2SeqLM.from_pretrained(checkpoint)"
   ]
  },
  {
   "cell_type": "code",
   "execution_count": 5,
   "metadata": {},
   "outputs": [],
   "source": [
    "for param in model.parameters():\n",
    "    param.requires_grad = False\n",
    "    if param.ndim == 1:\n",
    "        param.data = param.data.to(torch.float32)\n",
    "model.gradient_checkpointing_enable()  # reduce number of stored activations\n",
    "model.enable_input_require_grads()\n",
    "\n",
    "class CastOutputToFloat(nn.Sequential):\n",
    "    def forward(self, x): return super().forward(x).to(torch.float32)\n",
    "model.lm_head = CastOutputToFloat(model.lm_head)"
   ]
  },
  {
   "cell_type": "code",
   "execution_count": 6,
   "metadata": {},
   "outputs": [],
   "source": [
    "def print_trainable_parameters(model):\n",
    "    trainable_params = 0\n",
    "    all_param = 0\n",
    "    for _, param in model.named_parameters():\n",
    "        all_param += param.numel()\n",
    "        if param.requires_grad:\n",
    "            trainable_params += param.numel()\n",
    "    print(\n",
    "        f'trainable: {trainable_params}, all params: {all_param}, ratio: {trainable_params / all_param:.5f}'\n",
    "    )\n"
   ]
  },
  {
   "cell_type": "code",
   "execution_count": 7,
   "metadata": {},
   "outputs": [
    {
     "name": "stdout",
     "output_type": "stream",
     "text": [
      "trainable: 2359296, all params: 408649728, ratio: 0.00577\n"
     ]
    }
   ],
   "source": [
    "from peft import LoraConfig, get_peft_model\n",
    "\n",
    "config = LoraConfig(\n",
    "    r=16,\n",
    "    lora_alpha=32,\n",
    "    lora_dropout=0.05,\n",
    "    bias='none',\n",
    "    # Valid task types: SEQ_CLS, SEQ_2_SEQ_LM, CAUSAL_LM, TOKEN_CLS, QUESTION_ANS, FEATURE_EXTRACTION\n",
    "    task_type='SEQ_2_SEQ_LM'\n",
    ")\n",
    "\n",
    "model = get_peft_model(model, config)\n",
    "\n",
    "print_trainable_parameters(model)"
   ]
  },
  {
   "cell_type": "code",
   "execution_count": 8,
   "metadata": {},
   "outputs": [],
   "source": [
    "from datasets import load_dataset\n",
    "\n",
    "billsum = load_dataset(\"FiscalNote/billsum\")"
   ]
  },
  {
   "cell_type": "code",
   "execution_count": 39,
   "metadata": {},
   "outputs": [
    {
     "data": {
      "text/plain": [
       "{'text': \"SECTION 1. LIABILITY OF BUSINESS ENTITIES PROVIDING USE OF FACILITIES \\n              TO NONPROFIT ORGANIZATIONS.\\n\\n    (a) Definitions.--In this section:\\n            (1) Business entity.--The term ``business entity'' means a \\n        firm, corporation, association, partnership, consortium, joint \\n        venture, or other form of enterprise.\\n            (2) Facility.--The term ``facility'' means any real \\n        property, including any building, improvement, or appurtenance.\\n            (3) Gross negligence.--The term ``gross negligence'' means \\n        voluntary and conscious conduct by a person with knowledge (at \\n        the time of the conduct) that the conduct is likely to be \\n        harmful to the health or well-being of another person.\\n            (4) Intentional misconduct.--The term ``intentional \\n        misconduct'' means conduct by a person with knowledge (at the \\n        time of the conduct) that the conduct is harmful to the health \\n        or well-being of another person.\\n            (5) Nonprofit organization.--The term ``nonprofit \\n        organization'' means--\\n                    (A) any organization described in section 501(c)(3) \\n                of the Internal Revenue Code of 1986 and exempt from \\n                tax under section 501(a) of such Code; or\\n                    (B) any not-for-profit organization organized and \\n                conducted for public benefit and operated primarily for \\n                charitable, civic, educational, religious, welfare, or \\n                health purposes.\\n            (6) State.--The term ``State'' means each of the several \\n        States, the District of Columbia, the Commonwealth of Puerto \\n        Rico, the Virgin Islands, Guam, American Samoa, the Northern \\n        Mariana Islands, any other territory or possession of the \\n        United States, or any political subdivision of any such State, \\n        territory, or possession.\\n    (b) Limitation on Liability.--\\n            (1) In general.--Subject to subsection (c), a business \\n        entity shall not be subject to civil liability relating to any \\n        injury or death occurring at a facility of the business entity \\n        in connection with a use of such facility by a nonprofit \\n        organization if--\\n                    (A) the use occurs outside of the scope of business \\n                of the business entity;\\n                    (B) such injury or death occurs during a period \\n                that such facility is used by the nonprofit \\n                organization; and\\n                    (C) the business entity authorized the use of such \\n                facility by the nonprofit organization.\\n            (2) Application.--This subsection shall apply--\\n                    (A) with respect to civil liability under Federal \\n                and State law; and\\n                    (B) regardless of whether a nonprofit organization \\n                pays for the use of a facility.\\n    (c) Exception for Liability.--Subsection (b) shall not apply to an \\ninjury or death that results from an act or omission of a business \\nentity that constitutes gross negligence or intentional misconduct, \\nincluding any misconduct that--\\n            (1) constitutes a crime of violence (as that term is \\n        defined in section 16 of title 18, United States Code) or act \\n        of international terrorism (as that term is defined in section \\n        2331 of title 18) for which the defendant has been convicted in \\n        any court;\\n            (2) constitutes a hate crime (as that term is used in the \\n        Hate Crime Statistics Act (28 U.S.C. 534 note));\\n            (3) involves a sexual offense, as defined by applicable \\n        State law, for which the defendant has been convicted in any \\n        court; or\\n            (4) involves misconduct for which the defendant has been \\n        found to have violated a Federal or State civil rights law.\\n    (d) Superseding Provision.--\\n            (1) In general.--Subject to paragraph (2) and subsection \\n        (e), this Act preempts the laws of any State to the extent that \\n        such laws are inconsistent with this Act, except that this Act \\n        shall not preempt any State law that provides additional \\n        protection from liability for a business entity for an injury \\n        or death with respect to which conditions under subparagraphs \\n        (A) through (C) of subsection (b)(1) apply.\\n            (2) Limitation.--Nothing in this Act shall be construed to \\n        supersede any Federal or State health or safety law.\\n    (e) Election of State Regarding Nonapplicability.--This Act shall \\nnot apply to any civil action in a State court against a business \\nentity in which all parties are citizens of the State if such State \\nenacts a statute--\\n            (1) citing the authority of this subsection;\\n            (2) declaring the election of such State that this Act \\n        shall not apply to such civil action in the State; and\\n            (3) containing no other provision.\",\n",
       " 'summary': \"Shields a business entity from civil liability relating to any injury or death occurring at a facility of that entity in connection with a use of such facility by a nonprofit organization if: (1) the use occurs outside the scope of business of the business entity; (2) such injury or death occurs during a period that such facility is used by such organization; and (3) the business entity authorized the use of such facility by the organization. \\nMakes this Act inapplicable to an injury or death that results from an act or omission of a business entity that constitutes gross negligence or intentional misconduct, including misconduct that: (1) constitutes a hate crime or a crime of violence or act of international terrorism for which the defendant has been convicted in any court; or (2) involves a sexual offense for which the defendant has been convicted in any court or misconduct for which the defendant has been found to have violated a Federal or State civil rights law. \\nPreempts State laws to the extent that such laws are inconsistent with this Act, except State law that provides additional protection from liability.  Specifies that this Act shall not be construed to supersede any Federal or State health or safety law. \\nMakes this Act inapplicable to any civil action in a State court against a business entity in which all parties are citizens of the State if such State, citing this Act's authority and containing no other provision, enacts a statute declaring the State's election that this Act shall not apply to such action in the State.\",\n",
       " 'title': 'A bill to limit the civil liability of business entities providing use of facilities to nonprofit organizations.'}"
      ]
     },
     "execution_count": 39,
     "metadata": {},
     "output_type": "execute_result"
    }
   ],
   "source": [
    "billsum[\"train\"][0]"
   ]
  },
  {
   "cell_type": "code",
   "execution_count": 9,
   "metadata": {},
   "outputs": [
    {
     "data": {
      "application/vnd.jupyter.widget-view+json": {
       "model_id": "0b413f4acc88402e856e45f52877ea72",
       "version_major": 2,
       "version_minor": 0
      },
      "text/plain": [
       "Map:   0%|          | 0/3269 [00:00<?, ? examples/s]"
      ]
     },
     "metadata": {},
     "output_type": "display_data"
    }
   ],
   "source": [
    "prefix = \"summarize: \"\n",
    "\n",
    "\n",
    "def preprocess_function(examples):\n",
    "    inputs = [prefix + doc for doc in examples[\"text\"]]\n",
    "    model_inputs = tokenizer(inputs, max_length=1024, truncation=True)\n",
    "\n",
    "    labels = tokenizer(text_target=examples[\"summary\"], max_length=128, truncation=True)\n",
    "\n",
    "    model_inputs[\"labels\"] = labels[\"input_ids\"]\n",
    "    return model_inputs\n",
    "\n",
    "tokenized_billsum = billsum.map(preprocess_function, batched=True)"
   ]
  },
  {
   "cell_type": "code",
   "execution_count": 12,
   "metadata": {},
   "outputs": [],
   "source": [
    "import evaluate\n",
    "\n",
    "rouge = evaluate.load(\"rouge\")"
   ]
  },
  {
   "cell_type": "code",
   "execution_count": 13,
   "metadata": {},
   "outputs": [],
   "source": [
    "import numpy as np\n",
    "\n",
    "\n",
    "def compute_metrics(eval_pred):\n",
    "    predictions, labels = eval_pred\n",
    "    decoded_preds = tokenizer.batch_decode(predictions, skip_special_tokens=True)\n",
    "    labels = np.where(labels != -100, labels, tokenizer.pad_token_id)\n",
    "    decoded_labels = tokenizer.batch_decode(labels, skip_special_tokens=True)\n",
    "\n",
    "    result = rouge.compute(predictions=decoded_preds, references=decoded_labels, use_stemmer=True)\n",
    "\n",
    "    prediction_lens = [np.count_nonzero(pred != tokenizer.pad_token_id) for pred in predictions]\n",
    "    result[\"gen_len\"] = np.mean(prediction_lens)\n",
    "\n",
    "    return {k: round(v, 4) for k, v in result.items()}"
   ]
  },
  {
   "cell_type": "code",
   "execution_count": 18,
   "metadata": {},
   "outputs": [
    {
     "data": {
      "text/html": [
       "\n",
       "    <div>\n",
       "      \n",
       "      <progress value='200' max='200' style='width:300px; height:20px; vertical-align: middle;'></progress>\n",
       "      [200/200 16:47, Epoch 0/1]\n",
       "    </div>\n",
       "    <table border=\"1\" class=\"dataframe\">\n",
       "  <thead>\n",
       " <tr style=\"text-align: left;\">\n",
       "      <th>Epoch</th>\n",
       "      <th>Training Loss</th>\n",
       "      <th>Validation Loss</th>\n",
       "      <th>Rouge1</th>\n",
       "      <th>Rouge2</th>\n",
       "      <th>Rougel</th>\n",
       "      <th>Rougelsum</th>\n",
       "      <th>Gen Len</th>\n",
       "    </tr>\n",
       "  </thead>\n",
       "  <tbody>\n",
       "    <tr>\n",
       "      <td>0</td>\n",
       "      <td>1.552800</td>\n",
       "      <td>1.495035</td>\n",
       "      <td>0.552600</td>\n",
       "      <td>0.333700</td>\n",
       "      <td>0.416300</td>\n",
       "      <td>0.450500</td>\n",
       "      <td>128.952000</td>\n",
       "    </tr>\n",
       "  </tbody>\n",
       "</table><p>"
      ],
      "text/plain": [
       "<IPython.core.display.HTML object>"
      ]
     },
     "metadata": {},
     "output_type": "display_data"
    },
    {
     "name": "stderr",
     "output_type": "stream",
     "text": [
      "/workspace/persistent/ragsum/venv/lib/python3.10/site-packages/transformers/modeling_utils.py:3339: UserWarning: Moving the following attributes in the config to the generation config: {'max_length': 142, 'min_length': 56, 'early_stopping': True, 'num_beams': 4, 'length_penalty': 2.0, 'no_repeat_ngram_size': 3, 'forced_bos_token_id': 0}. You are seeing this warning because you've set generation parameters in the model config, as opposed to in the generation config.\n",
      "  warnings.warn(\n"
     ]
    },
    {
     "data": {
      "text/plain": [
       "TrainOutput(global_step=200, training_loss=1.7837346076965332, metrics={'train_runtime': 1007.3298, 'train_samples_per_second': 3.177, 'train_steps_per_second': 0.199, 'total_flos': 6934734726758400.0, 'train_loss': 1.7837346076965332, 'epoch': 0.16877637130801687})"
      ]
     },
     "execution_count": 18,
     "metadata": {},
     "output_type": "execute_result"
    }
   ],
   "source": [
    "from transformers import Seq2SeqTrainer, Seq2SeqTrainingArguments, DataCollatorForSeq2Seq\n",
    "\n",
    "seq2seq_args = Seq2SeqTrainingArguments(\n",
    "    output_dir=\"../models/ragsum-bart-billsum\",\n",
    "    eval_strategy=\"epoch\",\n",
    "    per_device_train_batch_size=16,\n",
    "    per_device_eval_batch_size=16,\n",
    "    weight_decay=0.01,\n",
    "    save_total_limit=3,\n",
    "    num_train_epochs=4,\n",
    "    predict_with_generate=True,\n",
    "    warmup_steps=100,\n",
    "    max_steps=200,\n",
    "    fp16=True,\n",
    "    logging_steps=8,\n",
    ")\n",
    "\n",
    "data_collator = DataCollatorForSeq2Seq(tokenizer=tokenizer, model=checkpoint)\n",
    "\n",
    "trainer = Seq2SeqTrainer(\n",
    "    model=model,\n",
    "    args=seq2seq_args,\n",
    "    train_dataset=tokenized_billsum['train'],\n",
    "    eval_dataset=tokenized_billsum['test'],\n",
    "    processing_class=tokenizer,\n",
    "    data_collator=data_collator,\n",
    "    compute_metrics=compute_metrics\n",
    ")\n",
    "trainer.train()\n"
   ]
  },
  {
   "cell_type": "code",
   "execution_count": 20,
   "metadata": {},
   "outputs": [
    {
     "data": {
      "text/plain": [
       "('../models/ragsum-bart-billsum/tokenizer_config.json',\n",
       " '../models/ragsum-bart-billsum/special_tokens_map.json',\n",
       " '../models/ragsum-bart-billsum/vocab.json',\n",
       " '../models/ragsum-bart-billsum/merges.txt',\n",
       " '../models/ragsum-bart-billsum/added_tokens.json',\n",
       " '../models/ragsum-bart-billsum/tokenizer.json')"
      ]
     },
     "execution_count": 20,
     "metadata": {},
     "output_type": "execute_result"
    }
   ],
   "source": [
    "import os\n",
    "\n",
    "save_path = os.path.join(\"..\", \"models\", \"ragsum-bart-billsum\")\n",
    "os.makedirs(save_path, exist_ok=True)\n",
    "\n",
    "trainer.save_model(save_path)\n",
    "tokenizer.save_pretrained(save_path)"
   ]
  },
  {
   "cell_type": "code",
   "execution_count": 21,
   "metadata": {},
   "outputs": [
    {
     "name": "stderr",
     "output_type": "stream",
     "text": [
      "/workspace/persistent/ragsum/venv/lib/python3.10/site-packages/transformers/models/bart/configuration_bart.py:176: UserWarning: Please make sure the config includes `forced_bos_token_id=0` in future versions. The config can simply be saved and uploaded again to be fixed.\n",
      "  warnings.warn(\n"
     ]
    }
   ],
   "source": [
    "model = AutoModelForSeq2SeqLM.from_pretrained(\"../models/ragsum-bart-billsum\")\n",
    "tokenizer = AutoTokenizer.from_pretrained(\"../models/ragsum-bart-billsum\")"
   ]
  },
  {
   "cell_type": "code",
   "execution_count": 22,
   "metadata": {},
   "outputs": [
    {
     "data": {
      "text/plain": [
       "tensor([[    0, 50118, 18581,  3916,  2072,    35,    20,   315,   532,  1148,\n",
       "            34,  2033,    10,  9893,  2112,  1087,     6, 10032,    65,     9,\n",
       "             5,   144,  1233,  5615,  1170,    11,   485,   107,     4,    20,\n",
       "          1087,     6,    61, 17582,    68,   134,     4,   176,  4700,    11,\n",
       "          1435,     6,  5026,     7,  6910,  3914, 10662,  2112,  5807,     4,\n",
       "          4300,   911,     9,   915,   680,  4264,    93,   215,    25,  3197,\n",
       "             6, 24396,     6,     8, 11879,    93,  2382,  1007,  5287,     6,\n",
       "             8,  4939, 11451,  2888,   899,     4,    20,  2309,   829, 10094,\n",
       "           323,    11,   258,     5,   446,     8,  1112,     6, 22436,  3159,\n",
       "           559,  4601,    11,    41,  3680,  6408,  2147,     4, 13695, 19245,\n",
       "          5848,    14,    42,   915,    40,  1045,  1315,     6, 19770,     5,\n",
       "           866,     6,     8,  4477,     5, 27615,    13,   251,    12,  1279,\n",
       "           632, 17755,     4, 50118,     2]])"
      ]
     },
     "execution_count": 22,
     "metadata": {},
     "output_type": "execute_result"
    }
   ],
   "source": [
    "text = \"\"\"\n",
    "summarize: The United States Congress has approved a sweeping infrastructure bill, marking one of the most significant legislative efforts in recent years. The bill, which totals $1.2 trillion in funding, aims to revamp aging infrastructure nationwide. Key areas of investment include transportation — such as roads, railways, and bridges — clean energy initiatives, and expanded broadband internet access. The legislation received bipartisan support in both the House and Senate, signaling rare political cooperation in an otherwise divided climate. Proponents argue that this investment will create jobs, stimulate the economy, and lay the groundwork for long-term national competitiveness.\n",
    "\"\"\"\n",
    "\n",
    "inputs = tokenizer(text, return_tensors=\"pt\").input_ids\n",
    "inputs"
   ]
  },
  {
   "cell_type": "code",
   "execution_count": 25,
   "metadata": {},
   "outputs": [],
   "source": [
    "outputs = model.generate(inputs, max_new_tokens=100, do_sample=False)\n",
    "summary = tokenizer.decode(outputs[0], skip_special_tokens=True)"
   ]
  },
  {
   "cell_type": "code",
   "execution_count": 26,
   "metadata": {},
   "outputs": [],
   "source": [
    "reference_summary = \"\"\"\n",
    "Congress passed a new bill aimed at improving infrastructure across the U.S., allocating $1.2 trillion in funding over the next ten years. The legislation focuses on roads, bridges, clean energy, and broadband access, with bipartisan support marking a significant political achievement.\n",
    "\"\"\""
   ]
  },
  {
   "cell_type": "code",
   "execution_count": 27,
   "metadata": {},
   "outputs": [
    {
     "name": "stdout",
     "output_type": "stream",
     "text": [
      "{'rouge1': 0.413, 'rouge2': 0.1333, 'rougeL': 0.3043, 'rougeLsum': 0.3043}\n"
     ]
    }
   ],
   "source": [
    "results = rouge.compute(predictions=[summary], references=[reference_summary], use_stemmer=True)\n",
    "\n",
    "# Optional: round the results\n",
    "results = {k: round(v, 4) for k, v in results.items()}\n",
    "\n",
    "print(results)\n"
   ]
  },
  {
   "cell_type": "code",
   "execution_count": null,
   "metadata": {},
   "outputs": [],
   "source": []
  }
 ],
 "metadata": {
  "kernelspec": {
   "display_name": "venv",
   "language": "python",
   "name": "python3"
  },
  "language_info": {
   "codemirror_mode": {
    "name": "ipython",
    "version": 3
   },
   "file_extension": ".py",
   "mimetype": "text/x-python",
   "name": "python",
   "nbconvert_exporter": "python",
   "pygments_lexer": "ipython3",
   "version": "3.10.12"
  },
  "orig_nbformat": 4
 },
 "nbformat": 4,
 "nbformat_minor": 2
}
