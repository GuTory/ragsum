{
 "cells": [
  {
   "cell_type": "code",
   "execution_count": 1,
   "metadata": {},
   "outputs": [
    {
     "name": "stderr",
     "output_type": "stream",
     "text": [
      "/workspace/persistent/ragsum/venv/lib/python3.10/site-packages/_distutils_hack/__init__.py:53: UserWarning: Reliance on distutils from stdlib is deprecated. Users must rely on setuptools to provide the distutils module. Avoid importing distutils or import setuptools first, and avoid setting SETUPTOOLS_USE_DISTUTILS=stdlib. Register concerns at https://github.com/pypa/setuptools/issues/new?template=distutils-deprecation.yml\n",
      "  warnings.warn(\n"
     ]
    }
   ],
   "source": [
    "import pandas as pd\n",
    "import numpy as np\n",
    "import json\n",
    "import faiss\n",
    "from sentence_transformers import SentenceTransformer"
   ]
  },
  {
   "cell_type": "markdown",
   "metadata": {},
   "source": [
    "Dataset loading and embedding dimensions"
   ]
  },
  {
   "cell_type": "code",
   "execution_count": 2,
   "metadata": {},
   "outputs": [
    {
     "data": {
      "text/html": [
       "<div>\n",
       "<style scoped>\n",
       "    .dataframe tbody tr th:only-of-type {\n",
       "        vertical-align: middle;\n",
       "    }\n",
       "\n",
       "    .dataframe tbody tr th {\n",
       "        vertical-align: top;\n",
       "    }\n",
       "\n",
       "    .dataframe thead th {\n",
       "        text-align: right;\n",
       "    }\n",
       "</style>\n",
       "<table border=\"1\" class=\"dataframe\">\n",
       "  <thead>\n",
       "    <tr style=\"text-align: right;\">\n",
       "      <th></th>\n",
       "      <th>terms</th>\n",
       "      <th>definitions</th>\n",
       "      <th>source</th>\n",
       "      <th>assigned_readability</th>\n",
       "      <th>combined</th>\n",
       "    </tr>\n",
       "  </thead>\n",
       "  <tbody>\n",
       "    <tr>\n",
       "      <th>0</th>\n",
       "      <td>adjusted present value (apv)</td>\n",
       "      <td>net present value of an asset if financed sole...</td>\n",
       "      <td>prin</td>\n",
       "      <td>0</td>\n",
       "      <td>adjusted present value (apv): net present valu...</td>\n",
       "    </tr>\n",
       "    <tr>\n",
       "      <th>1</th>\n",
       "      <td>agency costs</td>\n",
       "      <td>costs that arise when an agent (e.g., a manage...</td>\n",
       "      <td>prin</td>\n",
       "      <td>0</td>\n",
       "      <td>agency costs: costs that arise when an agent (...</td>\n",
       "    </tr>\n",
       "    <tr>\n",
       "      <th>2</th>\n",
       "      <td>annual percentage rate (apr)</td>\n",
       "      <td>the interest rate per period (e.g., per month)...</td>\n",
       "      <td>prin</td>\n",
       "      <td>0</td>\n",
       "      <td>annual percentage rate (apr): the interest rat...</td>\n",
       "    </tr>\n",
       "    <tr>\n",
       "      <th>3</th>\n",
       "      <td>annuity</td>\n",
       "      <td>investment that produces a level stream of cas...</td>\n",
       "      <td>prin</td>\n",
       "      <td>0</td>\n",
       "      <td>annuity: investment that produces a level stre...</td>\n",
       "    </tr>\n",
       "    <tr>\n",
       "      <th>4</th>\n",
       "      <td>annuity due</td>\n",
       "      <td>annuity whose payments occur at the start of e...</td>\n",
       "      <td>prin</td>\n",
       "      <td>0</td>\n",
       "      <td>annuity due: annuity whose payments occur at t...</td>\n",
       "    </tr>\n",
       "    <tr>\n",
       "      <th>5</th>\n",
       "      <td>annuity factor</td>\n",
       "      <td>present value of $1 paid for each of t periods.</td>\n",
       "      <td>prin</td>\n",
       "      <td>0</td>\n",
       "      <td>annuity factor: present value of $1 paid for e...</td>\n",
       "    </tr>\n",
       "    <tr>\n",
       "      <th>6</th>\n",
       "      <td>apr</td>\n",
       "      <td>annual percentage rate.</td>\n",
       "      <td>prin</td>\n",
       "      <td>0</td>\n",
       "      <td>apr: annual percentage rate.</td>\n",
       "    </tr>\n",
       "    <tr>\n",
       "      <th>7</th>\n",
       "      <td>apt</td>\n",
       "      <td>arbitrage pricing theory.</td>\n",
       "      <td>prin</td>\n",
       "      <td>0</td>\n",
       "      <td>apt: arbitrage pricing theory.</td>\n",
       "    </tr>\n",
       "    <tr>\n",
       "      <th>8</th>\n",
       "      <td>apv</td>\n",
       "      <td>adjusted present value.</td>\n",
       "      <td>prin</td>\n",
       "      <td>0</td>\n",
       "      <td>apv: adjusted present value.</td>\n",
       "    </tr>\n",
       "    <tr>\n",
       "      <th>9</th>\n",
       "      <td>arbitrage</td>\n",
       "      <td>purchase of one security and simultaneous sale...</td>\n",
       "      <td>prin</td>\n",
       "      <td>0</td>\n",
       "      <td>arbitrage: purchase of one security and simult...</td>\n",
       "    </tr>\n",
       "  </tbody>\n",
       "</table>\n",
       "</div>"
      ],
      "text/plain": [
       "                          terms  \\\n",
       "0  adjusted present value (apv)   \n",
       "1                  agency costs   \n",
       "2  annual percentage rate (apr)   \n",
       "3                       annuity   \n",
       "4                   annuity due   \n",
       "5                annuity factor   \n",
       "6                           apr   \n",
       "7                           apt   \n",
       "8                           apv   \n",
       "9                     arbitrage   \n",
       "\n",
       "                                         definitions source  \\\n",
       "0  net present value of an asset if financed sole...   prin   \n",
       "1  costs that arise when an agent (e.g., a manage...   prin   \n",
       "2  the interest rate per period (e.g., per month)...   prin   \n",
       "3  investment that produces a level stream of cas...   prin   \n",
       "4  annuity whose payments occur at the start of e...   prin   \n",
       "5    present value of $1 paid for each of t periods.   prin   \n",
       "6                            annual percentage rate.   prin   \n",
       "7                          arbitrage pricing theory.   prin   \n",
       "8                            adjusted present value.   prin   \n",
       "9  purchase of one security and simultaneous sale...   prin   \n",
       "\n",
       "   assigned_readability                                           combined  \n",
       "0                     0  adjusted present value (apv): net present valu...  \n",
       "1                     0  agency costs: costs that arise when an agent (...  \n",
       "2                     0  annual percentage rate (apr): the interest rat...  \n",
       "3                     0  annuity: investment that produces a level stre...  \n",
       "4                     0  annuity due: annuity whose payments occur at t...  \n",
       "5                     0  annuity factor: present value of $1 paid for e...  \n",
       "6                     0                       apr: annual percentage rate.  \n",
       "7                     0                     apt: arbitrage pricing theory.  \n",
       "8                     0                       apv: adjusted present value.  \n",
       "9                     0  arbitrage: purchase of one security and simult...  "
      ]
     },
     "execution_count": 2,
     "metadata": {},
     "output_type": "execute_result"
    }
   ],
   "source": [
    "df = pd.read_csv(\"hf://datasets/sohomghosh/FinRAD_Financial_Readability_Assessment_Dataset/FinRAD_13K_terms_definitions_labels.csv\")\n",
    "df = df[['terms', 'definitions', 'source', 'assigned_readability']]\n",
    "df = df.dropna(subset=['definitions'])\n",
    "df['combined'] = df['terms'] + \": \" + df['definitions']\n",
    "\n",
    "df.head(10)"
   ]
  },
  {
   "cell_type": "code",
   "execution_count": 3,
   "metadata": {},
   "outputs": [
    {
     "data": {
      "application/vnd.jupyter.widget-view+json": {
       "model_id": "e7716088ae424909809fceb3e6aab15d",
       "version_major": 2,
       "version_minor": 0
      },
      "text/plain": [
       "Batches:   0%|          | 0/410 [00:00<?, ?it/s]"
      ]
     },
     "metadata": {},
     "output_type": "display_data"
    },
    {
     "data": {
      "text/plain": [
       "array([ 9.32512339e-03,  4.77343388e-02, -1.37930121e-02, -2.46056337e-02,\n",
       "       -1.89344753e-02,  1.02830835e-01,  3.40325944e-02,  2.60587465e-02,\n",
       "        9.15180519e-02,  7.34160393e-02,  4.50099446e-02,  4.72288132e-02,\n",
       "        4.13446268e-03, -2.56536296e-03, -4.11397517e-02, -2.92041674e-02,\n",
       "        2.73405574e-02, -1.63149834e-02,  2.31581945e-02,  7.56385550e-02,\n",
       "        3.66294980e-02,  1.20683550e-03,  6.10514954e-02, -6.50032470e-03,\n",
       "        6.39065504e-02,  1.38741760e-02, -6.69310661e-03,  1.25044793e-01,\n",
       "        1.02823697e-01, -4.42968607e-02,  2.55347714e-02,  6.50557503e-02,\n",
       "        5.39314598e-02, -3.86615656e-02, -3.67391892e-02,  2.73482408e-02,\n",
       "       -6.86454549e-02,  3.33623439e-02, -5.03214151e-02,  3.59417722e-02,\n",
       "       -3.71708386e-02, -2.01442931e-02,  6.27672253e-03, -1.37663847e-02,\n",
       "        2.59798765e-02, -2.79499870e-02,  1.01291630e-02,  1.77095551e-02,\n",
       "       -4.32795845e-02,  2.39488613e-02,  6.69370145e-02, -1.00054881e-02,\n",
       "       -1.27501115e-02, -4.67323773e-02, -7.46551994e-03,  1.56102236e-02,\n",
       "       -5.67914881e-02,  1.73677057e-02, -2.48638038e-02, -2.45476533e-02,\n",
       "        5.60607649e-02,  2.23543458e-02,  3.24449986e-02,  5.30199148e-02,\n",
       "        3.16215307e-02,  4.06693518e-02,  5.65811396e-02, -4.86877561e-02,\n",
       "       -9.91321206e-02, -6.21209294e-02,  4.90584336e-02, -7.10806996e-02,\n",
       "       -5.30800782e-02, -1.81751236e-01, -3.48073244e-02,  5.35220131e-02,\n",
       "        3.85938548e-02, -2.07580184e-03,  5.11588491e-02, -2.26256512e-02,\n",
       "        5.48304953e-02,  1.50181977e-02, -1.18281059e-01, -4.92009632e-02,\n",
       "       -1.81911811e-02, -2.09517125e-02,  3.37517671e-02,  3.32840234e-02,\n",
       "        7.36450776e-02,  2.64355503e-02,  8.07035062e-03, -6.48905262e-02,\n",
       "        3.31210010e-02,  1.73206385e-02,  1.70214623e-02,  5.39975334e-03,\n",
       "       -8.82809535e-02,  4.13418468e-03, -1.42055731e-02,  1.74163394e-02,\n",
       "       -5.98156126e-03,  4.25560363e-02, -9.49704740e-03,  3.06359753e-02,\n",
       "       -1.18553843e-02, -6.93455264e-02,  5.45380712e-02,  2.20237803e-02,\n",
       "        7.43997172e-02,  1.35124591e-03, -6.08461648e-02,  7.61247724e-02,\n",
       "       -1.02327764e-02, -4.89753596e-02,  2.47348119e-02, -5.47146425e-03,\n",
       "        1.28158582e-02, -1.36281282e-03,  7.51172826e-02, -8.10351372e-02,\n",
       "        2.35246588e-02, -4.53221090e-02, -2.84027737e-02,  5.76193668e-02,\n",
       "       -3.64630856e-02, -1.28885597e-01, -4.65156622e-02, -1.17410591e-34,\n",
       "       -5.41044697e-02, -8.15459117e-02,  5.40237240e-02, -1.37604466e-02,\n",
       "       -4.37380932e-02,  7.00936187e-03,  1.59300175e-02, -6.67224899e-02,\n",
       "       -1.44946156e-02, -2.98380561e-04,  1.43489121e-02,  1.05227225e-01,\n",
       "       -1.04963137e-02,  1.97311454e-02, -1.14891666e-03,  2.19807401e-02,\n",
       "       -8.53279307e-02,  5.79881668e-02,  9.03240442e-02,  4.31179889e-02,\n",
       "       -4.80076931e-02, -3.98739390e-02,  4.11181860e-02,  5.21740457e-03,\n",
       "        5.31581119e-02, -3.94262634e-02, -6.67844936e-02,  5.12539642e-03,\n",
       "       -9.89436917e-03, -3.19385044e-02,  4.60739471e-02,  2.50215046e-02,\n",
       "        3.09869964e-02, -4.71980460e-02, -1.15380198e-01, -2.25800574e-02,\n",
       "       -7.55985379e-02,  3.53492834e-02,  6.54604360e-02,  1.89566463e-02,\n",
       "       -1.02003207e-02,  5.67107741e-03, -3.91400643e-02,  3.02523151e-02,\n",
       "       -2.29037069e-02, -4.07331996e-02, -1.93965586e-03,  6.78133294e-02,\n",
       "       -1.52307406e-01,  8.70130137e-02, -2.37376746e-02,  2.51194071e-02,\n",
       "       -4.13917415e-02, -5.35407774e-02, -1.04563899e-01,  4.60120291e-02,\n",
       "       -3.77428234e-02,  6.72115609e-02, -1.19888097e-01, -2.73198448e-02,\n",
       "        4.28516604e-02,  3.68693210e-02,  4.47472222e-02, -4.06041369e-02,\n",
       "       -9.86039266e-02,  8.21828023e-02,  6.72325268e-02,  5.25383838e-03,\n",
       "        4.15288471e-02,  3.89111675e-02, -5.42851500e-02, -4.09938283e-02,\n",
       "       -1.35707660e-02,  6.11640252e-02, -4.97417001e-04, -6.99887872e-02,\n",
       "       -4.71167220e-03,  5.26111461e-02,  6.74565509e-02,  1.14191035e-02,\n",
       "       -6.44356608e-02, -3.36217843e-02,  1.54129760e-02,  5.40087596e-02,\n",
       "        9.68457665e-03,  3.20380926e-02,  1.39870243e-02, -4.50542383e-02,\n",
       "        1.24157043e-02, -1.35308560e-02,  5.52334897e-02,  7.70313258e-04,\n",
       "        8.44030175e-03,  3.04274745e-02,  6.95390031e-02, -9.93243503e-34,\n",
       "       -1.74710490e-02,  4.29853313e-02, -1.04468539e-01, -7.25256726e-02,\n",
       "        2.92713614e-03, -2.73074526e-02,  7.54152313e-02, -5.00049330e-02,\n",
       "       -1.56062078e-02, -3.79507653e-02, -2.96722893e-02, -7.29026869e-02,\n",
       "       -1.08263969e-01,  1.73319560e-02, -2.18916479e-02,  2.09150091e-02,\n",
       "       -2.71381345e-03, -1.37430113e-02,  5.28639406e-02,  9.92834195e-03,\n",
       "       -1.68514606e-02,  9.23596472e-02,  1.18329249e-01,  2.31714100e-02,\n",
       "       -2.03844320e-04, -8.54403060e-03, -2.33735070e-02, -2.88505876e-03,\n",
       "       -7.99798742e-02, -9.01907906e-02, -3.16101313e-02, -2.13254523e-02,\n",
       "       -7.20427278e-03,  7.22220019e-02, -8.98625050e-03, -5.15684374e-02,\n",
       "        6.39094710e-02, -1.54274717e-01,  1.34786181e-02,  9.84234065e-02,\n",
       "        1.07608736e-01,  4.24601883e-02, -8.17836635e-03,  4.35456894e-02,\n",
       "        5.45643605e-02,  2.97407787e-02,  5.88522628e-02, -7.18649523e-03,\n",
       "        1.06598280e-01, -6.52936697e-02,  1.72330439e-02,  1.39208958e-02,\n",
       "        3.57566401e-02,  5.92836626e-02, -1.36647290e-02,  2.07734108e-02,\n",
       "       -2.32840776e-02, -4.64615561e-02,  1.25234912e-03,  1.32661629e-02,\n",
       "       -3.85835133e-02,  8.89696833e-03, -4.35199998e-02,  4.23042066e-02,\n",
       "       -4.22527902e-02,  3.26686651e-02,  3.54343541e-02, -1.05760239e-01,\n",
       "       -1.68420337e-02, -9.22146291e-02,  3.13591100e-02, -7.54741132e-02,\n",
       "        1.03933644e-02, -4.60308120e-02,  3.63761373e-02,  5.28031662e-02,\n",
       "       -2.17671413e-02, -4.01922278e-02,  1.30899642e-02, -8.70444328e-02,\n",
       "       -9.26209390e-02,  4.36897427e-02, -2.19797343e-02, -4.24707346e-02,\n",
       "       -4.78939191e-02, -8.41140468e-03, -4.05050218e-02, -4.07093316e-02,\n",
       "       -2.45939996e-02,  7.24129975e-02, -7.01676980e-02,  5.16152121e-02,\n",
       "        1.12053296e-02, -1.74530484e-02, -5.53870276e-02, -2.46950069e-08,\n",
       "       -4.39341785e-03,  1.41395731e-02, -2.84082498e-02, -1.73489489e-02,\n",
       "        9.02696922e-02, -2.71124244e-02, -7.70632410e-03, -7.03715160e-02,\n",
       "       -1.71481850e-04, -3.26053938e-03,  3.49870026e-02, -4.95651960e-02,\n",
       "       -1.87298842e-02,  5.57341799e-02, -9.04357582e-02,  3.83902378e-02,\n",
       "       -1.78698935e-02,  5.82795292e-02, -8.08632281e-03,  5.28383534e-03,\n",
       "        2.41983160e-02,  6.58919737e-02,  4.96211089e-02,  2.62128655e-02,\n",
       "       -1.35414284e-02,  2.06776685e-03, -1.25900107e-02,  7.59408344e-03,\n",
       "        9.06468704e-02, -3.16764638e-02,  4.29293886e-02,  8.68061334e-02,\n",
       "        4.66928817e-02, -5.88764660e-02,  4.69852798e-02,  1.05733443e-02,\n",
       "        5.65719828e-02,  4.88501452e-02,  6.49173791e-03,  1.31707191e-01,\n",
       "       -4.97841835e-02, -3.95579748e-02,  5.09797707e-02, -6.41595386e-03,\n",
       "        5.84944338e-02,  9.14211646e-02, -9.73245800e-02, -1.07908892e-02,\n",
       "       -1.82056054e-02, -9.96813104e-02,  6.35227859e-02,  5.72539046e-02,\n",
       "       -1.30773634e-02,  1.78883399e-03, -2.87294220e-02, -6.62428513e-02,\n",
       "        4.07249480e-02,  1.32290404e-02,  1.92888156e-02, -6.55381903e-02,\n",
       "       -2.67609619e-02, -7.79998899e-02, -3.63788493e-02, -4.95951660e-02],\n",
       "      dtype=float32)"
      ]
     },
     "execution_count": 3,
     "metadata": {},
     "output_type": "execute_result"
    }
   ],
   "source": [
    "model: SentenceTransformer = SentenceTransformer('all-MiniLM-L6-v2')\n",
    "\n",
    "definitions = df.combined.tolist()\n",
    "embeddings = model.encode(definitions, show_progress_bar=True)\n",
    "embeddings = np.array(embeddings).astype(\"float32\")\n",
    "\n",
    "embeddings[0]"
   ]
  },
  {
   "cell_type": "code",
   "execution_count": 4,
   "metadata": {},
   "outputs": [
    {
     "data": {
      "text/plain": [
       "(13112, 384)"
      ]
     },
     "execution_count": 4,
     "metadata": {},
     "output_type": "execute_result"
    }
   ],
   "source": [
    "embeddings.shape"
   ]
  },
  {
   "cell_type": "code",
   "execution_count": 5,
   "metadata": {},
   "outputs": [],
   "source": [
    "embedding_dimension = embeddings.shape[1]\n",
    "index = faiss.IndexFlatL2(embedding_dimension)"
   ]
  },
  {
   "cell_type": "code",
   "execution_count": 6,
   "metadata": {},
   "outputs": [
    {
     "name": "stdout",
     "output_type": "stream",
     "text": [
      "Number of embeddings indexed: 13112\n"
     ]
    }
   ],
   "source": [
    "index.add(embeddings)\n",
    "print(f\"Number of embeddings indexed: {index.ntotal}\")"
   ]
  },
  {
   "cell_type": "code",
   "execution_count": 7,
   "metadata": {},
   "outputs": [
    {
     "data": {
      "text/plain": [
       "array([[-1.52819240e-02,  8.45330954e-02, -2.94869039e-02,\n",
       "         8.71534832e-03, -2.58617979e-02, -2.20344635e-03,\n",
       "         8.29834193e-02,  4.10373546e-02,  8.34113657e-02,\n",
       "         8.78860429e-03,  2.71564536e-02,  1.36507698e-03,\n",
       "        -4.78146374e-02, -2.92081553e-02, -3.65527086e-02,\n",
       "        -7.86439888e-03, -3.76233570e-02,  3.21027450e-02,\n",
       "         3.54461893e-02,  9.42598209e-02,  4.52506505e-02,\n",
       "        -8.95656832e-03, -6.27751425e-02,  1.90205872e-02,\n",
       "         9.56232622e-02,  9.76262987e-03, -2.67772563e-03,\n",
       "         3.98072274e-03, -3.59938890e-02,  3.94146629e-02,\n",
       "         3.27179994e-04,  8.54069144e-02,  4.43855822e-02,\n",
       "        -2.96239611e-02,  5.75619098e-03,  3.81189957e-02,\n",
       "        -3.12366448e-02,  7.95420110e-02, -3.89854535e-02,\n",
       "         4.90897931e-02, -1.39438380e-02, -2.50134338e-03,\n",
       "         8.12505260e-02, -4.02755179e-02,  1.46453986e-02,\n",
       "         2.39973571e-02, -4.09620181e-02, -1.21002588e-02,\n",
       "        -1.71546452e-02,  3.91449891e-02,  1.60279695e-03,\n",
       "        -5.51954210e-02, -9.33264848e-03,  3.44282947e-02,\n",
       "         1.80665124e-02, -2.48401593e-02,  2.09358204e-02,\n",
       "        -2.51528826e-02, -2.72095650e-02,  2.70103496e-02,\n",
       "         9.44152474e-02, -5.31234108e-02,  2.47672927e-02,\n",
       "        -8.90424568e-03,  6.94199800e-02, -8.58028084e-02,\n",
       "         5.25235832e-02, -1.72835812e-02, -5.03271334e-02,\n",
       "        -7.00915828e-02,  1.18939290e-02, -5.10094687e-02,\n",
       "        -3.54697444e-02, -1.18149333e-02, -2.59618275e-02,\n",
       "        -4.40387391e-02,  7.02878162e-02,  6.59053549e-02,\n",
       "        -1.00765517e-02, -5.94237968e-02, -5.87369539e-02,\n",
       "         9.71553773e-02,  5.77494465e-02, -7.86122382e-02,\n",
       "         1.05637042e-02,  7.66922580e-03,  7.43545294e-02,\n",
       "        -3.18078771e-02,  8.18102360e-02,  2.17136443e-02,\n",
       "        -1.18538782e-01,  1.28901368e-02, -2.50454191e-02,\n",
       "        -7.38723725e-02, -1.79338604e-02, -2.36677509e-02,\n",
       "        -6.07963838e-02, -9.33834240e-02, -1.97666306e-02,\n",
       "         2.58727279e-02,  1.25193805e-01,  2.21980643e-02,\n",
       "        -1.22775463e-02,  2.32651993e-03,  8.34918392e-05,\n",
       "        -9.14079230e-03,  8.66650604e-03, -7.77989486e-03,\n",
       "         4.71759662e-02, -2.83188708e-02, -4.36602049e-02,\n",
       "         2.51534358e-02,  9.17721540e-02, -1.96012110e-02,\n",
       "        -6.33572116e-02,  4.06573974e-02, -1.40250802e-01,\n",
       "         4.42617014e-03,  2.02536821e-01, -2.33886275e-03,\n",
       "         3.16677988e-02,  2.65115891e-02, -7.15698004e-02,\n",
       "        -2.01317929e-02, -6.29936755e-02,  1.37155959e-02,\n",
       "         3.98175791e-02, -6.27759607e-33, -2.34569889e-02,\n",
       "         4.77583613e-03, -3.06909308e-02,  4.06836011e-02,\n",
       "        -8.11448172e-02, -2.51949839e-02,  4.56152707e-02,\n",
       "        -3.80430147e-02,  3.21459174e-02, -6.75051063e-02,\n",
       "         4.50963862e-02,  2.92038713e-02, -3.59274028e-03,\n",
       "         1.88552681e-02, -1.79741718e-02,  4.49147411e-02,\n",
       "        -1.71863176e-02,  3.90284136e-02,  1.32976130e-01,\n",
       "         3.04096956e-02, -1.75890867e-02,  4.55154292e-02,\n",
       "         3.80608886e-02, -2.30767913e-02,  6.23321980e-02,\n",
       "        -4.44019362e-02, -2.81984732e-02, -2.61175968e-02,\n",
       "        -8.23528469e-02, -5.59764262e-03,  9.37597305e-02,\n",
       "         1.35568038e-01,  1.09061534e-02, -4.11698222e-02,\n",
       "        -3.43180783e-02,  2.52584182e-02,  4.74631973e-02,\n",
       "         1.15281506e-03,  6.21665735e-03, -5.10510616e-03,\n",
       "        -8.00629482e-02, -3.11278272e-04,  1.56518482e-02,\n",
       "         3.26767266e-02, -3.53410169e-02,  5.55260889e-02,\n",
       "         2.26406418e-02,  1.55805245e-01, -7.30098709e-02,\n",
       "        -3.35846655e-03, -4.08589207e-02, -7.65026808e-02,\n",
       "        -3.88175920e-02, -2.38198992e-02, -4.52907458e-02,\n",
       "         9.17177368e-03, -5.37980422e-02,  6.15574233e-02,\n",
       "        -7.22002909e-02, -4.30953354e-02, -4.65958801e-05,\n",
       "         1.99006200e-02,  7.17450958e-03,  3.53333540e-02,\n",
       "        -5.04331179e-02,  3.24165784e-02,  4.97574825e-03,\n",
       "         4.81113978e-02,  4.97677773e-02, -1.48630841e-02,\n",
       "        -8.57264269e-03, -7.08021829e-03,  4.08658385e-02,\n",
       "         1.11624151e-02, -1.53982162e-03, -3.22618894e-02,\n",
       "         4.33078632e-02, -5.37854619e-02,  5.04802912e-02,\n",
       "         5.39756604e-02, -7.57185370e-02,  3.49699259e-02,\n",
       "        -4.89834987e-04, -4.62086266e-03,  2.03020051e-02,\n",
       "         5.44997193e-02,  7.75614455e-02,  6.42758757e-02,\n",
       "         3.94786187e-02, -8.44971985e-02,  4.03813692e-03,\n",
       "         2.21101921e-02,  3.61304986e-03,  2.81184092e-02,\n",
       "        -1.53388120e-02,  1.92263966e-33, -2.86540780e-02,\n",
       "         2.46550906e-02, -1.19026244e-01,  8.12596679e-02,\n",
       "         4.28213514e-02, -4.70982939e-02, -4.77668084e-02,\n",
       "         5.34773292e-03, -1.82179101e-02, -3.78017910e-02,\n",
       "        -1.27545461e-01, -6.05417863e-02, -1.25616286e-02,\n",
       "         6.05116673e-02, -5.56739047e-02, -1.39264464e-01,\n",
       "         3.08562573e-02, -8.60461779e-03, -7.34939007e-03,\n",
       "         1.66699030e-02, -5.34388460e-02,  2.17850711e-02,\n",
       "        -3.63734551e-03, -3.02213524e-02, -1.29710499e-03,\n",
       "        -4.33504488e-03, -7.85157830e-02, -4.89607751e-02,\n",
       "        -1.30042374e-01, -5.27566932e-02,  8.69704112e-02,\n",
       "         1.99017748e-02, -9.20602679e-02,  3.41387391e-02,\n",
       "         4.11714278e-02, -3.25136557e-02,  4.29118052e-02,\n",
       "        -1.19179666e-01, -3.89552712e-02,  3.31562422e-02,\n",
       "        -2.63221059e-02, -2.38060243e-02,  2.79603917e-02,\n",
       "        -9.97549505e-04,  3.84596322e-04, -5.24701588e-02,\n",
       "        -1.01809474e-02, -5.40585704e-02,  3.79680172e-02,\n",
       "         1.05111366e-02, -2.99875177e-02, -2.40382310e-02,\n",
       "         8.08172077e-02, -3.00914217e-02, -9.92145240e-02,\n",
       "        -1.89769585e-02,  5.37105203e-02, -1.09005719e-02,\n",
       "         3.00466064e-02,  3.19845341e-02, -1.02825165e-02,\n",
       "        -1.04819490e-02,  5.65258935e-02,  1.42419219e-01,\n",
       "        -7.34953582e-02,  2.28844807e-02,  3.93014122e-03,\n",
       "        -1.57720391e-02,  2.52530761e-02, -1.92055833e-02,\n",
       "         5.79042658e-02,  2.40976326e-02,  1.38612082e-02,\n",
       "        -3.40670124e-02, -3.15264836e-02,  6.82477206e-02,\n",
       "         8.98801312e-02, -6.09331764e-02,  4.90433313e-02,\n",
       "        -2.23807953e-02, -4.69144173e-02, -1.60505101e-02,\n",
       "         6.95445994e-03,  7.62922270e-03, -1.00330502e-01,\n",
       "        -8.76575336e-02, -4.22834493e-02, -7.38830119e-03,\n",
       "         1.44998007e-03, -1.64072849e-02,  3.31698880e-02,\n",
       "        -4.75648455e-02, -7.11042285e-02, -1.64956059e-02,\n",
       "        -5.85901923e-02, -2.09666364e-08,  1.46753984e-02,\n",
       "         2.77858637e-02, -3.34440358e-02, -5.92347905e-02,\n",
       "         3.64497975e-02, -1.00918546e-01,  5.72606809e-02,\n",
       "        -1.43562444e-02,  6.93053333e-03,  4.58534248e-02,\n",
       "         9.06920955e-02,  4.38399576e-02,  3.21047707e-03,\n",
       "        -9.51301605e-02,  2.12428663e-02,  3.21547122e-04,\n",
       "         3.20303589e-02,  5.45865819e-02, -3.25552300e-02,\n",
       "         8.57433453e-02,  5.67823090e-02,  1.64036918e-02,\n",
       "        -5.74937984e-02, -1.19417287e-01, -1.45198200e-02,\n",
       "         2.55444390e-03,  9.00389478e-02,  1.21599607e-01,\n",
       "         1.13327410e-02, -2.13080551e-02, -3.53682996e-03,\n",
       "         5.51328361e-02,  2.11995393e-02, -2.12146938e-02,\n",
       "        -7.82576203e-02,  6.44185171e-02,  7.99995512e-02,\n",
       "         5.14569692e-03,  5.47673479e-02, -4.75314409e-02,\n",
       "        -5.02352715e-02, -2.97674071e-02, -2.14582719e-02,\n",
       "        -1.68628190e-02, -5.10185994e-02, -2.02374067e-02,\n",
       "        -1.08746858e-03, -8.56154785e-03, -5.02003096e-02,\n",
       "        -7.92286098e-02,  2.42550429e-02,  4.24471125e-02,\n",
       "        -5.97068202e-03,  6.14006724e-03, -7.62939155e-02,\n",
       "         1.19061749e-02, -1.41759422e-02, -4.51161861e-02,\n",
       "        -6.15673512e-02, -5.35807088e-02, -2.16109268e-02,\n",
       "        -6.31256728e-03,  4.45693247e-02, -7.09465668e-02]], dtype=float32)"
      ]
     },
     "execution_count": 7,
     "metadata": {},
     "output_type": "execute_result"
    }
   ],
   "source": [
    "query = \"What is the meaning of annuity in general?\"\n",
    "query_embedding = model.encode([query]).astype(\"float32\")\n",
    "\n",
    "query_embedding"
   ]
  },
  {
   "cell_type": "code",
   "execution_count": 8,
   "metadata": {},
   "outputs": [
    {
     "data": {
      "text/plain": [
       "array([[9363,    3]])"
      ]
     },
     "execution_count": 8,
     "metadata": {},
     "output_type": "execute_result"
    }
   ],
   "source": [
    "k = 2\n",
    "distances, indices = index.search(query_embedding, k)\n",
    "\n",
    "indices"
   ]
  },
  {
   "cell_type": "code",
   "execution_count": 9,
   "metadata": {},
   "outputs": [
    {
     "data": {
      "text/plain": [
       "array([[0.40726367, 0.45648456]], dtype=float32)"
      ]
     },
     "execution_count": 9,
     "metadata": {},
     "output_type": "execute_result"
    }
   ],
   "source": [
    "distances"
   ]
  },
  {
   "cell_type": "code",
   "execution_count": 10,
   "metadata": {},
   "outputs": [],
   "source": [
    "def decode_indices(indices, texts):\n",
    "    \"\"\"\n",
    "    Given a list/array of indices and a mapping list (texts),\n",
    "    return the decoded text entries.\n",
    "    \"\"\"\n",
    "    return [texts[i] for i in indices]"
   ]
  },
  {
   "cell_type": "code",
   "execution_count": 11,
   "metadata": {},
   "outputs": [
    {
     "name": "stdout",
     "output_type": "stream",
     "text": [
      "\n",
      "Decoded similarity search results:\n",
      "1. [0.4072636663913727] ANNUITY: An INVESTMENT CONTRACT, generally purchased from an INSURER through single or multiple tax-deferred CAPITAL contributions, that guarantees fixed or variable payments to an ANNUITANT starting at some future date, and lasting for a stated period of time. See also CERTAIN , PERPETUITY, PRESENT VALUE, FUTURE VALUE, LIFE .\n",
      "2. [0.4564845561981201] annuity: investment that produces a level stream of cash flows for a limited number of periods.\n"
     ]
    }
   ],
   "source": [
    "decoded_results = decode_indices(indices[0], df.combined.tolist())\n",
    "print(\"\\nDecoded similarity search results:\")\n",
    "for i, res in enumerate(decoded_results, 1):\n",
    "    print(f\"{i}. [{distances[0][i-1]}] {res}\")"
   ]
  },
  {
   "cell_type": "code",
   "execution_count": null,
   "metadata": {},
   "outputs": [],
   "source": [
    "from typing import List\n",
    "\n",
    "class Retriever:\n",
    "    def __init__(self, knowledge: List[str], k: int = 3):\n",
    "        if k <= 0: raise ValueError(\"Give a positive top k parameter.\")\n",
    "\n",
    "        self.knowledge = knowledge\n",
    "        self.top_k = k\n",
    "        self.type = \"float32\"\n",
    "        self.model: SentenceTransformer = SentenceTransformer('all-MiniLM-L6-v2')\n",
    "        self.embeddings = np.array(\n",
    "            self.model.encode(knowledge)\n",
    "        ).astype(self.type)\n",
    "        self.index = faiss.IndexFlatL2(self.embeddings.shape[1])\n",
    "        self.index.add(self.embeddings)\n",
    "        self.distances = None\n",
    "    \n",
    "    def search(self, query: str, top_k: int = None) -> (List[str], List[float]):\n",
    "        \"\"\"Search the query in the index by similarity\"\"\"\n",
    "        if not top_k: top_k = self.top_k\n",
    "        query_embedding = self.model.encode([query]).astype(self.type)\n",
    "        distances, indices = self.index.search(query_embedding, top_k)\n",
    "        self.distances = distances[0]\n",
    "        self.indices = indices[0]\n",
    "\n",
    "        def decode_indices(indices, texts):\n",
    "            \"\"\"\n",
    "            Given a list/array of indices and a mapping list (texts),\n",
    "            return the decoded text entries.\n",
    "            \"\"\"\n",
    "            return [texts[i] for i in indices]\n",
    "        \n",
    "        return decode_indices(self.indices, self.knowledge), self.distances\n",
    "        "
   ]
  },
  {
   "cell_type": "code",
   "execution_count": 13,
   "metadata": {},
   "outputs": [],
   "source": [
    "pipeline = Retriever(df.combined.tolist(), 5)"
   ]
  },
  {
   "cell_type": "code",
   "execution_count": 14,
   "metadata": {},
   "outputs": [
    {
     "name": "stdout",
     "output_type": "stream",
     "text": [
      "distance: [0.3871]: arbitrage: purchase of one security and simultaneous sale of another to give a risk-free profit. often used loosely to describe the taking of offsetting positions in related securities, e.g., at the time of a takeover bid.\n",
      "distance: [0.4583]: Arbitrage: The purchase of a good or asset in one market for immediate resale in another market in order  t from a price discrepancy.\n",
      "distance: [0.4683]: ARBITRAGEUR: [FR] An individual or institution engaged in ARBITRAGE transactions. See also ARB.\n",
      "distance: [0.5816]: Arbitrageur: An individual engaging in arbitrage.\n",
      "distance: [0.5833]: Tax arbitrage: Creating FINANCIAL INSTRUMENTS or transactions that allow the parties involved to exploit loopholes in or differences between their tax exposures, so that all involved pay less tax.\n"
     ]
    }
   ],
   "source": [
    "top_k, distances = pipeline.search(\"What is the meaning of arbitrage in general?\", top_k=5)\n",
    "\n",
    "for k, dist in zip(top_k, distances):\n",
    "    print(f\"distance: [{dist:.4f}]: {k}\")"
   ]
  },
  {
   "cell_type": "code",
   "execution_count": 15,
   "metadata": {},
   "outputs": [
    {
     "data": {
      "text/plain": [
       "Index(['terms', 'definitions', 'source', 'assigned_readability', 'combined'], dtype='object')"
      ]
     },
     "execution_count": 15,
     "metadata": {},
     "output_type": "execute_result"
    }
   ],
   "source": [
    "df.columns"
   ]
  },
  {
   "cell_type": "code",
   "execution_count": 16,
   "metadata": {},
   "outputs": [],
   "source": [
    "from collections import Counter\n",
    "import re\n",
    "\n",
    "words_to_count = [word for word in df.terms.tolist()]\n",
    "#words_to_count = sum(words_to_count, [])\n",
    "words_to_count = [re.sub(r'\\W+', '', word) for word in words_to_count]\n",
    "words_to_count = [w for w in words_to_count if len(w) >= 3]"
   ]
  },
  {
   "cell_type": "code",
   "execution_count": 17,
   "metadata": {},
   "outputs": [],
   "source": [
    "import logging\n",
    "from typing import Optional\n",
    "from pathlib import Path\n",
    "\n",
    "def load_if_scraped(company_id: str) -> Optional[pd.DataFrame]:\n",
    "    '''\n",
    "    Transcript loader dataset based on company_id, if nothing found, returns None\n",
    "    '''\n",
    "    file_path = Path('..') / 'data' / f'{company_id}.csv'\n",
    "    if file_path.exists():\n",
    "        df = pd.read_csv(\n",
    "            file_path,\n",
    "            sep='\\t',\n",
    "            quoting=1,\n",
    "            escapechar='\\\\',\n",
    "            doublequote=True,\n",
    "            quotechar='\"',\n",
    "        )\n",
    "        logging.info('successfully loaded local transcripts')\n",
    "        return df\n",
    "    logging.debug('no local transcripts found')\n",
    "    return None\n",
    "\n",
    "company_id = '312932093'\n",
    "df_company = load_if_scraped(company_id)\n",
    "\n",
    "search_in = df_company.full_text.tolist()\n",
    "search_in = [s.lower() for s in search_in]\n",
    "\n",
    "\n",
    "\n",
    "full_text = ' '.join(search_in).lower()\n",
    "\n",
    "counts = Counter({phrase: full_text.count(phrase.lower()) for phrase in words_to_count})\n",
    "\n",
    "# Sort counts in descending order\n",
    "sorted_counts = counts.most_common()\n",
    "\n",
    "# Write to file\n",
    "with open(\"phrase_counts.txt\", \"w\") as f:\n",
    "    for phrase, count in sorted_counts:\n",
    "        f.write(f\"{phrase}: {count}\\n\")\n",
    "    \n",
    "    total = sum(counts.values())\n",
    "    f.write(f\"\\nTotal cumulative count: {total}\\n\")"
   ]
  },
  {
   "cell_type": "code",
   "execution_count": null,
   "metadata": {},
   "outputs": [],
   "source": []
  }
 ],
 "metadata": {
  "kernelspec": {
   "display_name": "venv",
   "language": "python",
   "name": "python3"
  },
  "language_info": {
   "codemirror_mode": {
    "name": "ipython",
    "version": 3
   },
   "file_extension": ".py",
   "mimetype": "text/x-python",
   "name": "python",
   "nbconvert_exporter": "python",
   "pygments_lexer": "ipython3",
   "version": "3.12.3"
  },
  "orig_nbformat": 4
 },
 "nbformat": 4,
 "nbformat_minor": 2
}
