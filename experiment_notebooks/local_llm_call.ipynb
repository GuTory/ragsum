{
 "cells": [
  {
   "cell_type": "code",
   "execution_count": 4,
   "metadata": {},
   "outputs": [],
   "source": [
    "import re\n",
    "import requests\n",
    "import json\n",
    "\n",
    "\n",
    "class DeepSeekThoughtProcessor:\n",
    "    def __init__(self, text: str):\n",
    "        self.text = text\n",
    "        self.thinking = None\n",
    "        self.final_response = None\n",
    "        self.process_text()\n",
    "\n",
    "    def process_text(self):\n",
    "        \"\"\"\n",
    "        Extracts the thinking phase between <think> tags and the final response after </think>.\n",
    "        \"\"\"\n",
    "        match = re.search(r\"<think>(.*?)</think>(.*)\", self.text, re.DOTALL)\n",
    "        if match:\n",
    "            self.thinking = match.group(1).strip()\n",
    "            self.final_response = match.group(2).strip()\n",
    "\n",
    "    def get_thinking(self):\n",
    "        \"\"\"Returns the extracted thinking section.\"\"\"\n",
    "        return self.thinking\n",
    "\n",
    "    def get_final_response(self):\n",
    "        \"\"\"Returns the extracted final response.\"\"\"\n",
    "        return self.final_response"
   ]
  },
  {
   "cell_type": "code",
   "execution_count": 5,
   "metadata": {},
   "outputs": [],
   "source": [
    "def generate_response(prompt: str, model: str, stream=False):\n",
    "    url = \"http://localhost:11434/api/generate\"\n",
    "    payload = {\"model\": model, \"prompt\": prompt, \"stream\": stream}\n",
    "\n",
    "    response = requests.post(url, json=payload)\n",
    "\n",
    "    if response.status_code == 200:\n",
    "        data = response.json()\n",
    "        return data.get(\"response\", \"No response received.\")\n",
    "    else:\n",
    "        return f\"Error: {response.status_code}, {response.text}\""
   ]
  },
  {
   "cell_type": "code",
   "execution_count": 6,
   "metadata": {},
   "outputs": [
    {
     "name": "stdout",
     "output_type": "stream",
     "text": [
      "<__main__.DeepSeekThoughtProcessor object at 0x7fda16bbc6b0>\n"
     ]
    }
   ],
   "source": [
    "prompt = \"What is the capital of France?\"\n",
    "result: DeepSeekThoughtProcessor = DeepSeekThoughtProcessor(\n",
    "    generate_response(prompt=prompt, model=\"deepseek-r1:8b\")\n",
    ")\n",
    "print(result)"
   ]
  },
  {
   "cell_type": "code",
   "execution_count": 7,
   "metadata": {},
   "outputs": [
    {
     "data": {
      "text/plain": [
       "'The capital of France is Paris. This city serves as the political and administrative center, housing key institutions like the Palais du Parlement. Paris is also a cultural and economic hub, known for its iconic landmarks and historical significance in French history.'"
      ]
     },
     "execution_count": 7,
     "metadata": {},
     "output_type": "execute_result"
    }
   ],
   "source": [
    "result.get_final_response()"
   ]
  },
  {
   "cell_type": "code",
   "execution_count": 8,
   "metadata": {},
   "outputs": [
    {
     "data": {
      "text/plain": [
       "'Okay, so I need to figure out what the capital of France is. Hmm, let me start by recalling what I know about France. I think France is a country in Western Europe, right? They have a history going back centuries and are known for things like the Eiffel Tower, the Louvre Museum, and their language, French.\\n\\nNow, capitals of countries often come up when talking about politics and government. So, the capital is usually where the government is located, where important decisions are made. I remember that Paris is a major city in France. In fact, I\\'ve heard people refer to it as the \"City of Light\" because of all the illuminated billboards and lights at night.\\n\\nWait, but am I confusing this with another country? Let me think. There\\'s also the concept of administrative capitals versus political capitals. For example, some countries have separate cities for these functions. But I don\\'t recall France having that distinction. So, if Paris is where the government is, it must be both the administrative and political capital.\\n\\nI should double-check my memory. I think France\\'s government is located in Paris, which houses institutions like the Palais du Parlement and other significant buildings. Also, most of France\\'s cultural and economic activities are centered there. So, it makes sense that Paris is not only the capital but also a cultural hub.\\n\\nIs there any chance it could be another city? I don\\'t think so. Cities like Marseille or Lyon are important in France, but they\\'re known more for their industrial aspects or history. For instance, Marseille is a major port and has a rich history as a naval base. However, when discussing the government, Paris is consistently mentioned.\\n\\nAlso, considering symbols of France, the Eiffel Tower and the Statue of Liberty (which is in New York but a gift from France) are iconic. Those are both in Paris, which further supports it being the capital.\\n\\nI guess I should also think about historical contexts. Paris has been a central location throughout French history. It\\'s where many significant events took place, from political revolutions to cultural movements. This historical significance reinforces its role as the capital.\\n\\nAdditionally, when looking at international relations and diplomacy, most embassies in France would be located in Paris because that\\'s where the government is based. This makes it easier for other countries to engage with French leaders and institutions in the city.\\n\\nI don\\'t recall any other city in France being referred to as the capital. Even if there are regions with their own administrative centers, the political power remains in Paris. For example, regions like Île-de-France have their own governments, but the national government is still in Paris.\\n\\nSo, putting it all together: Paris is the capital of France because it\\'s where the government is situated, it\\'s a cultural and economic center, and it holds significant historical importance for the country.'"
      ]
     },
     "execution_count": 8,
     "metadata": {},
     "output_type": "execute_result"
    }
   ],
   "source": [
    "result.get_thinking()"
   ]
  },
  {
   "cell_type": "code",
   "execution_count": null,
   "metadata": {},
   "outputs": [],
   "source": []
  }
 ],
 "metadata": {
  "kernelspec": {
   "display_name": "venv",
   "language": "python",
   "name": "python3"
  },
  "language_info": {
   "codemirror_mode": {
    "name": "ipython",
    "version": 3
   },
   "file_extension": ".py",
   "mimetype": "text/x-python",
   "name": "python",
   "nbconvert_exporter": "python",
   "pygments_lexer": "ipython3",
   "version": "3.12.8"
  },
  "orig_nbformat": 4
 },
 "nbformat": 4,
 "nbformat_minor": 2
}
