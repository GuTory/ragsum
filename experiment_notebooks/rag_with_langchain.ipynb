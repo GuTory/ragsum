{
 "cells": [
  {
   "cell_type": "markdown",
   "metadata": {},
   "source": [
    "# RAG with LangChain\n",
    "\n",
    "These are my notebooks for learning from this [DataCamp](https://app.datacamp.com/learn/courses/retrieval-augmented-generation-rag-with-langchain) course.\n",
    "\n",
    "I used the Microsoft [2024 Annual Report](https://www.microsoft.com/investor/reports/ar24/download-center/) for my analysis.\n",
    "\n",
    "\n",
    "![RAG Indexing Diagram](https://python.langchain.com/assets/images/rag_indexing-8160f90a90a33253d0154659cf7d453f.png)\n"
   ]
  },
  {
   "cell_type": "markdown",
   "metadata": {},
   "source": [
    "### Loading Documents"
   ]
  },
  {
   "cell_type": "code",
   "execution_count": 7,
   "metadata": {},
   "outputs": [
    {
     "data": {
      "text/plain": [
       "[Document(metadata={'source': 'data\\\\rag_report.pdf', 'page': 0, 'page_label': '1'}, page_content='  \\n  \\n \\n'),\n",
       " Document(metadata={'source': 'data\\\\rag_report.pdf', 'page': 1, 'page_label': '2'}, page_content=' \\n1 \\nDear shareholders, colleagues, customers, and partners: \\nFiscal year 2024 was a pivotal year for Microsoft. We entered our 50th year as a company and the second year of the AI \\nplatform shift. With these milestones, I’ve found myself reflecting on how Microsoft has remained a consequential company \\ndecade after decade in an industry with no franchise value. And I realize that it’s because—time and time again, when tech \\nparadigms have shifted —we have seized the opportunity to reinvent ourselves to stay relevant to our customers, our \\npartners, and our employees. And that’s what we are doing again today.  \\nMicrosoft has been a platform and tools company from the start. We were founded in 1975 with a belief in creating \\ntechnology that would enable others to create their own. And, nearly 50 years later, this belief remains at the heart of our \\nmission to empower every person and every organization on the planet to achieve more.   \\nThis year, we moved from talking about AI to helping our customers translate it into real outcomes —one person, one \\norganization, one institution, and one country at a time. We have made remarkable progress on this front across every \\nindustry. For example:  \\n• Coles is generating 1.6 billion daily AI predictions across 850 Australian stores, ensuring every shopper finds \\nwhat they need.  \\n• Unilever is performing thousands of simulations with AI in the time it would take to run tens of laboratory \\nexperiments, as it accelerates its product development.  \\n• Developers at Itaú, Brazil’s largest private bank, are coding more efficiently using our AI pair programmer, \\nGitHub Copilot.  \\n• Khan Academy is making tutoring more accessible for students and helping teachers plan more creative \\nlessons, using our small language model Phi.  \\n• Aquafarmers in Indonesia are improving their yields, thanks to an app built with the Azure OpenAI Service, as \\nwell as Azure IoT.  \\n• In Kenya, street vendors now have access to credit for the first time, thanks to M -Kopa, a social enterprise \\nusing Azure ML to do its forecasting.  \\n• And enterprise customers and their employees around the world, from Amgen and Disney, to Finastra and \\nVodafone, are using Microsoft 365 Copilot to become more creative and productive.  \\nFinancially, the year was also marked by record performance. We delivered over $245  billion in annual revenue, up \\n16 percent year-over-year, and over $109 billion in operating income, up 24 percent.  \\nGoing forward, we are focused on three priorities: First, prioritizing fundamentals, with security above all else. We launched \\nthe Secure Future Initiative (SFI) this year, bringing together every part of our organization to advance cybersecurity \\nprotection. Second, driving trustworthy AI innovation across our entire portfolio while continuing to scale our cloud business. \\nAnd, finally, managing our cost structure dynamically to generate durable, long -term operating leverage. All three priorities \\nare critical to our ability to continue thriving as a company as we raise the bar on our operational excellence, with a focus \\non continuous improvement across everything we do.  \\nAGE OF AI  \\nIf we go back 70 years to the beginning of modern computing, our industry has had two dreams: First, can computers \\nunderstand us instead of us having to understand computers? And second, as we digitize more of the world —including \\npeople, places, and things—can computers help us reason, plan, and act more effectively using all that information? Over \\nthe past year, we have had breakthroughs on both fronts.  \\nThe core underlying force behind these breakthroughs is scaling laws. Just like Moore’s Law drove the information \\nrevolution, the scaling laws of deep neural networks (DNN) and transformers are driving today’s AI revolution. Up until the \\nDNN inflection point, progress in compute was keeping up with Moore’s Law —doubling every two years. But we have now \\nstarted to see progress in AI performance double roughly every six months.  \\n  \\nThere are three capabilities coming together because of these scaling laws. First, we have a new natural user interface that \\nis multimodal. It supports speech, images, and videos —both as input and output. We have memory that retains important \\ncontext, recalling both our personal knowledge and data across devices, apps, and the web. And, finally, we have new '),\n",
       " Document(metadata={'source': 'data\\\\rag_report.pdf', 'page': 2, 'page_label': '3'}, page_content=' \\n2 \\nreasoning and planning capabilities that help us understand complex context, complete end-to-end tasks on our behalf, and \\nreduce our cognitive load.  \\nThis new world is being defined by a rich tapestry of AI agents, which can take action on our behalf, including personal \\nagents across work and life, business process agents, and cross-organizational ones. These agents will be able to work in \\nconcert as a new input to help make small businesses more productive, make multinationals more competitive, make the \\npublic sector more efficient, and improve health and education outcomes broadly.  \\nMicrosoft has built three leading platforms to help our customers maximize their opportunity in this emerging agentic era: \\nCopilot, which you can think of as the new UI for AI —the human interface for this agentic world; the Copilot stack, which \\nbrings together infrastructure, data, and app services to help customers build their own copilots and agents for their own \\nbusiness processes; and a new category of Copilot devices that are purpose -built for this new era, including the Copilot+ \\nPCs we introduced this year.  \\nOUR OPPORTUNITY  \\nThe innovation we have driven over the past year matters only if we translate it into enduring value for our customers. That’s \\nwhy, across our tech stack, we are focused on helping people and organizations realize the benefits of AI.  \\nInfrastructure  \\nThis year, we expanded our cloud and AI capacity, announcing new investments across five continents. These are long -\\nterm assets to drive new growth for the next decade and beyond, and ensure communities around the world have access \\nto the compute they need to drive economic growth in this new era.  \\nOur cloud now also offers top performance for AI training and inference and the most diverse selection of AI accelerators, \\nincluding the latest from AMD and NVIDIA, as well as our own first -party silicon, Azure Maia, which we introduced last \\nNovember.  \\nMore broadly, we continued to see sustained revenue growth from migrations as customers turn to Azure. Azure Arc is \\nhelping customers streamline their transition, as they secure, develop, and operate workloads with Azure services \\nanywhere. We have 36,000 A rc customers, up 90  percent year-over-year. And we remain the hyperscale cloud of choice \\nfor SAP and Oracle workloads.  \\nData & AI  \\nAI models are now key building blocks for every application. And with Azure AI, we are building out the app server for the \\nAI age, providing access to the most diverse selection of models to meet customers’ unique cost, latency, and design \\nconsiderations. We offer leading frontier models, thanks to our strategic partnership with OpenAI. With Phi -3, which we \\nannounced in April, we offer a family of powerful, small language models. And, with Models as a service, we provide API \\naccess to third-party models, in cluding the latest from Cohere, Meta, and Mistral. In total, we have over 60,000 Azure AI \\ncustomers, up nearly 60 percent year-over-year. This year, we also announced a partnership with G42, which will run its AI \\napplications and services on our cloud, as we collaborate to bring our latest AI technologies to the United Arab Emirates \\nand other countries.  \\nAI does not get created without data. At the data layer, we are fundamentally rethinking what it means to be an analytics \\ndatabase or an operational data store in the world of AI. Our Microsoft Intelligent Data Platform provides customers with the \\nbroadest capabilities spanning databases, analytics, business intelligence, and governance —along with seamless \\nintegration with all our AI services. And Microsoft Fabric, our AI-powered, next-generation data platform we made generally \\navailable this year, now has over 14,000 paid customers who can go from data, to insights, to action —all within the same \\nunified SaaS solution.  \\n  \\nDigital & app innovation  \\nFrom GitHub to Visual Studio, we have the most comprehensive developer tools. GitHub Copilot had a breakout year, as it \\nbecame standard issue for developers in every industry. We now have more than 1.8  million paid subscribers and over \\n77,000 enterprise customers, up 180 percent year-over-year. They are realizing productivity gains of up to 55 percent while '),\n",
       " Document(metadata={'source': 'data\\\\rag_report.pdf', 'page': 3, 'page_label': '4'}, page_content=' \\n3 \\nstaying in their flow and bringing the joy back to coding. This year, we also introduced Copilot Workspace, a Copilot -native \\ndeveloper environment, which helps any developer go from idea, to code, to software —all in natural language.  \\nWe are also integrating generative AI across Power Platform, enabling anyone to use natural language to create apps, \\nautomate workflows, or build a website. In total, we now have 48  million monthly active users of Power Platform, up \\n40 percent year-over-year.  \\nModern work  \\nMicrosoft 365 Copilot is becoming a daily habit for knowledge workers, transforming their work, workflow, and work artifacts. \\nAdoption has been faster than any other new Microsoft 365 suite. And employees at nearly 60  percent of the Fortune 500 \\nnow use Copilot to complete tasks faster, hold more effective meetings, and automate business workflows and processes. \\nIn fact, internal and external studies show as much as a 70  percent improvement in productivity using generative AI for \\nspecific work tasks. And early Microsoft 365 Copilot users were 29 percent faster in a series of general tasks like searching, \\nwriting, and summarizing.  \\nAnd we’re going further, bringing the Web plus Work plus Pages together as the new AI design system for knowledge work. \\nWith Pages, which we just announced last month, you can take any information from the web or your work and turn it into \\na multiplayer, AI-powered canvas. You can ideate with AI and then easily share what you create for collaboration with other \\npeople.  \\nAnd with Copilot Studio, customers can extend Copilot with agents and build their own agents that proactively respond to \\ndata and events from their own first - and third-party business data. To date, 50,000 organizations have used it. And, just \\nthis week, we announced new capabilities that will make it possible for customers to build autonomous agents using Copilot \\nStudio.  \\nMicrosoft Teams remains essential to how hundreds of millions of people meet, call, chat, collaborate, and do business. \\nThis year, we rolled out to all customers a new version that is up to two times faster while using 50  percent less memory. \\nAnd Teams Pre mium surpassed 3  million seats, up nearly 400  percent year -over-year, as organizations chose it for \\nadvanced features like end-to-end encryption and real-time translation.  \\nBusiness applications  \\nWe’re using this AI moment to redefine our role in business applications, too. Dynamics 365 once again took share, as \\norganizations use our AI-powered apps to transform their marketing, sales, service, finance, and supply chain functions.  \\nAnd we are expanding our total addressable market by integrating Copilot into third -party systems as well. Our new \\nDynamics 365 Contact Center infuses generative AI throughout the contact center workflow in a customer’s existing CRM.  \\nWe are also extending Copilot to specific industries, including healthcare. With DAX Copilot, more than 400 healthcare \\norganizations are increasing physician productivity and reducing burnout. On average, clinicians save more than five \\nminutes per patient encounter. And 77 percent say it also improves documentation quality.  \\n  \\nSecurity  \\nAs I mentioned earlier, security underpins every layer of our tech stack. We are doubling down on our Secure Future \\nInitiative, as we implement our principles of secure by design, secure by default, and secure operations. And we are focused \\non making continuous progress across the six pillars of the initiative: protect tenants and isolate production systems; protect \\nidentities and secrets; protect networks; protect engineering systems; monitor and detect threats; and accelerate response \\nand remediation. As part of this commitment, all Microsoft employees now have security as a “core priority,” holding each \\none of us accountable for building secure products and services.  \\nWe are continuously applying what we are learning and translating it into security innovation for our customers. A great \\nexample is Copilot for Security, which we made generally available this year. It brings together LLMs with domain -specific '),\n",
       " Document(metadata={'source': 'data\\\\rag_report.pdf', 'page': 4, 'page_label': '5'}, page_content=' \\n4 \\nskills informed by our threat intelligence and 78 trillion daily security signals to provide security teams with actionable \\ninsights.  \\nDevices & creativity  \\nThis year, we introduced an entirely new category of Windows PCs engineered to unleash the power of distributed AI across \\nthe cloud and edge. Copilot+ PCs are the fastest, most AI -ready Windows PCs ever built. They include a new system \\narchitecture designed to deliver best -in-class performance and breakthrough AI experiences. And we are working across \\nour entire ecosystem to bring these to life, including with AMD, Intel, and Qualcomm, along with our OEM partners.  \\nProfessional social network  \\nLinkedIn continues to see accelerated member growth and record engagement. We surpassed 1  billion members for the \\nfirst time this year, as we combine our unique data with this new generation of AI to transform how people learn, sell, and \\nget hired. LinkedIn Marketing Solutions continues to be a leader in B2B digital advertising, helping companies deliver the \\nright message, to the right audience, on a safe and trusted platform. And when it comes to our subscription businesses, \\nPremium signups increased 51  percent, and we are adding even more value to our members and customers with new AI \\ntools and skilling opportunities.  \\nSearch, ads, and news  \\nWith Copilot, we’re taking the first steps toward creating an AI companion, one that’s always by your side, helping you feel \\nsmarter and more supported through natural conversations. The refreshed Copilot app we introduced earlier this month \\ndelivers a more intuitive design with more digestible, speedy, and fluent answers. It now adapts to you with a warm tone \\nand a distinct style, providing not only information but encouragement, feedback, and advice as you navigate life’s everyday \\nchallenges—no matter how  big or small. And we’re adding advanced capabilities like Voice and Vision that make it both \\nmore useful and more natural.  \\nWe also continue to apply generative AI to pioneer new approaches to how people search and browse. Microsoft Bing and \\nEdge both took share again this year. And we introduced Copilot Pro, providing access to the latest models for quick answers \\nand higher-quality image creation, and access to Copilot for Microsoft 365 Personal and Family subscribers.  \\nThousands of news and entertainment publishers trust us to reach new audiences with Microsoft Start. And we are also \\nhelping advertisers increase their ROI. Copilot in Microsoft Ad Platform helps marketers create campaigns and troubleshoot \\nusing natural language.  \\n  \\nGaming  \\nWe are bringing great games to more people on more devices. With our acquisition of Activision Blizzard King, which closed \\nOctober 2023, we’ve added hundreds of millions of players to our ecosystem. We now have 20 franchises that have \\ngenerated over $1 billion in lifetime revenue—from Candy Crush, Diablo, and Halo, to Warcraft, Elder Scrolls, and Gears of \\nWar. And with Xbox cloud gaming, we continue to innovate to offer players more ways to experience the games they love—\\nwhere, when, and how they want. Finally, we brought four of our fan-favorite titles to Nintendo Switch and Sony PlayStation \\nfor the first time, as we continue to extend our content to new platforms.  \\nOUR MISSION  \\nAlthough we have made outstanding progress over the past year, we cannot take our permission to innovate —let alone \\noperate—for granted. It is something we must earn.  \\nWe always say Microsoft will do well only if the world around us does well. And that’s why we are focused on four enduring \\ncommitments. They keep us grounded, serving as a guide as we make decisions, pushing us to ask critical questions to \\nensure the technology we create benefits everyone on the planet, as well as the planet itself.  ')]"
      ]
     },
     "execution_count": 7,
     "metadata": {},
     "output_type": "execute_result"
    }
   ],
   "source": [
    "from langchain_community.document_loaders import PyPDFLoader, UnstructuredHTMLLoader\n",
    "from langchain.schema import Document\n",
    "\n",
    "# For PDF-s\n",
    "loader = PyPDFLoader('data\\\\rag_report.pdf')\n",
    "\n",
    "# For HTML\n",
    "# htmlLoader = UnstructuredHTMLLoader()\n",
    "# data = loader.load()\n",
    "# print(data[0].page_content)\n",
    "\n",
    "# Loading Markdown files\n",
    "# from langchain_community.document_loaders import UnstructuredMarkdownLoader\n",
    "\n",
    "# markdown_loader = UnstructuredMarkdownLoader('README.md')\n",
    "# markdown_content = markdown_loader.load()\n",
    "\n",
    "data: list[Document] = loader.load()\n",
    "\n",
    "data[0:5]"
   ]
  },
  {
   "cell_type": "markdown",
   "metadata": {},
   "source": [
    "### Splitting up the data to chunks for efficient retrieval\n",
    "\n",
    "first, I try with splitting up text, then splitting up the whole document"
   ]
  },
  {
   "cell_type": "code",
   "execution_count": 8,
   "metadata": {},
   "outputs": [
    {
     "name": "stdout",
     "output_type": "stream",
     "text": [
      "['11 \\nThe Ambitions That Drive Us  \\nTo achieve our vision, our research and development efforts focus on three interconnected ambitions:  \\n• Reinvent productivity and business processes.', '• Build the intelligent cloud and intelligent edge platform.  \\n• Create more personal computing.  \\nReinvent Productivity and Business Processes', 'At Microsoft, we provide technology and resources to help our customers create a secure, productive work environment.', 'Our family of products plays a key role in the ways the world works, learns, and connects.', 'Our growth depends on securely delivering continuous innovation and advancing our leading productivity and collaboration', 'tools and services, including Microsoft 365, LinkedIn, and Dynamics 365. Microsoft 365 is an AI first platform that brings', 'together Off ice, Windows, Copilot, and Enterprise Mobility + Security to help organizations empower their employees.', 'Copilot for Microsoft 365 combines AI with business data in the Microsoft Graph and Microsoft 365 applications. Microsoft', 'Teams is a comprehensive plat form for communication and collaboration, with meetings, calling, chat, file collaboration,', 'and the ability to bring all of the applications teams use into a single place. Microsoft Viva is an employee experience', 'platform that brings together communications, knowledge, learning, resources, and insights.', 'Together, the Microsoft Cloud, Dynamics 365, Microsoft Teams, and our AI offerings bring a new era of collaborative', 'applications for every role and business function to get insights and business impact faster. Dynamics 365 is a portfolio of', 'intelligent business applications that delivers operational efficiency and breakthrough customer experiences. Our role-based', 'extensions of Microsoft Copilot – Copilot for Sales, Copilot for Service, and Copilot for Finance – bring together the power', 'of Copilot for Micros oft 365 with role -specific insights and workflow assistance to streamline business processes. Copilot', 'Studio allows customers to customize Copilot for Microsoft 365 or build their own Copilot. Microsoft Power Platform helps', 'domain experts drive productivit y gains with low -code/no-code tools, robotic process automation, virtual agents, and', 'business intelligence. Copilot Pro is a consumer subscription service that offers faster and more powerful AI assistance in', 'Microsoft 365 apps and on the web. LinkedIn combines our unique data with this new generation of AI to transform the way \\nprofessionals learn, sell, market, and get hired.', 'Build the Intelligent Cloud and Intelligent Edge Platform  \\nDigital transformation and adoption of AI continues to revolutionize more business workstreams for organizations in every', 'sector across the globe. For enterprises, digital technology empowers employees, optimizes operations, engages', 'customers, and in some cases, changes the very core of products and services. We continue to invest in high performance', 'and sustainable computing to meet the growing demand for fast access to Microsoft services provided by our network of \\ncloud computing and AI infrastructure and datacenters.', 'Our cloud business benefits from three economies of scale: datacenters that deploy computational resources at significantly', 'lower cost per unit than smaller ones; datacenters that coordinate and aggregate diverse customer, geographic, and', 'application deman d patterns, improving the utilization of computing, storage, and network resources; and multi -tenancy \\nlocations that lower application maintenance labor costs.', 'The Microsoft Cloud provides the best integration across the technology stack while offering openness, improving time to', 'value, reducing costs, and increasing agility. As the foundation of the Microsoft Cloud, Azure uniquely offers hybrid', 'consistency, developer productivity, data and AI capabilities, and trusted security and compliance.', 'We offer supercomputing power for AI at scale to run large workloads, complemented by our rapidly expanding portfolio of', 'AI cloud services and hardware, which includes custom -built silicon and strong partnerships with chip manufacturers. We', 'have introduced purpose-built cloud infrastructure for AI workloads including a custom AI accelerator, Azure Maia, and a \\ncustom in-house central processing unit, Azure Cobalt.', 'Our AI platform, Azure AI, is helping organizations transform, bringing intelligence and insights to the hands of their', 'employees and customers to solve their most pressing challenges. We offer a wide selection of industry -leading frontier', 'and open models, including from partners, as well as state-of-the-art tooling, and AI-optimized infrastructure, delivering the']\n",
      "[184, 143, 117, 90, 120, 122, 117, 121, 121, 120, 91, 115, 124, 124, 124, 124, 121, 118, 123, 171, 181, 110, 119, 173, 123, 114, 179, 120, 117, 99, 120, 120, 176, 119, 120, 126]\n"
     ]
    }
   ],
   "source": [
    "from langchain_text_splitters import CharacterTextSplitter\n",
    "import random\n",
    "\n",
    "text: str = data[random.randint(0, len(data) - 1)].page_content\n",
    "\n",
    "text_splitter = CharacterTextSplitter(separator='\\n', chunk_size=200, chunk_overlap=10)\n",
    "\n",
    "chunks = text_splitter.split_text(text)\n",
    "\n",
    "print(chunks)\n",
    "print([len(chunk) for chunk in chunks])"
   ]
  },
  {
   "cell_type": "markdown",
   "metadata": {},
   "source": [
    "now cut the PDF as a whole to chunks"
   ]
  },
  {
   "cell_type": "code",
   "execution_count": 13,
   "metadata": {},
   "outputs": [
    {
     "name": "stdout",
     "output_type": "stream",
     "text": [
      "[425, 429, 480, 465, 437, 413, 376, 423, 419, 442, 116, 398, 447, 423, 427, 441, 399, 483, 391, 486, 417, 476, 409, 397, 376, 378, 458, 479, 465, 440, 312, 400, 381, 483, 424, 395, 476, 397, 450, 389, 465, 417, 445, 492, 383, 457, 455, 380, 458, 485, 176, 410, 392, 491, 451, 380, 426, 446, 396, 470, 445, 399, 392, 490, 450, 404, 381, 418, 451, 400, 444, 460, 453, 424, 455, 467, 463, 144, 406, 181, 408, 378, 385, 496, 408, 480, 446, 397, 498, 20, 450, 456, 459, 461, 493, 480, 406, 477, 400, 420, 429, 441, 451, 398, 488, 412, 485, 455, 481, 385, 408, 246, 388, 417, 456, 449, 496, 394, 453, 425, 397, 154, 437, 399, 417, 477, 485, 373, 377, 438, 443, 417, 414, 396, 484, 480, 487, 420, 455, 384, 496, 436, 426, 204, 388, 443, 480, 390, 493, 476, 490, 481, 468, 476, 469, 378, 456, 459, 493, 400, 398, 477, 479, 476, 358, 480, 491, 487, 447, 419, 424, 433, 494, 480, 474, 232, 454, 471, 464, 466, 455, 413, 495, 383, 187, 480, 480, 489, 395, 447, 430, 462, 430, 490, 388, 398, 219, 415, 420, 446, 465, 458, 459, 475, 393, 484, 476, 495, 90, 395, 487, 459, 450, 487, 401, 474, 460, 476, 484, 370, 466, 424, 473, 415, 475, 347, 438, 433, 435, 401, 436, 436, 387, 467, 479, 353, 402, 477, 476, 454, 473, 454, 147, 445, 462, 387, 486, 485, 475, 478, 462, 100, 383, 427, 447, 450, 479, 443, 406, 483, 464, 96, 461, 408, 419, 425, 485, 441, 145, 481, 447, 432, 461, 339, 446, 438, 454, 490, 492, 426, 419, 302, 461, 446, 489, 487, 399, 400, 393, 453, 451, 491, 432, 439, 480, 319, 471, 442, 448, 443, 473, 227, 480, 476, 482, 480, 412, 389, 479, 443, 385, 487, 435, 387, 481, 469, 472, 393, 363, 421, 491, 457, 386, 425, 437, 494, 413, 377, 400, 470, 233, 487, 400, 455, 428, 467, 450, 142, 480, 466, 395, 493, 456, 494, 405, 487, 460, 154, 486, 472, 459, 495, 418, 411, 405, 492, 437, 451, 186, 401, 449, 450, 415, 381, 498, 440, 497, 231, 441, 370, 426, 447, 268, 456, 497, 462, 434, 222, 445, 440, 472, 464, 153, 494, 483, 485, 485, 361, 452, 484, 481, 468, 474, 346, 487, 492, 402, 393, 477, 492, 378, 458, 484, 492, 336, 394, 454, 488, 388, 392, 475, 380, 436, 473, 491, 456, 492, 479, 446, 458, 414, 482, 457, 487, 393, 133, 487, 487, 492, 427, 432, 406, 490, 428, 121, 389, 376, 418, 485, 474, 484, 447, 463, 485, 479, 379, 495, 452, 376, 442, 443, 450, 480, 453, 450, 489, 442, 432, 465, 398, 388, 446, 485, 479, 457, 355, 409, 394, 494, 443, 414, 401, 462, 478, 493, 472, 444, 263, 489, 404, 495, 452, 431, 306, 468, 481, 377, 436, 427, 485, 118, 459, 424, 482, 438, 495, 474, 348, 491, 486, 472, 408, 400, 469, 456, 476, 484, 479, 414, 155, 428, 473, 467, 479, 408, 477, 465, 429, 497, 495, 433, 483, 456, 431, 471, 426, 390, 490, 491, 439, 466, 471, 384, 259, 479, 432, 434, 467, 314, 489, 486, 406, 442, 473, 393, 463, 246, 480, 483, 439, 491, 420, 460, 394, 376, 375, 376, 458, 415, 496, 463, 452, 438, 492, 424, 223, 480, 494, 438, 363, 492, 489, 432, 93, 491, 395, 456, 463, 473, 284, 451, 450, 489, 423, 185, 424, 485, 467, 380, 373, 385, 450, 485, 446, 417, 120, 378, 427, 498, 469, 472, 83, 471, 460, 468, 434, 478, 468, 345, 471, 447, 485, 488, 437, 394, 241, 467, 424, 475, 418, 418, 433, 350, 423, 490, 474, 464, 487, 432, 484, 392, 487, 471, 466, 459, 374, 471, 208, 409, 381, 391, 403, 453, 496, 396, 484, 426, 185, 395, 457, 472, 434, 422, 425, 413, 490, 467, 493, 470, 412, 429, 419, 416, 489, 460, 459, 288, 236, 373, 421, 491, 475, 404, 488, 495, 27, 436, 423, 448, 482, 482, 462, 384, 452, 491, 228, 449, 470, 464, 486, 466, 143, 483, 495, 490, 457, 481, 469, 447, 452, 100]\n"
     ]
    }
   ],
   "source": [
    "from langchain_text_splitters import RecursiveCharacterTextSplitter\n",
    "\n",
    "text_splitter = RecursiveCharacterTextSplitter(\n",
    "    separators=['\\n', '\\n\\n'], chunk_size=500, chunk_overlap=100\n",
    ")\n",
    "\n",
    "chunks = text_splitter.split_documents(data)\n",
    "\n",
    "print([len(c.page_content) for c in chunks])"
   ]
  },
  {
   "cell_type": "markdown",
   "metadata": {},
   "source": [
    "### Creating the embeddings"
   ]
  },
  {
   "cell_type": "code",
   "execution_count": 14,
   "metadata": {},
   "outputs": [],
   "source": [
    "import google.generativeai as genai\n",
    "from langchain_chroma import Chroma\n",
    "import os\n",
    "from dotenv import load_dotenv\n",
    "\n",
    "load_dotenv()\n",
    "genai.configure(api_key=os.environ[\"GEMINI_API_KEY\"])\n",
    "\n",
    "embeddings: list[list[float]] = genai.embed_content(\n",
    "    model=\"models/text-embedding-004\", content=[chunk.page_content for chunk in chunks]\n",
    ")"
   ]
  },
  {
   "cell_type": "markdown",
   "metadata": {},
   "source": [
    "Now split to token chunks\n",
    "\n",
    "[Tokenizers](https://github.com/huggingface/tokenizers)"
   ]
  },
  {
   "cell_type": "code",
   "execution_count": 20,
   "metadata": {},
   "outputs": [
    {
     "name": "stdout",
     "output_type": "stream",
     "text": [
      "[101, 1015, 6203, 15337, 1010, 8628, 1010, 6304, 1010, 1998, 5826, 1024, 10807, 2095, 16798, 2549, 2001, 1037, 20369, 2095, 2005, 7513, 1012, 2057, 3133, 2256, 12951, 2095, 2004, 1037, 2194, 1998, 1996, 2117, 2095, 1997, 1996, 9932, 4132, 5670, 1012, 2007, 2122, 19199, 2015, 1010, 1045, 1521, 2310, 2179, 2870, 10842, 2006, 2129, 7513, 2038, 2815, 1037, 9530, 3366, 15417, 4818, 2194, 5476, 2044, 5476, 1999, 2019, 3068, 2007, 2053, 6329, 3643, 1012, 1998, 1045, 5382, 2008, 2009, 1521, 1055, 2138, 1517, 2051, 1998, 2051, 2153, 1010, 2043, 6627, 102]\n"
     ]
    }
   ],
   "source": [
    "from transformers import AutoTokenizer\n",
    "\n",
    "tokenizer = AutoTokenizer.from_pretrained('bert-base-uncased')\n",
    "\n",
    "tokenized_data = [tokenizer.encode(chunk.page_content, add_special_tokens=True) for chunk in chunks]\n",
    "\n",
    "print(tokenized_data[0])"
   ]
  },
  {
   "cell_type": "markdown",
   "metadata": {},
   "source": [
    "Possible retrieval methods:\n",
    "\n",
    "- TF-IDF: Encodes documents using the words that make the document unique\n",
    "- BM25: Helps mitigate high-frequency words from saturating the encoding\n",
    "\n",
    "\n",
    "#### Sparse\n",
    "\n",
    "A sparse representation is a vector where most elements are zero. These are commonly used in older or simpler Natural Language Processing (NLP) techniques.\n",
    "\n",
    "- More explainable\n",
    "- Most vector elements are zero\n",
    "- Uses term frequency\n",
    "\n",
    "#### Dense\n",
    "\n",
    "A dense representation is a vector where most elements are non-zero. These are common in modern NLP methods, particularly with embeddings learned from neural networks.\n",
    "\n",
    "- Most vector elements are non-zero\n",
    "- Extracts semantic meaning\n",
    "\n",
    "| Feature                 | Sparse                         | Dense                      |\n",
    "|-------------------------|-------------------------------|---------------------------|\n",
    "| **Explainability**       | High (easy to interpret)       | Low (abstract dimensions) |\n",
    "| **Vector Elements**      | Mostly zeros                  | Mostly non-zero           |\n",
    "| **Feature Extraction**   | Based on frequency             | Extracts semantic meaning |\n",
    "| **Use Cases**            | Simple models (e.g., BoW, TF-IDF) | Modern NLP (e.g., embeddings) |\n",
    "\n"
   ]
  },
  {
   "cell_type": "code",
   "execution_count": null,
   "metadata": {},
   "outputs": [],
   "source": []
  }
 ],
 "metadata": {
  "kernelspec": {
   "display_name": "venv",
   "language": "python",
   "name": "python3"
  },
  "language_info": {
   "codemirror_mode": {
    "name": "ipython",
    "version": 3
   },
   "file_extension": ".py",
   "mimetype": "text/x-python",
   "name": "python",
   "nbconvert_exporter": "python",
   "pygments_lexer": "ipython3",
   "version": "3.12.3"
  }
 },
 "nbformat": 4,
 "nbformat_minor": 2
}
